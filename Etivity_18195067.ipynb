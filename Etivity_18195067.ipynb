{
 "cells": [
  {
   "cell_type": "markdown",
   "metadata": {},
   "source": [
    "# C4021 - Group Project 2.3\n",
    "\n",
    "### NAME: Abhijit Sinha\n",
    "### Student ID: 18195067"
   ]
  },
  {
   "cell_type": "markdown",
   "metadata": {},
   "source": [
    "## Problem Statement: Telecom Customer Churn Prediction\n",
    "\n",
    "Binary Classification Problem to predict the Telecom customer churn which is one of the major problem Telecom industry is facing today.\n"
   ]
  },
  {
   "cell_type": "markdown",
   "metadata": {},
   "source": [
    "## Dataset Information\n",
    "\n",
    "####   Source: https://www.kaggle.com/blastchar/telco-customer-churn \n",
    "\n",
    "#### Context: \n",
    "\"Predict behavior to retain customers. Analyze all the relevant customer data and develop focused customer retention programs.\" [IBM Sample Data Sets]\n",
    "\n",
    "#### Content: \n",
    "Each row represents a customer, each column contains customers attributes described on the column Metadata.\n",
    "\n",
    "##### The data set includes information about:\n",
    "- Customers who left within the last month – the column is called Churn\n",
    "- Services that each customer has signed up for – phone, multiple lines, internet, online security, online backup, device protection, tech support, and streaming TV and movies\n",
    "- Customer account information – how long they’ve been a customer, contract, payment method, paperless billing, monthly charges, and total charges\n",
    "- Demographic info about customers – gender, age range, and if they have partners and dependents\n",
    "\n",
    "## Algorithm Used: Support Vector Machine (for Binary Classification)"
   ]
  },
  {
   "cell_type": "markdown",
   "metadata": {},
   "source": [
    "-------------------------------------------------------------------------------------------------------------"
   ]
  },
  {
   "cell_type": "markdown",
   "metadata": {},
   "source": [
    "## Team Contributions:\n",
    "\n",
    "### Training data\n",
    "\n",
    "### Pre-processing\n",
    "- Garret: Provided insight in data preprocessing suggesting to count the values per category and analyze if they are releavent. If not the features can be dropped. Histogram is used for this approach to find such features and find outliers\n",
    "\n",
    "### Algorithm training and evaluation\n",
    "\n",
    "### Visualization of outputs\n",
    "- Andrew: Suggested to use the correlation matrix for visualization and deeper undersatnding of the correlation between the features."
   ]
  },
  {
   "cell_type": "markdown",
   "metadata": {},
   "source": [
    "-------------------------------------------------------------------------------------------------------------"
   ]
  },
  {
   "cell_type": "markdown",
   "metadata": {},
   "source": [
    "### Import the libraries "
   ]
  },
  {
   "cell_type": "code",
   "execution_count": 1,
   "metadata": {},
   "outputs": [],
   "source": [
    "%matplotlib inline\n",
    "\n",
    "import numpy as np\n",
    "import pandas as pd\n",
    "\n",
    "# Visualization and plotting\n",
    "import matplotlib.pyplot as plt\n",
    "\n",
    "# Data Pre-processing\n",
    "from sklearn.preprocessing import Imputer\n",
    "from sklearn.preprocessing import StandardScaler\n",
    "from sklearn.decomposition import PCA\n",
    "\n",
    "# Model training, cross-validation and evaluation\n",
    "from sklearn.model_selection import train_test_split\n",
    "from sklearn.model_selection import GridSearchCV\n",
    "from sklearn.svm import SVC\n",
    "from sklearn import metrics\n",
    "from sklearn.metrics import classification_report, confusion_matrix\n",
    "from sklearn.metrics import roc_auc_score, roc_curve"
   ]
  },
  {
   "cell_type": "markdown",
   "metadata": {},
   "source": [
    "# 1. Data Set\n",
    "#### Load the CSV file into Pandas dataframe"
   ]
  },
  {
   "cell_type": "code",
   "execution_count": 2,
   "metadata": {},
   "outputs": [],
   "source": [
    "dataframe = pd.read_csv(\"WA_Fn-UseC_-Telco-Customer-Churn.csv\")"
   ]
  },
  {
   "cell_type": "code",
   "execution_count": 3,
   "metadata": {},
   "outputs": [
    {
     "data": {
      "text/plain": [
       "array(['customerID', 'gender', 'SeniorCitizen', 'Partner', 'Dependents',\n",
       "       'tenure', 'PhoneService', 'MultipleLines', 'InternetService',\n",
       "       'OnlineSecurity', 'OnlineBackup', 'DeviceProtection',\n",
       "       'TechSupport', 'StreamingTV', 'StreamingMovies', 'Contract',\n",
       "       'PaperlessBilling', 'PaymentMethod', 'MonthlyCharges',\n",
       "       'TotalCharges', 'Churn'], dtype=object)"
      ]
     },
     "execution_count": 3,
     "metadata": {},
     "output_type": "execute_result"
    }
   ],
   "source": [
    "# Features available in the dataset\n",
    "dataframe.columns.values"
   ]
  },
  {
   "cell_type": "code",
   "execution_count": 4,
   "metadata": {},
   "outputs": [
    {
     "data": {
      "text/plain": [
       "No     5174\n",
       "Yes    1869\n",
       "Name: Churn, dtype: int64"
      ]
     },
     "execution_count": 4,
     "metadata": {},
     "output_type": "execute_result"
    }
   ],
   "source": [
    "# Lets see the how many Churn values are present per category\n",
    "# We can see that its a Binary classification problem as there are 2 outcomes.\n",
    "\n",
    "dataframe.Churn.value_counts()"
   ]
  },
  {
   "cell_type": "markdown",
   "metadata": {},
   "source": [
    "### Basic data exploration of the input Dataframe"
   ]
  },
  {
   "cell_type": "code",
   "execution_count": 5,
   "metadata": {},
   "outputs": [
    {
     "data": {
      "text/plain": [
       "(7043, 21)"
      ]
     },
     "execution_count": 5,
     "metadata": {},
     "output_type": "execute_result"
    }
   ],
   "source": [
    "# Check the data dimension\n",
    "dataframe.shape"
   ]
  },
  {
   "cell_type": "code",
   "execution_count": 6,
   "metadata": {},
   "outputs": [
    {
     "data": {
      "text/html": [
       "<div>\n",
       "<style scoped>\n",
       "    .dataframe tbody tr th:only-of-type {\n",
       "        vertical-align: middle;\n",
       "    }\n",
       "\n",
       "    .dataframe tbody tr th {\n",
       "        vertical-align: top;\n",
       "    }\n",
       "\n",
       "    .dataframe thead th {\n",
       "        text-align: right;\n",
       "    }\n",
       "</style>\n",
       "<table border=\"1\" class=\"dataframe\">\n",
       "  <thead>\n",
       "    <tr style=\"text-align: right;\">\n",
       "      <th></th>\n",
       "      <th>customerID</th>\n",
       "      <th>gender</th>\n",
       "      <th>SeniorCitizen</th>\n",
       "      <th>Partner</th>\n",
       "      <th>Dependents</th>\n",
       "      <th>tenure</th>\n",
       "      <th>PhoneService</th>\n",
       "      <th>MultipleLines</th>\n",
       "      <th>InternetService</th>\n",
       "      <th>OnlineSecurity</th>\n",
       "      <th>...</th>\n",
       "      <th>DeviceProtection</th>\n",
       "      <th>TechSupport</th>\n",
       "      <th>StreamingTV</th>\n",
       "      <th>StreamingMovies</th>\n",
       "      <th>Contract</th>\n",
       "      <th>PaperlessBilling</th>\n",
       "      <th>PaymentMethod</th>\n",
       "      <th>MonthlyCharges</th>\n",
       "      <th>TotalCharges</th>\n",
       "      <th>Churn</th>\n",
       "    </tr>\n",
       "  </thead>\n",
       "  <tbody>\n",
       "    <tr>\n",
       "      <th>0</th>\n",
       "      <td>7590-VHVEG</td>\n",
       "      <td>Female</td>\n",
       "      <td>0</td>\n",
       "      <td>Yes</td>\n",
       "      <td>No</td>\n",
       "      <td>1</td>\n",
       "      <td>No</td>\n",
       "      <td>No phone service</td>\n",
       "      <td>DSL</td>\n",
       "      <td>No</td>\n",
       "      <td>...</td>\n",
       "      <td>No</td>\n",
       "      <td>No</td>\n",
       "      <td>No</td>\n",
       "      <td>No</td>\n",
       "      <td>Month-to-month</td>\n",
       "      <td>Yes</td>\n",
       "      <td>Electronic check</td>\n",
       "      <td>29.85</td>\n",
       "      <td>29.85</td>\n",
       "      <td>No</td>\n",
       "    </tr>\n",
       "    <tr>\n",
       "      <th>1</th>\n",
       "      <td>5575-GNVDE</td>\n",
       "      <td>Male</td>\n",
       "      <td>0</td>\n",
       "      <td>No</td>\n",
       "      <td>No</td>\n",
       "      <td>34</td>\n",
       "      <td>Yes</td>\n",
       "      <td>No</td>\n",
       "      <td>DSL</td>\n",
       "      <td>Yes</td>\n",
       "      <td>...</td>\n",
       "      <td>Yes</td>\n",
       "      <td>No</td>\n",
       "      <td>No</td>\n",
       "      <td>No</td>\n",
       "      <td>One year</td>\n",
       "      <td>No</td>\n",
       "      <td>Mailed check</td>\n",
       "      <td>56.95</td>\n",
       "      <td>1889.5</td>\n",
       "      <td>No</td>\n",
       "    </tr>\n",
       "    <tr>\n",
       "      <th>2</th>\n",
       "      <td>3668-QPYBK</td>\n",
       "      <td>Male</td>\n",
       "      <td>0</td>\n",
       "      <td>No</td>\n",
       "      <td>No</td>\n",
       "      <td>2</td>\n",
       "      <td>Yes</td>\n",
       "      <td>No</td>\n",
       "      <td>DSL</td>\n",
       "      <td>Yes</td>\n",
       "      <td>...</td>\n",
       "      <td>No</td>\n",
       "      <td>No</td>\n",
       "      <td>No</td>\n",
       "      <td>No</td>\n",
       "      <td>Month-to-month</td>\n",
       "      <td>Yes</td>\n",
       "      <td>Mailed check</td>\n",
       "      <td>53.85</td>\n",
       "      <td>108.15</td>\n",
       "      <td>Yes</td>\n",
       "    </tr>\n",
       "    <tr>\n",
       "      <th>3</th>\n",
       "      <td>7795-CFOCW</td>\n",
       "      <td>Male</td>\n",
       "      <td>0</td>\n",
       "      <td>No</td>\n",
       "      <td>No</td>\n",
       "      <td>45</td>\n",
       "      <td>No</td>\n",
       "      <td>No phone service</td>\n",
       "      <td>DSL</td>\n",
       "      <td>Yes</td>\n",
       "      <td>...</td>\n",
       "      <td>Yes</td>\n",
       "      <td>Yes</td>\n",
       "      <td>No</td>\n",
       "      <td>No</td>\n",
       "      <td>One year</td>\n",
       "      <td>No</td>\n",
       "      <td>Bank transfer (automatic)</td>\n",
       "      <td>42.30</td>\n",
       "      <td>1840.75</td>\n",
       "      <td>No</td>\n",
       "    </tr>\n",
       "    <tr>\n",
       "      <th>4</th>\n",
       "      <td>9237-HQITU</td>\n",
       "      <td>Female</td>\n",
       "      <td>0</td>\n",
       "      <td>No</td>\n",
       "      <td>No</td>\n",
       "      <td>2</td>\n",
       "      <td>Yes</td>\n",
       "      <td>No</td>\n",
       "      <td>Fiber optic</td>\n",
       "      <td>No</td>\n",
       "      <td>...</td>\n",
       "      <td>No</td>\n",
       "      <td>No</td>\n",
       "      <td>No</td>\n",
       "      <td>No</td>\n",
       "      <td>Month-to-month</td>\n",
       "      <td>Yes</td>\n",
       "      <td>Electronic check</td>\n",
       "      <td>70.70</td>\n",
       "      <td>151.65</td>\n",
       "      <td>Yes</td>\n",
       "    </tr>\n",
       "  </tbody>\n",
       "</table>\n",
       "<p>5 rows × 21 columns</p>\n",
       "</div>"
      ],
      "text/plain": [
       "   customerID  gender  SeniorCitizen Partner Dependents  tenure PhoneService  \\\n",
       "0  7590-VHVEG  Female              0     Yes         No       1           No   \n",
       "1  5575-GNVDE    Male              0      No         No      34          Yes   \n",
       "2  3668-QPYBK    Male              0      No         No       2          Yes   \n",
       "3  7795-CFOCW    Male              0      No         No      45           No   \n",
       "4  9237-HQITU  Female              0      No         No       2          Yes   \n",
       "\n",
       "      MultipleLines InternetService OnlineSecurity  ...  DeviceProtection  \\\n",
       "0  No phone service             DSL             No  ...                No   \n",
       "1                No             DSL            Yes  ...               Yes   \n",
       "2                No             DSL            Yes  ...                No   \n",
       "3  No phone service             DSL            Yes  ...               Yes   \n",
       "4                No     Fiber optic             No  ...                No   \n",
       "\n",
       "  TechSupport StreamingTV StreamingMovies        Contract PaperlessBilling  \\\n",
       "0          No          No              No  Month-to-month              Yes   \n",
       "1          No          No              No        One year               No   \n",
       "2          No          No              No  Month-to-month              Yes   \n",
       "3         Yes          No              No        One year               No   \n",
       "4          No          No              No  Month-to-month              Yes   \n",
       "\n",
       "               PaymentMethod MonthlyCharges  TotalCharges Churn  \n",
       "0           Electronic check          29.85         29.85    No  \n",
       "1               Mailed check          56.95        1889.5    No  \n",
       "2               Mailed check          53.85        108.15   Yes  \n",
       "3  Bank transfer (automatic)          42.30       1840.75    No  \n",
       "4           Electronic check          70.70        151.65   Yes  \n",
       "\n",
       "[5 rows x 21 columns]"
      ]
     },
     "execution_count": 6,
     "metadata": {},
     "output_type": "execute_result"
    }
   ],
   "source": [
    "# Print the first 5 rows of the dataframe to get a feel for the data\n",
    "dataframe.head(5)"
   ]
  },
  {
   "cell_type": "code",
   "execution_count": 7,
   "metadata": {},
   "outputs": [
    {
     "data": {
      "text/html": [
       "<div>\n",
       "<style scoped>\n",
       "    .dataframe tbody tr th:only-of-type {\n",
       "        vertical-align: middle;\n",
       "    }\n",
       "\n",
       "    .dataframe tbody tr th {\n",
       "        vertical-align: top;\n",
       "    }\n",
       "\n",
       "    .dataframe thead th {\n",
       "        text-align: right;\n",
       "    }\n",
       "</style>\n",
       "<table border=\"1\" class=\"dataframe\">\n",
       "  <thead>\n",
       "    <tr style=\"text-align: right;\">\n",
       "      <th></th>\n",
       "      <th>SeniorCitizen</th>\n",
       "      <th>tenure</th>\n",
       "      <th>MonthlyCharges</th>\n",
       "    </tr>\n",
       "  </thead>\n",
       "  <tbody>\n",
       "    <tr>\n",
       "      <th>count</th>\n",
       "      <td>7043.000000</td>\n",
       "      <td>7043.000000</td>\n",
       "      <td>7043.000000</td>\n",
       "    </tr>\n",
       "    <tr>\n",
       "      <th>mean</th>\n",
       "      <td>0.162147</td>\n",
       "      <td>32.371149</td>\n",
       "      <td>64.761692</td>\n",
       "    </tr>\n",
       "    <tr>\n",
       "      <th>std</th>\n",
       "      <td>0.368612</td>\n",
       "      <td>24.559481</td>\n",
       "      <td>30.090047</td>\n",
       "    </tr>\n",
       "    <tr>\n",
       "      <th>min</th>\n",
       "      <td>0.000000</td>\n",
       "      <td>0.000000</td>\n",
       "      <td>18.250000</td>\n",
       "    </tr>\n",
       "    <tr>\n",
       "      <th>25%</th>\n",
       "      <td>0.000000</td>\n",
       "      <td>9.000000</td>\n",
       "      <td>35.500000</td>\n",
       "    </tr>\n",
       "    <tr>\n",
       "      <th>50%</th>\n",
       "      <td>0.000000</td>\n",
       "      <td>29.000000</td>\n",
       "      <td>70.350000</td>\n",
       "    </tr>\n",
       "    <tr>\n",
       "      <th>75%</th>\n",
       "      <td>0.000000</td>\n",
       "      <td>55.000000</td>\n",
       "      <td>89.850000</td>\n",
       "    </tr>\n",
       "    <tr>\n",
       "      <th>max</th>\n",
       "      <td>1.000000</td>\n",
       "      <td>72.000000</td>\n",
       "      <td>118.750000</td>\n",
       "    </tr>\n",
       "  </tbody>\n",
       "</table>\n",
       "</div>"
      ],
      "text/plain": [
       "       SeniorCitizen       tenure  MonthlyCharges\n",
       "count    7043.000000  7043.000000     7043.000000\n",
       "mean        0.162147    32.371149       64.761692\n",
       "std         0.368612    24.559481       30.090047\n",
       "min         0.000000     0.000000       18.250000\n",
       "25%         0.000000     9.000000       35.500000\n",
       "50%         0.000000    29.000000       70.350000\n",
       "75%         0.000000    55.000000       89.850000\n",
       "max         1.000000    72.000000      118.750000"
      ]
     },
     "execution_count": 7,
     "metadata": {},
     "output_type": "execute_result"
    }
   ],
   "source": [
    "# Lets have a look into the numeric features\n",
    "dataframe.describe()"
   ]
  },
  {
   "cell_type": "code",
   "execution_count": 8,
   "metadata": {},
   "outputs": [
    {
     "data": {
      "text/html": [
       "<div>\n",
       "<style scoped>\n",
       "    .dataframe tbody tr th:only-of-type {\n",
       "        vertical-align: middle;\n",
       "    }\n",
       "\n",
       "    .dataframe tbody tr th {\n",
       "        vertical-align: top;\n",
       "    }\n",
       "\n",
       "    .dataframe thead th {\n",
       "        text-align: right;\n",
       "    }\n",
       "</style>\n",
       "<table border=\"1\" class=\"dataframe\">\n",
       "  <thead>\n",
       "    <tr style=\"text-align: right;\">\n",
       "      <th></th>\n",
       "      <th>customerID</th>\n",
       "      <th>gender</th>\n",
       "      <th>Partner</th>\n",
       "      <th>Dependents</th>\n",
       "      <th>PhoneService</th>\n",
       "      <th>MultipleLines</th>\n",
       "      <th>InternetService</th>\n",
       "      <th>OnlineSecurity</th>\n",
       "      <th>OnlineBackup</th>\n",
       "      <th>DeviceProtection</th>\n",
       "      <th>TechSupport</th>\n",
       "      <th>StreamingTV</th>\n",
       "      <th>StreamingMovies</th>\n",
       "      <th>Contract</th>\n",
       "      <th>PaperlessBilling</th>\n",
       "      <th>PaymentMethod</th>\n",
       "      <th>TotalCharges</th>\n",
       "      <th>Churn</th>\n",
       "    </tr>\n",
       "  </thead>\n",
       "  <tbody>\n",
       "    <tr>\n",
       "      <th>count</th>\n",
       "      <td>7043</td>\n",
       "      <td>7043</td>\n",
       "      <td>7043</td>\n",
       "      <td>7043</td>\n",
       "      <td>7043</td>\n",
       "      <td>7043</td>\n",
       "      <td>7043</td>\n",
       "      <td>7043</td>\n",
       "      <td>7043</td>\n",
       "      <td>7043</td>\n",
       "      <td>7043</td>\n",
       "      <td>7043</td>\n",
       "      <td>7043</td>\n",
       "      <td>7043</td>\n",
       "      <td>7043</td>\n",
       "      <td>7043</td>\n",
       "      <td>7043</td>\n",
       "      <td>7043</td>\n",
       "    </tr>\n",
       "    <tr>\n",
       "      <th>unique</th>\n",
       "      <td>7043</td>\n",
       "      <td>2</td>\n",
       "      <td>2</td>\n",
       "      <td>2</td>\n",
       "      <td>2</td>\n",
       "      <td>3</td>\n",
       "      <td>3</td>\n",
       "      <td>3</td>\n",
       "      <td>3</td>\n",
       "      <td>3</td>\n",
       "      <td>3</td>\n",
       "      <td>3</td>\n",
       "      <td>3</td>\n",
       "      <td>3</td>\n",
       "      <td>2</td>\n",
       "      <td>4</td>\n",
       "      <td>6531</td>\n",
       "      <td>2</td>\n",
       "    </tr>\n",
       "    <tr>\n",
       "      <th>top</th>\n",
       "      <td>4295-YURET</td>\n",
       "      <td>Male</td>\n",
       "      <td>No</td>\n",
       "      <td>No</td>\n",
       "      <td>Yes</td>\n",
       "      <td>No</td>\n",
       "      <td>Fiber optic</td>\n",
       "      <td>No</td>\n",
       "      <td>No</td>\n",
       "      <td>No</td>\n",
       "      <td>No</td>\n",
       "      <td>No</td>\n",
       "      <td>No</td>\n",
       "      <td>Month-to-month</td>\n",
       "      <td>Yes</td>\n",
       "      <td>Electronic check</td>\n",
       "      <td>20.2</td>\n",
       "      <td>No</td>\n",
       "    </tr>\n",
       "    <tr>\n",
       "      <th>freq</th>\n",
       "      <td>1</td>\n",
       "      <td>3555</td>\n",
       "      <td>3641</td>\n",
       "      <td>4933</td>\n",
       "      <td>6361</td>\n",
       "      <td>3390</td>\n",
       "      <td>3096</td>\n",
       "      <td>3498</td>\n",
       "      <td>3088</td>\n",
       "      <td>3095</td>\n",
       "      <td>3473</td>\n",
       "      <td>2810</td>\n",
       "      <td>2785</td>\n",
       "      <td>3875</td>\n",
       "      <td>4171</td>\n",
       "      <td>2365</td>\n",
       "      <td>11</td>\n",
       "      <td>5174</td>\n",
       "    </tr>\n",
       "  </tbody>\n",
       "</table>\n",
       "</div>"
      ],
      "text/plain": [
       "        customerID gender Partner Dependents PhoneService MultipleLines  \\\n",
       "count         7043   7043    7043       7043         7043          7043   \n",
       "unique        7043      2       2          2            2             3   \n",
       "top     4295-YURET   Male      No         No          Yes            No   \n",
       "freq             1   3555    3641       4933         6361          3390   \n",
       "\n",
       "       InternetService OnlineSecurity OnlineBackup DeviceProtection  \\\n",
       "count             7043           7043         7043             7043   \n",
       "unique               3              3            3                3   \n",
       "top        Fiber optic             No           No               No   \n",
       "freq              3096           3498         3088             3095   \n",
       "\n",
       "       TechSupport StreamingTV StreamingMovies        Contract  \\\n",
       "count         7043        7043            7043            7043   \n",
       "unique           3           3               3               3   \n",
       "top             No          No              No  Month-to-month   \n",
       "freq          3473        2810            2785            3875   \n",
       "\n",
       "       PaperlessBilling     PaymentMethod TotalCharges Churn  \n",
       "count              7043              7043         7043  7043  \n",
       "unique                2                 4         6531     2  \n",
       "top                 Yes  Electronic check         20.2    No  \n",
       "freq               4171              2365           11  5174  "
      ]
     },
     "execution_count": 8,
     "metadata": {},
     "output_type": "execute_result"
    }
   ],
   "source": [
    "# Lets have a look into the categorical features\n",
    "dataframe.describe(include=['O'])"
   ]
  },
  {
   "cell_type": "markdown",
   "metadata": {},
   "source": [
    "### Analyze and plot the features with customer Churn to find Correlation between features\n",
    "Lets analyze the feature correlations by pivoting features against each other"
   ]
  },
  {
   "cell_type": "code",
   "execution_count": 9,
   "metadata": {},
   "outputs": [
    {
     "data": {
      "text/plain": [
       "Index(['customerID', 'gender', 'SeniorCitizen', 'Partner', 'Dependents',\n",
       "       'tenure', 'PhoneService', 'MultipleLines', 'InternetService',\n",
       "       'OnlineSecurity', 'OnlineBackup', 'DeviceProtection', 'TechSupport',\n",
       "       'StreamingTV', 'StreamingMovies', 'Contract', 'PaperlessBilling',\n",
       "       'PaymentMethod', 'MonthlyCharges', 'TotalCharges', 'Churn'],\n",
       "      dtype='object')"
      ]
     },
     "execution_count": 9,
     "metadata": {},
     "output_type": "execute_result"
    }
   ],
   "source": [
    "dataframe.columns"
   ]
  },
  {
   "cell_type": "markdown",
   "metadata": {},
   "source": [
    "### Data has the following feature categories\n",
    "\n",
    "#### Demographic info about customers \n",
    "    – gender, senior citizen, and family members (if customers have partners and dependents)\n",
    "    \n",
    "####  Services that each customer has signed up for \n",
    "    – phone service, multiple lines, internet, online security, online backup, device protection, tech support, streaming TV and movies\n",
    "\n",
    "#### Customer account information \n",
    "    – Tenure, contract, payment method, paperless billing, monthly charges, and total charges\n"
   ]
  },
  {
   "cell_type": "code",
   "execution_count": 10,
   "metadata": {},
   "outputs": [],
   "source": [
    "# Plot histograms to show distribution of features by outcome categories (Depy2016)\n",
    "\n",
    "def plot_histogram_dv(x,y):\n",
    "    \n",
    "    plt.hist(list(x[y==\"No\"]), alpha=0.5, facecolor='blue', label='Churn=0')\n",
    "    plt.hist(list(x[y==\"Yes\"]), alpha=0.75, facecolor='green', label='Churn=1')\n",
    "    plt.title(\"Histogram of '{var_name}' by Customer Churn\".format(var_name=x.name))\n",
    "    plt.xlabel(\"Value\")\n",
    "    plt.ylabel(\"Frequency\")\n",
    "    plt.legend(loc='upper right')\n",
    "    plt.show()"
   ]
  },
  {
   "cell_type": "markdown",
   "metadata": {},
   "source": [
    "##### Churn rate Analysis on Demographic Info of Customers"
   ]
  },
  {
   "cell_type": "code",
   "execution_count": 11,
   "metadata": {},
   "outputs": [
    {
     "data": {
      "image/png": "[encoded data removed]",
      "text/plain": [
       "<Figure size 432x288 with 1 Axes>"
      ]
     },
     "metadata": {},
     "output_type": "display_data"
    },
    {
     "data": {
      "image/png": "[encoded data removed]",
      "text/plain": [
       "<Figure size 432x288 with 1 Axes>"
      ]
     },
     "metadata": {},
     "output_type": "display_data"
    },
    {
     "data": {
      "image/png": "[encoded data removed]",
      "text/plain": [
       "<Figure size 432x288 with 1 Axes>"
      ]
     },
     "metadata": {},
     "output_type": "display_data"
    }
   ],
   "source": [
    "demographic_info = ['gender', 'SeniorCitizen', 'Dependents']\n",
    "\n",
    "# Churn by Demographic data: \n",
    "for demo in demographic_info:\n",
    "    plot_histogram_dv(dataframe[demo], dataframe.Churn) ## need to use barplots here"
   ]
  },
  {
   "cell_type": "markdown",
   "metadata": {},
   "source": [
    "#### Observations:\n",
    "- Gender doesn't show much info on Churn rate\n",
    "- Senior Citizen are less likely to Churn\n",
    "- Dependents are less likely to Churn"
   ]
  },
  {
   "cell_type": "markdown",
   "metadata": {},
   "source": [
    "##### Churn rate Analysis on Services used by Customers"
   ]
  },
  {
   "cell_type": "code",
   "execution_count": 12,
   "metadata": {},
   "outputs": [
    {
     "data": {
      "image/png": "[encoded data removed]",
      "text/plain": [
       "<Figure size 432x288 with 1 Axes>"
      ]
     },
     "metadata": {},
     "output_type": "display_data"
    },
    {
     "data": {
      "image/png": "[encoded data removed]",
      "text/plain": [
       "<Figure size 432x288 with 1 Axes>"
      ]
     },
     "metadata": {},
     "output_type": "display_data"
    },
    {
     "data": {
      "image/png": "[encoded data removed]",
      "text/plain": [
       "<Figure size 432x288 with 1 Axes>"
      ]
     },
     "metadata": {},
     "output_type": "display_data"
    },
    {
     "data": {
      "image/png": "[encoded data removed]",
      "text/plain": [
       "<Figure size 432x288 with 1 Axes>"
      ]
     },
     "metadata": {},
     "output_type": "display_data"
    },
    {
     "data": {
      "image/png": "[encoded data removed]",
      "text/plain": [
       "<Figure size 432x288 with 1 Axes>"
      ]
     },
     "metadata": {},
     "output_type": "display_data"
    },
    {
     "data": {
      "image/png": "[encoded data removed]",
      "text/plain": [
       "<Figure size 432x288 with 1 Axes>"
      ]
     },
     "metadata": {},
     "output_type": "display_data"
    },
    {
     "data": {
      "image/png": "[encoded data removed]",
      "text/plain": [
       "<Figure size 432x288 with 1 Axes>"
      ]
     },
     "metadata": {},
     "output_type": "display_data"
    },
    {
     "data": {
      "image/png": "[encoded data removed]",
      "text/plain": [
       "<Figure size 432x288 with 1 Axes>"
      ]
     },
     "metadata": {},
     "output_type": "display_data"
    },
    {
     "data": {
      "image/png": "[encoded data removed]",
      "text/plain": [
       "<Figure size 432x288 with 1 Axes>"
      ]
     },
     "metadata": {},
     "output_type": "display_data"
    }
   ],
   "source": [
    "services = ['PhoneService', 'MultipleLines', 'InternetService', 'OnlineSecurity', 'OnlineBackup', \n",
    "            'DeviceProtection', 'TechSupport', 'StreamingTV', 'StreamingMovies']\n",
    "\n",
    "# Churn by Services: \n",
    "for service in services:\n",
    "    plot_histogram_dv(dataframe[service], dataframe.Churn)\n",
    "    "
   ]
  },
  {
   "cell_type": "markdown",
   "metadata": {},
   "source": [
    "#### Observations:\n",
    "- Customers using Phone services Churn more\n",
    "- Multiple Lines has no significant effect on customer Churn\n",
    "- Customers using Internet Service with Fiber Optics has high Churn\n",
    "- Customers without Online security has high Churn\n",
    "- Online Backup has so significant impact on Churn\n",
    "- Customers without Device Protection has high Churn\n",
    "- Customers without Tech Support has high Churn\n",
    "- Steaming TV and movies has so no definite impact on Churn\n"
   ]
  },
  {
   "cell_type": "markdown",
   "metadata": {},
   "source": [
    "##### Churn rate Analysis on the Account Information"
   ]
  },
  {
   "cell_type": "code",
   "execution_count": 13,
   "metadata": {},
   "outputs": [],
   "source": [
    "account_info = ['tenure', 'Contract', 'PaperlessBilling', 'PaymentMethod', 'MonthlyCharges']"
   ]
  },
  {
   "cell_type": "code",
   "execution_count": 14,
   "metadata": {},
   "outputs": [
    {
     "data": {
      "image/png": "[encoded data removed]",
      "text/plain": [
       "<Figure size 432x288 with 1 Axes>"
      ]
     },
     "metadata": {},
     "output_type": "display_data"
    },
    {
     "data": {
      "image/png": "[encoded data removed]",
      "text/plain": [
       "<Figure size 432x288 with 1 Axes>"
      ]
     },
     "metadata": {},
     "output_type": "display_data"
    },
    {
     "data": {
      "image/png": "[encoded data removed]",
      "text/plain": [
       "<Figure size 432x288 with 1 Axes>"
      ]
     },
     "metadata": {},
     "output_type": "display_data"
    },
    {
     "data": {
      "image/png": "[encoded data removed]",
      "text/plain": [
       "<Figure size 432x288 with 1 Axes>"
      ]
     },
     "metadata": {},
     "output_type": "display_data"
    },
    {
     "data": {
      "image/png": "[encoded data removed]",
      "text/plain": [
       "<Figure size 432x288 with 1 Axes>"
      ]
     },
     "metadata": {},
     "output_type": "display_data"
    }
   ],
   "source": [
    "for info in account_info:\n",
    "    plot_histogram_dv(dataframe[info], dataframe.Churn)\n"
   ]
  },
  {
   "cell_type": "markdown",
   "metadata": {},
   "source": [
    "#### Observations:\n",
    "- Customer with short term Tenure has High Churn \n",
    "- Customer with month to month contract Churn a lot (Telecom company need long term plan) \n",
    "- Paperless Billing opting customers has high Churn rate\n",
    "- Customers with monthly charges in the range of 70-110 has High Churn rate"
   ]
  },
  {
   "cell_type": "markdown",
   "metadata": {},
   "source": [
    "# 2. Data-Preprocessing"
   ]
  },
  {
   "cell_type": "markdown",
   "metadata": {},
   "source": [
    "### Basic data cleaning process\n",
    "\n",
    "\n",
    "##### Models can only handle numeric features\n",
    "##### Categorical and ordinal features must be converted into numeric features before training the model\n",
    "\n",
    "\n",
    "-  Check the data type (int, float, string) of features in the dataframe\n",
    "-  Convert string to numeric data"
   ]
  },
  {
   "cell_type": "code",
   "execution_count": 15,
   "metadata": {},
   "outputs": [
    {
     "name": "stdout",
     "output_type": "stream",
     "text": [
      "Feature 'customerID' has 7043 unique categories\n",
      "Feature 'gender' has 2 unique categories\n",
      "Feature 'Partner' has 2 unique categories\n",
      "Feature 'Dependents' has 2 unique categories\n",
      "Feature 'PhoneService' has 2 unique categories\n",
      "Feature 'MultipleLines' has 3 unique categories\n",
      "Feature 'InternetService' has 3 unique categories\n",
      "Feature 'OnlineSecurity' has 3 unique categories\n",
      "Feature 'OnlineBackup' has 3 unique categories\n",
      "Feature 'DeviceProtection' has 3 unique categories\n",
      "Feature 'TechSupport' has 3 unique categories\n",
      "Feature 'StreamingTV' has 3 unique categories\n",
      "Feature 'StreamingMovies' has 3 unique categories\n",
      "Feature 'Contract' has 3 unique categories\n",
      "Feature 'PaperlessBilling' has 2 unique categories\n",
      "Feature 'PaymentMethod' has 4 unique categories\n",
      "Feature 'TotalCharges' has 6531 unique categories\n",
      "Feature 'Churn' has 2 unique categories\n"
     ]
    }
   ],
   "source": [
    "# Find the categorical variables in the dataset \n",
    "\n",
    "# Code is inspired from the Depy2016 tutorial: \n",
    "# https://github.com/aprilypchen/depy2016/blob/master/DePy_Talk.ipynb\n",
    "\n",
    "for col_name in dataframe.columns:\n",
    "    if dataframe[col_name].dtypes == 'object':\n",
    "        unique_cat = len(dataframe[col_name].unique())\n",
    "        print(\"Feature '{}' has {} unique categories\".format(col_name, unique_cat))"
   ]
  },
  {
   "cell_type": "code",
   "execution_count": 16,
   "metadata": {},
   "outputs": [],
   "source": [
    "# Customer ID doesn't show any meaningful info as its unique per customer and can be dropped from the data set\n",
    "\n",
    "dataframe.drop([\"customerID\"], axis=1, inplace=True)"
   ]
  },
  {
   "cell_type": "code",
   "execution_count": 17,
   "metadata": {},
   "outputs": [
    {
     "data": {
      "text/html": [
       "<div>\n",
       "<style scoped>\n",
       "    .dataframe tbody tr th:only-of-type {\n",
       "        vertical-align: middle;\n",
       "    }\n",
       "\n",
       "    .dataframe tbody tr th {\n",
       "        vertical-align: top;\n",
       "    }\n",
       "\n",
       "    .dataframe thead th {\n",
       "        text-align: right;\n",
       "    }\n",
       "</style>\n",
       "<table border=\"1\" class=\"dataframe\">\n",
       "  <thead>\n",
       "    <tr style=\"text-align: right;\">\n",
       "      <th></th>\n",
       "      <th>gender</th>\n",
       "      <th>SeniorCitizen</th>\n",
       "      <th>Partner</th>\n",
       "      <th>Dependents</th>\n",
       "      <th>tenure</th>\n",
       "      <th>PhoneService</th>\n",
       "      <th>MultipleLines</th>\n",
       "      <th>InternetService</th>\n",
       "      <th>OnlineSecurity</th>\n",
       "      <th>OnlineBackup</th>\n",
       "      <th>DeviceProtection</th>\n",
       "      <th>TechSupport</th>\n",
       "      <th>StreamingTV</th>\n",
       "      <th>StreamingMovies</th>\n",
       "      <th>Contract</th>\n",
       "      <th>PaperlessBilling</th>\n",
       "      <th>PaymentMethod</th>\n",
       "      <th>MonthlyCharges</th>\n",
       "      <th>TotalCharges</th>\n",
       "      <th>Churn</th>\n",
       "    </tr>\n",
       "  </thead>\n",
       "  <tbody>\n",
       "    <tr>\n",
       "      <th>0</th>\n",
       "      <td>0</td>\n",
       "      <td>0</td>\n",
       "      <td>1</td>\n",
       "      <td>0</td>\n",
       "      <td>1</td>\n",
       "      <td>0</td>\n",
       "      <td>No phone service</td>\n",
       "      <td>DSL</td>\n",
       "      <td>No</td>\n",
       "      <td>Yes</td>\n",
       "      <td>No</td>\n",
       "      <td>No</td>\n",
       "      <td>No</td>\n",
       "      <td>No</td>\n",
       "      <td>Month-to-month</td>\n",
       "      <td>1</td>\n",
       "      <td>Electronic check</td>\n",
       "      <td>29.85</td>\n",
       "      <td>29.85</td>\n",
       "      <td>0</td>\n",
       "    </tr>\n",
       "    <tr>\n",
       "      <th>1</th>\n",
       "      <td>1</td>\n",
       "      <td>0</td>\n",
       "      <td>0</td>\n",
       "      <td>0</td>\n",
       "      <td>34</td>\n",
       "      <td>1</td>\n",
       "      <td>No</td>\n",
       "      <td>DSL</td>\n",
       "      <td>Yes</td>\n",
       "      <td>No</td>\n",
       "      <td>Yes</td>\n",
       "      <td>No</td>\n",
       "      <td>No</td>\n",
       "      <td>No</td>\n",
       "      <td>One year</td>\n",
       "      <td>0</td>\n",
       "      <td>Mailed check</td>\n",
       "      <td>56.95</td>\n",
       "      <td>1889.5</td>\n",
       "      <td>0</td>\n",
       "    </tr>\n",
       "    <tr>\n",
       "      <th>2</th>\n",
       "      <td>1</td>\n",
       "      <td>0</td>\n",
       "      <td>0</td>\n",
       "      <td>0</td>\n",
       "      <td>2</td>\n",
       "      <td>1</td>\n",
       "      <td>No</td>\n",
       "      <td>DSL</td>\n",
       "      <td>Yes</td>\n",
       "      <td>Yes</td>\n",
       "      <td>No</td>\n",
       "      <td>No</td>\n",
       "      <td>No</td>\n",
       "      <td>No</td>\n",
       "      <td>Month-to-month</td>\n",
       "      <td>1</td>\n",
       "      <td>Mailed check</td>\n",
       "      <td>53.85</td>\n",
       "      <td>108.15</td>\n",
       "      <td>1</td>\n",
       "    </tr>\n",
       "    <tr>\n",
       "      <th>3</th>\n",
       "      <td>1</td>\n",
       "      <td>0</td>\n",
       "      <td>0</td>\n",
       "      <td>0</td>\n",
       "      <td>45</td>\n",
       "      <td>0</td>\n",
       "      <td>No phone service</td>\n",
       "      <td>DSL</td>\n",
       "      <td>Yes</td>\n",
       "      <td>No</td>\n",
       "      <td>Yes</td>\n",
       "      <td>Yes</td>\n",
       "      <td>No</td>\n",
       "      <td>No</td>\n",
       "      <td>One year</td>\n",
       "      <td>0</td>\n",
       "      <td>Bank transfer (automatic)</td>\n",
       "      <td>42.30</td>\n",
       "      <td>1840.75</td>\n",
       "      <td>0</td>\n",
       "    </tr>\n",
       "    <tr>\n",
       "      <th>4</th>\n",
       "      <td>0</td>\n",
       "      <td>0</td>\n",
       "      <td>0</td>\n",
       "      <td>0</td>\n",
       "      <td>2</td>\n",
       "      <td>1</td>\n",
       "      <td>No</td>\n",
       "      <td>Fiber optic</td>\n",
       "      <td>No</td>\n",
       "      <td>No</td>\n",
       "      <td>No</td>\n",
       "      <td>No</td>\n",
       "      <td>No</td>\n",
       "      <td>No</td>\n",
       "      <td>Month-to-month</td>\n",
       "      <td>1</td>\n",
       "      <td>Electronic check</td>\n",
       "      <td>70.70</td>\n",
       "      <td>151.65</td>\n",
       "      <td>1</td>\n",
       "    </tr>\n",
       "  </tbody>\n",
       "</table>\n",
       "</div>"
      ],
      "text/plain": [
       "   gender  SeniorCitizen  Partner  Dependents  tenure  PhoneService  \\\n",
       "0       0              0        1           0       1             0   \n",
       "1       1              0        0           0      34             1   \n",
       "2       1              0        0           0       2             1   \n",
       "3       1              0        0           0      45             0   \n",
       "4       0              0        0           0       2             1   \n",
       "\n",
       "      MultipleLines InternetService OnlineSecurity OnlineBackup  \\\n",
       "0  No phone service             DSL             No          Yes   \n",
       "1                No             DSL            Yes           No   \n",
       "2                No             DSL            Yes          Yes   \n",
       "3  No phone service             DSL            Yes           No   \n",
       "4                No     Fiber optic             No           No   \n",
       "\n",
       "  DeviceProtection TechSupport StreamingTV StreamingMovies        Contract  \\\n",
       "0               No          No          No              No  Month-to-month   \n",
       "1              Yes          No          No              No        One year   \n",
       "2               No          No          No              No  Month-to-month   \n",
       "3              Yes         Yes          No              No        One year   \n",
       "4               No          No          No              No  Month-to-month   \n",
       "\n",
       "   PaperlessBilling              PaymentMethod  MonthlyCharges TotalCharges  \\\n",
       "0                 1           Electronic check           29.85        29.85   \n",
       "1                 0               Mailed check           56.95       1889.5   \n",
       "2                 1               Mailed check           53.85       108.15   \n",
       "3                 0  Bank transfer (automatic)           42.30      1840.75   \n",
       "4                 1           Electronic check           70.70       151.65   \n",
       "\n",
       "   Churn  \n",
       "0      0  \n",
       "1      0  \n",
       "2      1  \n",
       "3      0  \n",
       "4      1  "
      ]
     },
     "execution_count": 17,
     "metadata": {},
     "output_type": "execute_result"
    }
   ],
   "source": [
    "# Assign outcome as 0 if columns has value \"No\" and as 1 if columns value is \"Yes\"\n",
    "binary_column_conversion = ['Partner', 'Dependents', 'PhoneService', 'PaperlessBilling', 'Churn']\n",
    "\n",
    "# Column conversion\n",
    "for item in binary_column_conversion:\n",
    "    dataframe[item] = [1 if each == 'Yes' else 0 for each in dataframe[item]]\n",
    "\n",
    "# Gender conversion\n",
    "dataframe[\"gender\"] = [1 if each == 'Male' else 0 for each in dataframe[\"gender\"]]\n",
    "\n",
    "dataframe.head()"
   ]
  },
  {
   "cell_type": "code",
   "execution_count": 18,
   "metadata": {},
   "outputs": [
    {
     "name": "stdout",
     "output_type": "stream",
     "text": [
      "<class 'pandas.core.frame.DataFrame'>\n",
      "RangeIndex: 7043 entries, 0 to 7042\n",
      "Data columns (total 20 columns):\n",
      "gender              7043 non-null int64\n",
      "SeniorCitizen       7043 non-null int64\n",
      "Partner             7043 non-null int64\n",
      "Dependents          7043 non-null int64\n",
      "tenure              7043 non-null int64\n",
      "PhoneService        7043 non-null int64\n",
      "MultipleLines       7043 non-null object\n",
      "InternetService     7043 non-null object\n",
      "OnlineSecurity      7043 non-null object\n",
      "OnlineBackup        7043 non-null object\n",
      "DeviceProtection    7043 non-null object\n",
      "TechSupport         7043 non-null object\n",
      "StreamingTV         7043 non-null object\n",
      "StreamingMovies     7043 non-null object\n",
      "Contract            7043 non-null object\n",
      "PaperlessBilling    7043 non-null int64\n",
      "PaymentMethod       7043 non-null object\n",
      "MonthlyCharges      7043 non-null float64\n",
      "TotalCharges        7043 non-null object\n",
      "Churn               7043 non-null int64\n",
      "dtypes: float64(1), int64(8), object(11)\n",
      "memory usage: 1.1+ MB\n"
     ]
    }
   ],
   "source": [
    "# Checking the data types and counts of all the columns\n",
    "dataframe.info()"
   ]
  },
  {
   "cell_type": "markdown",
   "metadata": {},
   "source": [
    "#### The Total Charges is shown as a string and not a numeric number. Lets do some investigation and fix that"
   ]
  },
  {
   "cell_type": "code",
   "execution_count": 19,
   "metadata": {},
   "outputs": [
    {
     "data": {
      "text/plain": [
       "count    7032.000000\n",
       "mean     2283.300441\n",
       "std      2266.771362\n",
       "min        18.800000\n",
       "25%       401.450000\n",
       "50%      1397.475000\n",
       "75%      3794.737500\n",
       "max      8684.800000\n",
       "Name: TotalCharges, dtype: float64"
      ]
     },
     "execution_count": 19,
     "metadata": {},
     "output_type": "execute_result"
    }
   ],
   "source": [
    "# The Total Charges sections has some empty spaces/blank sections\n",
    "# Lets convert the TotalCharges to numerical data type. \n",
    "# errors='coerce' will convert the invalid parsed data as NaN\n",
    "\n",
    "dataframe.TotalCharges = pd.to_numeric(dataframe.TotalCharges, errors='coerce')\n",
    "dataframe.TotalCharges.describe()"
   ]
  },
  {
   "cell_type": "markdown",
   "metadata": {},
   "source": [
    "#### Handling missing data\n",
    "- Models can not handle missing data\n",
    "- Used imputation to fill in missing data with **mean** strategy\n",
    "    "
   ]
  },
  {
   "cell_type": "code",
   "execution_count": 20,
   "metadata": {
    "scrolled": true
   },
   "outputs": [
    {
     "data": {
      "text/plain": [
       "TotalCharges     11\n",
       "Churn             0\n",
       "SeniorCitizen     0\n",
       "Partner           0\n",
       "Dependents        0\n",
       "dtype: int64"
      ]
     },
     "execution_count": 20,
     "metadata": {},
     "output_type": "execute_result"
    }
   ],
   "source": [
    "# Check for missing values\n",
    "\n",
    "dataframe.isnull().sum().sort_values(ascending=False).head()"
   ]
  },
  {
   "cell_type": "markdown",
   "metadata": {},
   "source": [
    "There are 11 missing values for Total Charges\n",
    "- Lets Impute the missing values"
   ]
  },
  {
   "cell_type": "code",
   "execution_count": 21,
   "metadata": {},
   "outputs": [
    {
     "data": {
      "text/html": [
       "<div>\n",
       "<style scoped>\n",
       "    .dataframe tbody tr th:only-of-type {\n",
       "        vertical-align: middle;\n",
       "    }\n",
       "\n",
       "    .dataframe tbody tr th {\n",
       "        vertical-align: top;\n",
       "    }\n",
       "\n",
       "    .dataframe thead th {\n",
       "        text-align: right;\n",
       "    }\n",
       "</style>\n",
       "<table border=\"1\" class=\"dataframe\">\n",
       "  <thead>\n",
       "    <tr style=\"text-align: right;\">\n",
       "      <th></th>\n",
       "      <th>gender</th>\n",
       "      <th>SeniorCitizen</th>\n",
       "      <th>Partner</th>\n",
       "      <th>Dependents</th>\n",
       "      <th>tenure</th>\n",
       "      <th>PhoneService</th>\n",
       "      <th>PaperlessBilling</th>\n",
       "      <th>MonthlyCharges</th>\n",
       "      <th>TotalCharges</th>\n",
       "      <th>Churn</th>\n",
       "      <th>...</th>\n",
       "      <th>StreamingMovies_No</th>\n",
       "      <th>StreamingMovies_No internet service</th>\n",
       "      <th>StreamingMovies_Yes</th>\n",
       "      <th>Contract_Month-to-month</th>\n",
       "      <th>Contract_One year</th>\n",
       "      <th>Contract_Two year</th>\n",
       "      <th>PaymentMethod_Bank transfer (automatic)</th>\n",
       "      <th>PaymentMethod_Credit card (automatic)</th>\n",
       "      <th>PaymentMethod_Electronic check</th>\n",
       "      <th>PaymentMethod_Mailed check</th>\n",
       "    </tr>\n",
       "  </thead>\n",
       "  <tbody>\n",
       "    <tr>\n",
       "      <th>0</th>\n",
       "      <td>0</td>\n",
       "      <td>0</td>\n",
       "      <td>1</td>\n",
       "      <td>0</td>\n",
       "      <td>1</td>\n",
       "      <td>0</td>\n",
       "      <td>1</td>\n",
       "      <td>29.85</td>\n",
       "      <td>29.85</td>\n",
       "      <td>0</td>\n",
       "      <td>...</td>\n",
       "      <td>1</td>\n",
       "      <td>0</td>\n",
       "      <td>0</td>\n",
       "      <td>1</td>\n",
       "      <td>0</td>\n",
       "      <td>0</td>\n",
       "      <td>0</td>\n",
       "      <td>0</td>\n",
       "      <td>1</td>\n",
       "      <td>0</td>\n",
       "    </tr>\n",
       "    <tr>\n",
       "      <th>1</th>\n",
       "      <td>1</td>\n",
       "      <td>0</td>\n",
       "      <td>0</td>\n",
       "      <td>0</td>\n",
       "      <td>34</td>\n",
       "      <td>1</td>\n",
       "      <td>0</td>\n",
       "      <td>56.95</td>\n",
       "      <td>1889.50</td>\n",
       "      <td>0</td>\n",
       "      <td>...</td>\n",
       "      <td>1</td>\n",
       "      <td>0</td>\n",
       "      <td>0</td>\n",
       "      <td>0</td>\n",
       "      <td>1</td>\n",
       "      <td>0</td>\n",
       "      <td>0</td>\n",
       "      <td>0</td>\n",
       "      <td>0</td>\n",
       "      <td>1</td>\n",
       "    </tr>\n",
       "    <tr>\n",
       "      <th>2</th>\n",
       "      <td>1</td>\n",
       "      <td>0</td>\n",
       "      <td>0</td>\n",
       "      <td>0</td>\n",
       "      <td>2</td>\n",
       "      <td>1</td>\n",
       "      <td>1</td>\n",
       "      <td>53.85</td>\n",
       "      <td>108.15</td>\n",
       "      <td>1</td>\n",
       "      <td>...</td>\n",
       "      <td>1</td>\n",
       "      <td>0</td>\n",
       "      <td>0</td>\n",
       "      <td>1</td>\n",
       "      <td>0</td>\n",
       "      <td>0</td>\n",
       "      <td>0</td>\n",
       "      <td>0</td>\n",
       "      <td>0</td>\n",
       "      <td>1</td>\n",
       "    </tr>\n",
       "    <tr>\n",
       "      <th>3</th>\n",
       "      <td>1</td>\n",
       "      <td>0</td>\n",
       "      <td>0</td>\n",
       "      <td>0</td>\n",
       "      <td>45</td>\n",
       "      <td>0</td>\n",
       "      <td>0</td>\n",
       "      <td>42.30</td>\n",
       "      <td>1840.75</td>\n",
       "      <td>0</td>\n",
       "      <td>...</td>\n",
       "      <td>1</td>\n",
       "      <td>0</td>\n",
       "      <td>0</td>\n",
       "      <td>0</td>\n",
       "      <td>1</td>\n",
       "      <td>0</td>\n",
       "      <td>1</td>\n",
       "      <td>0</td>\n",
       "      <td>0</td>\n",
       "      <td>0</td>\n",
       "    </tr>\n",
       "    <tr>\n",
       "      <th>4</th>\n",
       "      <td>0</td>\n",
       "      <td>0</td>\n",
       "      <td>0</td>\n",
       "      <td>0</td>\n",
       "      <td>2</td>\n",
       "      <td>1</td>\n",
       "      <td>1</td>\n",
       "      <td>70.70</td>\n",
       "      <td>151.65</td>\n",
       "      <td>1</td>\n",
       "      <td>...</td>\n",
       "      <td>1</td>\n",
       "      <td>0</td>\n",
       "      <td>0</td>\n",
       "      <td>1</td>\n",
       "      <td>0</td>\n",
       "      <td>0</td>\n",
       "      <td>0</td>\n",
       "      <td>0</td>\n",
       "      <td>1</td>\n",
       "      <td>0</td>\n",
       "    </tr>\n",
       "  </tbody>\n",
       "</table>\n",
       "<p>5 rows × 41 columns</p>\n",
       "</div>"
      ],
      "text/plain": [
       "   gender  SeniorCitizen  Partner  Dependents  tenure  PhoneService  \\\n",
       "0       0              0        1           0       1             0   \n",
       "1       1              0        0           0      34             1   \n",
       "2       1              0        0           0       2             1   \n",
       "3       1              0        0           0      45             0   \n",
       "4       0              0        0           0       2             1   \n",
       "\n",
       "   PaperlessBilling  MonthlyCharges  TotalCharges  Churn  \\\n",
       "0                 1           29.85         29.85      0   \n",
       "1                 0           56.95       1889.50      0   \n",
       "2                 1           53.85        108.15      1   \n",
       "3                 0           42.30       1840.75      0   \n",
       "4                 1           70.70        151.65      1   \n",
       "\n",
       "              ...              StreamingMovies_No  \\\n",
       "0             ...                               1   \n",
       "1             ...                               1   \n",
       "2             ...                               1   \n",
       "3             ...                               1   \n",
       "4             ...                               1   \n",
       "\n",
       "   StreamingMovies_No internet service  StreamingMovies_Yes  \\\n",
       "0                                    0                    0   \n",
       "1                                    0                    0   \n",
       "2                                    0                    0   \n",
       "3                                    0                    0   \n",
       "4                                    0                    0   \n",
       "\n",
       "   Contract_Month-to-month  Contract_One year  Contract_Two year  \\\n",
       "0                        1                  0                  0   \n",
       "1                        0                  1                  0   \n",
       "2                        1                  0                  0   \n",
       "3                        0                  1                  0   \n",
       "4                        1                  0                  0   \n",
       "\n",
       "   PaymentMethod_Bank transfer (automatic)  \\\n",
       "0                                        0   \n",
       "1                                        0   \n",
       "2                                        0   \n",
       "3                                        1   \n",
       "4                                        0   \n",
       "\n",
       "   PaymentMethod_Credit card (automatic)  PaymentMethod_Electronic check  \\\n",
       "0                                      0                               1   \n",
       "1                                      0                               0   \n",
       "2                                      0                               0   \n",
       "3                                      0                               0   \n",
       "4                                      0                               1   \n",
       "\n",
       "   PaymentMethod_Mailed check  \n",
       "0                           0  \n",
       "1                           1  \n",
       "2                           1  \n",
       "3                           0  \n",
       "4                           0  \n",
       "\n",
       "[5 rows x 41 columns]"
      ]
     },
     "execution_count": 21,
     "metadata": {},
     "output_type": "execute_result"
    }
   ],
   "source": [
    "# Let's convert all the categorical variables into dummy variables before Imputing\n",
    "# We will be using this dataframe going forward\n",
    "\n",
    "dataframe_dummies = pd.get_dummies(dataframe)\n",
    "dataframe_dummies.head(5)\n",
    "\n",
    "# Number of Colmuns have doubled from 21 to 42 now"
   ]
  },
  {
   "cell_type": "code",
   "execution_count": 22,
   "metadata": {},
   "outputs": [],
   "source": [
    "# Imputing the missing data using the mean\n",
    "\n",
    "imputer = Imputer(missing_values='NaN', strategy='mean', axis=0)\n",
    "\n",
    "missingData = dataframe_dummies.iloc[:,0:].values\n",
    "\n",
    "imputer.fit(missingData)\n",
    "\n",
    "completedData = imputer.transform(missingData)\n",
    "\n",
    "dataframe_dummies.iloc[:, 0:] = completedData"
   ]
  },
  {
   "cell_type": "code",
   "execution_count": 23,
   "metadata": {},
   "outputs": [
    {
     "data": {
      "text/plain": [
       "PaymentMethod_Mailed check            0\n",
       "OnlineBackup_No                       0\n",
       "OnlineSecurity_No internet service    0\n",
       "dtype: int64"
      ]
     },
     "execution_count": 23,
     "metadata": {},
     "output_type": "execute_result"
    }
   ],
   "source": [
    "# Re-Check is any missing values are still there\n",
    "dataframe_dummies.isnull().sum().sort_values(ascending=False).head(3)"
   ]
  },
  {
   "cell_type": "code",
   "execution_count": 24,
   "metadata": {},
   "outputs": [
    {
     "data": {
      "text/plain": [
       "Churn                                      1.000000\n",
       "Contract_Month-to-month                    0.405103\n",
       "OnlineSecurity_No                          0.342637\n",
       "TechSupport_No                             0.337281\n",
       "InternetService_Fiber optic                0.308020\n",
       "PaymentMethod_Electronic check             0.301919\n",
       "OnlineBackup_No                            0.268005\n",
       "DeviceProtection_No                        0.252481\n",
       "MonthlyCharges                             0.193356\n",
       "PaperlessBilling                           0.191825\n",
       "SeniorCitizen                              0.150889\n",
       "StreamingMovies_No                         0.130845\n",
       "StreamingTV_No                             0.128916\n",
       "StreamingTV_Yes                            0.063228\n",
       "StreamingMovies_Yes                        0.061382\n",
       "MultipleLines_Yes                          0.040102\n",
       "PhoneService                               0.011942\n",
       "gender                                    -0.008612\n",
       "MultipleLines_No phone service            -0.011942\n",
       "MultipleLines_No                          -0.032569\n",
       "DeviceProtection_Yes                      -0.066160\n",
       "OnlineBackup_Yes                          -0.082255\n",
       "PaymentMethod_Mailed check                -0.091683\n",
       "PaymentMethod_Bank transfer (automatic)   -0.117937\n",
       "InternetService_DSL                       -0.124214\n",
       "PaymentMethod_Credit card (automatic)     -0.134302\n",
       "Partner                                   -0.150448\n",
       "Dependents                                -0.164221\n",
       "TechSupport_Yes                           -0.164674\n",
       "OnlineSecurity_Yes                        -0.171226\n",
       "Contract_One year                         -0.177820\n",
       "TotalCharges                              -0.199428\n",
       "OnlineSecurity_No internet service        -0.227890\n",
       "StreamingMovies_No internet service       -0.227890\n",
       "StreamingTV_No internet service           -0.227890\n",
       "TechSupport_No internet service           -0.227890\n",
       "DeviceProtection_No internet service      -0.227890\n",
       "InternetService_No                        -0.227890\n",
       "OnlineBackup_No internet service          -0.227890\n",
       "Contract_Two year                         -0.302253\n",
       "tenure                                    -0.352229\n",
       "Name: Churn, dtype: float64"
      ]
     },
     "execution_count": 24,
     "metadata": {},
     "output_type": "execute_result"
    }
   ],
   "source": [
    "# Check if there are any strong correlation between feature and outcome\n",
    "\n",
    "dataframe_dummies.corr()[\"Churn\"].sort_values(ascending=False)"
   ]
  },
  {
   "cell_type": "markdown",
   "metadata": {},
   "source": [
    "#### TODO: Add observation of the correlation"
   ]
  },
  {
   "cell_type": "markdown",
   "metadata": {},
   "source": [
    "### Outlier detection\n",
    "##### Code is inspired from the Depy2016 tutorial: https://github.com/aprilypchen/depy2016/blob/master/DePy_Talk.ipynb"
   ]
  },
  {
   "cell_type": "code",
   "execution_count": 25,
   "metadata": {},
   "outputs": [],
   "source": [
    "def find_outliers_tukey(x):\n",
    "    \"\"\" Function to find the outliers \"\"\"\n",
    "    q1 = np.percentile(x, 25)\n",
    "    q3 = np.percentile(x, 75)\n",
    "    iqr = q3-q1\n",
    "    floor = q1 - 1.5*iqr\n",
    "    ceiling = q3 + 1.5*iqr\n",
    "    outlier_indices = list(x.index[(x < floor)|(x > ceiling)])\n",
    "    outlier_values = list(x[outlier_indices])\n",
    "    \n",
    "    return outlier_indices, outlier_values\n"
   ]
  },
  {
   "cell_type": "code",
   "execution_count": 26,
   "metadata": {},
   "outputs": [
    {
     "name": "stdout",
     "output_type": "stream",
     "text": [
      "Shape Before Outlier Removal\n",
      "(7043, 41)\n",
      "Outliers =  0 out of  7043 in gender Column\n",
      "Shape After Outlier Removal\n",
      "(7043, 41)\n",
      "Shape Before Outlier Removal\n",
      "(7043, 41)\n",
      "Outliers =  1142 out of  7043 in SeniorCitizen Column\n",
      "Shape After Outlier Removal\n",
      "(5901, 41)\n",
      "Shape Before Outlier Removal\n",
      "(5901, 41)\n",
      "Outliers =  0 out of  5901 in Partner Column\n",
      "Shape After Outlier Removal\n",
      "(5901, 41)\n",
      "Shape Before Outlier Removal\n",
      "(5901, 41)\n",
      "Outliers =  0 out of  5901 in Dependents Column\n",
      "Shape After Outlier Removal\n",
      "(5901, 41)\n",
      "Shape Before Outlier Removal\n",
      "(5901, 41)\n",
      "Outliers =  0 out of  5901 in tenure Column\n",
      "Shape After Outlier Removal\n",
      "(5901, 41)\n",
      "Shape Before Outlier Removal\n",
      "(5901, 41)\n",
      "Outliers =  578 out of  5901 in PhoneService Column\n",
      "Shape After Outlier Removal\n",
      "(5323, 41)\n",
      "Shape Before Outlier Removal\n",
      "(5323, 41)\n",
      "Outliers =  0 out of  5323 in PaperlessBilling Column\n",
      "Shape After Outlier Removal\n",
      "(5323, 41)\n",
      "Shape Before Outlier Removal\n",
      "(5323, 41)\n",
      "Outliers =  0 out of  5323 in MonthlyCharges Column\n",
      "Shape After Outlier Removal\n",
      "(5323, 41)\n",
      "Shape Before Outlier Removal\n",
      "(5323, 41)\n",
      "Outliers =  0 out of  5323 in TotalCharges Column\n",
      "Shape After Outlier Removal\n",
      "(5323, 41)\n",
      "Shape Before Outlier Removal\n",
      "(5323, 41)\n",
      "Outliers =  1267 out of  5323 in Churn Column\n",
      "Shape After Outlier Removal\n",
      "(4056, 41)\n",
      "Shape Before Outlier Removal\n",
      "(4056, 41)\n",
      "Outliers =  0 out of  4056 in MultipleLines_No Column\n",
      "Shape After Outlier Removal\n",
      "(4056, 41)\n",
      "Shape Before Outlier Removal\n",
      "(4056, 41)\n",
      "Outliers =  0 out of  4056 in MultipleLines_No phone service Column\n",
      "Shape After Outlier Removal\n",
      "(4056, 41)\n",
      "Shape Before Outlier Removal\n",
      "(4056, 41)\n",
      "Outliers =  0 out of  4056 in MultipleLines_Yes Column\n",
      "Shape After Outlier Removal\n",
      "(4056, 41)\n",
      "Shape Before Outlier Removal\n",
      "(4056, 41)\n",
      "Outliers =  0 out of  4056 in InternetService_DSL Column\n",
      "Shape After Outlier Removal\n",
      "(4056, 41)\n",
      "Shape Before Outlier Removal\n",
      "(4056, 41)\n",
      "Outliers =  0 out of  4056 in InternetService_Fiber optic Column\n",
      "Shape After Outlier Removal\n",
      "(4056, 41)\n",
      "Shape Before Outlier Removal\n",
      "(4056, 41)\n",
      "Outliers =  0 out of  4056 in InternetService_No Column\n",
      "Shape After Outlier Removal\n",
      "(4056, 41)\n",
      "Shape Before Outlier Removal\n",
      "(4056, 41)\n",
      "Outliers =  0 out of  4056 in OnlineSecurity_No Column\n",
      "Shape After Outlier Removal\n",
      "(4056, 41)\n",
      "Shape Before Outlier Removal\n",
      "(4056, 41)\n",
      "Outliers =  0 out of  4056 in OnlineSecurity_No internet service Column\n",
      "Shape After Outlier Removal\n",
      "(4056, 41)\n",
      "Shape Before Outlier Removal\n",
      "(4056, 41)\n",
      "Outliers =  0 out of  4056 in OnlineSecurity_Yes Column\n",
      "Shape After Outlier Removal\n",
      "(4056, 41)\n",
      "Shape Before Outlier Removal\n",
      "(4056, 41)\n",
      "Outliers =  0 out of  4056 in OnlineBackup_No Column\n",
      "Shape After Outlier Removal\n",
      "(4056, 41)\n",
      "Shape Before Outlier Removal\n",
      "(4056, 41)\n",
      "Outliers =  0 out of  4056 in OnlineBackup_No internet service Column\n",
      "Shape After Outlier Removal\n",
      "(4056, 41)\n",
      "Shape Before Outlier Removal\n",
      "(4056, 41)\n",
      "Outliers =  0 out of  4056 in OnlineBackup_Yes Column\n",
      "Shape After Outlier Removal\n",
      "(4056, 41)\n",
      "Shape Before Outlier Removal\n",
      "(4056, 41)\n",
      "Outliers =  0 out of  4056 in DeviceProtection_No Column\n",
      "Shape After Outlier Removal\n",
      "(4056, 41)\n",
      "Shape Before Outlier Removal\n",
      "(4056, 41)\n",
      "Outliers =  0 out of  4056 in DeviceProtection_No internet service Column\n",
      "Shape After Outlier Removal\n",
      "(4056, 41)\n",
      "Shape Before Outlier Removal\n",
      "(4056, 41)\n",
      "Outliers =  0 out of  4056 in DeviceProtection_Yes Column\n",
      "Shape After Outlier Removal\n",
      "(4056, 41)\n",
      "Shape Before Outlier Removal\n",
      "(4056, 41)\n",
      "Outliers =  0 out of  4056 in TechSupport_No Column\n",
      "Shape After Outlier Removal\n",
      "(4056, 41)\n",
      "Shape Before Outlier Removal\n",
      "(4056, 41)\n",
      "Outliers =  0 out of  4056 in TechSupport_No internet service Column\n",
      "Shape After Outlier Removal\n",
      "(4056, 41)\n",
      "Shape Before Outlier Removal\n",
      "(4056, 41)\n",
      "Outliers =  0 out of  4056 in TechSupport_Yes Column\n",
      "Shape After Outlier Removal\n",
      "(4056, 41)\n",
      "Shape Before Outlier Removal\n",
      "(4056, 41)\n",
      "Outliers =  0 out of  4056 in StreamingTV_No Column\n",
      "Shape After Outlier Removal\n",
      "(4056, 41)\n",
      "Shape Before Outlier Removal\n",
      "(4056, 41)\n",
      "Outliers =  0 out of  4056 in StreamingTV_No internet service Column\n",
      "Shape After Outlier Removal\n",
      "(4056, 41)\n",
      "Shape Before Outlier Removal\n",
      "(4056, 41)\n",
      "Outliers =  0 out of  4056 in StreamingTV_Yes Column\n",
      "Shape After Outlier Removal\n",
      "(4056, 41)\n",
      "Shape Before Outlier Removal\n",
      "(4056, 41)\n",
      "Outliers =  0 out of  4056 in StreamingMovies_No Column\n",
      "Shape After Outlier Removal\n",
      "(4056, 41)\n",
      "Shape Before Outlier Removal\n",
      "(4056, 41)\n",
      "Outliers =  0 out of  4056 in StreamingMovies_No internet service Column\n",
      "Shape After Outlier Removal\n",
      "(4056, 41)\n",
      "Shape Before Outlier Removal\n",
      "(4056, 41)\n",
      "Outliers =  0 out of  4056 in StreamingMovies_Yes Column\n",
      "Shape After Outlier Removal\n",
      "(4056, 41)\n",
      "Shape Before Outlier Removal\n",
      "(4056, 41)\n",
      "Outliers =  0 out of  4056 in Contract_Month-to-month Column\n",
      "Shape After Outlier Removal\n",
      "(4056, 41)\n",
      "Shape Before Outlier Removal\n",
      "(4056, 41)\n",
      "Outliers =  0 out of  4056 in Contract_One year Column\n",
      "Shape After Outlier Removal\n",
      "(4056, 41)\n",
      "Shape Before Outlier Removal\n",
      "(4056, 41)\n",
      "Outliers =  0 out of  4056 in Contract_Two year Column\n",
      "Shape After Outlier Removal\n",
      "(4056, 41)\n",
      "Shape Before Outlier Removal\n",
      "(4056, 41)\n",
      "Outliers =  997 out of  4056 in PaymentMethod_Bank transfer (automatic) Column\n",
      "Shape After Outlier Removal\n",
      "(3059, 41)\n",
      "Shape Before Outlier Removal\n",
      "(3059, 41)\n",
      "Outliers =  0 out of  3059 in PaymentMethod_Credit card (automatic) Column\n",
      "Shape After Outlier Removal\n",
      "(3059, 41)\n",
      "Shape Before Outlier Removal\n",
      "(3059, 41)\n",
      "Outliers =  0 out of  3059 in PaymentMethod_Electronic check Column\n",
      "Shape After Outlier Removal\n",
      "(3059, 41)\n",
      "Shape Before Outlier Removal\n",
      "(3059, 41)\n",
      "Outliers =  0 out of  3059 in PaymentMethod_Mailed check Column\n",
      "Shape After Outlier Removal\n",
      "(3059, 41)\n"
     ]
    }
   ],
   "source": [
    "# Create a temp dataframe named \"dataset\" for testing Outliers\n",
    "dataset = dataframe_dummies\n",
    "\n",
    "for features in dataset.columns.values:\n",
    "    # Find the Outliers in the dataset \n",
    "    tukey_indices, tukey_values = find_outliers_tukey(dataset[features])\n",
    "\n",
    "    print(\"Shape Before Outlier Removal\")\n",
    "    print(dataset.shape)\n",
    "    print(\"Outliers = \",len(tukey_indices), \"out of \",len(dataset[features]), \"in {} Column\".format(features))\n",
    "    for i in range(len(tukey_indices)):\n",
    "        dataset = dataset.drop([tukey_indices[i]], axis=0)\n",
    "    print(\"Shape After Outlier Removal\")\n",
    "    print(dataset.shape)\n",
    "\n",
    "# Store dataframe with outlier\n",
    "tukey_dataset = dataframe.values\n"
   ]
  },
  {
   "cell_type": "markdown",
   "metadata": {},
   "source": [
    "- Outliers =  1142 out of  7043 in SeniorCitizen Column\n",
    "- Outliers =  19 out of  5901 in TotalCharges Column\n",
    "- Outliers =  578 out of  5882 in MultipleLines_No phone service Column\n",
    "- Outliers =  1150 out of  5304 in Contract_One year Column\n",
    "- Outliers =  884 out of  4154 in PaymentMethod_Bank transfer (automatic) Column"
   ]
  },
  {
   "cell_type": "markdown",
   "metadata": {},
   "source": [
    "### Split the dataframe into Input Features and Labels/Outcomes"
   ]
  },
  {
   "cell_type": "code",
   "execution_count": 27,
   "metadata": {},
   "outputs": [],
   "source": [
    "# Dropping the Outcome(Churn) column from the data to Split into input features (X) and outcome (y) variables\n",
    "\n",
    "X = dataframe_dummies.drop(\"Churn\", axis=1)\n",
    "y = dataframe_dummies[\"Churn\"]"
   ]
  },
  {
   "cell_type": "code",
   "execution_count": 28,
   "metadata": {
    "scrolled": false
   },
   "outputs": [
    {
     "data": {
      "text/html": [
       "<div>\n",
       "<style scoped>\n",
       "    .dataframe tbody tr th:only-of-type {\n",
       "        vertical-align: middle;\n",
       "    }\n",
       "\n",
       "    .dataframe tbody tr th {\n",
       "        vertical-align: top;\n",
       "    }\n",
       "\n",
       "    .dataframe thead th {\n",
       "        text-align: right;\n",
       "    }\n",
       "</style>\n",
       "<table border=\"1\" class=\"dataframe\">\n",
       "  <thead>\n",
       "    <tr style=\"text-align: right;\">\n",
       "      <th></th>\n",
       "      <th>gender</th>\n",
       "      <th>SeniorCitizen</th>\n",
       "      <th>Partner</th>\n",
       "      <th>Dependents</th>\n",
       "      <th>tenure</th>\n",
       "      <th>PhoneService</th>\n",
       "      <th>PaperlessBilling</th>\n",
       "      <th>MonthlyCharges</th>\n",
       "      <th>TotalCharges</th>\n",
       "      <th>MultipleLines_No</th>\n",
       "      <th>...</th>\n",
       "      <th>StreamingMovies_No</th>\n",
       "      <th>StreamingMovies_No internet service</th>\n",
       "      <th>StreamingMovies_Yes</th>\n",
       "      <th>Contract_Month-to-month</th>\n",
       "      <th>Contract_One year</th>\n",
       "      <th>Contract_Two year</th>\n",
       "      <th>PaymentMethod_Bank transfer (automatic)</th>\n",
       "      <th>PaymentMethod_Credit card (automatic)</th>\n",
       "      <th>PaymentMethod_Electronic check</th>\n",
       "      <th>PaymentMethod_Mailed check</th>\n",
       "    </tr>\n",
       "  </thead>\n",
       "  <tbody>\n",
       "    <tr>\n",
       "      <th>0</th>\n",
       "      <td>0.0</td>\n",
       "      <td>0.0</td>\n",
       "      <td>1.0</td>\n",
       "      <td>0.0</td>\n",
       "      <td>1.0</td>\n",
       "      <td>0.0</td>\n",
       "      <td>1.0</td>\n",
       "      <td>29.85</td>\n",
       "      <td>29.85</td>\n",
       "      <td>0.0</td>\n",
       "      <td>...</td>\n",
       "      <td>1.0</td>\n",
       "      <td>0.0</td>\n",
       "      <td>0.0</td>\n",
       "      <td>1.0</td>\n",
       "      <td>0.0</td>\n",
       "      <td>0.0</td>\n",
       "      <td>0.0</td>\n",
       "      <td>0.0</td>\n",
       "      <td>1.0</td>\n",
       "      <td>0.0</td>\n",
       "    </tr>\n",
       "    <tr>\n",
       "      <th>1</th>\n",
       "      <td>1.0</td>\n",
       "      <td>0.0</td>\n",
       "      <td>0.0</td>\n",
       "      <td>0.0</td>\n",
       "      <td>34.0</td>\n",
       "      <td>1.0</td>\n",
       "      <td>0.0</td>\n",
       "      <td>56.95</td>\n",
       "      <td>1889.50</td>\n",
       "      <td>1.0</td>\n",
       "      <td>...</td>\n",
       "      <td>1.0</td>\n",
       "      <td>0.0</td>\n",
       "      <td>0.0</td>\n",
       "      <td>0.0</td>\n",
       "      <td>1.0</td>\n",
       "      <td>0.0</td>\n",
       "      <td>0.0</td>\n",
       "      <td>0.0</td>\n",
       "      <td>0.0</td>\n",
       "      <td>1.0</td>\n",
       "    </tr>\n",
       "    <tr>\n",
       "      <th>2</th>\n",
       "      <td>1.0</td>\n",
       "      <td>0.0</td>\n",
       "      <td>0.0</td>\n",
       "      <td>0.0</td>\n",
       "      <td>2.0</td>\n",
       "      <td>1.0</td>\n",
       "      <td>1.0</td>\n",
       "      <td>53.85</td>\n",
       "      <td>108.15</td>\n",
       "      <td>1.0</td>\n",
       "      <td>...</td>\n",
       "      <td>1.0</td>\n",
       "      <td>0.0</td>\n",
       "      <td>0.0</td>\n",
       "      <td>1.0</td>\n",
       "      <td>0.0</td>\n",
       "      <td>0.0</td>\n",
       "      <td>0.0</td>\n",
       "      <td>0.0</td>\n",
       "      <td>0.0</td>\n",
       "      <td>1.0</td>\n",
       "    </tr>\n",
       "    <tr>\n",
       "      <th>3</th>\n",
       "      <td>1.0</td>\n",
       "      <td>0.0</td>\n",
       "      <td>0.0</td>\n",
       "      <td>0.0</td>\n",
       "      <td>45.0</td>\n",
       "      <td>0.0</td>\n",
       "      <td>0.0</td>\n",
       "      <td>42.30</td>\n",
       "      <td>1840.75</td>\n",
       "      <td>0.0</td>\n",
       "      <td>...</td>\n",
       "      <td>1.0</td>\n",
       "      <td>0.0</td>\n",
       "      <td>0.0</td>\n",
       "      <td>0.0</td>\n",
       "      <td>1.0</td>\n",
       "      <td>0.0</td>\n",
       "      <td>1.0</td>\n",
       "      <td>0.0</td>\n",
       "      <td>0.0</td>\n",
       "      <td>0.0</td>\n",
       "    </tr>\n",
       "    <tr>\n",
       "      <th>4</th>\n",
       "      <td>0.0</td>\n",
       "      <td>0.0</td>\n",
       "      <td>0.0</td>\n",
       "      <td>0.0</td>\n",
       "      <td>2.0</td>\n",
       "      <td>1.0</td>\n",
       "      <td>1.0</td>\n",
       "      <td>70.70</td>\n",
       "      <td>151.65</td>\n",
       "      <td>1.0</td>\n",
       "      <td>...</td>\n",
       "      <td>1.0</td>\n",
       "      <td>0.0</td>\n",
       "      <td>0.0</td>\n",
       "      <td>1.0</td>\n",
       "      <td>0.0</td>\n",
       "      <td>0.0</td>\n",
       "      <td>0.0</td>\n",
       "      <td>0.0</td>\n",
       "      <td>1.0</td>\n",
       "      <td>0.0</td>\n",
       "    </tr>\n",
       "  </tbody>\n",
       "</table>\n",
       "<p>5 rows × 40 columns</p>\n",
       "</div>"
      ],
      "text/plain": [
       "   gender  SeniorCitizen  Partner  Dependents  tenure  PhoneService  \\\n",
       "0     0.0            0.0      1.0         0.0     1.0           0.0   \n",
       "1     1.0            0.0      0.0         0.0    34.0           1.0   \n",
       "2     1.0            0.0      0.0         0.0     2.0           1.0   \n",
       "3     1.0            0.0      0.0         0.0    45.0           0.0   \n",
       "4     0.0            0.0      0.0         0.0     2.0           1.0   \n",
       "\n",
       "   PaperlessBilling  MonthlyCharges  TotalCharges  MultipleLines_No  \\\n",
       "0               1.0           29.85         29.85               0.0   \n",
       "1               0.0           56.95       1889.50               1.0   \n",
       "2               1.0           53.85        108.15               1.0   \n",
       "3               0.0           42.30       1840.75               0.0   \n",
       "4               1.0           70.70        151.65               1.0   \n",
       "\n",
       "              ...              StreamingMovies_No  \\\n",
       "0             ...                             1.0   \n",
       "1             ...                             1.0   \n",
       "2             ...                             1.0   \n",
       "3             ...                             1.0   \n",
       "4             ...                             1.0   \n",
       "\n",
       "   StreamingMovies_No internet service  StreamingMovies_Yes  \\\n",
       "0                                  0.0                  0.0   \n",
       "1                                  0.0                  0.0   \n",
       "2                                  0.0                  0.0   \n",
       "3                                  0.0                  0.0   \n",
       "4                                  0.0                  0.0   \n",
       "\n",
       "   Contract_Month-to-month  Contract_One year  Contract_Two year  \\\n",
       "0                      1.0                0.0                0.0   \n",
       "1                      0.0                1.0                0.0   \n",
       "2                      1.0                0.0                0.0   \n",
       "3                      0.0                1.0                0.0   \n",
       "4                      1.0                0.0                0.0   \n",
       "\n",
       "   PaymentMethod_Bank transfer (automatic)  \\\n",
       "0                                      0.0   \n",
       "1                                      0.0   \n",
       "2                                      0.0   \n",
       "3                                      1.0   \n",
       "4                                      0.0   \n",
       "\n",
       "   PaymentMethod_Credit card (automatic)  PaymentMethod_Electronic check  \\\n",
       "0                                    0.0                             1.0   \n",
       "1                                    0.0                             0.0   \n",
       "2                                    0.0                             0.0   \n",
       "3                                    0.0                             0.0   \n",
       "4                                    0.0                             1.0   \n",
       "\n",
       "   PaymentMethod_Mailed check  \n",
       "0                         0.0  \n",
       "1                         1.0  \n",
       "2                         1.0  \n",
       "3                         0.0  \n",
       "4                         0.0  \n",
       "\n",
       "[5 rows x 40 columns]"
      ]
     },
     "execution_count": 28,
     "metadata": {},
     "output_type": "execute_result"
    }
   ],
   "source": [
    "X.head()"
   ]
  },
  {
   "cell_type": "markdown",
   "metadata": {},
   "source": [
    "### Create correlation matrix\n",
    "#### Reference: CE4031 Lab week 6"
   ]
  },
  {
   "cell_type": "code",
   "execution_count": 39,
   "metadata": {},
   "outputs": [
    {
     "name": "stdout",
     "output_type": "stream",
     "text": [
      "\n",
      "Correlation matrix:\n",
      " [[ 1.00000000e+00 -1.87371164e-03 -1.80807966e-03 ...  1.21477947e-03\n",
      "   7.52180701e-04  1.37441733e-02]\n",
      " [-1.87371164e-03  1.00000000e+00  1.64786576e-02 ... -2.41353724e-02\n",
      "   1.71717779e-01 -1.53477490e-01]\n",
      " [-1.80807966e-03  1.64786576e-02  1.00000000e+00 ...  8.20291965e-02\n",
      "  -8.38516894e-02 -9.51248588e-02]\n",
      " ...\n",
      " [ 1.21477947e-03 -2.41353724e-02  8.20291965e-02 ...  1.00000000e+00\n",
      "  -3.73322286e-01 -2.86049419e-01]\n",
      " [ 7.52180701e-04  1.71717779e-01 -8.38516894e-02 ... -3.73322286e-01\n",
      "   1.00000000e+00 -3.87371871e-01]\n",
      " [ 1.37441733e-02 -1.53477490e-01 -9.51248588e-02 ... -2.86049419e-01\n",
      "  -3.87371871e-01  1.00000000e+00]]\n"
     ]
    },
    {
     "data": {
      "image/png": "[encoded data removed]",
      "text/plain": [
       "<Figure size 432x288 with 2 Axes>"
      ]
     },
     "metadata": {},
     "output_type": "display_data"
    }
   ],
   "source": [
    "corr_mat = np.corrcoef(X, rowvar=False)\n",
    "print(\"\\nCorrelation matrix:\\n\", corr_mat)\n",
    "\n",
    "\n",
    "# TODO: SNS or better map wth labels\n",
    "# Generate a heatmap of the correlation matrix\n",
    "plt.imshow(corr_mat, cmap='winter')\n",
    "\n",
    "# Plots colourbar as seen on right hand side\n",
    "plt.colorbar() \n",
    "\n",
    "plt.show()"
   ]
  },
  {
   "cell_type": "markdown",
   "metadata": {},
   "source": [
    "### Split data set into training and test datasets"
   ]
  },
  {
   "cell_type": "code",
   "execution_count": 30,
   "metadata": {},
   "outputs": [
    {
     "name": "stdout",
     "output_type": "stream",
     "text": [
      "(7043, 20)\n",
      "(7043, 40)\n",
      "(5634, 40)\n",
      "(1409, 40)\n",
      "(5634,)\n",
      "(1409,)\n"
     ]
    }
   ],
   "source": [
    "# Use train_test_split in sklearn to split the data in training and test set.\n",
    "\n",
    "X_train, X_test, y_train, y_test = train_test_split(X, y, test_size=0.20, shuffle= True, random_state=42)\n",
    "\n",
    "print(dataframe.shape)\n",
    "print(X.shape)\n",
    "\n",
    "print(X_train.shape)\n",
    "print(X_test.shape)\n",
    "print(y_train.shape)\n",
    "print(y_test.shape)\n"
   ]
  },
  {
   "cell_type": "markdown",
   "metadata": {},
   "source": [
    "### Scaling the data \n",
    "\n",
    "#### For Support Vector machines we need to standardize the features by removing the mean and scaling to unit variance\n",
    "\n",
    "##### Reference: https://scikit-learn.org/stable/modules/generated/sklearn.preprocessing.StandardScaler.html"
   ]
  },
  {
   "cell_type": "code",
   "execution_count": 31,
   "metadata": {},
   "outputs": [
    {
     "data": {
      "text/html": [
       "<div>\n",
       "<style scoped>\n",
       "    .dataframe tbody tr th:only-of-type {\n",
       "        vertical-align: middle;\n",
       "    }\n",
       "\n",
       "    .dataframe tbody tr th {\n",
       "        vertical-align: top;\n",
       "    }\n",
       "\n",
       "    .dataframe thead th {\n",
       "        text-align: right;\n",
       "    }\n",
       "</style>\n",
       "<table border=\"1\" class=\"dataframe\">\n",
       "  <thead>\n",
       "    <tr style=\"text-align: right;\">\n",
       "      <th></th>\n",
       "      <th>gender</th>\n",
       "      <th>SeniorCitizen</th>\n",
       "      <th>Partner</th>\n",
       "      <th>Dependents</th>\n",
       "      <th>tenure</th>\n",
       "      <th>PhoneService</th>\n",
       "      <th>PaperlessBilling</th>\n",
       "      <th>MonthlyCharges</th>\n",
       "      <th>TotalCharges</th>\n",
       "      <th>MultipleLines_No</th>\n",
       "      <th>...</th>\n",
       "      <th>StreamingMovies_No</th>\n",
       "      <th>StreamingMovies_No internet service</th>\n",
       "      <th>StreamingMovies_Yes</th>\n",
       "      <th>Contract_Month-to-month</th>\n",
       "      <th>Contract_One year</th>\n",
       "      <th>Contract_Two year</th>\n",
       "      <th>PaymentMethod_Bank transfer (automatic)</th>\n",
       "      <th>PaymentMethod_Credit card (automatic)</th>\n",
       "      <th>PaymentMethod_Electronic check</th>\n",
       "      <th>PaymentMethod_Mailed check</th>\n",
       "    </tr>\n",
       "  </thead>\n",
       "  <tbody>\n",
       "    <tr>\n",
       "      <th>0</th>\n",
       "      <td>-1.025166</td>\n",
       "      <td>-0.437749</td>\n",
       "      <td>-0.969579</td>\n",
       "      <td>1.532186</td>\n",
       "      <td>-0.465683</td>\n",
       "      <td>0.329573</td>\n",
       "      <td>-1.200007</td>\n",
       "      <td>-0.000474</td>\n",
       "      <td>-0.422099</td>\n",
       "      <td>1.04801</td>\n",
       "      <td>...</td>\n",
       "      <td>-0.807289</td>\n",
       "      <td>-0.524081</td>\n",
       "      <td>1.250762</td>\n",
       "      <td>-1.099339</td>\n",
       "      <td>1.910109</td>\n",
       "      <td>-0.558353</td>\n",
       "      <td>-0.530678</td>\n",
       "      <td>-0.527656</td>\n",
       "      <td>-0.709650</td>\n",
       "      <td>1.84247</td>\n",
       "    </tr>\n",
       "    <tr>\n",
       "      <th>1</th>\n",
       "      <td>-1.025166</td>\n",
       "      <td>-0.437749</td>\n",
       "      <td>-0.969579</td>\n",
       "      <td>-0.652662</td>\n",
       "      <td>0.885537</td>\n",
       "      <td>0.329573</td>\n",
       "      <td>0.833328</td>\n",
       "      <td>1.074754</td>\n",
       "      <td>1.255366</td>\n",
       "      <td>-0.95419</td>\n",
       "      <td>...</td>\n",
       "      <td>-0.807289</td>\n",
       "      <td>-0.524081</td>\n",
       "      <td>1.250762</td>\n",
       "      <td>-1.099339</td>\n",
       "      <td>-0.523530</td>\n",
       "      <td>1.790982</td>\n",
       "      <td>1.884380</td>\n",
       "      <td>-0.527656</td>\n",
       "      <td>-0.709650</td>\n",
       "      <td>-0.54275</td>\n",
       "    </tr>\n",
       "    <tr>\n",
       "      <th>2</th>\n",
       "      <td>0.975452</td>\n",
       "      <td>-0.437749</td>\n",
       "      <td>1.031376</td>\n",
       "      <td>-0.652662</td>\n",
       "      <td>-1.284605</td>\n",
       "      <td>-3.034225</td>\n",
       "      <td>0.833328</td>\n",
       "      <td>-1.376499</td>\n",
       "      <td>-1.002985</td>\n",
       "      <td>-0.95419</td>\n",
       "      <td>...</td>\n",
       "      <td>1.238714</td>\n",
       "      <td>-0.524081</td>\n",
       "      <td>-0.799513</td>\n",
       "      <td>0.909638</td>\n",
       "      <td>-0.523530</td>\n",
       "      <td>-0.558353</td>\n",
       "      <td>-0.530678</td>\n",
       "      <td>-0.527656</td>\n",
       "      <td>1.409146</td>\n",
       "      <td>-0.54275</td>\n",
       "    </tr>\n",
       "    <tr>\n",
       "      <th>3</th>\n",
       "      <td>0.975452</td>\n",
       "      <td>-0.437749</td>\n",
       "      <td>-0.969579</td>\n",
       "      <td>-0.652662</td>\n",
       "      <td>-1.161766</td>\n",
       "      <td>0.329573</td>\n",
       "      <td>0.833328</td>\n",
       "      <td>0.177346</td>\n",
       "      <td>-0.908113</td>\n",
       "      <td>1.04801</td>\n",
       "      <td>...</td>\n",
       "      <td>1.238714</td>\n",
       "      <td>-0.524081</td>\n",
       "      <td>-0.799513</td>\n",
       "      <td>0.909638</td>\n",
       "      <td>-0.523530</td>\n",
       "      <td>-0.558353</td>\n",
       "      <td>-0.530678</td>\n",
       "      <td>-0.527656</td>\n",
       "      <td>1.409146</td>\n",
       "      <td>-0.54275</td>\n",
       "    </tr>\n",
       "    <tr>\n",
       "      <th>4</th>\n",
       "      <td>0.975452</td>\n",
       "      <td>-0.437749</td>\n",
       "      <td>-0.969579</td>\n",
       "      <td>1.532186</td>\n",
       "      <td>-1.325551</td>\n",
       "      <td>0.329573</td>\n",
       "      <td>0.833328</td>\n",
       "      <td>-0.098524</td>\n",
       "      <td>-0.003468</td>\n",
       "      <td>-0.95419</td>\n",
       "      <td>...</td>\n",
       "      <td>1.238714</td>\n",
       "      <td>-0.524081</td>\n",
       "      <td>-0.799513</td>\n",
       "      <td>-1.099339</td>\n",
       "      <td>-0.523530</td>\n",
       "      <td>1.790982</td>\n",
       "      <td>1.884380</td>\n",
       "      <td>-0.527656</td>\n",
       "      <td>-0.709650</td>\n",
       "      <td>-0.54275</td>\n",
       "    </tr>\n",
       "  </tbody>\n",
       "</table>\n",
       "<p>5 rows × 40 columns</p>\n",
       "</div>"
      ],
      "text/plain": [
       "     gender  SeniorCitizen   Partner  Dependents    tenure  PhoneService  \\\n",
       "0 -1.025166      -0.437749 -0.969579    1.532186 -0.465683      0.329573   \n",
       "1 -1.025166      -0.437749 -0.969579   -0.652662  0.885537      0.329573   \n",
       "2  0.975452      -0.437749  1.031376   -0.652662 -1.284605     -3.034225   \n",
       "3  0.975452      -0.437749 -0.969579   -0.652662 -1.161766      0.329573   \n",
       "4  0.975452      -0.437749 -0.969579    1.532186 -1.325551      0.329573   \n",
       "\n",
       "   PaperlessBilling  MonthlyCharges  TotalCharges  MultipleLines_No  \\\n",
       "0         -1.200007       -0.000474     -0.422099           1.04801   \n",
       "1          0.833328        1.074754      1.255366          -0.95419   \n",
       "2          0.833328       -1.376499     -1.002985          -0.95419   \n",
       "3          0.833328        0.177346     -0.908113           1.04801   \n",
       "4          0.833328       -0.098524     -0.003468          -0.95419   \n",
       "\n",
       "              ...              StreamingMovies_No  \\\n",
       "0             ...                       -0.807289   \n",
       "1             ...                       -0.807289   \n",
       "2             ...                        1.238714   \n",
       "3             ...                        1.238714   \n",
       "4             ...                        1.238714   \n",
       "\n",
       "   StreamingMovies_No internet service  StreamingMovies_Yes  \\\n",
       "0                            -0.524081             1.250762   \n",
       "1                            -0.524081             1.250762   \n",
       "2                            -0.524081            -0.799513   \n",
       "3                            -0.524081            -0.799513   \n",
       "4                            -0.524081            -0.799513   \n",
       "\n",
       "   Contract_Month-to-month  Contract_One year  Contract_Two year  \\\n",
       "0                -1.099339           1.910109          -0.558353   \n",
       "1                -1.099339          -0.523530           1.790982   \n",
       "2                 0.909638          -0.523530          -0.558353   \n",
       "3                 0.909638          -0.523530          -0.558353   \n",
       "4                -1.099339          -0.523530           1.790982   \n",
       "\n",
       "   PaymentMethod_Bank transfer (automatic)  \\\n",
       "0                                -0.530678   \n",
       "1                                 1.884380   \n",
       "2                                -0.530678   \n",
       "3                                -0.530678   \n",
       "4                                 1.884380   \n",
       "\n",
       "   PaymentMethod_Credit card (automatic)  PaymentMethod_Electronic check  \\\n",
       "0                              -0.527656                       -0.709650   \n",
       "1                              -0.527656                       -0.709650   \n",
       "2                              -0.527656                        1.409146   \n",
       "3                              -0.527656                        1.409146   \n",
       "4                              -0.527656                       -0.709650   \n",
       "\n",
       "   PaymentMethod_Mailed check  \n",
       "0                     1.84247  \n",
       "1                    -0.54275  \n",
       "2                    -0.54275  \n",
       "3                    -0.54275  \n",
       "4                    -0.54275  \n",
       "\n",
       "[5 rows x 40 columns]"
      ]
     },
     "execution_count": 31,
     "metadata": {},
     "output_type": "execute_result"
    }
   ],
   "source": [
    "# Store the features labels\n",
    "features = X.columns.values\n",
    "\n",
    "# Scale the data with respect to the training data set\n",
    "scaler = StandardScaler()\n",
    "scaler.fit(X_train)\n",
    "\n",
    "# Scaling the Train data set using the transform defined by the train set.\n",
    "X_scaled_train = pd.DataFrame(scaler.transform(X_train))\n",
    "\n",
    "# Scaling the Test set using the transform defined by the train set.\n",
    "X_scaled_test = pd.DataFrame(scaler.transform(X_test))\n",
    "\n",
    "# Add the features back for display purpose\n",
    "X_scaled_train.columns = features\n",
    "X_scaled_train.head()\n",
    "\n",
    "\n",
    "# TODO: Can add visulatizion before and after scaling?"
   ]
  },
  {
   "cell_type": "markdown",
   "metadata": {},
   "source": [
    "### Analysis on Dimensionality Reduction using PCA on the dataset\n",
    "\n",
    "#### Using PCA on the training data from sklearn.decompostion to find the principal components\n",
    "#### Based on the proportion of variance for each principal component we can determine the number of features to be used as input features in the model. \n",
    "\n",
    "###### Reference: CE4031 Lab week 6"
   ]
  },
  {
   "cell_type": "code",
   "execution_count": 32,
   "metadata": {},
   "outputs": [
    {
     "name": "stdout",
     "output_type": "stream",
     "text": [
      "Singular values = \n",
      " [2.50495860e+02 1.80242845e+02 1.41372203e+02 1.06053363e+02\n",
      " 9.69476715e+01 8.79122394e+01 8.62068784e+01 8.51619156e+01\n",
      " 8.45921083e+01 8.22323269e+01 8.10148461e+01 7.90934855e+01\n",
      " 7.55176681e+01 7.49813342e+01 7.24625671e+01 7.10768217e+01\n",
      " 6.93449533e+01 6.67860409e+01 6.56592056e+01 5.21254462e+01\n",
      " 4.55030730e+01 1.84707212e+01 2.30743692e+00 1.15932860e-13\n",
      " 6.79901263e-14 3.35425371e-14 3.33273228e-14 2.84592437e-14\n",
      " 2.19157875e-14 1.54811647e-14 1.54811647e-14 1.54811647e-14\n",
      " 1.54811647e-14 1.54811647e-14 1.54811647e-14 1.54811647e-14\n",
      " 1.54811647e-14 1.54811647e-14 1.41427397e-14 3.80730966e-15]\n",
      "\n",
      "Proportion of variance = \n",
      " [2.78435285e-01 1.44158161e-01 8.86852141e-02 4.99082170e-02\n",
      " 4.17059416e-02 3.42942929e-02 3.29766857e-02 3.21820725e-02\n",
      " 3.17528611e-02 3.00060152e-02 2.91240916e-02 2.77590497e-02\n",
      " 2.53058138e-02 2.49476415e-02 2.32997144e-02 2.24170864e-02\n",
      " 2.13379595e-02 1.97922225e-02 1.91299755e-02 1.20565413e-02\n",
      " 9.18765377e-03 1.51387799e-03 2.36255997e-05 5.96398125e-32\n",
      " 2.05123237e-32 4.99246449e-33 4.92860510e-33 3.59393215e-33\n",
      " 2.13126438e-33 1.06348270e-33 1.06348270e-33 1.06348270e-33\n",
      " 1.06348270e-33 1.06348270e-33 1.06348270e-33 1.06348270e-33\n",
      " 1.06348270e-33 1.06348270e-33 8.87544752e-34 6.43220042e-35]\n"
     ]
    },
    {
     "data": {
      "image/png": "[encoded data removed]",
      "text/plain": [
       "<Figure size 432x288 with 1 Axes>"
      ]
     },
     "metadata": {},
     "output_type": "display_data"
    }
   ],
   "source": [
    "pca = PCA(n_components=X_scaled_train.shape[1])\n",
    "\n",
    "# Building PCA only on the scaled training data set (not on whole data) to avoid bais with test data set.\n",
    "pca.fit(X_scaled_train)\n",
    "\n",
    "# Output PCA variance results\n",
    "print(\"Singular values = \\n\",pca.singular_values_)  \n",
    "print(\"\\nProportion of variance = \\n\",pca.explained_variance_ratio_)  \n",
    "\n",
    "# Plot the results to see how many features are really needed\n",
    "plt.plot(pca.explained_variance_ratio_)\n",
    "plt.plot(pca.explained_variance_ratio_.cumsum())\n",
    "plt.title(\"Cummulative PCA variance explained graph\")\n",
    "plt.xlabel(\"Number of Components\")\n",
    "plt.ylabel('Cummulative Variance')\n",
    "plt.grid()"
   ]
  },
  {
   "cell_type": "markdown",
   "metadata": {},
   "source": [
    "We can observe that the first 23 values have high variance and so we can pick those components for train and test data "
   ]
  },
  {
   "cell_type": "code",
   "execution_count": 33,
   "metadata": {},
   "outputs": [
    {
     "name": "stdout",
     "output_type": "stream",
     "text": [
      "(5634, 24)\n",
      "(1409, 24)\n"
     ]
    }
   ],
   "source": [
    "# Applying the PCA transform on the Training data set\n",
    "X_pca_train = pca.transform(X_scaled_train)\n",
    "\n",
    "# Set X_PCA_train to the chosen principal components\n",
    "X_PCA_train = X_pca_train[:,:24]\n",
    "\n",
    "# Applying the PCA transform on the Test data set\n",
    "X_pca_test = pca.transform(X_scaled_test)\n",
    "X_PCA_test = X_pca_test[:,:24]\n",
    "\n",
    "print(X_PCA_train.shape)\n",
    "print(X_PCA_test.shape)\n",
    "# TODO: need to justify why we need or not need PCA <USE Pipeline perhaps>"
   ]
  },
  {
   "cell_type": "markdown",
   "metadata": {},
   "source": [
    "# Algorithm Training, Model Selection and Evaluation\n",
    "\n",
    "### Using Grid Search with Cross Validation to perform an exhaustive search over specified parameter values for SVM classifier\n",
    "\n",
    "##### Reference: \n",
    "- http://scikit-learn.org/stable/modules/generated/sklearn.model_selection.GridSearchCV.html\n",
    "- https://scikit-learn.org/stable/modules/grid_search.html"
   ]
  },
  {
   "cell_type": "code",
   "execution_count": 34,
   "metadata": {},
   "outputs": [
    {
     "name": "stdout",
     "output_type": "stream",
     "text": [
      "Best parameters set found on training set:\n",
      "{'kernel': 'rbf', 'C': 10, 'gamma': 0.001}\n",
      "CPU times: user 10.2 s, sys: 1.05 s, total: 11.3 s\n",
      "Wall time: 2min 59s\n"
     ]
    }
   ],
   "source": [
    "%%time\n",
    "\n",
    "# Important parameters in SVC are: \"C\", \"gamma\" and the \"kernel\"\n",
    "hyper_parameters = {'C':[1,10, 100],'gamma':[1,0.1,0.001,0.0001], 'kernel':['linear','rbf']}\n",
    "   \n",
    "# Using a SVM classifier\n",
    "# We need the probabilty set as True to get the ROC curve\n",
    "classifier = SVC(probability=True, random_state=42)\n",
    "\n",
    "# Using 5 fold cross-validation in grid search\n",
    "model = GridSearchCV(classifier, hyper_parameters, cv=5, n_jobs=-1)\n",
    "model.fit(X_PCA_train, y_train)\n",
    "\n",
    "print(\"Best parameters set found on training set:\")\n",
    "print(model.best_params_)\n",
    "print()"
   ]
  },
  {
   "cell_type": "code",
   "execution_count": 35,
   "metadata": {},
   "outputs": [
    {
     "name": "stdout",
     "output_type": "stream",
     "text": [
      "The accuray on the test data:\n",
      "0.8211497515968772\n",
      "\n",
      "Detailed classification report:\n",
      "             precision    recall  f1-score   support\n",
      "\n",
      "        0.0       0.85      0.91      0.88      1036\n",
      "        1.0       0.70      0.56      0.63       373\n",
      "\n",
      "avg / total       0.81      0.82      0.81      1409\n",
      "\n",
      "\n",
      "Confusion matrix report:\n",
      "[[947  89]\n",
      " [163 210]]\n",
      "CPU times: user 256 ms, sys: 0 ns, total: 256 ms\n",
      "Wall time: 253 ms\n"
     ]
    }
   ],
   "source": [
    "%%time\n",
    "\n",
    "# Make predictions on test set\n",
    "predictions = model.predict(X_PCA_test)\n",
    "\n",
    "# Test accuracy\n",
    "print(\"The accuray on the test data:\")\n",
    "print(metrics.accuracy_score(y_test, predictions))\n",
    "print()\n",
    "\n",
    "print(\"Detailed classification report:\")\n",
    "print(classification_report(y_test, predictions))\n",
    "print()\n",
    "\n",
    "print(\"Confusion matrix report:\")\n",
    "print(confusion_matrix(y_test, predictions))\n",
    "print()\n",
    "\n",
    "# TODO: Plot the consuion matrix"
   ]
  },
  {
   "cell_type": "markdown",
   "metadata": {},
   "source": [
    "## Visualization of the ROC curve for the classification problem\n",
    "##### Reference: \n",
    "- http://scikit-learn.org/stable/auto_examples/model_selection/plot_roc_crossval.html\n"
   ]
  },
  {
   "cell_type": "code",
   "execution_count": 36,
   "metadata": {
    "scrolled": true
   },
   "outputs": [
    {
     "data": {
      "image/png": "[encoded data removed]",
      "text/plain": [
       "<Figure size 432x288 with 1 Axes>"
      ]
     },
     "metadata": {},
     "output_type": "display_data"
    },
    {
     "name": "stdout",
     "output_type": "stream",
     "text": [
      "CPU times: user 496 ms, sys: 1.43 s, total: 1.93 s\n",
      "Wall time: 411 ms\n"
     ]
    }
   ],
   "source": [
    "%%time\n",
    "\n",
    "# Find the ROC curve:\n",
    "# Call predict_proba on the estimator with the best found model parameters and find the area under the curve\n",
    "\n",
    "probabilities = model.predict_proba(X_PCA_test)\n",
    "    \n",
    "fpr,tpr,thresholds = roc_curve(y_test,probabilities[:,1])\n",
    "\n",
    "plt.plot(fpr,tpr,linestyle = \"dashed\",\n",
    "         color = \"blue\", linewidth = 2,\n",
    "         label = \"AUC = \" + str(np.around(roc_auc_score(y_test, predictions),3)))\n",
    "\n",
    "plt.plot([0,1],[0,1],linestyle = \"dashed\", color = \"red\",linewidth = 1.5)\n",
    "\n",
    "plt.legend(loc = \"lower right\", prop = {\"size\" : 12})\n",
    "plt.grid(True, alpha = .15)\n",
    "\n",
    "plt.xlim([-0.05, 1.05])\n",
    "plt.ylim([-0.05, 1.05])\n",
    "plt.xlabel('False Positive Rate')\n",
    "plt.ylabel('True Positive Rate')\n",
    "plt.title('Receiver operating characteristic curve')\n",
    "plt.legend(loc=\"lower right\")\n",
    "plt.show()"
   ]
  },
  {
   "cell_type": "code",
   "execution_count": null,
   "metadata": {},
   "outputs": [],
   "source": []
  }
 ],
 "metadata": {
  "kernelspec": {
   "display_name": "Python 3",
   "language": "python",
   "name": "python3"
  },
  "language_info": {
   "codemirror_mode": {
    "name": "ipython",
    "version": 3
   },
   "file_extension": ".py",
   "mimetype": "text/x-python",
   "name": "python",
   "nbconvert_exporter": "python",
   "pygments_lexer": "ipython3",
   "version": "3.7.0"
  }
 },
 "nbformat": 4,
 "nbformat_minor": 2
}
