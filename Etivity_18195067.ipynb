{
 "cells": [
  {
   "cell_type": "markdown",
   "metadata": {},
   "source": [
    "# C4021 - Group Project 2.3\n",
    "\n",
    "### NAME: Abhijit Sinha\n",
    "### Student ID: 18195067"
   ]
  },
  {
   "cell_type": "markdown",
   "metadata": {},
   "source": [
    "## Problem Statement: Telecom Customer Churn Prediction\n",
    "\n",
    "Binary Classification Problem to predict the Telecom customer churn which is one of the major problem Telecom industry is facing today.\n"
   ]
  },
  {
   "cell_type": "markdown",
   "metadata": {},
   "source": [
    "## Dataset Information\n",
    "\n",
    "####   Source: https://www.kaggle.com/blastchar/telco-customer-churn \n",
    "\n",
    "#### Context: \n",
    "\"Predict behavior to retain customers. Analyze all the relevant customer data and develop focused customer retention programs.\" [IBM Sample Data Sets]\n",
    "\n",
    "#### Content: \n",
    "Each row represents a customer, each column contains customers attributes described on the column Metadata.\n",
    "\n",
    "##### The data set includes information about:\n",
    "- Customers who left within the last month – the column is called Churn\n",
    "- Services that each customer has signed up for – phone, multiple lines, internet, online security, online backup, device protection, tech support, and streaming TV and movies\n",
    "- Customer account information – how long they’ve been a customer, contract, payment method, paperless billing, monthly charges, and total charges\n",
    "- Demographic info about customers – gender, age range, and if they have partners and dependents\n",
    "\n",
    "## Algorithm Used: Support Vector Machine (for Binary Classification)"
   ]
  },
  {
   "cell_type": "markdown",
   "metadata": {},
   "source": [
    "-------------------------------------------------------------------------------------------------------------"
   ]
  },
  {
   "cell_type": "markdown",
   "metadata": {},
   "source": [
    "## Team Contributions:\n",
    "\n",
    "### Training data\n",
    "\n",
    "### Pre-processing\n",
    "- **Garret Molloy**: \n",
    "    - Provided insight in data preprocessing suggesting to count the values per category and analyze if they are relevant. If not the features can be dropped. \n",
    "    - Histogram and Tukey IQ method is used for this approach to find such features and find outliers\n",
    "\n",
    "### Algorithm training and evaluation\n",
    "\n",
    "### Visualization of outputs\n",
    "- **Andrew Kenny**: \n",
    "    - Suggested to use the correlation matrix for visualization and deeper understanding of the correlation between the features.\n",
    "    - Shared information on plotting SVM classification boundaries"
   ]
  },
  {
   "cell_type": "markdown",
   "metadata": {},
   "source": [
    "-------------------------------------------------------------------------------------------------------------"
   ]
  },
  {
   "cell_type": "markdown",
   "metadata": {},
   "source": [
    "### Import the libraries "
   ]
  },
  {
   "cell_type": "code",
   "execution_count": 1,
   "metadata": {},
   "outputs": [],
   "source": [
    "%matplotlib inline\n",
    "\n",
    "import numpy as np\n",
    "import pandas as pd\n",
    "\n",
    "# Visualization and plotting\n",
    "import matplotlib.pyplot as plt\n",
    "\n",
    "# Data Pre-processing\n",
    "from sklearn.preprocessing import Imputer\n",
    "from sklearn.preprocessing import StandardScaler\n",
    "from sklearn.preprocessing import LabelEncoder\n",
    "from sklearn.decomposition import PCA\n",
    "\n",
    "# Model training, cross-validation and evaluation\n",
    "from sklearn.model_selection import train_test_split\n",
    "from sklearn.model_selection import GridSearchCV\n",
    "from sklearn.svm import SVC\n",
    "from sklearn import metrics\n",
    "from sklearn.metrics import classification_report, confusion_matrix\n",
    "from sklearn.metrics import roc_auc_score, roc_curve"
   ]
  },
  {
   "cell_type": "markdown",
   "metadata": {},
   "source": [
    "# 1. Data Set\n",
    "#### Load the CSV file into Pandas dataframe"
   ]
  },
  {
   "cell_type": "code",
   "execution_count": 2,
   "metadata": {},
   "outputs": [],
   "source": [
    "dataframe = pd.read_csv(\"WA_Fn-UseC_-Telco-Customer-Churn.csv\")"
   ]
  },
  {
   "cell_type": "code",
   "execution_count": 3,
   "metadata": {},
   "outputs": [
    {
     "data": {
      "text/plain": [
       "array(['customerID', 'gender', 'SeniorCitizen', 'Partner', 'Dependents',\n",
       "       'tenure', 'PhoneService', 'MultipleLines', 'InternetService',\n",
       "       'OnlineSecurity', 'OnlineBackup', 'DeviceProtection',\n",
       "       'TechSupport', 'StreamingTV', 'StreamingMovies', 'Contract',\n",
       "       'PaperlessBilling', 'PaymentMethod', 'MonthlyCharges',\n",
       "       'TotalCharges', 'Churn'], dtype=object)"
      ]
     },
     "execution_count": 3,
     "metadata": {},
     "output_type": "execute_result"
    }
   ],
   "source": [
    "# Features available in the dataset\n",
    "dataframe.columns.values"
   ]
  },
  {
   "cell_type": "code",
   "execution_count": 4,
   "metadata": {},
   "outputs": [
    {
     "data": {
      "text/plain": [
       "No     5174\n",
       "Yes    1869\n",
       "Name: Churn, dtype: int64"
      ]
     },
     "execution_count": 4,
     "metadata": {},
     "output_type": "execute_result"
    }
   ],
   "source": [
    "# Lets see the how many Churn values are present per category\n",
    "# We can see that its a Binary classification problem as there are 2 outcomes.\n",
    "\n",
    "dataframe.Churn.value_counts()"
   ]
  },
  {
   "cell_type": "markdown",
   "metadata": {},
   "source": [
    "### Basic data exploration of the input Dataframe"
   ]
  },
  {
   "cell_type": "code",
   "execution_count": 5,
   "metadata": {},
   "outputs": [
    {
     "data": {
      "text/plain": [
       "(7043, 21)"
      ]
     },
     "execution_count": 5,
     "metadata": {},
     "output_type": "execute_result"
    }
   ],
   "source": [
    "# Check the data dimension\n",
    "dataframe.shape"
   ]
  },
  {
   "cell_type": "code",
   "execution_count": 6,
   "metadata": {},
   "outputs": [
    {
     "data": {
      "text/html": [
       "<div>\n",
       "<style scoped>\n",
       "    .dataframe tbody tr th:only-of-type {\n",
       "        vertical-align: middle;\n",
       "    }\n",
       "\n",
       "    .dataframe tbody tr th {\n",
       "        vertical-align: top;\n",
       "    }\n",
       "\n",
       "    .dataframe thead th {\n",
       "        text-align: right;\n",
       "    }\n",
       "</style>\n",
       "<table border=\"1\" class=\"dataframe\">\n",
       "  <thead>\n",
       "    <tr style=\"text-align: right;\">\n",
       "      <th></th>\n",
       "      <th>customerID</th>\n",
       "      <th>gender</th>\n",
       "      <th>SeniorCitizen</th>\n",
       "      <th>Partner</th>\n",
       "      <th>Dependents</th>\n",
       "      <th>tenure</th>\n",
       "      <th>PhoneService</th>\n",
       "      <th>MultipleLines</th>\n",
       "      <th>InternetService</th>\n",
       "      <th>OnlineSecurity</th>\n",
       "      <th>...</th>\n",
       "      <th>DeviceProtection</th>\n",
       "      <th>TechSupport</th>\n",
       "      <th>StreamingTV</th>\n",
       "      <th>StreamingMovies</th>\n",
       "      <th>Contract</th>\n",
       "      <th>PaperlessBilling</th>\n",
       "      <th>PaymentMethod</th>\n",
       "      <th>MonthlyCharges</th>\n",
       "      <th>TotalCharges</th>\n",
       "      <th>Churn</th>\n",
       "    </tr>\n",
       "  </thead>\n",
       "  <tbody>\n",
       "    <tr>\n",
       "      <th>0</th>\n",
       "      <td>7590-VHVEG</td>\n",
       "      <td>Female</td>\n",
       "      <td>0</td>\n",
       "      <td>Yes</td>\n",
       "      <td>No</td>\n",
       "      <td>1</td>\n",
       "      <td>No</td>\n",
       "      <td>No phone service</td>\n",
       "      <td>DSL</td>\n",
       "      <td>No</td>\n",
       "      <td>...</td>\n",
       "      <td>No</td>\n",
       "      <td>No</td>\n",
       "      <td>No</td>\n",
       "      <td>No</td>\n",
       "      <td>Month-to-month</td>\n",
       "      <td>Yes</td>\n",
       "      <td>Electronic check</td>\n",
       "      <td>29.85</td>\n",
       "      <td>29.85</td>\n",
       "      <td>No</td>\n",
       "    </tr>\n",
       "    <tr>\n",
       "      <th>1</th>\n",
       "      <td>5575-GNVDE</td>\n",
       "      <td>Male</td>\n",
       "      <td>0</td>\n",
       "      <td>No</td>\n",
       "      <td>No</td>\n",
       "      <td>34</td>\n",
       "      <td>Yes</td>\n",
       "      <td>No</td>\n",
       "      <td>DSL</td>\n",
       "      <td>Yes</td>\n",
       "      <td>...</td>\n",
       "      <td>Yes</td>\n",
       "      <td>No</td>\n",
       "      <td>No</td>\n",
       "      <td>No</td>\n",
       "      <td>One year</td>\n",
       "      <td>No</td>\n",
       "      <td>Mailed check</td>\n",
       "      <td>56.95</td>\n",
       "      <td>1889.5</td>\n",
       "      <td>No</td>\n",
       "    </tr>\n",
       "    <tr>\n",
       "      <th>2</th>\n",
       "      <td>3668-QPYBK</td>\n",
       "      <td>Male</td>\n",
       "      <td>0</td>\n",
       "      <td>No</td>\n",
       "      <td>No</td>\n",
       "      <td>2</td>\n",
       "      <td>Yes</td>\n",
       "      <td>No</td>\n",
       "      <td>DSL</td>\n",
       "      <td>Yes</td>\n",
       "      <td>...</td>\n",
       "      <td>No</td>\n",
       "      <td>No</td>\n",
       "      <td>No</td>\n",
       "      <td>No</td>\n",
       "      <td>Month-to-month</td>\n",
       "      <td>Yes</td>\n",
       "      <td>Mailed check</td>\n",
       "      <td>53.85</td>\n",
       "      <td>108.15</td>\n",
       "      <td>Yes</td>\n",
       "    </tr>\n",
       "    <tr>\n",
       "      <th>3</th>\n",
       "      <td>7795-CFOCW</td>\n",
       "      <td>Male</td>\n",
       "      <td>0</td>\n",
       "      <td>No</td>\n",
       "      <td>No</td>\n",
       "      <td>45</td>\n",
       "      <td>No</td>\n",
       "      <td>No phone service</td>\n",
       "      <td>DSL</td>\n",
       "      <td>Yes</td>\n",
       "      <td>...</td>\n",
       "      <td>Yes</td>\n",
       "      <td>Yes</td>\n",
       "      <td>No</td>\n",
       "      <td>No</td>\n",
       "      <td>One year</td>\n",
       "      <td>No</td>\n",
       "      <td>Bank transfer (automatic)</td>\n",
       "      <td>42.30</td>\n",
       "      <td>1840.75</td>\n",
       "      <td>No</td>\n",
       "    </tr>\n",
       "    <tr>\n",
       "      <th>4</th>\n",
       "      <td>9237-HQITU</td>\n",
       "      <td>Female</td>\n",
       "      <td>0</td>\n",
       "      <td>No</td>\n",
       "      <td>No</td>\n",
       "      <td>2</td>\n",
       "      <td>Yes</td>\n",
       "      <td>No</td>\n",
       "      <td>Fiber optic</td>\n",
       "      <td>No</td>\n",
       "      <td>...</td>\n",
       "      <td>No</td>\n",
       "      <td>No</td>\n",
       "      <td>No</td>\n",
       "      <td>No</td>\n",
       "      <td>Month-to-month</td>\n",
       "      <td>Yes</td>\n",
       "      <td>Electronic check</td>\n",
       "      <td>70.70</td>\n",
       "      <td>151.65</td>\n",
       "      <td>Yes</td>\n",
       "    </tr>\n",
       "  </tbody>\n",
       "</table>\n",
       "<p>5 rows × 21 columns</p>\n",
       "</div>"
      ],
      "text/plain": [
       "   customerID  gender  SeniorCitizen Partner Dependents  tenure PhoneService  \\\n",
       "0  7590-VHVEG  Female              0     Yes         No       1           No   \n",
       "1  5575-GNVDE    Male              0      No         No      34          Yes   \n",
       "2  3668-QPYBK    Male              0      No         No       2          Yes   \n",
       "3  7795-CFOCW    Male              0      No         No      45           No   \n",
       "4  9237-HQITU  Female              0      No         No       2          Yes   \n",
       "\n",
       "      MultipleLines InternetService OnlineSecurity  ...  DeviceProtection  \\\n",
       "0  No phone service             DSL             No  ...                No   \n",
       "1                No             DSL            Yes  ...               Yes   \n",
       "2                No             DSL            Yes  ...                No   \n",
       "3  No phone service             DSL            Yes  ...               Yes   \n",
       "4                No     Fiber optic             No  ...                No   \n",
       "\n",
       "  TechSupport StreamingTV StreamingMovies        Contract PaperlessBilling  \\\n",
       "0          No          No              No  Month-to-month              Yes   \n",
       "1          No          No              No        One year               No   \n",
       "2          No          No              No  Month-to-month              Yes   \n",
       "3         Yes          No              No        One year               No   \n",
       "4          No          No              No  Month-to-month              Yes   \n",
       "\n",
       "               PaymentMethod MonthlyCharges  TotalCharges Churn  \n",
       "0           Electronic check          29.85         29.85    No  \n",
       "1               Mailed check          56.95        1889.5    No  \n",
       "2               Mailed check          53.85        108.15   Yes  \n",
       "3  Bank transfer (automatic)          42.30       1840.75    No  \n",
       "4           Electronic check          70.70        151.65   Yes  \n",
       "\n",
       "[5 rows x 21 columns]"
      ]
     },
     "execution_count": 6,
     "metadata": {},
     "output_type": "execute_result"
    }
   ],
   "source": [
    "# Print the first 5 rows of the dataframe to get a feel for the data\n",
    "dataframe.head(5)"
   ]
  },
  {
   "cell_type": "code",
   "execution_count": 7,
   "metadata": {},
   "outputs": [
    {
     "data": {
      "text/html": [
       "<div>\n",
       "<style scoped>\n",
       "    .dataframe tbody tr th:only-of-type {\n",
       "        vertical-align: middle;\n",
       "    }\n",
       "\n",
       "    .dataframe tbody tr th {\n",
       "        vertical-align: top;\n",
       "    }\n",
       "\n",
       "    .dataframe thead th {\n",
       "        text-align: right;\n",
       "    }\n",
       "</style>\n",
       "<table border=\"1\" class=\"dataframe\">\n",
       "  <thead>\n",
       "    <tr style=\"text-align: right;\">\n",
       "      <th></th>\n",
       "      <th>SeniorCitizen</th>\n",
       "      <th>tenure</th>\n",
       "      <th>MonthlyCharges</th>\n",
       "    </tr>\n",
       "  </thead>\n",
       "  <tbody>\n",
       "    <tr>\n",
       "      <th>count</th>\n",
       "      <td>7043.000000</td>\n",
       "      <td>7043.000000</td>\n",
       "      <td>7043.000000</td>\n",
       "    </tr>\n",
       "    <tr>\n",
       "      <th>mean</th>\n",
       "      <td>0.162147</td>\n",
       "      <td>32.371149</td>\n",
       "      <td>64.761692</td>\n",
       "    </tr>\n",
       "    <tr>\n",
       "      <th>std</th>\n",
       "      <td>0.368612</td>\n",
       "      <td>24.559481</td>\n",
       "      <td>30.090047</td>\n",
       "    </tr>\n",
       "    <tr>\n",
       "      <th>min</th>\n",
       "      <td>0.000000</td>\n",
       "      <td>0.000000</td>\n",
       "      <td>18.250000</td>\n",
       "    </tr>\n",
       "    <tr>\n",
       "      <th>25%</th>\n",
       "      <td>0.000000</td>\n",
       "      <td>9.000000</td>\n",
       "      <td>35.500000</td>\n",
       "    </tr>\n",
       "    <tr>\n",
       "      <th>50%</th>\n",
       "      <td>0.000000</td>\n",
       "      <td>29.000000</td>\n",
       "      <td>70.350000</td>\n",
       "    </tr>\n",
       "    <tr>\n",
       "      <th>75%</th>\n",
       "      <td>0.000000</td>\n",
       "      <td>55.000000</td>\n",
       "      <td>89.850000</td>\n",
       "    </tr>\n",
       "    <tr>\n",
       "      <th>max</th>\n",
       "      <td>1.000000</td>\n",
       "      <td>72.000000</td>\n",
       "      <td>118.750000</td>\n",
       "    </tr>\n",
       "  </tbody>\n",
       "</table>\n",
       "</div>"
      ],
      "text/plain": [
       "       SeniorCitizen       tenure  MonthlyCharges\n",
       "count    7043.000000  7043.000000     7043.000000\n",
       "mean        0.162147    32.371149       64.761692\n",
       "std         0.368612    24.559481       30.090047\n",
       "min         0.000000     0.000000       18.250000\n",
       "25%         0.000000     9.000000       35.500000\n",
       "50%         0.000000    29.000000       70.350000\n",
       "75%         0.000000    55.000000       89.850000\n",
       "max         1.000000    72.000000      118.750000"
      ]
     },
     "execution_count": 7,
     "metadata": {},
     "output_type": "execute_result"
    }
   ],
   "source": [
    "# Lets have a look into the numeric features\n",
    "dataframe.describe()"
   ]
  },
  {
   "cell_type": "code",
   "execution_count": 8,
   "metadata": {},
   "outputs": [
    {
     "data": {
      "text/html": [
       "<div>\n",
       "<style scoped>\n",
       "    .dataframe tbody tr th:only-of-type {\n",
       "        vertical-align: middle;\n",
       "    }\n",
       "\n",
       "    .dataframe tbody tr th {\n",
       "        vertical-align: top;\n",
       "    }\n",
       "\n",
       "    .dataframe thead th {\n",
       "        text-align: right;\n",
       "    }\n",
       "</style>\n",
       "<table border=\"1\" class=\"dataframe\">\n",
       "  <thead>\n",
       "    <tr style=\"text-align: right;\">\n",
       "      <th></th>\n",
       "      <th>customerID</th>\n",
       "      <th>gender</th>\n",
       "      <th>Partner</th>\n",
       "      <th>Dependents</th>\n",
       "      <th>PhoneService</th>\n",
       "      <th>MultipleLines</th>\n",
       "      <th>InternetService</th>\n",
       "      <th>OnlineSecurity</th>\n",
       "      <th>OnlineBackup</th>\n",
       "      <th>DeviceProtection</th>\n",
       "      <th>TechSupport</th>\n",
       "      <th>StreamingTV</th>\n",
       "      <th>StreamingMovies</th>\n",
       "      <th>Contract</th>\n",
       "      <th>PaperlessBilling</th>\n",
       "      <th>PaymentMethod</th>\n",
       "      <th>TotalCharges</th>\n",
       "      <th>Churn</th>\n",
       "    </tr>\n",
       "  </thead>\n",
       "  <tbody>\n",
       "    <tr>\n",
       "      <th>count</th>\n",
       "      <td>7043</td>\n",
       "      <td>7043</td>\n",
       "      <td>7043</td>\n",
       "      <td>7043</td>\n",
       "      <td>7043</td>\n",
       "      <td>7043</td>\n",
       "      <td>7043</td>\n",
       "      <td>7043</td>\n",
       "      <td>7043</td>\n",
       "      <td>7043</td>\n",
       "      <td>7043</td>\n",
       "      <td>7043</td>\n",
       "      <td>7043</td>\n",
       "      <td>7043</td>\n",
       "      <td>7043</td>\n",
       "      <td>7043</td>\n",
       "      <td>7043</td>\n",
       "      <td>7043</td>\n",
       "    </tr>\n",
       "    <tr>\n",
       "      <th>unique</th>\n",
       "      <td>7043</td>\n",
       "      <td>2</td>\n",
       "      <td>2</td>\n",
       "      <td>2</td>\n",
       "      <td>2</td>\n",
       "      <td>3</td>\n",
       "      <td>3</td>\n",
       "      <td>3</td>\n",
       "      <td>3</td>\n",
       "      <td>3</td>\n",
       "      <td>3</td>\n",
       "      <td>3</td>\n",
       "      <td>3</td>\n",
       "      <td>3</td>\n",
       "      <td>2</td>\n",
       "      <td>4</td>\n",
       "      <td>6531</td>\n",
       "      <td>2</td>\n",
       "    </tr>\n",
       "    <tr>\n",
       "      <th>top</th>\n",
       "      <td>7089-RKVSZ</td>\n",
       "      <td>Male</td>\n",
       "      <td>No</td>\n",
       "      <td>No</td>\n",
       "      <td>Yes</td>\n",
       "      <td>No</td>\n",
       "      <td>Fiber optic</td>\n",
       "      <td>No</td>\n",
       "      <td>No</td>\n",
       "      <td>No</td>\n",
       "      <td>No</td>\n",
       "      <td>No</td>\n",
       "      <td>No</td>\n",
       "      <td>Month-to-month</td>\n",
       "      <td>Yes</td>\n",
       "      <td>Electronic check</td>\n",
       "      <td>20.2</td>\n",
       "      <td>No</td>\n",
       "    </tr>\n",
       "    <tr>\n",
       "      <th>freq</th>\n",
       "      <td>1</td>\n",
       "      <td>3555</td>\n",
       "      <td>3641</td>\n",
       "      <td>4933</td>\n",
       "      <td>6361</td>\n",
       "      <td>3390</td>\n",
       "      <td>3096</td>\n",
       "      <td>3498</td>\n",
       "      <td>3088</td>\n",
       "      <td>3095</td>\n",
       "      <td>3473</td>\n",
       "      <td>2810</td>\n",
       "      <td>2785</td>\n",
       "      <td>3875</td>\n",
       "      <td>4171</td>\n",
       "      <td>2365</td>\n",
       "      <td>11</td>\n",
       "      <td>5174</td>\n",
       "    </tr>\n",
       "  </tbody>\n",
       "</table>\n",
       "</div>"
      ],
      "text/plain": [
       "        customerID gender Partner Dependents PhoneService MultipleLines  \\\n",
       "count         7043   7043    7043       7043         7043          7043   \n",
       "unique        7043      2       2          2            2             3   \n",
       "top     7089-RKVSZ   Male      No         No          Yes            No   \n",
       "freq             1   3555    3641       4933         6361          3390   \n",
       "\n",
       "       InternetService OnlineSecurity OnlineBackup DeviceProtection  \\\n",
       "count             7043           7043         7043             7043   \n",
       "unique               3              3            3                3   \n",
       "top        Fiber optic             No           No               No   \n",
       "freq              3096           3498         3088             3095   \n",
       "\n",
       "       TechSupport StreamingTV StreamingMovies        Contract  \\\n",
       "count         7043        7043            7043            7043   \n",
       "unique           3           3               3               3   \n",
       "top             No          No              No  Month-to-month   \n",
       "freq          3473        2810            2785            3875   \n",
       "\n",
       "       PaperlessBilling     PaymentMethod TotalCharges Churn  \n",
       "count              7043              7043         7043  7043  \n",
       "unique                2                 4         6531     2  \n",
       "top                 Yes  Electronic check         20.2    No  \n",
       "freq               4171              2365           11  5174  "
      ]
     },
     "execution_count": 8,
     "metadata": {},
     "output_type": "execute_result"
    }
   ],
   "source": [
    "# Lets have a look into the categorical features\n",
    "dataframe.describe(include=['O'])"
   ]
  },
  {
   "cell_type": "code",
   "execution_count": 9,
   "metadata": {},
   "outputs": [
    {
     "name": "stdout",
     "output_type": "stream",
     "text": [
      "<class 'pandas.core.frame.DataFrame'>\n",
      "RangeIndex: 7043 entries, 0 to 7042\n",
      "Data columns (total 21 columns):\n",
      "customerID          7043 non-null object\n",
      "gender              7043 non-null object\n",
      "SeniorCitizen       7043 non-null int64\n",
      "Partner             7043 non-null object\n",
      "Dependents          7043 non-null object\n",
      "tenure              7043 non-null int64\n",
      "PhoneService        7043 non-null object\n",
      "MultipleLines       7043 non-null object\n",
      "InternetService     7043 non-null object\n",
      "OnlineSecurity      7043 non-null object\n",
      "OnlineBackup        7043 non-null object\n",
      "DeviceProtection    7043 non-null object\n",
      "TechSupport         7043 non-null object\n",
      "StreamingTV         7043 non-null object\n",
      "StreamingMovies     7043 non-null object\n",
      "Contract            7043 non-null object\n",
      "PaperlessBilling    7043 non-null object\n",
      "PaymentMethod       7043 non-null object\n",
      "MonthlyCharges      7043 non-null float64\n",
      "TotalCharges        7043 non-null object\n",
      "Churn               7043 non-null object\n",
      "dtypes: float64(1), int64(2), object(18)\n",
      "memory usage: 1.1+ MB\n"
     ]
    }
   ],
   "source": [
    "# Checking the data types and counts of all the columns\n",
    "dataframe.info()"
   ]
  },
  {
   "cell_type": "markdown",
   "metadata": {},
   "source": [
    "#### The Total Charges is shown as a string and not a numeric number. Lets and fix that by converting into numeric"
   ]
  },
  {
   "cell_type": "code",
   "execution_count": 10,
   "metadata": {},
   "outputs": [
    {
     "data": {
      "text/plain": [
       "count    7032.000000\n",
       "mean     2283.300441\n",
       "std      2266.771362\n",
       "min        18.800000\n",
       "25%       401.450000\n",
       "50%      1397.475000\n",
       "75%      3794.737500\n",
       "max      8684.800000\n",
       "Name: TotalCharges, dtype: float64"
      ]
     },
     "execution_count": 10,
     "metadata": {},
     "output_type": "execute_result"
    }
   ],
   "source": [
    "# The Total Charges sections has some empty spaces/blank sections\n",
    "# Lets convert the TotalCharges to numerical data type. \n",
    "# errors='coerce' will convert the invalid parsed data as NaN\n",
    "\n",
    "dataframe.TotalCharges = pd.to_numeric(dataframe.TotalCharges, errors='coerce')\n",
    "dataframe.TotalCharges.describe()"
   ]
  },
  {
   "cell_type": "markdown",
   "metadata": {},
   "source": [
    "### Analyze and plot the features with customer Churn to find Correlation between features\n",
    "Lets analyze the feature correlations by pivoting features against each other"
   ]
  },
  {
   "cell_type": "code",
   "execution_count": 11,
   "metadata": {},
   "outputs": [
    {
     "data": {
      "text/plain": [
       "Index(['customerID', 'gender', 'SeniorCitizen', 'Partner', 'Dependents',\n",
       "       'tenure', 'PhoneService', 'MultipleLines', 'InternetService',\n",
       "       'OnlineSecurity', 'OnlineBackup', 'DeviceProtection', 'TechSupport',\n",
       "       'StreamingTV', 'StreamingMovies', 'Contract', 'PaperlessBilling',\n",
       "       'PaymentMethod', 'MonthlyCharges', 'TotalCharges', 'Churn'],\n",
       "      dtype='object')"
      ]
     },
     "execution_count": 11,
     "metadata": {},
     "output_type": "execute_result"
    }
   ],
   "source": [
    "dataframe.columns"
   ]
  },
  {
   "cell_type": "markdown",
   "metadata": {},
   "source": [
    "### Data has the following feature categories\n",
    "\n",
    "#### Demographic info about customers \n",
    "    – gender, senior citizen, and Dependents (if customers have partners and family)\n",
    "    \n",
    "####  Services that each customer has signed up for \n",
    "    – phone service, multiple lines, internet, online security, online backup, device protection, tech support, streaming TV and movies\n",
    "\n",
    "#### Customer account information \n",
    "    – Tenure, contract, payment method, paperless billing, monthly charges, and total charges\n"
   ]
  },
  {
   "cell_type": "code",
   "execution_count": 12,
   "metadata": {},
   "outputs": [],
   "source": [
    "# Plot histograms to show distribution of features by outcome categories (Depy2016)\n",
    "\n",
    "def plot_histogram_dv(x,y, feature=\"feature\"):\n",
    "    \n",
    "    plt.hist(list(x[y==\"No\"]), alpha=0.5, facecolor='blue', label='Churn=0')\n",
    "    plt.hist(list(x[y==\"Yes\"]), alpha=0.75, facecolor='green', label='Churn=1')\n",
    "    plt.title(\"Histogram of '{var_name}' by Customer Churn\".format(var_name=x.name))\n",
    "    plt.xlabel(\"{} Value\".format(feature))\n",
    "    plt.ylabel(\"Frequency\")\n",
    "    plt.legend(loc='upper right')\n",
    "    plt.show()"
   ]
  },
  {
   "cell_type": "markdown",
   "metadata": {},
   "source": [
    "##### Churn rate Analysis on Demographic Info of Customers"
   ]
  },
  {
   "cell_type": "code",
   "execution_count": 13,
   "metadata": {},
   "outputs": [
    {
     "data": {
      "image/png": "[encoded data removed]",
      "text/plain": [
       "<Figure size 432x288 with 1 Axes>"
      ]
     },
     "metadata": {},
     "output_type": "display_data"
    },
    {
     "data": {
      "image/png": "[encoded data removed]",
      "text/plain": [
       "<Figure size 432x288 with 1 Axes>"
      ]
     },
     "metadata": {},
     "output_type": "display_data"
    },
    {
     "data": {
      "image/png": "[encoded data removed]",
      "text/plain": [
       "<Figure size 432x288 with 1 Axes>"
      ]
     },
     "metadata": {},
     "output_type": "display_data"
    }
   ],
   "source": [
    "demographic_info = ['gender', 'SeniorCitizen', 'Dependents']\n",
    "\n",
    "# Churn by Demographic data: \n",
    "for demo in demographic_info:\n",
    "    plot_histogram_dv(dataframe[demo], dataframe.Churn, demo) ## TODO: need to use seaborn barplots here"
   ]
  },
  {
   "cell_type": "markdown",
   "metadata": {},
   "source": [
    "#### Observations:\n",
    "- Gender doesn't show much info on Churn rate\n",
    "- Senior Citizen are less likely to Churn\n",
    "- Dependents are less likely to Churn"
   ]
  },
  {
   "cell_type": "markdown",
   "metadata": {},
   "source": [
    "##### Churn rate Analysis on Services used by Customers"
   ]
  },
  {
   "cell_type": "code",
   "execution_count": 14,
   "metadata": {},
   "outputs": [
    {
     "data": {
      "image/png": "[encoded data removed]",
      "text/plain": [
       "<Figure size 432x288 with 1 Axes>"
      ]
     },
     "metadata": {},
     "output_type": "display_data"
    },
    {
     "data": {
      "image/png": "[encoded data removed]",
      "text/plain": [
       "<Figure size 432x288 with 1 Axes>"
      ]
     },
     "metadata": {},
     "output_type": "display_data"
    },
    {
     "data": {
      "image/png": "[encoded data removed]",
      "text/plain": [
       "<Figure size 432x288 with 1 Axes>"
      ]
     },
     "metadata": {},
     "output_type": "display_data"
    },
    {
     "data": {
      "image/png": "[encoded data removed]",
      "text/plain": [
       "<Figure size 432x288 with 1 Axes>"
      ]
     },
     "metadata": {},
     "output_type": "display_data"
    },
    {
     "data": {
      "image/png": "[encoded data removed]",
      "text/plain": [
       "<Figure size 432x288 with 1 Axes>"
      ]
     },
     "metadata": {},
     "output_type": "display_data"
    },
    {
     "data": {
      "image/png": "[encoded data removed]",
      "text/plain": [
       "<Figure size 432x288 with 1 Axes>"
      ]
     },
     "metadata": {},
     "output_type": "display_data"
    },
    {
     "data": {
      "image/png": "[encoded data removed]",
      "text/plain": [
       "<Figure size 432x288 with 1 Axes>"
      ]
     },
     "metadata": {},
     "output_type": "display_data"
    },
    {
     "data": {
      "image/png": "[encoded data removed]",
      "text/plain": [
       "<Figure size 432x288 with 1 Axes>"
      ]
     },
     "metadata": {},
     "output_type": "display_data"
    },
    {
     "data": {
      "image/png": "[encoded data removed]",
      "text/plain": [
       "<Figure size 432x288 with 1 Axes>"
      ]
     },
     "metadata": {},
     "output_type": "display_data"
    }
   ],
   "source": [
    "services = ['PhoneService', 'MultipleLines', 'InternetService', 'OnlineSecurity', 'OnlineBackup', \n",
    "            'DeviceProtection', 'TechSupport', 'StreamingTV', 'StreamingMovies']\n",
    "\n",
    "# Churn by Services: \n",
    "for service in services:\n",
    "    plot_histogram_dv(dataframe[service], dataframe.Churn, service)\n",
    "    "
   ]
  },
  {
   "cell_type": "markdown",
   "metadata": {},
   "source": [
    "#### Observations:\n",
    "- Customers using Phone services Churn more\n",
    "- Multiple Lines has no significant effect on customer Churn\n",
    "- Customers using Internet Service with Fiber Optics has high Churn\n",
    "- Customers without Online security has high Churn\n",
    "- Online Backup has so significant impact on Churn\n",
    "- Customers without Device Protection has high Churn\n",
    "- Customers without Tech Support has high Churn\n",
    "- Steaming TV and movies has so no definite impact on Churn\n"
   ]
  },
  {
   "cell_type": "markdown",
   "metadata": {},
   "source": [
    "##### Churn rate Analysis on the Account Information"
   ]
  },
  {
   "cell_type": "code",
   "execution_count": 15,
   "metadata": {},
   "outputs": [],
   "source": [
    "account_info = ['tenure', 'Contract', 'PaperlessBilling', 'PaymentMethod', 'MonthlyCharges']"
   ]
  },
  {
   "cell_type": "code",
   "execution_count": 16,
   "metadata": {},
   "outputs": [
    {
     "data": {
      "image/png": "[encoded data removed]",
      "text/plain": [
       "<Figure size 432x288 with 1 Axes>"
      ]
     },
     "metadata": {},
     "output_type": "display_data"
    },
    {
     "data": {
      "image/png": "[encoded data removed]",
      "text/plain": [
       "<Figure size 432x288 with 1 Axes>"
      ]
     },
     "metadata": {},
     "output_type": "display_data"
    },
    {
     "data": {
      "image/png": "[encoded data removed]",
      "text/plain": [
       "<Figure size 432x288 with 1 Axes>"
      ]
     },
     "metadata": {},
     "output_type": "display_data"
    },
    {
     "data": {
      "image/png": "[encoded data removed]",
      "text/plain": [
       "<Figure size 432x288 with 1 Axes>"
      ]
     },
     "metadata": {},
     "output_type": "display_data"
    },
    {
     "data": {
      "image/png": "[encoded data removed]",
      "text/plain": [
       "<Figure size 432x288 with 1 Axes>"
      ]
     },
     "metadata": {},
     "output_type": "display_data"
    }
   ],
   "source": [
    "for info in account_info:\n",
    "    plot_histogram_dv(dataframe[info], dataframe.Churn, info)\n"
   ]
  },
  {
   "cell_type": "markdown",
   "metadata": {},
   "source": [
    "#### Observations:\n",
    "- Customer with short term Tenure has High Churn\n",
    "- Customer with month to month contract Churn a lot (Telecom company need long term plan) \n",
    "- Paperless Billing opting customers has high Churn rate\n",
    "- Customers with monthly charges in the range of 70-110 has High Churn rate"
   ]
  },
  {
   "cell_type": "markdown",
   "metadata": {},
   "source": [
    "# 2. Data-Preprocessing"
   ]
  },
  {
   "cell_type": "markdown",
   "metadata": {},
   "source": [
    "### Basic data cleaning process\n",
    "\n",
    "\n",
    "##### Models can only handle numeric features\n",
    "##### Categorical and ordinal features must be converted into numeric features before training the model\n",
    "\n",
    "\n",
    "-  Check the data type (int, float, string) of features in the dataframe\n",
    "-  Convert string to numeric data"
   ]
  },
  {
   "cell_type": "code",
   "execution_count": 17,
   "metadata": {},
   "outputs": [
    {
     "name": "stdout",
     "output_type": "stream",
     "text": [
      "Feature 'customerID' has 7043 unique categories\n",
      "Feature 'gender' has 2 unique categories\n",
      "Feature 'Partner' has 2 unique categories\n",
      "Feature 'Dependents' has 2 unique categories\n",
      "Feature 'PhoneService' has 2 unique categories\n",
      "Feature 'MultipleLines' has 3 unique categories\n",
      "Feature 'InternetService' has 3 unique categories\n",
      "Feature 'OnlineSecurity' has 3 unique categories\n",
      "Feature 'OnlineBackup' has 3 unique categories\n",
      "Feature 'DeviceProtection' has 3 unique categories\n",
      "Feature 'TechSupport' has 3 unique categories\n",
      "Feature 'StreamingTV' has 3 unique categories\n",
      "Feature 'StreamingMovies' has 3 unique categories\n",
      "Feature 'Contract' has 3 unique categories\n",
      "Feature 'PaperlessBilling' has 2 unique categories\n",
      "Feature 'PaymentMethod' has 4 unique categories\n",
      "Feature 'Churn' has 2 unique categories\n"
     ]
    }
   ],
   "source": [
    "# Find the categorical variables in the dataset \n",
    "\n",
    "# Code is inspired from the Depy2016 tutorial: \n",
    "# https://github.com/aprilypchen/depy2016/blob/master/DePy_Talk.ipynb\n",
    "\n",
    "for col_name in dataframe.columns:\n",
    "    if dataframe[col_name].dtypes == 'object':\n",
    "        unique_cat = len(dataframe[col_name].unique())\n",
    "        print(\"Feature '{}' has {} unique categories\".format(col_name, unique_cat))"
   ]
  },
  {
   "cell_type": "code",
   "execution_count": 18,
   "metadata": {},
   "outputs": [],
   "source": [
    "# Customer ID doesn't show any meaningful info as its unique per customer and can be dropped from the data set\n",
    "\n",
    "dataframe.drop([\"customerID\"], axis=1, inplace=True)"
   ]
  },
  {
   "cell_type": "code",
   "execution_count": 37,
   "metadata": {},
   "outputs": [],
   "source": [
    "# TODO: Try to Discretize tenure column to groups to get better prediction.\n",
    "\n",
    "# dataframe.loc[(dataframe[\"tenure\"] > 0)  &  (dataframe[\"tenure\"] < 8), \"tenure_group\"] = 'short_term'\n",
    "# dataframe.loc[(dataframe[\"tenure\"] > 8)  &  (dataframe[\"tenure\"] < 20), \"tenure_group\"] = 'medium_term'\n",
    "# dataframe.loc[(dataframe[\"tenure\"] > 20), \"tenure_group\"] = 'long_term'\n",
    "\n",
    "# print(dataframe[\"tenure_group\"].unique())\n",
    "# print(dataframe[\"tenure_group\"].value_counts())"
   ]
  },
  {
   "cell_type": "markdown",
   "metadata": {},
   "source": [
    "#### Using Label encoder to Convert Categorical variables into Numerical ones\n",
    "Reference: https://scikit-learn.org/stable/modules/generated/sklearn.preprocessing.LabelEncoder.html"
   ]
  },
  {
   "cell_type": "code",
   "execution_count": 20,
   "metadata": {},
   "outputs": [
    {
     "name": "stdout",
     "output_type": "stream",
     "text": [
      "(7043, 20)\n"
     ]
    },
    {
     "data": {
      "text/html": [
       "<div>\n",
       "<style scoped>\n",
       "    .dataframe tbody tr th:only-of-type {\n",
       "        vertical-align: middle;\n",
       "    }\n",
       "\n",
       "    .dataframe tbody tr th {\n",
       "        vertical-align: top;\n",
       "    }\n",
       "\n",
       "    .dataframe thead th {\n",
       "        text-align: right;\n",
       "    }\n",
       "</style>\n",
       "<table border=\"1\" class=\"dataframe\">\n",
       "  <thead>\n",
       "    <tr style=\"text-align: right;\">\n",
       "      <th></th>\n",
       "      <th>gender</th>\n",
       "      <th>SeniorCitizen</th>\n",
       "      <th>Partner</th>\n",
       "      <th>Dependents</th>\n",
       "      <th>tenure</th>\n",
       "      <th>PhoneService</th>\n",
       "      <th>MultipleLines</th>\n",
       "      <th>InternetService</th>\n",
       "      <th>OnlineSecurity</th>\n",
       "      <th>OnlineBackup</th>\n",
       "      <th>DeviceProtection</th>\n",
       "      <th>TechSupport</th>\n",
       "      <th>StreamingTV</th>\n",
       "      <th>StreamingMovies</th>\n",
       "      <th>Contract</th>\n",
       "      <th>PaperlessBilling</th>\n",
       "      <th>PaymentMethod</th>\n",
       "      <th>MonthlyCharges</th>\n",
       "      <th>TotalCharges</th>\n",
       "      <th>Churn</th>\n",
       "    </tr>\n",
       "  </thead>\n",
       "  <tbody>\n",
       "    <tr>\n",
       "      <th>0</th>\n",
       "      <td>0</td>\n",
       "      <td>0</td>\n",
       "      <td>1</td>\n",
       "      <td>0</td>\n",
       "      <td>1</td>\n",
       "      <td>0</td>\n",
       "      <td>1</td>\n",
       "      <td>0</td>\n",
       "      <td>0</td>\n",
       "      <td>2</td>\n",
       "      <td>0</td>\n",
       "      <td>0</td>\n",
       "      <td>0</td>\n",
       "      <td>0</td>\n",
       "      <td>0</td>\n",
       "      <td>1</td>\n",
       "      <td>2</td>\n",
       "      <td>29.85</td>\n",
       "      <td>29.85</td>\n",
       "      <td>0</td>\n",
       "    </tr>\n",
       "    <tr>\n",
       "      <th>1</th>\n",
       "      <td>1</td>\n",
       "      <td>0</td>\n",
       "      <td>0</td>\n",
       "      <td>0</td>\n",
       "      <td>34</td>\n",
       "      <td>1</td>\n",
       "      <td>0</td>\n",
       "      <td>0</td>\n",
       "      <td>2</td>\n",
       "      <td>0</td>\n",
       "      <td>2</td>\n",
       "      <td>0</td>\n",
       "      <td>0</td>\n",
       "      <td>0</td>\n",
       "      <td>1</td>\n",
       "      <td>0</td>\n",
       "      <td>3</td>\n",
       "      <td>56.95</td>\n",
       "      <td>1889.50</td>\n",
       "      <td>0</td>\n",
       "    </tr>\n",
       "    <tr>\n",
       "      <th>2</th>\n",
       "      <td>1</td>\n",
       "      <td>0</td>\n",
       "      <td>0</td>\n",
       "      <td>0</td>\n",
       "      <td>2</td>\n",
       "      <td>1</td>\n",
       "      <td>0</td>\n",
       "      <td>0</td>\n",
       "      <td>2</td>\n",
       "      <td>2</td>\n",
       "      <td>0</td>\n",
       "      <td>0</td>\n",
       "      <td>0</td>\n",
       "      <td>0</td>\n",
       "      <td>0</td>\n",
       "      <td>1</td>\n",
       "      <td>3</td>\n",
       "      <td>53.85</td>\n",
       "      <td>108.15</td>\n",
       "      <td>1</td>\n",
       "    </tr>\n",
       "    <tr>\n",
       "      <th>3</th>\n",
       "      <td>1</td>\n",
       "      <td>0</td>\n",
       "      <td>0</td>\n",
       "      <td>0</td>\n",
       "      <td>45</td>\n",
       "      <td>0</td>\n",
       "      <td>1</td>\n",
       "      <td>0</td>\n",
       "      <td>2</td>\n",
       "      <td>0</td>\n",
       "      <td>2</td>\n",
       "      <td>2</td>\n",
       "      <td>0</td>\n",
       "      <td>0</td>\n",
       "      <td>1</td>\n",
       "      <td>0</td>\n",
       "      <td>0</td>\n",
       "      <td>42.30</td>\n",
       "      <td>1840.75</td>\n",
       "      <td>0</td>\n",
       "    </tr>\n",
       "    <tr>\n",
       "      <th>4</th>\n",
       "      <td>0</td>\n",
       "      <td>0</td>\n",
       "      <td>0</td>\n",
       "      <td>0</td>\n",
       "      <td>2</td>\n",
       "      <td>1</td>\n",
       "      <td>0</td>\n",
       "      <td>1</td>\n",
       "      <td>0</td>\n",
       "      <td>0</td>\n",
       "      <td>0</td>\n",
       "      <td>0</td>\n",
       "      <td>0</td>\n",
       "      <td>0</td>\n",
       "      <td>0</td>\n",
       "      <td>1</td>\n",
       "      <td>2</td>\n",
       "      <td>70.70</td>\n",
       "      <td>151.65</td>\n",
       "      <td>1</td>\n",
       "    </tr>\n",
       "  </tbody>\n",
       "</table>\n",
       "</div>"
      ],
      "text/plain": [
       "   gender  SeniorCitizen  Partner  Dependents  tenure  PhoneService  \\\n",
       "0       0              0        1           0       1             0   \n",
       "1       1              0        0           0      34             1   \n",
       "2       1              0        0           0       2             1   \n",
       "3       1              0        0           0      45             0   \n",
       "4       0              0        0           0       2             1   \n",
       "\n",
       "   MultipleLines  InternetService  OnlineSecurity  OnlineBackup  \\\n",
       "0              1                0               0             2   \n",
       "1              0                0               2             0   \n",
       "2              0                0               2             2   \n",
       "3              1                0               2             0   \n",
       "4              0                1               0             0   \n",
       "\n",
       "   DeviceProtection  TechSupport  StreamingTV  StreamingMovies  Contract  \\\n",
       "0                 0            0            0                0         0   \n",
       "1                 2            0            0                0         1   \n",
       "2                 0            0            0                0         0   \n",
       "3                 2            2            0                0         1   \n",
       "4                 0            0            0                0         0   \n",
       "\n",
       "   PaperlessBilling  PaymentMethod  MonthlyCharges  TotalCharges  Churn  \n",
       "0                 1              2           29.85         29.85      0  \n",
       "1                 0              3           56.95       1889.50      0  \n",
       "2                 1              3           53.85        108.15      1  \n",
       "3                 0              0           42.30       1840.75      0  \n",
       "4                 1              2           70.70        151.65      1  "
      ]
     },
     "execution_count": 20,
     "metadata": {},
     "output_type": "execute_result"
    }
   ],
   "source": [
    "labelEnc=LabelEncoder()\n",
    "\n",
    "categorical_variables=['Partner', 'Dependents', 'Churn', 'gender', 'PhoneService', 'MultipleLines', \n",
    "                       'InternetService', 'OnlineSecurity', 'OnlineBackup', 'DeviceProtection', 'TechSupport', \n",
    "                       'StreamingTV', 'StreamingMovies', 'Contract', 'PaperlessBilling', 'PaymentMethod']\n",
    "\n",
    "for feature in categorical_variables:\n",
    "    dataframe[feature]=labelEnc.fit_transform(dataframe[feature])\n",
    "\n",
    "print(dataframe.shape)\n",
    "dataframe.head()"
   ]
  },
  {
   "cell_type": "markdown",
   "metadata": {},
   "source": [
    "#### Handling missing data\n",
    "- Models can not handle missing data\n",
    "- Used imputation to fill in missing data with **mean** strategy\n",
    "    "
   ]
  },
  {
   "cell_type": "code",
   "execution_count": 21,
   "metadata": {
    "scrolled": true
   },
   "outputs": [
    {
     "data": {
      "text/plain": [
       "TotalCharges     11\n",
       "Churn             0\n",
       "SeniorCitizen     0\n",
       "Partner           0\n",
       "Dependents        0\n",
       "dtype: int64"
      ]
     },
     "execution_count": 21,
     "metadata": {},
     "output_type": "execute_result"
    }
   ],
   "source": [
    "# Check for missing values\n",
    "\n",
    "dataframe.isnull().sum().sort_values(ascending=False).head()"
   ]
  },
  {
   "cell_type": "markdown",
   "metadata": {},
   "source": [
    "There are 11 missing values for Total Charges\n",
    "- Lets Impute the missing values"
   ]
  },
  {
   "cell_type": "code",
   "execution_count": 22,
   "metadata": {},
   "outputs": [],
   "source": [
    "# Imputing the missing data using the mean\n",
    "\n",
    "# Store the values as numpy array from dataframe\n",
    "missingData = dataframe.iloc[:,0:].values\n",
    "\n",
    "imputer = Imputer(missing_values='NaN', strategy='mean', axis=0)\n",
    "imputer.fit(missingData)\n",
    "\n",
    "completedData = imputer.transform(missingData)\n",
    "\n",
    "# Add the completed data to dataframe\n",
    "dataframe.iloc[:, 0:] = completedData"
   ]
  },
  {
   "cell_type": "code",
   "execution_count": 23,
   "metadata": {},
   "outputs": [
    {
     "data": {
      "text/plain": [
       "Churn            0\n",
       "TotalCharges     0\n",
       "SeniorCitizen    0\n",
       "dtype: int64"
      ]
     },
     "execution_count": 23,
     "metadata": {},
     "output_type": "execute_result"
    }
   ],
   "source": [
    "# Re-Check is any missing values are still there\n",
    "dataframe.isnull().sum().sort_values(ascending=False).head(3)"
   ]
  },
  {
   "cell_type": "markdown",
   "metadata": {},
   "source": [
    "### Outlier detection\n",
    "##### Code is inspired from the Depy2016 tutorial: https://github.com/aprilypchen/depy2016/blob/master/DePy_Talk.ipynb"
   ]
  },
  {
   "cell_type": "code",
   "execution_count": 24,
   "metadata": {},
   "outputs": [],
   "source": [
    "def find_outliers_tukey(x):\n",
    "    \"\"\" Function to find the outliers \"\"\"\n",
    "    q1 = np.percentile(x, 25)\n",
    "    q3 = np.percentile(x, 75)\n",
    "    iqr = q3-q1\n",
    "    floor = q1 - 1.5*iqr\n",
    "    ceiling = q3 + 1.5*iqr\n",
    "    outlier_indices = list(x.index[(x < floor)|(x > ceiling)])\n",
    "    outlier_values = list(x[outlier_indices])\n",
    "    \n",
    "    return outlier_indices, outlier_values\n"
   ]
  },
  {
   "cell_type": "code",
   "execution_count": 25,
   "metadata": {
    "scrolled": true
   },
   "outputs": [
    {
     "name": "stdout",
     "output_type": "stream",
     "text": [
      "No outlier found in gender\n",
      "Outliers = 1142, out of 7043 features, in SeniorCitizen Column\n",
      "No outlier found in Partner\n",
      "No outlier found in Dependents\n",
      "No outlier found in tenure\n",
      "Outliers = 682, out of 7043 features, in PhoneService Column\n",
      "No outlier found in MultipleLines\n",
      "No outlier found in InternetService\n",
      "No outlier found in OnlineSecurity\n",
      "No outlier found in OnlineBackup\n",
      "No outlier found in DeviceProtection\n",
      "No outlier found in TechSupport\n",
      "No outlier found in StreamingTV\n",
      "No outlier found in StreamingMovies\n",
      "No outlier found in Contract\n",
      "No outlier found in PaperlessBilling\n",
      "No outlier found in PaymentMethod\n",
      "No outlier found in MonthlyCharges\n",
      "No outlier found in TotalCharges\n",
      "No outlier found in Churn\n"
     ]
    }
   ],
   "source": [
    "# Create a temporary dataframe named \"outlier_dataset\" for testing Outliers\n",
    "outlier_dataset = dataframe\n",
    "\n",
    "# Lets check is there are any Outlier in the below features which has continuous values/distribution\n",
    "#numeric_features = ['tenure', 'MonthlyCharges', 'TotalCharges']\n",
    "numeric_features = dataframe.columns\n",
    "\n",
    "\n",
    "for feature in outlier_dataset[numeric_features]:\n",
    "    \"\"\"Compute the Outliers in the dataset\"\"\"\n",
    "    \n",
    "    tukey_indices, tukey_values = find_outliers_tukey(outlier_dataset[feature])\n",
    "\n",
    "    if len(tukey_indices) != 0:\n",
    "        # Check the outlier data\n",
    "        print(\"Outliers = {}, out of {} features, in {} Column\".format(\n",
    "            len(tukey_indices), len(outlier_dataset[feature]), feature))\n",
    "        \n",
    "        for i in range(len(tukey_indices)):\n",
    "            dataset = outlier_dataset.drop([tukey_indices[i]], axis=0)        \n",
    "    else:\n",
    "        print(\"No outlier found in {}\".format(feature))\n",
    "        \n",
    "# Store dataframe with outlier\n",
    "tukey_dataset = outlier_dataset.values\n"
   ]
  },
  {
   "cell_type": "markdown",
   "metadata": {},
   "source": [
    "### Create correlation matrix\n",
    "#### Reference: CE4031 Lab week 6"
   ]
  },
  {
   "cell_type": "code",
   "execution_count": 26,
   "metadata": {},
   "outputs": [
    {
     "data": {
      "image/png": "[encoded data removed]",
      "text/plain": [
       "<Figure size 432x288 with 2 Axes>"
      ]
     },
     "metadata": {},
     "output_type": "display_data"
    }
   ],
   "source": [
    "corr_mat = np.corrcoef(dataframe, rowvar=False)\n",
    "\n",
    "# Generate a heatmap of the correlation matrix\n",
    "plt.imshow(corr_mat, cmap='hot')\n",
    "plt.title('Correlation between features')\n",
    "\n",
    "# Plots colourbar as seen on right hand side\n",
    "plt.colorbar() \n",
    "plt.show()"
   ]
  },
  {
   "cell_type": "code",
   "execution_count": 27,
   "metadata": {},
   "outputs": [
    {
     "data": {
      "text/plain": [
       "Churn               1.000000\n",
       "MonthlyCharges      0.193356\n",
       "PaperlessBilling    0.191825\n",
       "SeniorCitizen       0.150889\n",
       "PaymentMethod       0.107062\n",
       "MultipleLines       0.038037\n",
       "PhoneService        0.011942\n",
       "gender             -0.008612\n",
       "StreamingTV        -0.036581\n",
       "StreamingMovies    -0.038492\n",
       "InternetService    -0.047291\n",
       "Partner            -0.150448\n",
       "Dependents         -0.164221\n",
       "DeviceProtection   -0.178134\n",
       "OnlineBackup       -0.195525\n",
       "TotalCharges       -0.199428\n",
       "TechSupport        -0.282492\n",
       "OnlineSecurity     -0.289309\n",
       "tenure             -0.352229\n",
       "Contract           -0.396713\n",
       "Name: Churn, dtype: float64"
      ]
     },
     "execution_count": 27,
     "metadata": {},
     "output_type": "execute_result"
    }
   ],
   "source": [
    "# Check if there are any strong correlation between feature and outcome\n",
    "\n",
    "dataframe.corr()[\"Churn\"].sort_values(ascending=False)"
   ]
  },
  {
   "cell_type": "markdown",
   "metadata": {},
   "source": [
    "#### Observation on Correlation: \n",
    "- The data doesn't seem to have high correlation and almost all features have some key  information for training the model."
   ]
  },
  {
   "cell_type": "markdown",
   "metadata": {},
   "source": [
    "### Split the dataframe into Input Features and Labels/Outcomes"
   ]
  },
  {
   "cell_type": "code",
   "execution_count": 28,
   "metadata": {},
   "outputs": [],
   "source": [
    "# Dropping the Outcome(Churn) column from the data to Split into input features (X) and outcome (y) variables\n",
    "\n",
    "X = dataframe.drop(\"Churn\", axis=1)\n",
    "y = dataframe[\"Churn\"]"
   ]
  },
  {
   "cell_type": "code",
   "execution_count": 29,
   "metadata": {
    "scrolled": false
   },
   "outputs": [
    {
     "data": {
      "text/html": [
       "<div>\n",
       "<style scoped>\n",
       "    .dataframe tbody tr th:only-of-type {\n",
       "        vertical-align: middle;\n",
       "    }\n",
       "\n",
       "    .dataframe tbody tr th {\n",
       "        vertical-align: top;\n",
       "    }\n",
       "\n",
       "    .dataframe thead th {\n",
       "        text-align: right;\n",
       "    }\n",
       "</style>\n",
       "<table border=\"1\" class=\"dataframe\">\n",
       "  <thead>\n",
       "    <tr style=\"text-align: right;\">\n",
       "      <th></th>\n",
       "      <th>gender</th>\n",
       "      <th>SeniorCitizen</th>\n",
       "      <th>Partner</th>\n",
       "      <th>Dependents</th>\n",
       "      <th>tenure</th>\n",
       "      <th>PhoneService</th>\n",
       "      <th>MultipleLines</th>\n",
       "      <th>InternetService</th>\n",
       "      <th>OnlineSecurity</th>\n",
       "      <th>OnlineBackup</th>\n",
       "      <th>DeviceProtection</th>\n",
       "      <th>TechSupport</th>\n",
       "      <th>StreamingTV</th>\n",
       "      <th>StreamingMovies</th>\n",
       "      <th>Contract</th>\n",
       "      <th>PaperlessBilling</th>\n",
       "      <th>PaymentMethod</th>\n",
       "      <th>MonthlyCharges</th>\n",
       "      <th>TotalCharges</th>\n",
       "    </tr>\n",
       "  </thead>\n",
       "  <tbody>\n",
       "    <tr>\n",
       "      <th>0</th>\n",
       "      <td>0.0</td>\n",
       "      <td>0.0</td>\n",
       "      <td>1.0</td>\n",
       "      <td>0.0</td>\n",
       "      <td>1.0</td>\n",
       "      <td>0.0</td>\n",
       "      <td>1.0</td>\n",
       "      <td>0.0</td>\n",
       "      <td>0.0</td>\n",
       "      <td>2.0</td>\n",
       "      <td>0.0</td>\n",
       "      <td>0.0</td>\n",
       "      <td>0.0</td>\n",
       "      <td>0.0</td>\n",
       "      <td>0.0</td>\n",
       "      <td>1.0</td>\n",
       "      <td>2.0</td>\n",
       "      <td>29.85</td>\n",
       "      <td>29.85</td>\n",
       "    </tr>\n",
       "    <tr>\n",
       "      <th>1</th>\n",
       "      <td>1.0</td>\n",
       "      <td>0.0</td>\n",
       "      <td>0.0</td>\n",
       "      <td>0.0</td>\n",
       "      <td>34.0</td>\n",
       "      <td>1.0</td>\n",
       "      <td>0.0</td>\n",
       "      <td>0.0</td>\n",
       "      <td>2.0</td>\n",
       "      <td>0.0</td>\n",
       "      <td>2.0</td>\n",
       "      <td>0.0</td>\n",
       "      <td>0.0</td>\n",
       "      <td>0.0</td>\n",
       "      <td>1.0</td>\n",
       "      <td>0.0</td>\n",
       "      <td>3.0</td>\n",
       "      <td>56.95</td>\n",
       "      <td>1889.50</td>\n",
       "    </tr>\n",
       "    <tr>\n",
       "      <th>2</th>\n",
       "      <td>1.0</td>\n",
       "      <td>0.0</td>\n",
       "      <td>0.0</td>\n",
       "      <td>0.0</td>\n",
       "      <td>2.0</td>\n",
       "      <td>1.0</td>\n",
       "      <td>0.0</td>\n",
       "      <td>0.0</td>\n",
       "      <td>2.0</td>\n",
       "      <td>2.0</td>\n",
       "      <td>0.0</td>\n",
       "      <td>0.0</td>\n",
       "      <td>0.0</td>\n",
       "      <td>0.0</td>\n",
       "      <td>0.0</td>\n",
       "      <td>1.0</td>\n",
       "      <td>3.0</td>\n",
       "      <td>53.85</td>\n",
       "      <td>108.15</td>\n",
       "    </tr>\n",
       "    <tr>\n",
       "      <th>3</th>\n",
       "      <td>1.0</td>\n",
       "      <td>0.0</td>\n",
       "      <td>0.0</td>\n",
       "      <td>0.0</td>\n",
       "      <td>45.0</td>\n",
       "      <td>0.0</td>\n",
       "      <td>1.0</td>\n",
       "      <td>0.0</td>\n",
       "      <td>2.0</td>\n",
       "      <td>0.0</td>\n",
       "      <td>2.0</td>\n",
       "      <td>2.0</td>\n",
       "      <td>0.0</td>\n",
       "      <td>0.0</td>\n",
       "      <td>1.0</td>\n",
       "      <td>0.0</td>\n",
       "      <td>0.0</td>\n",
       "      <td>42.30</td>\n",
       "      <td>1840.75</td>\n",
       "    </tr>\n",
       "    <tr>\n",
       "      <th>4</th>\n",
       "      <td>0.0</td>\n",
       "      <td>0.0</td>\n",
       "      <td>0.0</td>\n",
       "      <td>0.0</td>\n",
       "      <td>2.0</td>\n",
       "      <td>1.0</td>\n",
       "      <td>0.0</td>\n",
       "      <td>1.0</td>\n",
       "      <td>0.0</td>\n",
       "      <td>0.0</td>\n",
       "      <td>0.0</td>\n",
       "      <td>0.0</td>\n",
       "      <td>0.0</td>\n",
       "      <td>0.0</td>\n",
       "      <td>0.0</td>\n",
       "      <td>1.0</td>\n",
       "      <td>2.0</td>\n",
       "      <td>70.70</td>\n",
       "      <td>151.65</td>\n",
       "    </tr>\n",
       "  </tbody>\n",
       "</table>\n",
       "</div>"
      ],
      "text/plain": [
       "   gender  SeniorCitizen  Partner  Dependents  tenure  PhoneService  \\\n",
       "0     0.0            0.0      1.0         0.0     1.0           0.0   \n",
       "1     1.0            0.0      0.0         0.0    34.0           1.0   \n",
       "2     1.0            0.0      0.0         0.0     2.0           1.0   \n",
       "3     1.0            0.0      0.0         0.0    45.0           0.0   \n",
       "4     0.0            0.0      0.0         0.0     2.0           1.0   \n",
       "\n",
       "   MultipleLines  InternetService  OnlineSecurity  OnlineBackup  \\\n",
       "0            1.0              0.0             0.0           2.0   \n",
       "1            0.0              0.0             2.0           0.0   \n",
       "2            0.0              0.0             2.0           2.0   \n",
       "3            1.0              0.0             2.0           0.0   \n",
       "4            0.0              1.0             0.0           0.0   \n",
       "\n",
       "   DeviceProtection  TechSupport  StreamingTV  StreamingMovies  Contract  \\\n",
       "0               0.0          0.0          0.0              0.0       0.0   \n",
       "1               2.0          0.0          0.0              0.0       1.0   \n",
       "2               0.0          0.0          0.0              0.0       0.0   \n",
       "3               2.0          2.0          0.0              0.0       1.0   \n",
       "4               0.0          0.0          0.0              0.0       0.0   \n",
       "\n",
       "   PaperlessBilling  PaymentMethod  MonthlyCharges  TotalCharges  \n",
       "0               1.0            2.0           29.85         29.85  \n",
       "1               0.0            3.0           56.95       1889.50  \n",
       "2               1.0            3.0           53.85        108.15  \n",
       "3               0.0            0.0           42.30       1840.75  \n",
       "4               1.0            2.0           70.70        151.65  "
      ]
     },
     "execution_count": 29,
     "metadata": {},
     "output_type": "execute_result"
    }
   ],
   "source": [
    "X.head()"
   ]
  },
  {
   "cell_type": "markdown",
   "metadata": {},
   "source": [
    "### Split data set into training and test datasets"
   ]
  },
  {
   "cell_type": "code",
   "execution_count": 30,
   "metadata": {},
   "outputs": [
    {
     "name": "stdout",
     "output_type": "stream",
     "text": [
      "(7043, 20)\n",
      "(7043, 19)\n",
      "(5634, 19)\n",
      "(1409, 19)\n",
      "(5634,)\n",
      "(1409,)\n"
     ]
    }
   ],
   "source": [
    "# Use train_test_split in sklearn to split the data in training and test set.\n",
    "\n",
    "X_train, X_test, y_train, y_test = train_test_split(X, y, test_size=0.20, shuffle= True, random_state=42)\n",
    "\n",
    "print(dataframe.shape)\n",
    "print(X.shape)\n",
    "\n",
    "print(X_train.shape)\n",
    "print(X_test.shape)\n",
    "print(y_train.shape)\n",
    "print(y_test.shape)\n"
   ]
  },
  {
   "cell_type": "markdown",
   "metadata": {},
   "source": [
    "### Scaling the data \n",
    "\n",
    "#### For Support Vector machines we need to standardize the features by removing the mean and scaling to unit variance\n",
    "\n",
    "##### Reference: https://scikit-learn.org/stable/modules/generated/sklearn.preprocessing.StandardScaler.html"
   ]
  },
  {
   "cell_type": "code",
   "execution_count": 31,
   "metadata": {},
   "outputs": [
    {
     "data": {
      "text/html": [
       "<div>\n",
       "<style scoped>\n",
       "    .dataframe tbody tr th:only-of-type {\n",
       "        vertical-align: middle;\n",
       "    }\n",
       "\n",
       "    .dataframe tbody tr th {\n",
       "        vertical-align: top;\n",
       "    }\n",
       "\n",
       "    .dataframe thead th {\n",
       "        text-align: right;\n",
       "    }\n",
       "</style>\n",
       "<table border=\"1\" class=\"dataframe\">\n",
       "  <thead>\n",
       "    <tr style=\"text-align: right;\">\n",
       "      <th></th>\n",
       "      <th>gender</th>\n",
       "      <th>SeniorCitizen</th>\n",
       "      <th>Partner</th>\n",
       "      <th>Dependents</th>\n",
       "      <th>tenure</th>\n",
       "      <th>PhoneService</th>\n",
       "      <th>MultipleLines</th>\n",
       "      <th>InternetService</th>\n",
       "      <th>OnlineSecurity</th>\n",
       "      <th>OnlineBackup</th>\n",
       "      <th>DeviceProtection</th>\n",
       "      <th>TechSupport</th>\n",
       "      <th>StreamingTV</th>\n",
       "      <th>StreamingMovies</th>\n",
       "      <th>Contract</th>\n",
       "      <th>PaperlessBilling</th>\n",
       "      <th>PaymentMethod</th>\n",
       "      <th>MonthlyCharges</th>\n",
       "      <th>TotalCharges</th>\n",
       "    </tr>\n",
       "  </thead>\n",
       "  <tbody>\n",
       "    <tr>\n",
       "      <th>0</th>\n",
       "      <td>-1.025166</td>\n",
       "      <td>-0.437749</td>\n",
       "      <td>-0.969579</td>\n",
       "      <td>1.532186</td>\n",
       "      <td>-0.465683</td>\n",
       "      <td>0.329573</td>\n",
       "      <td>-1.000537</td>\n",
       "      <td>-1.182347</td>\n",
       "      <td>1.410879</td>\n",
       "      <td>-1.038357</td>\n",
       "      <td>1.248658</td>\n",
       "      <td>-0.921484</td>\n",
       "      <td>-1.117461</td>\n",
       "      <td>1.134234</td>\n",
       "      <td>0.372908</td>\n",
       "      <td>-1.200007</td>\n",
       "      <td>1.339267</td>\n",
       "      <td>-0.000474</td>\n",
       "      <td>-0.422099</td>\n",
       "    </tr>\n",
       "    <tr>\n",
       "      <th>1</th>\n",
       "      <td>-1.025166</td>\n",
       "      <td>-0.437749</td>\n",
       "      <td>-0.969579</td>\n",
       "      <td>-0.652662</td>\n",
       "      <td>0.885537</td>\n",
       "      <td>0.329573</td>\n",
       "      <td>1.108339</td>\n",
       "      <td>0.174618</td>\n",
       "      <td>-0.915399</td>\n",
       "      <td>1.230004</td>\n",
       "      <td>-1.023609</td>\n",
       "      <td>-0.921484</td>\n",
       "      <td>1.140708</td>\n",
       "      <td>1.134234</td>\n",
       "      <td>1.577591</td>\n",
       "      <td>0.833328</td>\n",
       "      <td>-1.470949</td>\n",
       "      <td>1.074754</td>\n",
       "      <td>1.255366</td>\n",
       "    </tr>\n",
       "    <tr>\n",
       "      <th>2</th>\n",
       "      <td>0.975452</td>\n",
       "      <td>-0.437749</td>\n",
       "      <td>1.031376</td>\n",
       "      <td>-0.652662</td>\n",
       "      <td>-1.284605</td>\n",
       "      <td>-3.034225</td>\n",
       "      <td>0.053901</td>\n",
       "      <td>-1.182347</td>\n",
       "      <td>-0.915399</td>\n",
       "      <td>-1.038357</td>\n",
       "      <td>-1.023609</td>\n",
       "      <td>-0.921484</td>\n",
       "      <td>-1.117461</td>\n",
       "      <td>-1.123814</td>\n",
       "      <td>-0.831774</td>\n",
       "      <td>0.833328</td>\n",
       "      <td>0.402528</td>\n",
       "      <td>-1.376499</td>\n",
       "      <td>-1.002985</td>\n",
       "    </tr>\n",
       "    <tr>\n",
       "      <th>3</th>\n",
       "      <td>0.975452</td>\n",
       "      <td>-0.437749</td>\n",
       "      <td>-0.969579</td>\n",
       "      <td>-0.652662</td>\n",
       "      <td>-1.161766</td>\n",
       "      <td>0.329573</td>\n",
       "      <td>-1.000537</td>\n",
       "      <td>0.174618</td>\n",
       "      <td>-0.915399</td>\n",
       "      <td>-1.038357</td>\n",
       "      <td>-1.023609</td>\n",
       "      <td>-0.921484</td>\n",
       "      <td>-1.117461</td>\n",
       "      <td>-1.123814</td>\n",
       "      <td>-0.831774</td>\n",
       "      <td>0.833328</td>\n",
       "      <td>0.402528</td>\n",
       "      <td>0.177346</td>\n",
       "      <td>-0.908113</td>\n",
       "    </tr>\n",
       "    <tr>\n",
       "      <th>4</th>\n",
       "      <td>0.975452</td>\n",
       "      <td>-0.437749</td>\n",
       "      <td>-0.969579</td>\n",
       "      <td>1.532186</td>\n",
       "      <td>-1.325551</td>\n",
       "      <td>0.329573</td>\n",
       "      <td>1.108339</td>\n",
       "      <td>-1.182347</td>\n",
       "      <td>1.410879</td>\n",
       "      <td>1.230004</td>\n",
       "      <td>-1.023609</td>\n",
       "      <td>1.400358</td>\n",
       "      <td>-1.117461</td>\n",
       "      <td>-1.123814</td>\n",
       "      <td>1.577591</td>\n",
       "      <td>0.833328</td>\n",
       "      <td>-1.470949</td>\n",
       "      <td>-0.098524</td>\n",
       "      <td>-0.003468</td>\n",
       "    </tr>\n",
       "  </tbody>\n",
       "</table>\n",
       "</div>"
      ],
      "text/plain": [
       "     gender  SeniorCitizen   Partner  Dependents    tenure  PhoneService  \\\n",
       "0 -1.025166      -0.437749 -0.969579    1.532186 -0.465683      0.329573   \n",
       "1 -1.025166      -0.437749 -0.969579   -0.652662  0.885537      0.329573   \n",
       "2  0.975452      -0.437749  1.031376   -0.652662 -1.284605     -3.034225   \n",
       "3  0.975452      -0.437749 -0.969579   -0.652662 -1.161766      0.329573   \n",
       "4  0.975452      -0.437749 -0.969579    1.532186 -1.325551      0.329573   \n",
       "\n",
       "   MultipleLines  InternetService  OnlineSecurity  OnlineBackup  \\\n",
       "0      -1.000537        -1.182347        1.410879     -1.038357   \n",
       "1       1.108339         0.174618       -0.915399      1.230004   \n",
       "2       0.053901        -1.182347       -0.915399     -1.038357   \n",
       "3      -1.000537         0.174618       -0.915399     -1.038357   \n",
       "4       1.108339        -1.182347        1.410879      1.230004   \n",
       "\n",
       "   DeviceProtection  TechSupport  StreamingTV  StreamingMovies  Contract  \\\n",
       "0          1.248658    -0.921484    -1.117461         1.134234  0.372908   \n",
       "1         -1.023609    -0.921484     1.140708         1.134234  1.577591   \n",
       "2         -1.023609    -0.921484    -1.117461        -1.123814 -0.831774   \n",
       "3         -1.023609    -0.921484    -1.117461        -1.123814 -0.831774   \n",
       "4         -1.023609     1.400358    -1.117461        -1.123814  1.577591   \n",
       "\n",
       "   PaperlessBilling  PaymentMethod  MonthlyCharges  TotalCharges  \n",
       "0         -1.200007       1.339267       -0.000474     -0.422099  \n",
       "1          0.833328      -1.470949        1.074754      1.255366  \n",
       "2          0.833328       0.402528       -1.376499     -1.002985  \n",
       "3          0.833328       0.402528        0.177346     -0.908113  \n",
       "4          0.833328      -1.470949       -0.098524     -0.003468  "
      ]
     },
     "execution_count": 31,
     "metadata": {},
     "output_type": "execute_result"
    }
   ],
   "source": [
    "# Store the features labels\n",
    "features = X.columns.values\n",
    "\n",
    "# Scale the data with respect to the training data set\n",
    "scaler = StandardScaler()\n",
    "scaler.fit(X_train)\n",
    "\n",
    "# Scaling the Train data set using the transform defined by the train set.\n",
    "X_scaled_train = pd.DataFrame(scaler.transform(X_train))\n",
    "\n",
    "# Scaling the Test set using the transform defined by the train set.\n",
    "X_scaled_test = pd.DataFrame(scaler.transform(X_test))\n",
    "\n",
    "# Add the features back for display purpose\n",
    "X_scaled_train.columns = features\n",
    "X_scaled_train.head()\n"
   ]
  },
  {
   "cell_type": "markdown",
   "metadata": {},
   "source": [
    "### Analysis on Dimensionality Reduction using PCA on the dataset\n",
    "\n",
    "#### Using PCA on the training data from sklearn.decompostion to find the principal components\n",
    "#### Based on the proportion of variance for each principal component we can determine the number of features to be used as input features in the model. \n",
    "\n",
    "###### Reference: CE4031 Lab week 6"
   ]
  },
  {
   "cell_type": "code",
   "execution_count": 32,
   "metadata": {},
   "outputs": [
    {
     "name": "stdout",
     "output_type": "stream",
     "text": [
      "Singular values = \n",
      " [154.42018384 114.10624451  91.68522347  82.72530436  77.39917502\n",
      "  75.16752818  72.96010308  70.14693904  67.46524101  66.17233348\n",
      "  63.468339    62.74772187  62.44758424  56.84859968  56.25270652\n",
      "  51.3779839   42.41501614  33.24216276  17.62129209]\n",
      "\n",
      "Proportion of variance = \n",
      " [0.22276024 0.12163215 0.07852867 0.06393024 0.05596316 0.05278252\n",
      " 0.04972794 0.04596709 0.04251965 0.04090557 0.03763083 0.03678117\n",
      " 0.03643014 0.03019042 0.02956081 0.02465947 0.01680617 0.01032305\n",
      " 0.00290071]\n"
     ]
    },
    {
     "data": {
      "image/png": "[encoded data removed]",
      "text/plain": [
       "<Figure size 432x288 with 1 Axes>"
      ]
     },
     "metadata": {},
     "output_type": "display_data"
    }
   ],
   "source": [
    "pca = PCA(n_components=X_scaled_train.shape[1])\n",
    "\n",
    "# Building PCA only on the scaled training data set (not on whole data) to avoid bais with test data set.\n",
    "pca.fit(X_scaled_train)\n",
    "\n",
    "# Output PCA variance results\n",
    "print(\"Singular values = \\n\",pca.singular_values_)  \n",
    "print(\"\\nProportion of variance = \\n\",pca.explained_variance_ratio_)  \n",
    "\n",
    "# Plot the results to see how many features are really needed\n",
    "plt.plot(pca.explained_variance_ratio_)\n",
    "plt.plot(pca.explained_variance_ratio_.cumsum())\n",
    "plt.title(\"Cummulative PCA variance explained graph\")\n",
    "plt.xlabel(\"Number of Components\")\n",
    "plt.ylabel('Cummulative Variance')\n",
    "plt.grid()"
   ]
  },
  {
   "cell_type": "markdown",
   "metadata": {},
   "source": [
    "We can observe that the first 18 components have high variance.\n",
    "- We might ignore the PCA as there is just 19 components and 18 shows high variance. \n",
    "- But, lets pick the first 18 components and apply the PCA transform on train and test data set"
   ]
  },
  {
   "cell_type": "code",
   "execution_count": 33,
   "metadata": {},
   "outputs": [
    {
     "name": "stdout",
     "output_type": "stream",
     "text": [
      "(5634, 18)\n",
      "(1409, 18)\n"
     ]
    }
   ],
   "source": [
    "# Applying the PCA transform on the Training data set\n",
    "X_pca_train = pca.transform(X_scaled_train)\n",
    "\n",
    "# Set X_PCA_train to the chosen principal components\n",
    "X_PCA_train = X_pca_train[:,:18]\n",
    "\n",
    "# Applying the PCA transform on the Test data set\n",
    "X_pca_test = pca.transform(X_scaled_test)\n",
    "X_PCA_test = X_pca_test[:,:18]\n",
    "\n",
    "print(X_PCA_train.shape)\n",
    "print(X_PCA_test.shape)"
   ]
  },
  {
   "cell_type": "markdown",
   "metadata": {},
   "source": [
    "# Algorithm Training, Model Selection and Evaluation\n",
    "\n",
    "### Using Grid Search with Cross Validation to perform an exhaustive search over specified parameter values for SVM classifier\n",
    "\n",
    "##### Reference: \n",
    "- http://scikit-learn.org/stable/modules/generated/sklearn.model_selection.GridSearchCV.html\n",
    "- https://scikit-learn.org/stable/modules/grid_search.html"
   ]
  },
  {
   "cell_type": "code",
   "execution_count": 34,
   "metadata": {},
   "outputs": [
    {
     "name": "stdout",
     "output_type": "stream",
     "text": [
      "Best parameters set found on training set:\n",
      "{'C': 10, 'kernel': 'rbf', 'gamma': 0.001}\n",
      "\n",
      "CPU times: user 9.03 s, sys: 1.17 s, total: 10.2 s\n",
      "Wall time: 1min 45s\n"
     ]
    }
   ],
   "source": [
    "%%time\n",
    "\n",
    "# Important parameters in SVC are: \"C\", \"gamma\" and the \"kernel\"\n",
    "hyper_parameters = {'C':[1,10,100],'gamma':[1,0.1,0.001,0.0001], 'kernel':['linear','rbf']}\n",
    "   \n",
    "# Using a SVM classifier\n",
    "# We need the probabilty set as True to get the ROC curve\n",
    "classifier = SVC(probability=True, random_state=42)\n",
    "\n",
    "# Using 5 fold cross-validation in grid search\n",
    "model = GridSearchCV(classifier, hyper_parameters, cv=5, n_jobs=-1)\n",
    "model.fit(X_PCA_train, y_train)\n",
    "\n",
    "print(\"Best SVM classifier parameters set found on training set:\")\n",
    "print(model.best_params_)\n",
    "print()"
   ]
  },
  {
   "cell_type": "code",
   "execution_count": 35,
   "metadata": {},
   "outputs": [
    {
     "name": "stdout",
     "output_type": "stream",
     "text": [
      "The accuray on the test data:\n",
      "0.8218594748048261\n",
      "\n",
      "Detailed classification report:\n",
      "             precision    recall  f1-score   support\n",
      "\n",
      "        0.0       0.86      0.91      0.88      1036\n",
      "        1.0       0.70      0.58      0.63       373\n",
      "\n",
      "avg / total       0.81      0.82      0.82      1409\n",
      "\n",
      "\n",
      "Confusion matrix report:\n",
      "[[941  95]\n",
      " [156 217]]\n",
      "\n",
      "CPU times: user 216 ms, sys: 4 ms, total: 220 ms\n",
      "Wall time: 217 ms\n"
     ]
    }
   ],
   "source": [
    "%%time\n",
    "\n",
    "# Make predictions on test set\n",
    "predictions = model.predict(X_PCA_test)\n",
    "\n",
    "# Test accuracy\n",
    "print(\"The accuray on the test data:\")\n",
    "print(metrics.accuracy_score(y_test, predictions))\n",
    "print()\n",
    "\n",
    "print(\"Detailed classification report:\")\n",
    "print(classification_report(y_test, predictions))\n",
    "print()\n",
    "\n",
    "print(\"Confusion matrix report:\")\n",
    "print(confusion_matrix(y_test, predictions))\n",
    "print()\n",
    "\n",
    "# TODO: seaborn for conusion matrix?"
   ]
  },
  {
   "cell_type": "markdown",
   "metadata": {},
   "source": [
    "## Visualization of the ROC curve for the classification problem\n",
    "##### Reference: \n",
    "- http://scikit-learn.org/stable/auto_examples/model_selection/plot_roc_crossval.html\n"
   ]
  },
  {
   "cell_type": "code",
   "execution_count": 36,
   "metadata": {
    "scrolled": true
   },
   "outputs": [
    {
     "data": {
      "image/png": "[encoded data removed]",
      "text/plain": [
       "<Figure size 432x288 with 1 Axes>"
      ]
     },
     "metadata": {},
     "output_type": "display_data"
    },
    {
     "name": "stdout",
     "output_type": "stream",
     "text": [
      "CPU times: user 480 ms, sys: 1.5 s, total: 1.98 s\n",
      "Wall time: 373 ms\n"
     ]
    }
   ],
   "source": [
    "%%time\n",
    "\n",
    "# Find the ROC curve:\n",
    "# Call predict_proba on the estimator with the best found model parameters and find the area under the curve\n",
    "\n",
    "probabilities = model.predict_proba(X_PCA_test)\n",
    "    \n",
    "fpr,tpr,thresholds = roc_curve(y_test,probabilities[:,1])\n",
    "\n",
    "area_under_curve = roc_auc_score(y_test, predictions)\n",
    "\n",
    "plt.plot(fpr,tpr,linestyle = \"dashed\",\n",
    "         color = \"blue\", linewidth = 2,\n",
    "         label = \"AUC = \" + str(np.around(area_under_curve,3)))\n",
    "\n",
    "plt.plot([0,1],[0,1],linestyle = \"dashed\", color = \"red\",linewidth = 1.5)\n",
    "\n",
    "plt.legend(loc = \"lower right\", prop = {\"size\" : 12})\n",
    "plt.grid(True, alpha = .15)\n",
    "\n",
    "plt.xlim([-0.05, 1.05])\n",
    "plt.ylim([-0.05, 1.05])\n",
    "plt.xlabel('False Positive Rate')\n",
    "plt.ylabel('True Positive Rate')\n",
    "plt.title('Receiver operating characteristic curve')\n",
    "plt.legend(loc=\"lower right\")\n",
    "plt.show()"
   ]
  },
  {
   "cell_type": "code",
   "execution_count": null,
   "metadata": {},
   "outputs": [],
   "source": []
  }
 ],
 "metadata": {
  "kernelspec": {
   "display_name": "Python 3",
   "language": "python",
   "name": "python3"
  },
  "language_info": {
   "codemirror_mode": {
    "name": "ipython",
    "version": 3
   },
   "file_extension": ".py",
   "mimetype": "text/x-python",
   "name": "python",
   "nbconvert_exporter": "python",
   "pygments_lexer": "ipython3",
   "version": "3.6.5"
  }
 },
 "nbformat": 4,
 "nbformat_minor": 2
}
