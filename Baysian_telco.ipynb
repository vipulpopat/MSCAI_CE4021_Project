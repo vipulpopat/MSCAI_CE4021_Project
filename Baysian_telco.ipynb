{
 "cells": [
  {
   "cell_type": "markdown",
   "metadata": {},
   "source": [
    "# C4021 - Group 4.2 \n",
    "## Project work Weeks 7-9\n",
    "### Participants\n",
    "\n",
    "| Student Name   |   Id    |\n",
    "|----------|:-------------:|\n",
    "| Michel DANJOU |  18263461 |\n",
    "| Brian PARLE | |\n",
    "| Gerry KERLEY | |\n",
    "| Gana SUBRAMANIAN | |\n",
    "\n",
    "\n",
    "## Machine Learning Algorithm: Baysian Classifier\n",
    "Source: http://scikit-learn.org/stable/modules/naive_bayes.html\n",
    "\n",
    "\n",
    "## Dataset Information\n",
    "\n",
    "_Source:_ https://www.kaggle.com/blastchar/telco-customer-churn\n",
    "\n",
    "**Content**\n",
    "\n",
    "Each row represents a customer, each column contains customer attributes described in the column Metadata.\n",
    "\n",
    "The data set includes information about:\n",
    "\n",
    "  *  Customers who left within the last month – the column is called Churn\n",
    "  *  Services that each customer has signed up for – phone, multiple lines, internet, online security, online backup, device protection, tech support, and streaming TV and movies\n",
    "  *  Customer account information – how long they’ve been a customer, contract, payment method, paperless billing, monthly charges, and total charges\n",
    "  *  Demographic info about customers – gender, age range, and if they have partners and dependents\n",
    "\n",
    "The raw data contains **7043 rows (customers) and 21 columns (features)**. \n",
    "\n",
    "List of features:\n",
    "customerID, gender,\tSeniorCitizen, Partner, Dependents,\ttenure,\tPhoneService, MultipleLines, InternetService, OnlineSecurity, OnlineBackup,\tDeviceProtection, TechSupport, StreamingTV,\tStreamingMovies, Contract, PaperlessBilling, PaymentMethod, MonthlyCharges,\tTotalCharges\n",
    "\n",
    "The label is the Churn.\n",
    "\n",
    "\n",
    "**Inspiration**\n",
    "\"Predict behavior to retain customers. You can analyze all relevant customer data and develop focused customer retention programs.\" [IBM Sample Data Sets]\n",
    "\n",
    "\n",
    "\n",
    "## Notebook Structure\n",
    "\n",
    "1. Data Loading and Pre-processing\n",
    "1. Model training and testing\n",
    "1. Model graphing\n",
    "1. Model analysis: further eaxamination of significant features etc.\n",
    "\n",
    "\n",
    "## Team Contributions:\n",
    "**Training data**\n",
    "  * Michel Danjou\n",
    "\n",
    "**Pre-processing**\n",
    "  * Michel Danjou\n",
    "\n",
    "**Algorithm training and evaluation**\n",
    "  * Michel Danjou\n",
    "\n",
    "**Visualisation of outputs**\n",
    "  * Michel Danjou\n"
   ]
  },
  {
   "cell_type": "markdown",
   "metadata": {},
   "source": [
    "# Data loading"
   ]
  },
  {
   "cell_type": "code",
   "execution_count": 1,
   "metadata": {},
   "outputs": [
    {
     "name": "stdout",
     "output_type": "stream",
     "text": [
      "Once deleted, variables cannot be recovered. Proceed (y/[n])? y\n"
     ]
    },
    {
     "data": {
      "text/html": [
       "<div>\n",
       "<style scoped>\n",
       "    .dataframe tbody tr th:only-of-type {\n",
       "        vertical-align: middle;\n",
       "    }\n",
       "\n",
       "    .dataframe tbody tr th {\n",
       "        vertical-align: top;\n",
       "    }\n",
       "\n",
       "    .dataframe thead th {\n",
       "        text-align: right;\n",
       "    }\n",
       "</style>\n",
       "<table border=\"1\" class=\"dataframe\">\n",
       "  <thead>\n",
       "    <tr style=\"text-align: right;\">\n",
       "      <th></th>\n",
       "      <th>customerID</th>\n",
       "      <th>gender</th>\n",
       "      <th>SeniorCitizen</th>\n",
       "      <th>Partner</th>\n",
       "      <th>Dependents</th>\n",
       "      <th>tenure</th>\n",
       "      <th>PhoneService</th>\n",
       "      <th>MultipleLines</th>\n",
       "      <th>InternetService</th>\n",
       "      <th>OnlineSecurity</th>\n",
       "      <th>...</th>\n",
       "      <th>DeviceProtection</th>\n",
       "      <th>TechSupport</th>\n",
       "      <th>StreamingTV</th>\n",
       "      <th>StreamingMovies</th>\n",
       "      <th>Contract</th>\n",
       "      <th>PaperlessBilling</th>\n",
       "      <th>PaymentMethod</th>\n",
       "      <th>MonthlyCharges</th>\n",
       "      <th>TotalCharges</th>\n",
       "      <th>Churn</th>\n",
       "    </tr>\n",
       "  </thead>\n",
       "  <tbody>\n",
       "    <tr>\n",
       "      <th>0</th>\n",
       "      <td>7590-VHVEG</td>\n",
       "      <td>Female</td>\n",
       "      <td>0</td>\n",
       "      <td>Yes</td>\n",
       "      <td>No</td>\n",
       "      <td>1</td>\n",
       "      <td>No</td>\n",
       "      <td>No phone service</td>\n",
       "      <td>DSL</td>\n",
       "      <td>No</td>\n",
       "      <td>...</td>\n",
       "      <td>No</td>\n",
       "      <td>No</td>\n",
       "      <td>No</td>\n",
       "      <td>No</td>\n",
       "      <td>Month-to-month</td>\n",
       "      <td>Yes</td>\n",
       "      <td>Electronic check</td>\n",
       "      <td>29.85</td>\n",
       "      <td>29.85</td>\n",
       "      <td>No</td>\n",
       "    </tr>\n",
       "    <tr>\n",
       "      <th>1</th>\n",
       "      <td>5575-GNVDE</td>\n",
       "      <td>Male</td>\n",
       "      <td>0</td>\n",
       "      <td>No</td>\n",
       "      <td>No</td>\n",
       "      <td>34</td>\n",
       "      <td>Yes</td>\n",
       "      <td>No</td>\n",
       "      <td>DSL</td>\n",
       "      <td>Yes</td>\n",
       "      <td>...</td>\n",
       "      <td>Yes</td>\n",
       "      <td>No</td>\n",
       "      <td>No</td>\n",
       "      <td>No</td>\n",
       "      <td>One year</td>\n",
       "      <td>No</td>\n",
       "      <td>Mailed check</td>\n",
       "      <td>56.95</td>\n",
       "      <td>1889.5</td>\n",
       "      <td>No</td>\n",
       "    </tr>\n",
       "    <tr>\n",
       "      <th>2</th>\n",
       "      <td>3668-QPYBK</td>\n",
       "      <td>Male</td>\n",
       "      <td>0</td>\n",
       "      <td>No</td>\n",
       "      <td>No</td>\n",
       "      <td>2</td>\n",
       "      <td>Yes</td>\n",
       "      <td>No</td>\n",
       "      <td>DSL</td>\n",
       "      <td>Yes</td>\n",
       "      <td>...</td>\n",
       "      <td>No</td>\n",
       "      <td>No</td>\n",
       "      <td>No</td>\n",
       "      <td>No</td>\n",
       "      <td>Month-to-month</td>\n",
       "      <td>Yes</td>\n",
       "      <td>Mailed check</td>\n",
       "      <td>53.85</td>\n",
       "      <td>108.15</td>\n",
       "      <td>Yes</td>\n",
       "    </tr>\n",
       "    <tr>\n",
       "      <th>3</th>\n",
       "      <td>7795-CFOCW</td>\n",
       "      <td>Male</td>\n",
       "      <td>0</td>\n",
       "      <td>No</td>\n",
       "      <td>No</td>\n",
       "      <td>45</td>\n",
       "      <td>No</td>\n",
       "      <td>No phone service</td>\n",
       "      <td>DSL</td>\n",
       "      <td>Yes</td>\n",
       "      <td>...</td>\n",
       "      <td>Yes</td>\n",
       "      <td>Yes</td>\n",
       "      <td>No</td>\n",
       "      <td>No</td>\n",
       "      <td>One year</td>\n",
       "      <td>No</td>\n",
       "      <td>Bank transfer (automatic)</td>\n",
       "      <td>42.30</td>\n",
       "      <td>1840.75</td>\n",
       "      <td>No</td>\n",
       "    </tr>\n",
       "    <tr>\n",
       "      <th>4</th>\n",
       "      <td>9237-HQITU</td>\n",
       "      <td>Female</td>\n",
       "      <td>0</td>\n",
       "      <td>No</td>\n",
       "      <td>No</td>\n",
       "      <td>2</td>\n",
       "      <td>Yes</td>\n",
       "      <td>No</td>\n",
       "      <td>Fiber optic</td>\n",
       "      <td>No</td>\n",
       "      <td>...</td>\n",
       "      <td>No</td>\n",
       "      <td>No</td>\n",
       "      <td>No</td>\n",
       "      <td>No</td>\n",
       "      <td>Month-to-month</td>\n",
       "      <td>Yes</td>\n",
       "      <td>Electronic check</td>\n",
       "      <td>70.70</td>\n",
       "      <td>151.65</td>\n",
       "      <td>Yes</td>\n",
       "    </tr>\n",
       "  </tbody>\n",
       "</table>\n",
       "<p>5 rows × 21 columns</p>\n",
       "</div>"
      ],
      "text/plain": [
       "   customerID  gender  SeniorCitizen Partner Dependents  tenure PhoneService  \\\n",
       "0  7590-VHVEG  Female              0     Yes         No       1           No   \n",
       "1  5575-GNVDE    Male              0      No         No      34          Yes   \n",
       "2  3668-QPYBK    Male              0      No         No       2          Yes   \n",
       "3  7795-CFOCW    Male              0      No         No      45           No   \n",
       "4  9237-HQITU  Female              0      No         No       2          Yes   \n",
       "\n",
       "      MultipleLines InternetService OnlineSecurity  ...  DeviceProtection  \\\n",
       "0  No phone service             DSL             No  ...                No   \n",
       "1                No             DSL            Yes  ...               Yes   \n",
       "2                No             DSL            Yes  ...                No   \n",
       "3  No phone service             DSL            Yes  ...               Yes   \n",
       "4                No     Fiber optic             No  ...                No   \n",
       "\n",
       "  TechSupport StreamingTV StreamingMovies        Contract PaperlessBilling  \\\n",
       "0          No          No              No  Month-to-month              Yes   \n",
       "1          No          No              No        One year               No   \n",
       "2          No          No              No  Month-to-month              Yes   \n",
       "3         Yes          No              No        One year               No   \n",
       "4          No          No              No  Month-to-month              Yes   \n",
       "\n",
       "               PaymentMethod MonthlyCharges  TotalCharges Churn  \n",
       "0           Electronic check          29.85         29.85    No  \n",
       "1               Mailed check          56.95        1889.5    No  \n",
       "2               Mailed check          53.85        108.15   Yes  \n",
       "3  Bank transfer (automatic)          42.30       1840.75    No  \n",
       "4           Electronic check          70.70        151.65   Yes  \n",
       "\n",
       "[5 rows x 21 columns]"
      ]
     },
     "execution_count": 1,
     "metadata": {},
     "output_type": "execute_result"
    }
   ],
   "source": [
    "%reset\n",
    "%matplotlib inline\n",
    "%config IPCompleter.greedy=True\n",
    "\n",
    "from sklearn import datasets\n",
    "from sklearn.naive_bayes import GaussianNB\n",
    "from sklearn.decomposition import PCA\n",
    "from sklearn.preprocessing import StandardScaler\n",
    "from sklearn.preprocessing import MinMaxScaler\n",
    "from sklearn.model_selection import ShuffleSplit\n",
    "from sklearn.model_selection import cross_val_score\n",
    "\n",
    "from pandas import DataFrame\n",
    "import numpy as np\n",
    "import matplotlib.pyplot as plt\n",
    "import matplotlib as matplotlib\n",
    "import pandas as pd\n",
    "import enum \n",
    "\n",
    "df = pd.read_csv('telco.csv')\n",
    "df.head()\n"
   ]
  },
  {
   "cell_type": "markdown",
   "metadata": {},
   "source": [
    "# Preprocessing"
   ]
  },
  {
   "cell_type": "markdown",
   "metadata": {},
   "source": [
    "## Handling Outliers\n",
    "1. Start by identifying the features that can be used in a box plot.\n",
    "1. Plot the columns containing numerical values to identify outliers"
   ]
  },
  {
   "cell_type": "code",
   "execution_count": 2,
   "metadata": {},
   "outputs": [
    {
     "data": {
      "text/plain": [
       "customerID           object\n",
       "gender               object\n",
       "SeniorCitizen         int64\n",
       "Partner              object\n",
       "Dependents           object\n",
       "tenure                int64\n",
       "PhoneService         object\n",
       "MultipleLines        object\n",
       "InternetService      object\n",
       "OnlineSecurity       object\n",
       "OnlineBackup         object\n",
       "DeviceProtection     object\n",
       "TechSupport          object\n",
       "StreamingTV          object\n",
       "StreamingMovies      object\n",
       "Contract             object\n",
       "PaperlessBilling     object\n",
       "PaymentMethod        object\n",
       "MonthlyCharges      float64\n",
       "TotalCharges         object\n",
       "Churn                object\n",
       "dtype: object"
      ]
     },
     "execution_count": 2,
     "metadata": {},
     "output_type": "execute_result"
    }
   ],
   "source": [
    "df.dtypes"
   ]
  },
  {
   "cell_type": "code",
   "execution_count": 3,
   "metadata": {},
   "outputs": [
    {
     "name": "stdout",
     "output_type": "stream",
     "text": [
      "\n",
      "Feature with number: SeniorCitizen\n"
     ]
    },
    {
     "data": {
      "image/png": "[encoded data removed]",
      "text/plain": [
       "<Figure size 432x288 with 1 Axes>"
      ]
     },
     "metadata": {},
     "output_type": "display_data"
    },
    {
     "name": "stdout",
     "output_type": "stream",
     "text": [
      "\n",
      "Feature with number: tenure\n"
     ]
    },
    {
     "data": {
      "image/png": "[encoded data removed]",
      "text/plain": [
       "<Figure size 432x288 with 1 Axes>"
      ]
     },
     "metadata": {},
     "output_type": "display_data"
    },
    {
     "name": "stdout",
     "output_type": "stream",
     "text": [
      "\n",
      "Feature with number: MonthlyCharges\n"
     ]
    },
    {
     "data": {
      "image/png": "[encoded data removed]",
      "text/plain": [
       "<Figure size 432x288 with 1 Axes>"
      ]
     },
     "metadata": {},
     "output_type": "display_data"
    }
   ],
   "source": [
    "features_with_numbers = ['SeniorCitizen', 'tenure', 'MonthlyCharges']\n",
    "\n",
    "for i in range(0, len(features_with_numbers)):\n",
    "    print(\"\\nFeature with number:\", features_with_numbers[i])\n",
    "    plt.boxplot(df[features_with_numbers[i]])\n",
    "    plt.show()"
   ]
  },
  {
   "cell_type": "markdown",
   "metadata": {},
   "source": [
    "## Investigating the SeniorCitizen feature\n",
    "We notice that the SeniorCitizen boxplot has no box, nor whiskers. This is because the data in that column are mainly zeros with a few ones."
   ]
  },
  {
   "cell_type": "code",
   "execution_count": null,
   "metadata": {},
   "outputs": [
    {
     "data": {
      "text/plain": [
       "array([[<matplotlib.axes._subplots.AxesSubplot object at 0x7f19bb731a20>]],\n",
       "      dtype=object)"
      ]
     },
     "execution_count": 4,
     "metadata": {},
     "output_type": "execute_result"
    }
   ],
   "source": [
    "df.hist(column=\"SeniorCitizen\")"
   ]
  },
  {
   "cell_type": "markdown",
   "metadata": {},
   "source": [
    "## Investigating the TotalCharges feature"
   ]
  },
  {
   "cell_type": "markdown",
   "metadata": {},
   "source": [
    "Although, the TotalCharges appears to be numbers, they are showing as Object in the output of ```df.dtypes```. We need to figure out why."
   ]
  },
  {
   "cell_type": "code",
   "execution_count": null,
   "metadata": {},
   "outputs": [],
   "source": [
    "print(df['TotalCharges'].to_string())"
   ]
  },
  {
   "cell_type": "markdown",
   "metadata": {},
   "source": [
    "Scanned the first 3000 rows and noticed that some entries at index **488, 753, 936, 1082, 1340** have no TotalCharges field.\n",
    "\n",
    "Since the dataset is quite large, we devise a way to automatically identify non-numeric values.\n",
    "\n",
    "We decide to print the entire row to see if we can find a justification for the lack of TotalCharges."
   ]
  },
  {
   "cell_type": "code",
   "execution_count": null,
   "metadata": {},
   "outputs": [],
   "source": [
    "def find_non_numeric_values(data, feature_name):\n",
    "    index_errors = []\n",
    "    for i in range (0,len(data[feature_name])):\n",
    "        value = data.iloc[i][feature_name]\n",
    "        try:\n",
    "            float(value)\n",
    "        except ValueError:\n",
    "            index_errors.append(i)\n",
    "    return index_errors\n",
    "\n",
    "index_errors = find_non_numeric_values(df, 'TotalCharges')\n",
    "print(\"index_errors:\",index_errors)\n",
    "\n",
    "for i in range (0, len(index_errors)):\n",
    "    idx = index_errors[i]\n",
    "    print(\"=\"*80)\n",
    "    print(df.iloc[idx])\n",
    "    "
   ]
  },
  {
   "cell_type": "markdown",
   "metadata": {},
   "source": [
    "We notice that there is **no TotalCharges for each customer with a tenure of 0**. This makes sens since customers who have just joined might not have paid anything yet and might still be able to cancel\"churn out\".\n",
    "**We can safely replace all the TotalCharges with 0**"
   ]
  },
  {
   "cell_type": "code",
   "execution_count": null,
   "metadata": {},
   "outputs": [],
   "source": [
    "# Replacing empty TotalCharges cells with zero.\n",
    "for i in range (0, len(index_errors)):\n",
    "    idx = index_errors[i]\n",
    "    df.at[idx, 'TotalCharges']=0\n",
    "    print(\"=\"*80)\n",
    "    print(df.iloc[idx])"
   ]
  },
  {
   "cell_type": "markdown",
   "metadata": {},
   "source": [
    "We can now change the type of the column to **float64** so that the boxplot can be calculated."
   ]
  },
  {
   "cell_type": "markdown",
   "metadata": {},
   "source": [
    "### Important\n",
    "The original dataset contained no outliers, so we have added one.\n",
    "\n",
    "The aim of the code below is to identify it.\n"
   ]
  },
  {
   "cell_type": "code",
   "execution_count": null,
   "metadata": {},
   "outputs": [],
   "source": [
    "\n",
    "df['TotalCharges'] = df['TotalCharges'].apply(pd.to_numeric, errors='coerce')\n",
    "df.dtypes\n",
    "\n",
    "plt.boxplot(df['TotalCharges'])\n",
    "plt.show()"
   ]
  },
  {
   "cell_type": "markdown",
   "metadata": {},
   "source": [
    "The boxplot shows an outlier for the TotalCharge.\n",
    "We use the Tukey approach to extract the value of the outlier. More on Tukey: https://github.com/aprilypchen/depy2016/blob/master/DePy_Talk.ipynb\n",
    "\n",
    "The ```np.percentile()``` api is new to us. Here its definition according to https://docs.scipy.org/doc/numpy-1.15.1/reference/generated/numpy.percentile.html. Given a vector V of length N, the q-th percentile of V is the value q/100 of the way from the minimum to the maximum in a sorted copy of V.\n",
    "\n",
    "IQR is also a new concept and represents the interquartile range (IQR), also called the midspread or middle 50%"
   ]
  },
  {
   "cell_type": "code",
   "execution_count": null,
   "metadata": {},
   "outputs": [],
   "source": [
    "\"\"\"\n",
    "Disclaimer: The code below was heavily inspired by April Chen's Tukey IQR.(see link above)\n",
    "Below is my own rewrite of it.\n",
    "\"\"\"\n",
    "def find_outliers(x):\n",
    "    # Given a vector V of length N, the q-th percentile of V is the value q/100 of the \n",
    "    # way from the minimum to the maximum in a sorted copy of V.\n",
    "    q1 = np.percentile(x, 25)\n",
    "    q3 = np.percentile(x, 75)\n",
    "    iqr = q3-q1 \n",
    "    print(\"q1:{}, q3:{}, iqr:{}\".format(q1, q3, iqr))\n",
    "    \n",
    "    # Create boundaries outside which we will find the outliers\n",
    "    bottom_boundary = q1 - 1.5*iqr\n",
    "    bottom_outlier_indices = list(x.index[(x < bottom_boundary)])\n",
    "    bottom_outlier_values = list(x[bottom_outlier_indices])\n",
    "   \n",
    "    top_boundary = q3 + 1.5*iqr\n",
    "    top_outlier_indices = list(x.index[(x > top_boundary)])\n",
    "    top_outlier_values = list(x[top_outlier_indices])\n",
    "\n",
    "    return bottom_outlier_indices, bottom_outlier_values, top_outlier_indices, top_outlier_values\n",
    "\n",
    "bottom_outlier_indices, bottom_outlier_values, top_outlier_indices, top_outlier_values = \\\n",
    "find_outliers(df['TotalCharges'])\n",
    "\n",
    "\n",
    "print(\"bottom_outlier_indices:{}\".format(bottom_outlier_indices))\n",
    "print(\"bottom_outlier_values :{}\".format(bottom_outlier_values))\n",
    "print(\"top_outlier_indices   :{}\".format(top_outlier_indices))\n",
    "print(\"top_outlier_values    :{}\".format(top_outlier_values))\n",
    "      \n",
    "\n"
   ]
  },
  {
   "cell_type": "markdown",
   "metadata": {},
   "source": [
    "The entry at index 7043 contains an outlier with a TotalCharges value of 99999,9\n",
    "This is the outlier that we have introduced in the first place as an extra challenge. \n",
    "We can safely remove this row.\n"
   ]
  },
  {
   "cell_type": "code",
   "execution_count": null,
   "metadata": {},
   "outputs": [],
   "source": [
    "print(\"df.shape before: \", df.shape)\n",
    "df.drop(df.index[7043], inplace=True)\n",
    "print(\"df.shape after : \", df.shape)\n"
   ]
  },
  {
   "cell_type": "markdown",
   "metadata": {},
   "source": [
    "## Convert the feature strings to numeric values.\n",
    "Use the LabelEncoder to normalize feature values."
   ]
  },
  {
   "cell_type": "code",
   "execution_count": null,
   "metadata": {},
   "outputs": [],
   "source": [
    "from sklearn import preprocessing\n",
    "\n",
    "header_list = ['gender', 'Partner', 'Dependents', 'PhoneService', 'MultipleLines', 'InternetService', 'OnlineSecurity', 'OnlineBackup', 'DeviceProtection', 'TechSupport', 'StreamingTV', 'StreamingMovies', 'Contract', 'PaperlessBilling', 'PaymentMethod', 'Churn']\n",
    "\n",
    "\n",
    "def encode_dataframe(df, header_list, encoder_dict):\n",
    "    for header in header_list:\n",
    "        #print(header)\n",
    "        #print(df[header])\n",
    "        le = preprocessing.LabelEncoder()\n",
    "        # Update the dataframe with its encoded values\n",
    "        df[header] = le.fit_transform(df[header])\n",
    "        # Saving the encoder for later in case we need to decode the values\n",
    "        encoder_dict[header] = le\n",
    "    return df\n",
    "\n",
    "encoder_dict = {}\n",
    "\n",
    "df = encode_dataframe(df, header_list, encoder_dict)\n",
    "df.head()\n",
    "\n"
   ]
  },
  {
   "cell_type": "markdown",
   "metadata": {},
   "source": [
    "## Removing low information columns\n",
    "The customerID feature can be removed as it contains no information that might help the Baysian classifier."
   ]
  },
  {
   "cell_type": "code",
   "execution_count": null,
   "metadata": {},
   "outputs": [],
   "source": [
    "df = df.drop(['customerID'], axis=1)\n",
    "df.head()\n"
   ]
  },
  {
   "cell_type": "markdown",
   "metadata": {},
   "source": [
    "## Separating features and labels"
   ]
  },
  {
   "cell_type": "code",
   "execution_count": null,
   "metadata": {},
   "outputs": [],
   "source": [
    "feature_names = df.dtypes.index[:-1]\n",
    "target_names = df.dtypes.index[-1]\n",
    "\n",
    "data = df.iloc[:, :-1].values # Drop the last column\n",
    "target = df.iloc[:,-1].values # Keep the last column\n",
    "\n",
    "print(\"Feature names:\", feature_names)\n",
    "print(\"Target names :\", target_names)\n",
    "\n",
    "print(\"\\nFeature shape:\", data.shape)\n",
    "print(\"Target shape :\", target.shape)"
   ]
  },
  {
   "cell_type": "markdown",
   "metadata": {},
   "source": [
    "## Scaling\n",
    "Scaling the data."
   ]
  },
  {
   "cell_type": "code",
   "execution_count": null,
   "metadata": {},
   "outputs": [],
   "source": [
    "class Scaler(enum.Enum):\n",
    "    STANDARD_SCALER = 1\n",
    "    MIN_MAX = 2\n",
    "    NONE = 3\n",
    "    \n",
    "    \n",
    "def scale_data(scaler_name, data):\n",
    "    \"\"\"\n",
    "    Normalising the data. 2 normalisations supported\n",
    "        Standard_scaler: normalised values have a mean of 0 and std. dev. of 1\n",
    "        Min max scaler: normalised values are between 0 and 1            \n",
    "    \"\"\"\n",
    "\n",
    "    print(\"Scaler:\", scaler_name)\n",
    "    \n",
    "    if scaler_name is Scaler.STANDARD_SCALER:\n",
    "        scaler = StandardScaler()\n",
    "        scaler.fit(data)\n",
    "        data = scaler.transform(data)\n",
    "            \n",
    "    elif scaler_name is Scaler.MIN_MAX:\n",
    "        scaler = MinMaxScaler()\n",
    "        scaler.fit(data)\n",
    "        data = scaler.transform(data)\n",
    "            \n",
    "    elif scaler_name is Scaler.NONE:\n",
    "        pass\n",
    "    \n",
    "    return data\n",
    "\n",
    "scaler_name = Scaler.MIN_MAX    \n",
    "data = scale_data(scaler_name, data)\n"
   ]
  },
  {
   "cell_type": "markdown",
   "metadata": {},
   "source": [
    "## Split between training and testing data\n",
    "Here we split our testing and training data. \n",
    "  * 70% for training\n",
    "  * 30% for testing"
   ]
  },
  {
   "cell_type": "code",
   "execution_count": null,
   "metadata": {
    "scrolled": true
   },
   "outputs": [],
   "source": [
    "training_vs_testing_ratio = 0.7\n",
    "\n",
    "nb_rows, nb_cols = np.shape(data)\n",
    "nb_training_rows = (int)(nb_rows * training_vs_testing_ratio)\n",
    "nb_test_rows = nb_rows - nb_training_rows\n",
    "\n",
    "training_dataset = data[:nb_training_rows, ]\n",
    "testing_dataset = data[nb_training_rows:,]\n",
    "\n",
    "training_labels = target[:nb_training_rows, ]\n",
    "testing_labels = target[nb_training_rows:, ]\n",
    "\n",
    "print(\"training_dataset shape:{}\",training_dataset.shape)            \n",
    "print(\"testing_dataset shape :{}\",testing_dataset.shape)\n",
    "\n",
    "print(\"\\ntraining_labels shape :{}\",training_labels.shape)\n",
    "print(\"testing_labels shape  :{}\",testing_labels.shape)\n",
    "\n",
    "print(\"\\ntesting_labels        :{}\",testing_labels)\n"
   ]
  },
  {
   "cell_type": "markdown",
   "metadata": {},
   "source": [
    "# Model training and evaluation"
   ]
  },
  {
   "cell_type": "markdown",
   "metadata": {},
   "source": [
    "## Training\n",
    "\n",
    "Here we use the Gaussian Naive Bayes (GaussianNB) algorithm.\n",
    "\n",
    "http://scikit-learn.org/stable/modules/generated/sklearn.naive_bayes.GaussianNB.html"
   ]
  },
  {
   "cell_type": "code",
   "execution_count": null,
   "metadata": {},
   "outputs": [],
   "source": [
    "gnb = GaussianNB()            \n",
    "gnb.fit(training_dataset, training_labels)\n"
   ]
  },
  {
   "cell_type": "markdown",
   "metadata": {},
   "source": [
    "## Testing the estimator accuracy\n",
    "In the code below we run the Baysian estimator using the ```predict()``` APIs, and we review the accuracy of estimator's output using a ``for loop ``\n",
    "\n",
    "We later found out about a feature from the Baysian API that provide similar information, namely the ```score()``` API. We kept the original ```for loop``` to show how we initially tackled the search for mismatches."
   ]
  },
  {
   "cell_type": "code",
   "execution_count": null,
   "metadata": {},
   "outputs": [],
   "source": [
    "def run_prediction(clf, testing_dataset):\n",
    "    error_features = []\n",
    "    error_labels = []\n",
    "    error_index = []\n",
    "    np_error_features = []\n",
    "    \n",
    "    results = clf.predict(testing_dataset)\n",
    "    \n",
    "    for i in range(0, nb_test_rows):\n",
    "        if results[i] != testing_labels[i]:\n",
    "            error_features.append(testing_dataset[i, :].tolist())\n",
    "            error_labels.append(results[i])\n",
    "            error_index.append(i)\n",
    "\n",
    "            #print(\"Index:{}, incorrect match for:{}, expected label:{}, actual label:{}\".format(i, testing_dataset[i], testing_labels[i], results[i]))\n",
    "\n",
    "            # Convert the list to a np.array so that we can slice it at step 5 for plotting.\n",
    "            np_error_features = np.array(error_features)\n",
    "\n",
    "            # Metrics\n",
    "            error_percentage =  (len(error_index) / nb_test_rows) * 100\n",
    "            accuracy_percentage = 100 - error_percentage \n",
    "        \n",
    "    metrics = dict()\n",
    "    metrics['error_features'] = error_features\n",
    "    metrics['error_labels'] = error_labels\n",
    "    metrics['error_index'] = error_index\n",
    "    metrics['nb_samples'] = nb_test_rows\n",
    "    metrics['nb_errors'] = len(error_index)\n",
    "    metrics['pct_errors'] = error_percentage\n",
    "    metrics['pct_accuracy'] = accuracy_percentage\n",
    "    metrics['results'] = results\n",
    "    return metrics\n",
    "\n",
    "metrics = run_prediction(gnb, testing_dataset)\n",
    "results = metrics['results']\n",
    "print(\"nb samples:\", metrics['nb_samples'])\n",
    "print(\"nb errors :\", metrics['nb_errors'])\n",
    "print(\"% errors  :\", metrics['pct_errors'])\n",
    "print(\"% accuracy:\", metrics['pct_accuracy'])\n",
    "    "
   ]
  },
  {
   "cell_type": "code",
   "execution_count": null,
   "metadata": {},
   "outputs": [],
   "source": [
    "# Alternatively we could use the score() API to learn about the accuracy of the Naive Baysian algorithm.\n",
    "# The advantage of the previous approach is that we collect information regarding the errors. \n",
    "# These will be plotted later on\n",
    "\n",
    "score = gnb.score(testing_dataset, testing_labels, sample_weight=None)\n",
    "print(\"Score            :\", score)"
   ]
  },
  {
   "cell_type": "markdown",
   "metadata": {},
   "source": [
    "## Cross validation\n",
    "Sources:\n",
    "  * https://stackoverflow.com/questions/16379313/how-to-use-the-a-k-fold-cross-validation-in-scikit-with-naive-bayes-classifier-a\n",
    "  * http://scikit-learn.org/stable/modules/cross_validation.html\n",
    "  * https://www.youtube.com/watch?v=L_dQrZZjGDg\n",
    "        \n",
    "        \n",
    "With Cross Validation, the data are split between training and testing data in a random way. \n",
    "This limits the bias that might be present in the dataset."
   ]
  },
  {
   "cell_type": "code",
   "execution_count": null,
   "metadata": {},
   "outputs": [],
   "source": [
    "def do_cross_validation(data, target):\n",
    "    cv = ShuffleSplit(n_splits=25, test_size=0.3, random_state=0)\n",
    "    gaussian_nb = GaussianNB()            \n",
    "\n",
    "    scores = cross_val_score(gaussian_nb, data, target, cv=cv) \n",
    "    print(\"Scores\", scores)\n",
    "    print(\"Accuracy: %0.2f (+/- %0.2f)\" % (scores.mean(), scores.std() * 2))\n",
    "    return scores\n",
    "\n",
    "scores = do_cross_validation(data, target)\n"
   ]
  },
  {
   "cell_type": "code",
   "execution_count": null,
   "metadata": {},
   "outputs": [],
   "source": [
    "plt.plot(scores, 'bo')\n",
    "plt.ylabel(\"GaussianNB score\")\n",
    "plt.xlabel(\"split number\")\n",
    "plt.title(\"Accuracy of Baysian estimator over the number of split\")\n",
    "plt.show()\n",
    "\n",
    "plt.hist([scores], label=['scores'])\n",
    "plt.legend(loc='upper right')\n",
    "plt.ylabel(\"Frequency\")\n",
    "plt.xlabel(\"GaussianNB score\")\n",
    "plt.title(\"Accuracy of Baysian estimator over the number of split\")\n",
    "plt.show()"
   ]
  },
  {
   "cell_type": "markdown",
   "metadata": {},
   "source": [
    "## Changing parameters to improve the accuracy of estimator"
   ]
  },
  {
   "cell_type": "markdown",
   "metadata": {},
   "source": [
    "### Using the Standard Scaler\n",
    "Here we repeat our experiment using the Standard Scaler.\n"
   ]
  },
  {
   "cell_type": "code",
   "execution_count": null,
   "metadata": {},
   "outputs": [],
   "source": [
    "std_scaled_data = scale_data(Scaler.STANDARD_SCALER, data)\n",
    "scores_with_standard_scaler = do_cross_validation(std_scaled_data, target)\n",
    "plt.hist([scores, scores_with_standard_scaler], 25, label=['scores', 'score_with_min_max_scaler', 'scores_with_standard_scaler'])\n",
    "plt.legend(loc='upper right')\n",
    "plt.xlabel(\"Accuracy\")\n",
    "plt.ylabel(\"Frequency\")\n",
    "plt.title(\"Comparing Min_Max and Standard scaler impact on Baysian accuracy\")\n",
    "plt.show()\n"
   ]
  },
  {
   "cell_type": "markdown",
   "metadata": {},
   "source": [
    "After reviewing the data, it appears that the Min_Max and Standard Scaler are absolutely equivalent in terms of impact on the accuracy of the estimator as they have the **exact same score.** of **75%**"
   ]
  },
  {
   "cell_type": "markdown",
   "metadata": {},
   "source": [
    "### Using Primary Component Analysis\n",
    "In the code below, we change number of components used by PCA and run cross validation on the estimator.  "
   ]
  },
  {
   "cell_type": "code",
   "execution_count": null,
   "metadata": {},
   "outputs": [],
   "source": [
    "min_nb_component = 1\n",
    "max_nb_component = 10\n",
    "mean_accuracy_results = []\n",
    "\n",
    "for nb_component in range (min_nb_component, max_nb_component):\n",
    "    print(\"Nb component:\", nb_component)\n",
    "\n",
    "    pca = PCA(nb_component)\n",
    "    data_pca = pca.fit_transform(data)\n",
    "    mean_accuracy_results.append(do_cross_validation(data_pca, target).mean())\n",
    "\n",
    "print(\"mean_accuracy_results\")\n",
    "\n",
    "\n",
    "plt.hist([mean_accuracy_results], 25, label=['mean_accuracy_results'])\n",
    "plt.legend(loc='upper right')\n",
    "plt.xlabel(\"accuracy\")\n",
    "plt.ylabel(\"frequency\")\n",
    "plt.title(\"Impact of PCA on Baysian accuracy\")\n",
    "plt.show()\n",
    "\n"
   ]
  },
  {
   "cell_type": "markdown",
   "metadata": {},
   "source": [
    "Observations regarding the PCA.\n",
    "  * introducing the PCA only increased the accuracy by 0.2% (nb_components=2)\n",
    "  "
   ]
  },
  {
   "cell_type": "markdown",
   "metadata": {},
   "source": [
    "# Model graphing"
   ]
  },
  {
   "cell_type": "markdown",
   "metadata": {},
   "source": [
    "# Scatter plot\n",
    "Generate a scatter plot of the initial data reduced with PCA(nb_component=2)"
   ]
  },
  {
   "cell_type": "code",
   "execution_count": null,
   "metadata": {},
   "outputs": [],
   "source": [
    "pca = PCA(2)\n",
    "training_data_pca = pca.fit_transform(training_dataset)\n",
    "testing_data_pca = pca.fit_transform(testing_dataset)\n",
    "print(\"testing_dataset.shape:\", testing_data_pca.shape)\n",
    "\n",
    "colors = ['red','green','blue','purple']\n",
    "\n",
    "plt.scatter(testing_data_pca[:, 0], testing_data_pca[:, 1], c=testing_labels, cmap=matplotlib.colors.ListedColormap(colors))\n",
    "plt.legend()\n",
    "plt.grid(True)\n",
    "plt.show()"
   ]
  },
  {
   "cell_type": "markdown",
   "metadata": {},
   "source": [
    "## ROC curve"
   ]
  },
  {
   "cell_type": "code",
   "execution_count": null,
   "metadata": {},
   "outputs": [],
   "source": [
    "from sklearn import preprocessing\n",
    "\n",
    "def encode_labels(labels):\n",
    "    le = preprocessing.LabelEncoder()\n",
    "    le.fit(labels)\n",
    "    encoded_labels = le.transform(labels) \n",
    "    return encoded_labels\n",
    "\n",
    "print(\"testing_labels:\", encode_labels(testing_labels))\n",
    "print(\"results_labels:\", encode_labels(results))\n"
   ]
  },
  {
   "cell_type": "code",
   "execution_count": null,
   "metadata": {},
   "outputs": [],
   "source": [
    "from sklearn.metrics import roc_curve, auc\n",
    "\n",
    "encoded_testing_labels = encode_labels(testing_labels)\n",
    "encoded_result_labels = encode_labels(results)\n",
    "\n",
    "fpr, tpr, thresholds = roc_curve(encoded_testing_labels, encoded_result_labels)\n",
    "roc_auc = auc(fpr, tpr)\n",
    "\n",
    "\n",
    "plt.figure()\n",
    "plt.plot(fpr, tpr, color='darkorange', lw=1, label='ROC curve (area = %0.2f)' % roc_auc)\n",
    "plt.plot([0, 1], [0, 1], color='navy', lw=1, linestyle='--')\n",
    "plt.xlim([0.0, 1.0])\n",
    "plt.ylim([0.0, 1.05])\n",
    "plt.xlabel('False Positive Rate')\n",
    "plt.ylabel('True Positive Rate')\n",
    "plt.title('Receiver operating characteristic')\n",
    "plt.legend(loc=\"lower right\")\n",
    "plt.show()"
   ]
  },
  {
   "cell_type": "code",
   "execution_count": null,
   "metadata": {},
   "outputs": [],
   "source": []
  }
 ],
 "metadata": {
  "kernelspec": {
   "display_name": "Python 3",
   "language": "python",
   "name": "python3"
  },
  "language_info": {
   "codemirror_mode": {
    "name": "ipython",
    "version": 3
   },
   "file_extension": ".py",
   "mimetype": "text/x-python",
   "name": "python",
   "nbconvert_exporter": "python",
   "pygments_lexer": "ipython3",
   "version": "3.6.5"
  }
 },
 "nbformat": 4,
 "nbformat_minor": 2
}
