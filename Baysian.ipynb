{
 "cells": [
  {
   "cell_type": "markdown",
   "metadata": {},
   "source": [
    "# C4021 - Group 4.2 \n",
    "## Project work Weeks 7-9\n",
    "### Participants\n",
    "\n",
    "| Student Name   |   Id    |\n",
    "|----------|:-------------:|\n",
    "| Michel DANJOU |  18263461 |\n",
    "| Brian PARLE | |\n",
    "| Gerry KERLEY | |\n",
    "| Gana SUBRAMANIAN | |\n",
    "\n",
    "\n",
    "## Machine Learning Algorithm: Baysian Classifier\n",
    "Source: http://scikit-learn.org/stable/modules/naive_bayes.html\n",
    "\n",
    "\n",
    "## Dataset Information\n",
    "### Iris dataset\n",
    "http://scikit-learn.org/stable/auto_examples/datasets/plot_iris_dataset.html\n",
    "\n",
    "### Nasa dataset\n",
    "\n",
    "_Source:_ https://www.kaggle.com/shrutimehta/nasa-asteroids-classification (source: Shruti Mehta)\n",
    "\n",
    "**Content**\n",
    "The data is about Asteroids - NeoWs. NeoWs (Near Earth Object Web Service) is a RESTful web service for near earth Asteroid information. With NeoWs a user can: search for Asteroids based on their closest approach date to Earth, lookup a specific Asteroid with its NASA JPL small body id, as well as browse the overall data-set.\n",
    "\n",
    "**Acknowledgements**\n",
    "Data-set: All the data is from the (http://neo.jpl.nasa.gov/). This API is maintained by SpaceRocks Team: David Greenfield, Arezu Sarvestani, Jason English and Peter Baunach.\n",
    "\n",
    "**Inspiration**\n",
    "Finding potential hazardous and non-hazardous asteroids\n",
    "Features responsible for claiming an asteroid to be hazardous\n",
    "\n",
    "## Notebook Structure\n",
    "1. Source Code\n",
    "1. Iris dataset\n",
    "    1. Data Loading and Pre-processing\n",
    "    1. Model training and testing\n",
    "    1. Model graphing\n",
    "    1. Model analysis: further eaxamination of significant features etc.\n",
    "1. Nasa dataset \n",
    "    1. Data Loading and Pre-processing\n",
    "    1. Model training and testing\n",
    "    1. Model graphing\n",
    "    1. Model analysis: further eaxamination of significant features etc.\n",
    "\n",
    "\n",
    "## Team Contributions:\n",
    "**Training data**\n",
    "  * Iris dataset: Michel Danjou\n",
    "  * Nasa dataset: reused Brian Parle's code\n",
    "\n",
    "**Pre-processing**\n",
    "  * Iris dataset: Michel Danjou\n",
    "  * Nasa dataset: reused Brian Parle's code\n",
    "\n",
    "**Algorithm training and evaluation**\n",
    "  * Michel Danjou\n",
    "\n",
    "**Visualisation of outputs**\n",
    "  * Michel Danjou\n"
   ]
  },
  {
   "cell_type": "markdown",
   "metadata": {},
   "source": [
    "# Source code"
   ]
  },
  {
   "cell_type": "code",
   "execution_count": 42,
   "metadata": {
    "scrolled": true
   },
   "outputs": [
    {
     "name": "stdout",
     "output_type": "stream",
     "text": [
      "Once deleted, variables cannot be recovered. Proceed (y/[n])? y\n"
     ]
    }
   ],
   "source": [
    "%reset\n",
    "%matplotlib inline\n",
    "%config IPCompleter.greedy=True\n",
    "\n",
    "from sklearn import datasets\n",
    "from sklearn.naive_bayes import GaussianNB\n",
    "from sklearn.decomposition import PCA\n",
    "from pandas import DataFrame\n",
    "\n",
    "import numpy as np\n",
    "import matplotlib.pyplot as plt\n",
    "import pandas as pd\n",
    "\n",
    "\n",
    "class Log:\n",
    "    DEBUG = 1\n",
    "    INFO = 2\n",
    "    ERROR = 3\n",
    "    \n",
    "    \n",
    "class Dataset:\n",
    "    \"\"\"\n",
    "    The purpose of this class is as follows:\n",
    "        1) Provide an abstraction layer on top of the data loading APIs\n",
    "        2) Store the data into a structure that will be consumed by the\n",
    "            Analysis team\n",
    "    \"\"\"\n",
    "    log_level = Log.INFO\n",
    "\n",
    "    def __init__(self, name):\n",
    "        self.name = name\n",
    "        self.data_loaded = False\n",
    "        self.training_vs_testing_ratio = 0.7\n",
    "    \n",
    "\n",
    "    def __log__(self, message, level=Log.INFO):\n",
    "        \"\"\"\n",
    "        Log a message only if its log level is equal or superior to\n",
    "        self.log_level\n",
    "        \"\"\"\n",
    "        if level >= self.log_level:\n",
    "            print(message)\n",
    "            \n",
    "            \n",
    "    def load_data(self):\n",
    "        \"\"\"\n",
    "        Load the dataset\n",
    "        \"\"\"\n",
    "        self.__log__(\"=\"*80 + \"\\nLoading: \" + self.name, Log.INFO)\n",
    "        if self.name is \"iris\":\n",
    "            \"\"\"\n",
    "            iris.data         : The dataset representing a table of flower\n",
    "                                measurements. 4 measurements, 150 rows.\n",
    "            iris.feature_names: ['sepal length (cm)', 'sepal width (cm)',\n",
    "                                 'petal length (cm)', 'petal width (cm)']\n",
    "            iris.target       : Dataset targets (aka labels)\n",
    "            iris.target_names : ['setosa' 'versicolor' 'virginica']\n",
    "                                human readable names corresponding to the\n",
    "                                labels.\n",
    "            \"\"\"\n",
    "            iris = datasets.load_iris()\n",
    "            self.data = iris.data\n",
    "            self.target = iris.target\n",
    "            self.feature_names = iris.feature_names\n",
    "            self.target_names = iris.target_names\n",
    "            self.data_loaded = True\n",
    "\n",
    "            self.__log__(\"self.target.shape:{}\".format(self.target.shape), Log.DEBUG)            \n",
    "\n",
    "        elif self.name is \"nasa\":\n",
    "            \"\"\"\n",
    "            See the Random Forrest notebook from Brian Parle for details\n",
    "            regarding the cleaning up of the nasa dataset \n",
    "            \"\"\"\n",
    "            df = pd.read_csv('nasa.csv')\n",
    "            df = df.drop(['Est Dia in KM(min)', 'Est Dia in KM(max)', 'Est Dia in Miles(min)', 'Est Dia in Miles(max)', 'Est Dia in Feet(min)', 'Est Dia in Feet(max)'], axis=1)\n",
    "            df = df.drop(['Close Approach Date'], axis=1)\n",
    "            df = df.drop(['Orbiting Body'], axis=1)\n",
    "            df = df.drop(['Orbit Determination Date'], axis=1)\n",
    "            df = df.drop(['Equinox'], axis=1)\n",
    "\n",
    "            self.data = df.iloc[:, :-1].values # Drop the last column\n",
    "            self.target = df.iloc[:,-1].values # Keep the last column\n",
    "            self.feature_names = df.iloc[:, :-1].columns.values           \n",
    "            self.target_names =  ['Hazardous']\n",
    "            self.data_loaded = True\n",
    "            \n",
    "            self.__log__(\"data:{}\".format(self.data), Log.DEBUG)            \n",
    "            self.__log__(\"target:{}\".format(self.target), Log.DEBUG)                        \n",
    "\n",
    "        else:\n",
    "            raise Exception(\"Add support for more dataset\")\n",
    "\n",
    "\n",
    "    def prepare_data(self):\n",
    "        \"\"\"\n",
    "        clean/prepare the data\n",
    "\n",
    "        - Extracts a training dataset from the initial dataset. (first 70% of dataset)\n",
    "        - Extracts a testing dataset from the initial dataset. (last 30% of dataset)\n",
    "\n",
    "        \"\"\"\n",
    "        if self.data_loaded is False:\n",
    "            raise Exception(\"Load some data first!\")\n",
    "\n",
    "        self.nb_rows, self.nb_cols = np.shape(self.data)\n",
    "        self.nb_training_rows = (int)(self.nb_rows * self.training_vs_testing_ratio)\n",
    "        self.nb_test_rows = self.nb_rows - self.nb_training_rows\n",
    "\n",
    "        self.training_dataset = self.data[:self.nb_training_rows, ]\n",
    "        self.testing_dataset = self.data[self.nb_training_rows:,]\n",
    "\n",
    "        self.training_labels = self.target[:self.nb_training_rows, ]\n",
    "        self.testing_labels = self.target[self.nb_training_rows:, ]\n",
    "        \n",
    "        self.__log__(\"training_dataset shape:{}\".format(self.training_dataset.shape), Log.DEBUG)            \n",
    "        self.__log__(\"testing_dataset shape :{}\".format(self.testing_dataset.shape), Log.DEBUG)            \n",
    "        self.__log__(\"training_labels shape :{}\".format(self.training_labels.shape), Log.DEBUG)            \n",
    "        self.__log__(\"testing_labels shape  :{}\".format(self.testing_dataset.shape), Log.DEBUG)                  \n",
    "        self.__log__(\"testing_labels        :{}\".format(self.testing_labels), Log.DEBUG)            \n",
    "\n",
    "\n",
    "class Analysis:\n",
    "    \"\"\"\n",
    "    This class is in charge of:\n",
    "        1) performing the data training associated with the chosen algorithm\n",
    "        2) performing the testing  associated with the chosen algorithm\n",
    "        3) visualising the output\n",
    "    \"\"\"\n",
    "\n",
    "    log_level = Log.INFO\n",
    "\n",
    "    def __init__(self, algorithm_name, dataset):\n",
    "        self.algorithm_name = algorithm_name\n",
    "        self.dataset = dataset\n",
    "        self.training_done = False\n",
    "        self.error_features = []\n",
    "        self.error_labels = []\n",
    "        self.error_index = []\n",
    "\n",
    "\n",
    "    def __log__(self, message, level=Log.INFO):\n",
    "        \"\"\"\n",
    "        Log a message only if its log level is equal or superior to\n",
    "        self.log_level\n",
    "        \"\"\"\n",
    "        if level >= self.log_level:\n",
    "            print(message)\n",
    "            \n",
    "            \n",
    "    def train(self):\n",
    "        \"\"\"\n",
    "        Train\n",
    "        \"\"\"\n",
    "        if self.algorithm_name == \"GaussianNB\":\n",
    "            self.gnb = GaussianNB()\n",
    "            self.gnb.fit(self.dataset.training_dataset, self.dataset.training_labels)\n",
    "            self.training_done = True\n",
    "        else:\n",
    "            raise Exception(\"Algorithm: {} not currently supporterd.\".format(self.algorithm_name))\n",
    "\n",
    "\n",
    "    def test(self):\n",
    "        \"\"\"\n",
    "        Test\n",
    "        \"\"\"\n",
    "        if self.training_done is False:\n",
    "            raise Exception(\"Need to do the training first!\")\n",
    "\n",
    "        if self.algorithm_name == \"GaussianNB\":\n",
    "            self.results = self.gnb.predict(self.dataset.testing_dataset)\n",
    "            \n",
    "            # Check for errors\n",
    "            for i in range(0, self.dataset.nb_test_rows):\n",
    "                if self.results[i] != self.dataset.testing_labels[i]:\n",
    "                    self.error_features.append(self.dataset.testing_dataset[i, :].tolist())\n",
    "                    self.error_labels.append(self.results[i])\n",
    "                    self.error_index.append(i)\n",
    "\n",
    "                    self.__log__(\"Index:{}, incorrect match for:{}, expected label:{}, actual label:{}\".format(i,  self.dataset.testing_dataset[i], self.dataset.testing_labels[i], self.results[i]), Log.DEBUG)            \n",
    "\n",
    "\n",
    "            # Convert the list to a np.array so that we can slice it at step 5 for plotting.\n",
    "            self.np_error_features = np.array(self.error_features)\n",
    "\n",
    "        # Metrics\n",
    "        self.error_percentage =  (len(self.error_index) / self.dataset.nb_test_rows) * 100\n",
    "        self.accuracy_percentage = 100 - self.error_percentage       \n",
    "        return(self.accuracy_percentage)\n",
    "        \n",
    "\n",
    "    def visualise(self):\n",
    "        \"\"\"\n",
    "        Visualisation using PCA\n",
    "\n",
    "        Bring dataset down to a 2 dimensional array so that we can plot it in 2D.\n",
    "        \n",
    "        TODO: Have a legend that matches the label with a color.\n",
    "        \n",
    "        \"\"\"\n",
    "        # Dimension reduction\n",
    "        pca = PCA(n_components=2)\n",
    "        principal_components = pca.fit_transform(self.dataset.data, self.dataset.target)\n",
    "\n",
    "        # Prepare figure\n",
    "        fig = plt.figure()\n",
    "        a_x = fig.add_subplot(111)\n",
    "\n",
    "        # Create a color map for our labels\n",
    "        list_of_unique_labels = set(self.dataset.target)\n",
    "        nb_unique_labels = len(list_of_unique_labels)\n",
    "        c_m = plt.get_cmap('gist_rainbow')\n",
    "        color = [c_m(1.*i/nb_unique_labels) for i in range(nb_unique_labels)]\n",
    "\n",
    "        # Draw the data\n",
    "        nb_rows = len(principal_components)\n",
    "        for i in range(nb_rows):\n",
    "            target = self.dataset.target[i]\n",
    "\n",
    "            if i in self.error_index:\n",
    "                # draw the mis-matches with an X\n",
    "                a_x.scatter(principal_components[i, 0],\n",
    "                            principal_components[i, 1],\n",
    "                            c=color[target],\n",
    "                            marker=\"x\")\n",
    "            else:\n",
    "                a_x.scatter(principal_components[i, 0],\n",
    "                            principal_components[i, 1],\n",
    "                            c=color[target])\n",
    "\n",
    "        plt.show()\n",
    "    \n",
    "    \n",
    "    def report(self):\n",
    "        self.__log__(\"Algorithm :{}\".format(self.algorithm_name), Log.INFO)            \n",
    "        self.__log__(\"% Error   :{}\".format(self.error_percentage), Log.INFO)            \n",
    "        self.__log__(\"% Accuracy:{}\".format(self.accuracy_percentage), Log.INFO)            \n",
    "    \n",
    "\n"
   ]
  },
  {
   "cell_type": "markdown",
   "metadata": {},
   "source": [
    "# Iris dataset\n",
    "## Data Loading and Pre-processing"
   ]
  },
  {
   "cell_type": "code",
   "execution_count": 43,
   "metadata": {},
   "outputs": [
    {
     "name": "stdout",
     "output_type": "stream",
     "text": [
      "================================================================================\n",
      "Loading: iris\n"
     ]
    }
   ],
   "source": [
    "dataset = Dataset(\"iris\")\n",
    "dataset.load_data()\n",
    "dataset.prepare_data()"
   ]
  },
  {
   "cell_type": "markdown",
   "metadata": {},
   "source": [
    "## Model training and testing"
   ]
  },
  {
   "cell_type": "code",
   "execution_count": 44,
   "metadata": {},
   "outputs": [
    {
     "data": {
      "text/plain": [
       "77.77777777777777"
      ]
     },
     "execution_count": 44,
     "metadata": {},
     "output_type": "execute_result"
    }
   ],
   "source": [
    "analysis = Analysis(\"GaussianNB\", dataset)\n",
    "analysis.train()\n",
    "analysis.test()"
   ]
  },
  {
   "cell_type": "markdown",
   "metadata": {},
   "source": [
    "## Model graphing"
   ]
  },
  {
   "cell_type": "code",
   "execution_count": 45,
   "metadata": {},
   "outputs": [
    {
     "data": {
      "image/png": "[encoded data removed]",
      "text/plain": [
       "<Figure size 432x288 with 1 Axes>"
      ]
     },
     "metadata": {},
     "output_type": "display_data"
    },
    {
     "name": "stdout",
     "output_type": "stream",
     "text": [
      "Algorithm :GaussianNB\n",
      "% Error   :22.22222222222222\n",
      "% Accuracy:77.77777777777777\n"
     ]
    }
   ],
   "source": [
    "analysis.visualise()\n",
    "analysis.report()"
   ]
  },
  {
   "cell_type": "markdown",
   "metadata": {},
   "source": [
    "\n",
    "Out of 45 test samples, 10 were mis-classified. This gives us a **success rate of 77.77%** and a **fail rate of 22.22%**"
   ]
  },
  {
   "cell_type": "markdown",
   "metadata": {},
   "source": [
    "# Nasa dataset\n",
    "## Data Loading and Pre-processing"
   ]
  },
  {
   "cell_type": "code",
   "execution_count": 46,
   "metadata": {},
   "outputs": [
    {
     "name": "stdout",
     "output_type": "stream",
     "text": [
      "================================================================================\n",
      "Loading: nasa\n"
     ]
    }
   ],
   "source": [
    "dataset_nasa = Dataset(\"nasa\")\n",
    "dataset_nasa.log_level = Log.INFO\n",
    "dataset_nasa.load_data()\n",
    "dataset_nasa.prepare_data()"
   ]
  },
  {
   "cell_type": "markdown",
   "metadata": {},
   "source": [
    "## Model training and testing"
   ]
  },
  {
   "cell_type": "code",
   "execution_count": 47,
   "metadata": {},
   "outputs": [
    {
     "data": {
      "text/plain": [
       "87.06467661691542"
      ]
     },
     "execution_count": 47,
     "metadata": {},
     "output_type": "execute_result"
    }
   ],
   "source": [
    "analysis_nasa = Analysis(\"GaussianNB\", dataset_nasa)\n",
    "analysis_nasa.log_level = Log.INFO\n",
    "analysis_nasa.train()\n",
    "analysis_nasa.test()"
   ]
  },
  {
   "cell_type": "markdown",
   "metadata": {},
   "source": [
    "## Model graphing\n",
    "Please note that the visualisation takes a few seconds to display."
   ]
  },
  {
   "cell_type": "code",
   "execution_count": 48,
   "metadata": {},
   "outputs": [
    {
     "name": "stderr",
     "output_type": "stream",
     "text": [
      "/home/michel/anaconda3/lib/python3.6/site-packages/ipykernel_launcher.py:229: DeprecationWarning: In future, it will be an error for 'np.bool_' scalars to be interpreted as an index\n",
      "/home/michel/anaconda3/lib/python3.6/site-packages/ipykernel_launcher.py:224: DeprecationWarning: In future, it will be an error for 'np.bool_' scalars to be interpreted as an index\n"
     ]
    },
    {
     "data": {
      "image/png": "[encoded data removed]",
      "text/plain": [
       "<Figure size 432x288 with 1 Axes>"
      ]
     },
     "metadata": {},
     "output_type": "display_data"
    },
    {
     "name": "stdout",
     "output_type": "stream",
     "text": [
      "Algorithm :GaussianNB\n",
      "% Error   :12.935323383084576\n",
      "% Accuracy:87.06467661691542\n"
     ]
    }
   ],
   "source": [
    "analysis_nasa.visualise()\n",
    "analysis_nasa.report()"
   ]
  },
  {
   "cell_type": "markdown",
   "metadata": {},
   "source": [
    "# TODO list\n",
    "  * Strech the data before training to see if it improves the output from the algorittm\n",
    "  * Provide a different visualisation as the scatter is not informative for large datasets like \"nasa\"\n"
   ]
  },
  {
   "cell_type": "code",
   "execution_count": null,
   "metadata": {},
   "outputs": [],
   "source": []
  }
 ],
 "metadata": {
  "kernelspec": {
   "display_name": "Python 3",
   "language": "python",
   "name": "python3"
  },
  "language_info": {
   "codemirror_mode": {
    "name": "ipython",
    "version": 3
   },
   "file_extension": ".py",
   "mimetype": "text/x-python",
   "name": "python",
   "nbconvert_exporter": "python",
   "pygments_lexer": "ipython3",
   "version": "3.6.5"
  }
 },
 "nbformat": 4,
 "nbformat_minor": 2
}
