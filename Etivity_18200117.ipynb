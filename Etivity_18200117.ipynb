{
 "cells": [
  {
   "cell_type": "markdown",
   "metadata": {},
   "source": [
    "Student Name:\tAIDAN KEESHAN\n",
    "Student ID:\t18200117"
   ]
  },
  {
   "cell_type": "code",
   "execution_count": 3,
   "metadata": {},
   "outputs": [
    {
     "data": {
      "text/plain": [
       "(26, 16)"
      ]
     },
     "execution_count": 3,
     "metadata": {},
     "output_type": "execute_result"
    }
   ],
   "source": [
    "import numpy as np\n",
    "import pandas as pd\n",
    "\n",
    "from matplotlib import pyplot as plt\n",
    "from sklearn.cluster import KMeans\n",
    "plt.rcParams['figure.figsize'] = (16, 9)\n",
    "plt.style.use('ggplot')\n",
    "\n",
    "data_header = ['class','x-box','y-box','width','high ','onpix','x-bar','y-bar','x2bar','y2bar','xybar','x2ybr','xy2br','x-ege','xegvy','y-ege','yegvx']\n",
    "data_path =\"~/ai/project/data/letter/Dataset.data\"\n",
    "df = pd.read_csv(data_path, names=data_header, header=None,sep=' ')\n",
    "df\n",
    "\n",
    "kmeans = KMeans(n_clusters=26, random_state=0)\n",
    "clusters = kmeans.fit_predict(df.drop(columns='class'))\n",
    "kmeans.cluster_centers_.shape\n"
   ]
  },
  {
   "cell_type": "code",
   "execution_count": 6,
   "metadata": {},
   "outputs": [
    {
     "data": {
      "text/plain": [
       "class  predict\n",
       "A      1           31\n",
       "       4          391\n",
       "       5            2\n",
       "       7           13\n",
       "       12           1\n",
       "       13           5\n",
       "       18           1\n",
       "       20          27\n",
       "       21           4\n",
       "       22         287\n",
       "       25          27\n",
       "B      1           79\n",
       "       3           90\n",
       "       6            4\n",
       "       7           73\n",
       "       10         158\n",
       "       11          79\n",
       "       12         115\n",
       "       13         109\n",
       "       24           1\n",
       "       25          58\n",
       "C      0          117\n",
       "       1           50\n",
       "       2           98\n",
       "       3           79\n",
       "       7           28\n",
       "       10          16\n",
       "       12          28\n",
       "       15           3\n",
       "       20          21\n",
       "                 ... \n",
       "X      21           1\n",
       "       25          19\n",
       "Y      0            1\n",
       "       1           91\n",
       "       2           34\n",
       "       7            8\n",
       "       9           42\n",
       "       10           1\n",
       "       12           4\n",
       "       15         161\n",
       "       17         213\n",
       "       19         131\n",
       "       20           5\n",
       "       21          33\n",
       "       24          18\n",
       "       25          44\n",
       "Z      0            7\n",
       "       1           64\n",
       "       2           55\n",
       "       3           57\n",
       "       4            1\n",
       "       6          306\n",
       "       7           30\n",
       "       10           4\n",
       "       11         113\n",
       "       12           1\n",
       "       13          82\n",
       "       22           1\n",
       "       24           6\n",
       "       25           7\n",
       "Length: 341, dtype: int64"
      ]
     },
     "execution_count": 6,
     "metadata": {},
     "output_type": "execute_result"
    }
   ],
   "source": [
    "cluster = pd.DataFrame({'predict' : clusters})\n",
    "cluster['class'] = df['class']\n",
    "cluster.groupby(['class','predict']).size()"
   ]
  },
  {
   "cell_type": "code",
   "execution_count": null,
   "metadata": {},
   "outputs": [],
   "source": [
    "from sklearn.cluster import KMeans\n",
    "from sklearn.datasets import load_digits\n",
    "digits = load_digits()\n",
    "digits.data.shape\n",
    "kmeans = KMeans(n_clusters=10, random_state=0)\n",
    "clusters = kmeans.fit_predict(digits.data)\n",
    "kmeans.cluster_centers_.shape"
   ]
  },
  {
   "cell_type": "code",
   "execution_count": null,
   "metadata": {},
   "outputs": [],
   "source": [
    "fig, ax = plt.subplots(2, 5, figsize=(8, 3))\n",
    "centers = kmeans.cluster_centers_.reshape(10, 8, 8)\n",
    "for axi, center in zip(ax.flat, centers):\n",
    "    axi.set(xticks=[], yticks=[])\n",
    "    axi.imshow(center, interpolation='nearest', cmap=plt.cm.binary)"
   ]
  },
  {
   "cell_type": "code",
   "execution_count": null,
   "metadata": {},
   "outputs": [],
   "source": []
  }
 ],
 "metadata": {
  "kernelspec": {
   "display_name": "Python 3",
   "language": "python",
   "name": "python3"
  },
  "language_info": {
   "codemirror_mode": {
    "name": "ipython",
    "version": 3
   },
   "file_extension": ".py",
   "mimetype": "text/x-python",
   "name": "python",
   "nbconvert_exporter": "python",
   "pygments_lexer": "ipython3",
   "version": "3.6.5"
  }
 },
 "nbformat": 4,
 "nbformat_minor": 2
}
