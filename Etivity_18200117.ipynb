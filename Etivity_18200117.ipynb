{
 "cells": [
  {
   "cell_type": "markdown",
   "metadata": {},
   "source": [
    "Student Name:\tAIDAN KEESHAN\n",
    "Student ID:\t18200117"
   ]
  },
  {
   "cell_type": "code",
   "execution_count": 46,
   "metadata": {},
   "outputs": [],
   "source": [
    "import numpy as np\n",
    "import pandas as pd\n",
    "import matplotlib.pyplot as plt\n",
    "\n",
    "df = pd.read_csv('data/kag_risk_factors_cervical_cancer.csv', na_values = ['?'])\n"
   ]
  },
  {
   "cell_type": "code",
   "execution_count": 47,
   "metadata": {},
   "outputs": [
    {
     "data": {
      "text/plain": [
       "Age                                   1.000000\n",
       "Number of sexual partners             0.969697\n",
       "First sexual intercourse              0.991841\n",
       "Num of pregnancies                    0.934732\n",
       "Smokes                                0.984848\n",
       "Smokes (years)                        0.984848\n",
       "Smokes (packs/year)                   0.984848\n",
       "Hormonal Contraceptives               0.874126\n",
       "Hormonal Contraceptives (years)       0.874126\n",
       "IUD                                   0.863636\n",
       "IUD (years)                           0.863636\n",
       "STDs                                  0.877622\n",
       "STDs (number)                         0.877622\n",
       "STDs:condylomatosis                   0.877622\n",
       "STDs:cervical condylomatosis          0.877622\n",
       "STDs:vaginal condylomatosis           0.877622\n",
       "STDs:vulvo-perineal condylomatosis    0.877622\n",
       "STDs:syphilis                         0.877622\n",
       "STDs:pelvic inflammatory disease      0.877622\n",
       "STDs:genital herpes                   0.877622\n",
       "STDs:molluscum contagiosum            0.877622\n",
       "STDs:AIDS                             0.877622\n",
       "STDs:HIV                              0.877622\n",
       "STDs:Hepatitis B                      0.877622\n",
       "STDs:HPV                              0.877622\n",
       "STDs: Number of diagnosis             1.000000\n",
       "STDs: Time since first diagnosis      0.082751\n",
       "STDs: Time since last diagnosis       0.082751\n",
       "Dx:Cancer                             1.000000\n",
       "Dx:CIN                                1.000000\n",
       "Dx:HPV                                1.000000\n",
       "Dx                                    1.000000\n",
       "Hinselmann                            1.000000\n",
       "Schiller                              1.000000\n",
       "Citology                              1.000000\n",
       "Biopsy                                1.000000\n",
       "dtype: float64"
      ]
     },
     "execution_count": 47,
     "metadata": {},
     "output_type": "execute_result"
    }
   ],
   "source": [
    "summary = (len(df) - df.isnull().sum())/len(df)\n",
    "summary\n"
   ]
  },
  {
   "cell_type": "code",
   "execution_count": 74,
   "metadata": {},
   "outputs": [
    {
     "data": {
      "text/plain": [
       "<matplotlib.axes._subplots.AxesSubplot at 0x7fa5e205dba8>"
      ]
     },
     "execution_count": 74,
     "metadata": {},
     "output_type": "execute_result"
    },
    {
     "data": {
      "image/png": "[encoded data removed]",
      "text/plain": [
       "<Figure size 432x288 with 2 Axes>"
      ]
     },
     "metadata": {
      "needs_background": "light"
     },
     "output_type": "display_data"
    }
   ],
   "source": [
    "import seaborn as sn\n",
    "from sklearn import svm\n",
    "from sklearn.model_selection import train_test_split\n",
    "from sklearn.metrics import confusion_matrix\n",
    "from sklearn.ensemble import RandomForestClassifier\n",
    "\n",
    "y = np.array(df['Biopsy'])\n",
    "X = df.drop('Biopsy', 1)\n",
    "X = X.replace(np.nan, 0)\n",
    "X_train, X_test, y_train, y_test = train_test_split(X, y, test_size=0.33, random_state=42)\n",
    "\n",
    "C = 1.0  # SVM regularization parameter\n",
    "\n",
    "model = svm.SVC(kernel='rbf', gamma=0.7, C=C)\n",
    "model = RandomForestClassifier(n_estimators = 200)\n",
    "model = model.fit(X_train, y_train)\n",
    "\n",
    "y_pred = model.predict(X_test)\n",
    "\n",
    "sn.heatmap(confusion_matrix(y_test, y_pred), annot=True)\n",
    "\n",
    "#correct = 0\n",
    "#for i in range(len(predict_classification)):\n",
    "#    if(y_test[i] == predict_classification[i]):\n",
    "#        correct +=1\n",
    "            \n",
    "\n",
    "\n",
    "#acc = correct/len(predict_classification)\n",
    "        \n",
    "#print(acc)\n",
    "\n"
   ]
  },
  {
   "cell_type": "code",
   "execution_count": 73,
   "metadata": {},
   "outputs": [
    {
     "name": "stderr",
     "output_type": "stream",
     "text": [
      "/home/jupyter-root/.local/lib/python3.6/site-packages/sklearn/preprocessing/data.py:323: DataConversionWarning: Data with input dtype int64, float64 were all converted to float64 by MinMaxScaler.\n",
      "  return self.partial_fit(X, y)\n"
     ]
    },
    {
     "name": "stdout",
     "output_type": "stream",
     "text": [
      "ElasticNet Confusion Matrix\n"
     ]
    },
    {
     "data": {
      "image/png": "[encoded data removed]",
      "text/plain": [
       "<Figure size 432x288 with 2 Axes>"
      ]
     },
     "metadata": {
      "needs_background": "light"
     },
     "output_type": "display_data"
    },
    {
     "name": "stdout",
     "output_type": "stream",
     "text": [
      "--------------------------------------------------------------------------------\n",
      "ElasticNet Classification Report\n",
      "              precision    recall  f1-score   support\n",
      "\n",
      "           0       1.00      1.00      1.00       840\n",
      "           1       0.89      0.89      0.89        18\n",
      "\n",
      "   micro avg       1.00      1.00      1.00       858\n",
      "   macro avg       0.94      0.94      0.94       858\n",
      "weighted avg       1.00      1.00      1.00       858\n",
      "\n",
      "--------------------------------------------------------------------------------\n",
      "Accuracy 99.53 %\n",
      "SVC Confusion Matrix\n"
     ]
    },
    {
     "name": "stderr",
     "output_type": "stream",
     "text": [
      "/home/jupyter-root/.local/lib/python3.6/site-packages/sklearn/svm/base.py:196: FutureWarning: The default value of gamma will change from 'auto' to 'scale' in version 0.22 to account better for unscaled features. Set gamma explicitly to 'auto' or 'scale' to avoid this warning.\n",
      "  \"avoid this warning.\", FutureWarning)\n"
     ]
    },
    {
     "data": {
      "image/png": "[encoded data removed]",
      "text/plain": [
       "<Figure size 432x288 with 2 Axes>"
      ]
     },
     "metadata": {
      "needs_background": "light"
     },
     "output_type": "display_data"
    },
    {
     "name": "stdout",
     "output_type": "stream",
     "text": [
      "--------------------------------------------------------------------------------\n",
      "SVC Classification Report\n",
      "              precision    recall  f1-score   support\n",
      "\n",
      "           0       0.98      1.00      0.99       840\n",
      "           1       1.00      0.06      0.11        18\n",
      "\n",
      "   micro avg       0.98      0.98      0.98       858\n",
      "   macro avg       0.99      0.53      0.55       858\n",
      "weighted avg       0.98      0.98      0.97       858\n",
      "\n",
      "--------------------------------------------------------------------------------\n",
      "Accuracy 98.02 %\n",
      "kSVC Confusion Matrix\n"
     ]
    },
    {
     "name": "stderr",
     "output_type": "stream",
     "text": [
      "/home/jupyter-root/.local/lib/python3.6/site-packages/sklearn/svm/base.py:196: FutureWarning: The default value of gamma will change from 'auto' to 'scale' in version 0.22 to account better for unscaled features. Set gamma explicitly to 'auto' or 'scale' to avoid this warning.\n",
      "  \"avoid this warning.\", FutureWarning)\n"
     ]
    },
    {
     "data": {
      "image/png": "[encoded data removed]",
      "text/plain": [
       "<Figure size 432x288 with 2 Axes>"
      ]
     },
     "metadata": {
      "needs_background": "light"
     },
     "output_type": "display_data"
    },
    {
     "name": "stdout",
     "output_type": "stream",
     "text": [
      "--------------------------------------------------------------------------------\n",
      "kSVC Classification Report\n",
      "              precision    recall  f1-score   support\n",
      "\n",
      "           0       0.98      1.00      0.99       840\n",
      "           1       1.00      0.06      0.11        18\n",
      "\n",
      "   micro avg       0.98      0.98      0.98       858\n",
      "   macro avg       0.99      0.53      0.55       858\n",
      "weighted avg       0.98      0.98      0.97       858\n",
      "\n",
      "--------------------------------------------------------------------------------\n",
      "Accuracy 98.02 %\n",
      "KNN Confusion Matrix\n"
     ]
    },
    {
     "data": {
      "image/png": "[encoded data removed]",
      "text/plain": [
       "<Figure size 432x288 with 2 Axes>"
      ]
     },
     "metadata": {
      "needs_background": "light"
     },
     "output_type": "display_data"
    },
    {
     "name": "stdout",
     "output_type": "stream",
     "text": [
      "--------------------------------------------------------------------------------\n",
      "KNN Classification Report\n",
      "              precision    recall  f1-score   support\n",
      "\n",
      "           0       1.00      1.00      1.00       840\n",
      "           1       1.00      1.00      1.00        18\n",
      "\n",
      "   micro avg       1.00      1.00      1.00       858\n",
      "   macro avg       1.00      1.00      1.00       858\n",
      "weighted avg       1.00      1.00      1.00       858\n",
      "\n",
      "--------------------------------------------------------------------------------\n",
      "Accuracy 100.0 %\n",
      "DecisionTree Confusion Matrix\n"
     ]
    },
    {
     "data": {
      "image/png": "[encoded data removed]",
      "text/plain": [
       "<Figure size 432x288 with 2 Axes>"
      ]
     },
     "metadata": {
      "needs_background": "light"
     },
     "output_type": "display_data"
    },
    {
     "name": "stdout",
     "output_type": "stream",
     "text": [
      "--------------------------------------------------------------------------------\n",
      "DecisionTree Classification Report\n",
      "              precision    recall  f1-score   support\n",
      "\n",
      "           0       1.00      1.00      1.00       840\n",
      "           1       1.00      1.00      1.00        18\n",
      "\n",
      "   micro avg       1.00      1.00      1.00       858\n",
      "   macro avg       1.00      1.00      1.00       858\n",
      "weighted avg       1.00      1.00      1.00       858\n",
      "\n",
      "--------------------------------------------------------------------------------\n",
      "Accuracy 100.0 %\n",
      "RandomForestClassifier Confusion Matrix\n"
     ]
    },
    {
     "data": {
      "image/png": "[encoded data removed]",
      "text/plain": [
       "<Figure size 432x288 with 2 Axes>"
      ]
     },
     "metadata": {
      "needs_background": "light"
     },
     "output_type": "display_data"
    },
    {
     "name": "stdout",
     "output_type": "stream",
     "text": [
      "--------------------------------------------------------------------------------\n",
      "RandomForestClassifier Classification Report\n",
      "              precision    recall  f1-score   support\n",
      "\n",
      "           0       1.00      1.00      1.00       840\n",
      "           1       1.00      1.00      1.00        18\n",
      "\n",
      "   micro avg       1.00      1.00      1.00       858\n",
      "   macro avg       1.00      1.00      1.00       858\n",
      "weighted avg       1.00      1.00      1.00       858\n",
      "\n",
      "--------------------------------------------------------------------------------\n",
      "Accuracy 100.0 %\n",
      "Fitting 3 folds for each of 25 candidates, totalling 75 fits\n"
     ]
    },
    {
     "name": "stderr",
     "output_type": "stream",
     "text": [
      "/home/jupyter-root/.local/lib/python3.6/site-packages/sklearn/model_selection/_split.py:1943: FutureWarning: You should specify a value for 'cv' instead of relying on the default value. The default value will change from 3 to 5 in version 0.22.\n",
      "  warnings.warn(CV_WARNING, FutureWarning)\n",
      "[Parallel(n_jobs=1)]: Using backend SequentialBackend with 1 concurrent workers.\n"
     ]
    },
    {
     "name": "stdout",
     "output_type": "stream",
     "text": [
      "GridSearchCV Confusion Matrix\n"
     ]
    },
    {
     "name": "stderr",
     "output_type": "stream",
     "text": [
      "[Parallel(n_jobs=1)]: Done  75 out of  75 | elapsed:    1.2s finished\n"
     ]
    },
    {
     "data": {
      "image/png": "[encoded data removed]",
      "text/plain": [
       "<Figure size 432x288 with 2 Axes>"
      ]
     },
     "metadata": {
      "needs_background": "light"
     },
     "output_type": "display_data"
    },
    {
     "name": "stdout",
     "output_type": "stream",
     "text": [
      "--------------------------------------------------------------------------------\n",
      "GridSearchCV Classification Report\n",
      "              precision    recall  f1-score   support\n",
      "\n",
      "           0       1.00      1.00      1.00       840\n",
      "           1       0.94      0.89      0.91        18\n",
      "\n",
      "   micro avg       1.00      1.00      1.00       858\n",
      "   macro avg       0.97      0.94      0.96       858\n",
      "weighted avg       1.00      1.00      1.00       858\n",
      "\n",
      "--------------------------------------------------------------------------------\n",
      "Accuracy 99.65 %\n",
      "HuberRegressor Confusion Matrix\n"
     ]
    },
    {
     "data": {
      "image/png": "[encoded data removed]",
      "text/plain": [
       "<Figure size 432x288 with 2 Axes>"
      ]
     },
     "metadata": {
      "needs_background": "light"
     },
     "output_type": "display_data"
    },
    {
     "name": "stdout",
     "output_type": "stream",
     "text": [
      "--------------------------------------------------------------------------------\n",
      "HuberRegressor Classification Report\n",
      "              precision    recall  f1-score   support\n",
      "\n",
      "           0       0.98      1.00      0.99       840\n",
      "           1       0.00      0.00      0.00        18\n",
      "\n",
      "   micro avg       0.98      0.98      0.98       858\n",
      "   macro avg       0.49      0.50      0.49       858\n",
      "weighted avg       0.96      0.98      0.97       858\n",
      "\n",
      "--------------------------------------------------------------------------------\n",
      "Accuracy 97.9 %\n",
      "Ridge Confusion Matrix\n"
     ]
    },
    {
     "name": "stderr",
     "output_type": "stream",
     "text": [
      "/home/jupyter-root/.local/lib/python3.6/site-packages/sklearn/metrics/classification.py:1143: UndefinedMetricWarning: Precision and F-score are ill-defined and being set to 0.0 in labels with no predicted samples.\n",
      "  'precision', 'predicted', average, warn_for)\n"
     ]
    },
    {
     "data": {
      "image/png": "[encoded data removed]",
      "text/plain": [
       "<Figure size 432x288 with 2 Axes>"
      ]
     },
     "metadata": {
      "needs_background": "light"
     },
     "output_type": "display_data"
    },
    {
     "name": "stdout",
     "output_type": "stream",
     "text": [
      "--------------------------------------------------------------------------------\n",
      "Ridge Classification Report\n",
      "              precision    recall  f1-score   support\n",
      "\n",
      "           0       1.00      1.00      1.00       840\n",
      "           1       0.94      0.89      0.91        18\n",
      "\n",
      "   micro avg       1.00      1.00      1.00       858\n",
      "   macro avg       0.97      0.94      0.96       858\n",
      "weighted avg       1.00      1.00      1.00       858\n",
      "\n",
      "--------------------------------------------------------------------------------\n",
      "Accuracy 99.65 %\n",
      "Lasso Confusion Matrix\n"
     ]
    },
    {
     "data": {
      "image/png": "[encoded data removed]",
      "text/plain": [
       "<Figure size 432x288 with 2 Axes>"
      ]
     },
     "metadata": {
      "needs_background": "light"
     },
     "output_type": "display_data"
    },
    {
     "name": "stdout",
     "output_type": "stream",
     "text": [
      "--------------------------------------------------------------------------------\n",
      "Lasso Classification Report\n",
      "              precision    recall  f1-score   support\n",
      "\n",
      "           0       0.98      1.00      0.99       840\n",
      "           1       0.00      0.00      0.00        18\n",
      "\n",
      "   micro avg       0.98      0.98      0.98       858\n",
      "   macro avg       0.49      0.50      0.49       858\n",
      "weighted avg       0.96      0.98      0.97       858\n",
      "\n",
      "--------------------------------------------------------------------------------\n",
      "Accuracy 97.9 %\n",
      "LassoCV Confusion Matrix\n"
     ]
    },
    {
     "name": "stderr",
     "output_type": "stream",
     "text": [
      "/home/jupyter-root/.local/lib/python3.6/site-packages/sklearn/metrics/classification.py:1143: UndefinedMetricWarning: Precision and F-score are ill-defined and being set to 0.0 in labels with no predicted samples.\n",
      "  'precision', 'predicted', average, warn_for)\n",
      "/home/jupyter-root/.local/lib/python3.6/site-packages/sklearn/model_selection/_split.py:1943: FutureWarning: You should specify a value for 'cv' instead of relying on the default value. The default value will change from 3 to 5 in version 0.22.\n",
      "  warnings.warn(CV_WARNING, FutureWarning)\n"
     ]
    },
    {
     "data": {
      "image/png": "[encoded data removed]",
      "text/plain": [
       "<Figure size 432x288 with 2 Axes>"
      ]
     },
     "metadata": {
      "needs_background": "light"
     },
     "output_type": "display_data"
    },
    {
     "name": "stdout",
     "output_type": "stream",
     "text": [
      "--------------------------------------------------------------------------------\n",
      "LassoCV Classification Report\n",
      "              precision    recall  f1-score   support\n",
      "\n",
      "           0       1.00      1.00      1.00       840\n",
      "           1       0.89      0.89      0.89        18\n",
      "\n",
      "   micro avg       1.00      1.00      1.00       858\n",
      "   macro avg       0.94      0.94      0.94       858\n",
      "weighted avg       1.00      1.00      1.00       858\n",
      "\n",
      "--------------------------------------------------------------------------------\n",
      "Accuracy 99.53 %\n",
      "Lars Confusion Matrix\n"
     ]
    },
    {
     "data": {
      "image/png": "[encoded data removed]",
      "text/plain": [
       "<Figure size 432x288 with 2 Axes>"
      ]
     },
     "metadata": {
      "needs_background": "light"
     },
     "output_type": "display_data"
    },
    {
     "name": "stdout",
     "output_type": "stream",
     "text": [
      "--------------------------------------------------------------------------------\n",
      "Lars Classification Report\n",
      "              precision    recall  f1-score   support\n",
      "\n",
      "           0       1.00      1.00      1.00       840\n",
      "           1       0.89      0.89      0.89        18\n",
      "\n",
      "   micro avg       1.00      1.00      1.00       858\n",
      "   macro avg       0.94      0.94      0.94       858\n",
      "weighted avg       1.00      1.00      1.00       858\n",
      "\n",
      "--------------------------------------------------------------------------------\n",
      "Accuracy 99.53 %\n",
      "BayesianRidge Confusion Matrix\n"
     ]
    },
    {
     "data": {
      "image/png": "[encoded data removed]",
      "text/plain": [
       "<Figure size 432x288 with 2 Axes>"
      ]
     },
     "metadata": {
      "needs_background": "light"
     },
     "output_type": "display_data"
    },
    {
     "name": "stdout",
     "output_type": "stream",
     "text": [
      "--------------------------------------------------------------------------------\n",
      "BayesianRidge Classification Report\n",
      "              precision    recall  f1-score   support\n",
      "\n",
      "           0       1.00      1.00      1.00       840\n",
      "           1       0.94      0.89      0.91        18\n",
      "\n",
      "   micro avg       1.00      1.00      1.00       858\n",
      "   macro avg       0.97      0.94      0.96       858\n",
      "weighted avg       1.00      1.00      1.00       858\n",
      "\n",
      "--------------------------------------------------------------------------------\n",
      "Accuracy 99.65 %\n",
      "SGDClassifier Confusion Matrix\n"
     ]
    },
    {
     "name": "stderr",
     "output_type": "stream",
     "text": [
      "/home/jupyter-root/.local/lib/python3.6/site-packages/sklearn/linear_model/stochastic_gradient.py:144: FutureWarning: max_iter and tol parameters have been added in SGDClassifier in 0.19. If both are left unset, they default to max_iter=5 and tol=None. If tol is not None, max_iter defaults to max_iter=1000. From 0.21, default max_iter will be 1000, and default tol will be 1e-3.\n",
      "  FutureWarning)\n"
     ]
    },
    {
     "data": {
      "image/png": "[encoded data removed]",
      "text/plain": [
       "<Figure size 432x288 with 2 Axes>"
      ]
     },
     "metadata": {
      "needs_background": "light"
     },
     "output_type": "display_data"
    },
    {
     "name": "stdout",
     "output_type": "stream",
     "text": [
      "--------------------------------------------------------------------------------\n",
      "SGDClassifier Classification Report\n",
      "              precision    recall  f1-score   support\n",
      "\n",
      "           0       0.98      1.00      0.99       840\n",
      "           1       0.00      0.00      0.00        18\n",
      "\n",
      "   micro avg       0.98      0.98      0.98       858\n",
      "   macro avg       0.49      0.50      0.49       858\n",
      "weighted avg       0.96      0.98      0.97       858\n",
      "\n",
      "--------------------------------------------------------------------------------\n",
      "Accuracy 97.9 %\n",
      "RidgeClassifier Confusion Matrix\n"
     ]
    },
    {
     "name": "stderr",
     "output_type": "stream",
     "text": [
      "/home/jupyter-root/.local/lib/python3.6/site-packages/sklearn/metrics/classification.py:1143: UndefinedMetricWarning: Precision and F-score are ill-defined and being set to 0.0 in labels with no predicted samples.\n",
      "  'precision', 'predicted', average, warn_for)\n"
     ]
    },
    {
     "data": {
      "image/png": "[encoded data removed]",
      "text/plain": [
       "<Figure size 432x288 with 2 Axes>"
      ]
     },
     "metadata": {
      "needs_background": "light"
     },
     "output_type": "display_data"
    },
    {
     "name": "stdout",
     "output_type": "stream",
     "text": [
      "--------------------------------------------------------------------------------\n",
      "RidgeClassifier Classification Report\n",
      "              precision    recall  f1-score   support\n",
      "\n",
      "           0       1.00      1.00      1.00       840\n",
      "           1       0.89      0.89      0.89        18\n",
      "\n",
      "   micro avg       1.00      1.00      1.00       858\n",
      "   macro avg       0.94      0.94      0.94       858\n",
      "weighted avg       1.00      1.00      1.00       858\n",
      "\n",
      "--------------------------------------------------------------------------------\n",
      "Accuracy 99.53 %\n"
     ]
    },
    {
     "name": "stderr",
     "output_type": "stream",
     "text": [
      "/home/jupyter-root/.local/lib/python3.6/site-packages/sklearn/linear_model/logistic.py:432: FutureWarning: Default solver will be changed to 'lbfgs' in 0.22. Specify a solver to silence this warning.\n",
      "  FutureWarning)\n"
     ]
    },
    {
     "name": "stdout",
     "output_type": "stream",
     "text": [
      "LogisticRegression Confusion Matrix\n"
     ]
    },
    {
     "data": {
      "image/png": "[encoded data removed]",
      "text/plain": [
       "<Figure size 432x288 with 2 Axes>"
      ]
     },
     "metadata": {
      "needs_background": "light"
     },
     "output_type": "display_data"
    },
    {
     "name": "stdout",
     "output_type": "stream",
     "text": [
      "--------------------------------------------------------------------------------\n",
      "LogisticRegression Classification Report\n",
      "              precision    recall  f1-score   support\n",
      "\n",
      "           0       0.99      1.00      1.00       840\n",
      "           1       0.93      0.72      0.81        18\n",
      "\n",
      "   micro avg       0.99      0.99      0.99       858\n",
      "   macro avg       0.96      0.86      0.90       858\n",
      "weighted avg       0.99      0.99      0.99       858\n",
      "\n",
      "--------------------------------------------------------------------------------\n",
      "Accuracy 99.3 %\n",
      "OrthogonalMatchingPursuit Confusion Matrix\n"
     ]
    },
    {
     "data": {
      "image/png": "[encoded data removed]",
      "text/plain": [
       "<Figure size 432x288 with 2 Axes>"
      ]
     },
     "metadata": {
      "needs_background": "light"
     },
     "output_type": "display_data"
    },
    {
     "name": "stdout",
     "output_type": "stream",
     "text": [
      "--------------------------------------------------------------------------------\n",
      "OrthogonalMatchingPursuit Classification Report\n",
      "              precision    recall  f1-score   support\n",
      "\n",
      "           0       1.00      1.00      1.00       840\n",
      "           1       0.89      0.89      0.89        18\n",
      "\n",
      "   micro avg       1.00      1.00      1.00       858\n",
      "   macro avg       0.94      0.94      0.94       858\n",
      "weighted avg       1.00      1.00      1.00       858\n",
      "\n",
      "--------------------------------------------------------------------------------\n",
      "Accuracy 99.53 %\n"
     ]
    }
   ],
   "source": [
    "from sklearn.linear_model import OrthogonalMatchingPursuit,RANSACRegressor,LogisticRegression,ElasticNetCV,HuberRegressor, Ridge, Lasso,LassoCV,Lars,BayesianRidge,SGDClassifier,LogisticRegressionCV,RidgeClassifier\n",
    "from sklearn.preprocessing import MinMaxScaler\n",
    "import seaborn as sns\n",
    "\n",
    "# import some data to play with\n",
    "       # those ? converted to NAN are bothering me abit...        \n",
    "\n",
    "from sklearn.linear_model import OrthogonalMatchingPursuit,RANSACRegressor,LogisticRegression,ElasticNetCV,HuberRegressor, Ridge, Lasso,LassoCV,Lars,BayesianRidge,SGDClassifier,LogisticRegressionCV,RidgeClassifier\n",
    "from sklearn.svm import SVC\n",
    "from sklearn.preprocessing import MinMaxScaler,PolynomialFeatures\n",
    "from sklearn.model_selection import GridSearchCV\n",
    "from sklearn.neighbors import KNeighborsClassifier\n",
    "from sklearn.tree import DecisionTreeClassifier\n",
    "from sklearn.ensemble import RandomForestClassifier\n",
    "\n",
    "param_grid = {'C': [0.1,1, 10, 100, 1000], 'gamma': [1,0.1,0.01,0.001,0.0001], 'kernel': ['rbf']}\n",
    "\n",
    "Y = np.array(df['Dx:Cancer'])\n",
    "X = df.drop('Dx:Cancer', 1)\n",
    "\n",
    "n_col=36\n",
    "#X = train.drop(['Dx:Cancer'],axis=1) \n",
    "#Y=train['Dx:Cancer']\n",
    "X=X.fillna(value=0)\n",
    "scaler = MinMaxScaler()\n",
    "scaler.fit(X)\n",
    "#X=scaler.transform(X)\n",
    "poly = PolynomialFeatures(2)\n",
    "#X=poly.fit_transform(X)\n",
    "\n",
    "\n",
    "names = [\n",
    "         'ElasticNet',\n",
    "         'SVC',\n",
    "         'kSVC',\n",
    "         'KNN',\n",
    "         'DecisionTree',\n",
    "         'RandomForestClassifier',\n",
    "         'GridSearchCV',\n",
    "         'HuberRegressor',\n",
    "         'Ridge',\n",
    "         'Lasso',\n",
    "         'LassoCV',\n",
    "         'Lars',\n",
    "         'BayesianRidge',\n",
    "         'SGDClassifier',\n",
    "         'RidgeClassifier',\n",
    "         'LogisticRegression',\n",
    "         'OrthogonalMatchingPursuit',\n",
    "         #'RANSACRegressor',\n",
    "         ]\n",
    "\n",
    "classifiers = [\n",
    "    ElasticNetCV(cv=10, random_state=0),\n",
    "    SVC(),\n",
    "    SVC(kernel = 'rbf', random_state = 0),\n",
    "    KNeighborsClassifier(n_neighbors = 1),\n",
    "    DecisionTreeClassifier(),\n",
    "    RandomForestClassifier(n_estimators = 200),\n",
    "    GridSearchCV(SVC(),param_grid, refit = True, verbose = 1),\n",
    "    HuberRegressor(fit_intercept=True, alpha=0.0, max_iter=100,epsilon=2.95),\n",
    "    Ridge(fit_intercept=True, alpha=0.0, random_state=0, normalize=True),\n",
    "    Lasso(alpha=0.05),\n",
    "    LassoCV(),\n",
    "    Lars(n_nonzero_coefs=10),\n",
    "    BayesianRidge(),\n",
    "    SGDClassifier(),\n",
    "    RidgeClassifier(),\n",
    "    LogisticRegression(),\n",
    "    OrthogonalMatchingPursuit(),\n",
    "    #RANSACRegressor(),\n",
    "]\n",
    "correction= [0,0,0,0,0,0,0,0,0,0,0,0,0,0,0,0,0,0]\n",
    "\n",
    "models=zip(names,classifiers,correction)\n",
    "   \n",
    "for name, clf,correct in models:\n",
    "    regr=clf.fit(X,Y)\n",
    "    #print( name,'% errors', abs(regr.predict(X)+correct-Y).sum()/(Y.sum())*100)\n",
    "    #print(name,'%error',procenterror(regr.predict(X),Y),'rmsle',rmsle(regr.predict(X),Y))\n",
    "    from sklearn.metrics import classification_report, confusion_matrix, accuracy_score,f1_score, precision_score, recall_score\n",
    "    \n",
    "    # Confusion Matrix\n",
    "    print(name,'Confusion Matrix')\n",
    "    conf=confusion_matrix(Y, np.round(regr.predict(X) ) )     \n",
    "    label = [\"0\",\"1\"]\n",
    "    sns.heatmap(conf, annot=True, xticklabels=label, yticklabels=label, cmap=\"YlGnBu\")\n",
    "    plt.show()\n",
    "    \n",
    "    print('--'*40)\n",
    "\n",
    "    # Classification Report\n",
    "    print(name,'Classification Report')\n",
    "    classif=classification_report(Y,np.round( regr.predict(X) ) )\n",
    "    print(classif)\n",
    "\n",
    "\n",
    "    # Accuracy\n",
    "    print('--'*40)\n",
    "    logreg_accuracy = round(accuracy_score(Y, np.round( regr.predict(X) ) ) * 100,2)\n",
    "    print('Accuracy', logreg_accuracy,'%')"
   ]
  },
  {
   "cell_type": "code",
   "execution_count": null,
   "metadata": {},
   "outputs": [],
   "source": []
  }
 ],
 "metadata": {
  "kernelspec": {
   "display_name": "Python 3",
   "language": "python",
   "name": "python3"
  },
  "language_info": {
   "codemirror_mode": {
    "name": "ipython",
    "version": 3
   },
   "file_extension": ".py",
   "mimetype": "text/x-python",
   "name": "python",
   "nbconvert_exporter": "python",
   "pygments_lexer": "ipython3",
   "version": "3.6.5"
  }
 },
 "nbformat": 4,
 "nbformat_minor": 2
}
