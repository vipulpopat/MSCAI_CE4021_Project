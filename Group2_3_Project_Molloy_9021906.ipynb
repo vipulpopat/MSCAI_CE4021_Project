{
 "cells": [
  {
   "cell_type": "markdown",
   "metadata": {},
   "source": [
    "@Student Name: Garret Molloy\n",
    "@Student ID: 9021906\n",
    "@Project Group: 2.3\n",
    "\n",
    "# Title: Predicting Diabetic Retinopathy\n",
    "\n",
    "## Using Binary Classification & Logistic Regression\n",
    "\n",
    "Datasource Name: Diabetic Retinopathy Debrecen Data Set Data Set \n",
    "Website: The UCI Machine Learning Repository \n",
    "Datasource: http://archive.ics.uci.edu/ml/datasets/Diabetic+Retinopathy+Debrecen+Data+Set#\n"
   ]
  },
  {
   "cell_type": "code",
   "execution_count": 9,
   "metadata": {},
   "outputs": [],
   "source": [
    "from pandas import read_csv\n",
    "\n",
    "df = read_csv(\"messidor_features.csv\")\n",
    "dataset = df.values"
   ]
  },
  {
   "cell_type": "markdown",
   "metadata": {},
   "source": [
    "## Data Set Information:\n",
    "\n",
    "This dataset contains features extracted from the Messidor image set to predict whether an image contains signs of diabetic retinopathy or not. All features represent either a detected lesion, a descriptive feature of a anatomical part or an image-level descriptor. The underlying method image analysis and feature extraction as well as our classification technique is described in Balint Antal, Andras Hajdu: An ensemble-based system for automatic screening of diabetic retinopathy, Knowledge-Based Systems 60 (April 2014), 20-27. \n"
   ]
  },
  {
   "cell_type": "raw",
   "metadata": {},
   "source": [
    "## Data Features:\n",
    "\n",
    "Attribute Information:\n",
    "0) The binary result of quality assessment. 0 = bad quality 1 = sufficient quality. \n",
    "1) The binary result of pre-screening, where 1 indicates severe retinal abnormality and 0 its lack. \n",
    "\n",
    "2-7) The results of MA detection. \n",
    "Each feature value stand for the number of MAs found at the confidence levels alpha = 0.5, . . . , 1, respectively. \n",
    "\n",
    "8-15) contain the same information as 2-7) for exudates. \n",
    "However, as exudates are represented by a set of points rather than the number of pixels constructing the lesions, these features are normalized by dividing the number of lesions with the diameter of the ROI to compensate different image sizes. \n",
    "\n",
    "16) The euclidean distance of the center of the macula and the center of the optic disc to provide important information \n",
    "regarding the patient's condition. This feature is also normalized with the diameter of the ROI. \n",
    "17) The diameter of the optic disc. \n",
    "18) The binary result of the AM/FM-based classification. \n",
    "\n",
    "19) Class label. 1 = contains signs of DR (Accumulative label for the Messidor classes 1, 2, 3), 0 = no signs of DR."
   ]
  },
  {
   "cell_type": "code",
   "execution_count": 14,
   "metadata": {},
   "outputs": [
    {
     "name": "stdout",
     "output_type": "stream",
     "text": [
      "   id  0  1   2   3   4   5   6   7          8  ...           10        11  \\\n",
      "0   1  1  1  22  22  22  19  18  14  49.895756  ...     5.270920  0.771761   \n",
      "1   2  1  1  24  24  22  18  16  13  57.709936  ...     3.325423  0.234185   \n",
      "2   3  1  1  62  60  59  54  47  33  55.831441  ...    12.687485  4.852282   \n",
      "3   4  1  1  55  53  53  50  43  31  40.467228  ...     9.118901  3.079428   \n",
      "4   5  1  1  44  44  44  41  39  27  18.026254  ...     0.410381  0.000000   \n",
      "\n",
      "         12        13        14        15        16        17  18  Class  \n",
      "0  0.018632  0.006864  0.003923  0.003923  0.486903  0.100025   1      0  \n",
      "1  0.003903  0.003903  0.003903  0.003903  0.520908  0.144414   0      0  \n",
      "2  1.393889  0.373252  0.041817  0.007744  0.530904  0.128548   0      1  \n",
      "3  0.840261  0.272434  0.007653  0.001531  0.483284  0.114790   0      0  \n",
      "4  0.000000  0.000000  0.000000  0.000000  0.475935  0.123572   0      1  \n",
      "\n",
      "[5 rows x 21 columns]\n"
     ]
    }
   ],
   "source": [
    "print( df.head(5))"
   ]
  },
  {
   "cell_type": "code",
   "execution_count": 12,
   "metadata": {},
   "outputs": [
    {
     "name": "stdout",
     "output_type": "stream",
     "text": [
      "1    1147\n",
      "0       4\n",
      "Name: 0, dtype: int64\n"
     ]
    }
   ],
   "source": [
    "print( df['0'].value_counts())"
   ]
  },
  {
   "cell_type": "markdown",
   "metadata": {},
   "source": [
    "### Data Pre-Processing"
   ]
  },
  {
   "cell_type": "code",
   "execution_count": 16,
   "metadata": {},
   "outputs": [
    {
     "name": "stdout",
     "output_type": "stream",
     "text": [
      "   0  1   2   3   4   5   6   7          8          9         10        11  \\\n",
      "0  1  1  22  22  22  19  18  14  49.895756  17.775994   5.270920  0.771761   \n",
      "1  1  1  24  24  22  18  16  13  57.709936  23.799994   3.325423  0.234185   \n",
      "2  1  1  62  60  59  54  47  33  55.831441  27.993933  12.687485  4.852282   \n",
      "3  1  1  55  53  53  50  43  31  40.467228  18.445954   9.118901  3.079428   \n",
      "4  1  1  44  44  44  41  39  27  18.026254   8.570709   0.410381  0.000000   \n",
      "\n",
      "         12        13        14        15        16        17  18  \n",
      "0  0.018632  0.006864  0.003923  0.003923  0.486903  0.100025   1  \n",
      "1  0.003903  0.003903  0.003903  0.003903  0.520908  0.144414   0  \n",
      "2  1.393889  0.373252  0.041817  0.007744  0.530904  0.128548   0  \n",
      "3  0.840261  0.272434  0.007653  0.001531  0.483284  0.114790   0  \n",
      "4  0.000000  0.000000  0.000000  0.000000  0.475935  0.123572   0  \n",
      "0    0\n",
      "1    0\n",
      "2    1\n",
      "3    0\n",
      "4    1\n",
      "Name: Class, dtype: int64\n"
     ]
    }
   ],
   "source": [
    "# Remove 'id' field as it contributes nothing\n",
    "\n",
    "df = df.drop('id',1)\n",
    "\n",
    "X = df.drop('Class', 1)\n",
    "y = df.Class\n",
    "\n",
    "print(X.head(5))\n",
    "print(y.head(5))\n"
   ]
  },
  {
   "cell_type": "code",
   "execution_count": 27,
   "metadata": {},
   "outputs": [
    {
     "data": {
      "image/png": "[encoded data removed]",
      "text/plain": [
       "<Figure size 432x288 with 1 Axes>"
      ]
     },
     "metadata": {
      "needs_background": "light"
     },
     "output_type": "display_data"
    },
    {
     "name": "stdout",
     "output_type": "stream",
     "text": [
      "1    1147\n",
      "0       4\n",
      "Name: 0, dtype: int64\n",
      "1    1057\n",
      "0      94\n",
      "Name: 1, dtype: int64\n"
     ]
    }
   ],
   "source": [
    "import matplotlib.pyplot as plt\n",
    "\n",
    "def plot_histogram(x):\n",
    "    plt.hist(x, color=\"blue\", alpha=0.5)\n",
    "    plt.title(\"Histogram of {}\".format(x.name))\n",
    "    plt.xlabel(\"Value\")\n",
    "    plt.ylabel(\"Frequency\")\n",
    "    plt.show()\n",
    "    \n",
    "plot_histogram(X['16'])\n",
    "# print(X['16'].value_counts())\n",
    "\n",
    "def plot(z):\n",
    "    plt.title(\"Plot of Values of {}\".format(z.name))\n",
    "    plt.plot(z)\n",
    "    plt.show()\n",
    "    \n",
    "# df = df[df.line_race != 0]\n",
    "# df.loc[(df['age'] == 21) & df['favorite_color'].isin(array)]\n",
    "print( df['0'].value_counts())\n",
    "print( df['1'].value_counts())"
   ]
  },
  {
   "cell_type": "code",
   "execution_count": 42,
   "metadata": {},
   "outputs": [
    {
     "name": "stdout",
     "output_type": "stream",
     "text": [
      "   0  1   2   3   4   5   6   7          8          9         10        11  \\\n",
      "0  1  1  22  22  22  19  18  14  49.895756  17.775994   5.270920  0.771761   \n",
      "1  1  1  24  24  22  18  16  13  57.709936  23.799994   3.325423  0.234185   \n",
      "2  1  1  62  60  59  54  47  33  55.831441  27.993933  12.687485  4.852282   \n",
      "3  1  1  55  53  53  50  43  31  40.467228  18.445954   9.118901  3.079428   \n",
      "4  1  1  44  44  44  41  39  27  18.026254   8.570709   0.410381  0.000000   \n",
      "\n",
      "         12        13        14        15        16        17  18  \n",
      "0  0.018632  0.006864  0.003923  0.003923  0.486903  0.100025   1  \n",
      "1  0.003903  0.003903  0.003903  0.003903  0.520908  0.144414   0  \n",
      "2  1.393889  0.373252  0.041817  0.007744  0.530904  0.128548   0  \n",
      "3  0.840261  0.272434  0.007653  0.001531  0.483284  0.114790   0  \n",
      "4  0.000000  0.000000  0.000000  0.000000  0.475935  0.123572   0  \n"
     ]
    }
   ],
   "source": [
    "from sklearn.decomposition import PCA\n",
    "import pandas as pd\n",
    "\n",
    "pca = PCA(n_components=10)\n",
    "X_pca = pd.DataFrame(pca.fit_transform(X))\n",
    "\n",
    "print(X.head(5))"
   ]
  },
  {
   "cell_type": "code",
   "execution_count": 43,
   "metadata": {},
   "outputs": [
    {
     "name": "stderr",
     "output_type": "stream",
     "text": [
      "D:\\Python\\Miniconda\\lib\\site-packages\\sklearn\\model_selection\\_split.py:2069: FutureWarning: From version 0.21, test_size will always complement train_size unless both are specified.\n",
      "  FutureWarning)\n"
     ]
    }
   ],
   "source": [
    "import sklearn.feature_selection\n",
    "from sklearn.model_selection import train_test_split\n",
    "\n",
    "# Use train_test_split in sklearn.cross_validation to split data into train and test sets\n",
    "\n",
    "X_train, X_test, y_train, y_test = train_test_split(X, y, train_size=0.70, random_state=1)\n",
    "\n",
    "select = sklearn.feature_selection.SelectKBest(k=6)\n",
    "selected_features = select.fit(X_train, y_train)\n",
    "indices_selected = selected_features.get_support(indices=True)\n",
    "colnames_selected = [X.columns[i] for i in indices_selected]\n",
    "\n",
    "X_train_selected = X_train[colnames_selected]\n",
    "X_test_selected = X_test[colnames_selected]\n",
    "\n",
    "# Function to build model and find model performance\n",
    "from sklearn.linear_model import LogisticRegression\n",
    "from sklearn.metrics import roc_auc_score\n",
    "\n",
    "def find_model_perf(X_train, y_train, X_test, y_test):\n",
    "    model = LogisticRegression()\n",
    "    model.fit(X_train, y_train)\n",
    "    y_hat = [x[1] for x in model.predict_proba(X_test)]\n",
    "    auc = roc_auc_score(y_test, y_hat)\n",
    "    \n",
    "    return auc\n",
    "\n",
    "\n"
   ]
  },
  {
   "cell_type": "code",
   "execution_count": 44,
   "metadata": {},
   "outputs": [
    {
     "name": "stdout",
     "output_type": "stream",
     "text": [
      "0.8153477619941034\n"
     ]
    },
    {
     "name": "stderr",
     "output_type": "stream",
     "text": [
      "D:\\Python\\Miniconda\\lib\\site-packages\\sklearn\\linear_model\\logistic.py:432: FutureWarning: Default solver will be changed to 'lbfgs' in 0.22. Specify a solver to silence this warning.\n",
      "  FutureWarning)\n"
     ]
    }
   ],
   "source": [
    "# Find performance of model using preprocessed data\n",
    "auc_processed = find_model_perf(X_train_selected, y_train, X_test_selected, y_test)\n",
    "print(auc_processed)"
   ]
  },
  {
   "cell_type": "code",
   "execution_count": null,
   "metadata": {},
   "outputs": [],
   "source": []
  }
 ],
 "metadata": {
  "kernelspec": {
   "display_name": "Python 3",
   "language": "python",
   "name": "python3"
  },
  "language_info": {
   "codemirror_mode": {
    "name": "ipython",
    "version": 3
   },
   "file_extension": ".py",
   "mimetype": "text/x-python",
   "name": "python",
   "nbconvert_exporter": "python",
   "pygments_lexer": "ipython3",
   "version": "3.7.0"
  }
 },
 "nbformat": 4,
 "nbformat_minor": 2
}
