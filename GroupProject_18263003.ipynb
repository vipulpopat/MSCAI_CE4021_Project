{
 "cells": [
  {
   "cell_type": "markdown",
   "metadata": {},
   "source": [
    "Student Name: Chelliah Kanthanathan\n",
    "Student ID: 18263003"
   ]
  },
  {
   "cell_type": "markdown",
   "metadata": {},
   "source": [
    "Problem Description: Analyze Sales campaign data. The data has columns that represent the mode of an advertisement and the total sales. The key features are mode of advertisement i.e. columns TV, Facebook and GoogleSearch. The response or continuous output i.e. column Sales in percentage\n",
    "\n",
    "   Unnamed: 0     TV  Facebook  GoogleSearch  Sales\n",
    "0           1  230.1      37.8          69.2   22.1\n",
    "1           2   44.5      39.3          45.1   10.4\n",
    "2           3   17.2      45.9          69.3    9.3\n",
    "3           4  151.5      41.3          58.5   18.5\n",
    "4           5  180.8      10.8          58.4   12.9\n",
    "\n",
    "Applied K nearest neighbor Regression where as the number of neighbors that result higher accuracy and lesser error is selected after calculating the accuracy and erros for different number of K values between 1 and 31."
   ]
  },
  {
   "cell_type": "code",
   "execution_count": 1,
   "metadata": {},
   "outputs": [
    {
     "name": "stderr",
     "output_type": "stream",
     "text": [
      "C:\\Users\\chelliah\\AppData\\Local\\Continuum\\anaconda3\\lib\\site-packages\\sklearn\\cross_validation.py:41: DeprecationWarning: This module was deprecated in version 0.18 in favor of the model_selection module into which all the refactored classes and functions are moved. Also note that the interface of the new CV iterators are different from that of this module. This module will be removed in 0.20.\n",
      "  \"This module will be removed in 0.20.\", DeprecationWarning)\n"
     ]
    }
   ],
   "source": [
    "import pandas as pd\n",
    "import numpy as np\n",
    "import matplotlib.pyplot as plt\n",
    "from sklearn.cross_validation import train_test_split\n",
    "from sklearn.neighbors import KNeighborsRegressor\n",
    "from sklearn import metrics"
   ]
  },
  {
   "cell_type": "code",
   "execution_count": 2,
   "metadata": {},
   "outputs": [
    {
     "name": "stdout",
     "output_type": "stream",
     "text": [
      "   Unnamed: 0     TV  Facebook  GoogleSearch  Sales\n",
      "0           1  230.1      37.8          69.2   22.1\n",
      "1           2   44.5      39.3          45.1   10.4\n",
      "2           3   17.2      45.9          69.3    9.3\n",
      "3           4  151.5      41.3          58.5   18.5\n",
      "4           5  180.8      10.8          58.4   12.9\n"
     ]
    }
   ],
   "source": [
    "# Load the data\n",
    "data = pd.read_csv('SalesCampaign.csv')\n",
    "\n",
    "# Print the first few rows to show the available columns\n",
    "print (data.head(5))"
   ]
  },
  {
   "cell_type": "markdown",
   "metadata": {},
   "source": [
    "Select only few columns that are important for analysis\n",
    "These are the features for analysis\n",
    "TODO - Use the data with multiple columns and do data cleaning and \n",
    "exploration before selecting the important features and response"
   ]
  },
  {
   "cell_type": "code",
   "execution_count": 3,
   "metadata": {},
   "outputs": [
    {
     "name": "stdout",
     "output_type": "stream",
     "text": [
      "\n",
      "Selected feature shape:  (200, 3)\n"
     ]
    }
   ],
   "source": [
    "feature_cols = ['TV', 'Facebook', 'GoogleSearch']\n",
    "X = data[feature_cols]\n",
    "print (\"\\nSelected feature shape: \", X.shape)"
   ]
  },
  {
   "cell_type": "markdown",
   "metadata": {},
   "source": [
    "Select the column that are response i.e. continuous value or output based \n",
    "on the response from vairous mode od advertisment"
   ]
  },
  {
   "cell_type": "code",
   "execution_count": 4,
   "metadata": {},
   "outputs": [
    {
     "name": "stdout",
     "output_type": "stream",
     "text": [
      "Selected response shape:  (200,)\n"
     ]
    }
   ],
   "source": [
    "response_col = 'Sales'\n",
    "y = data[response_col]\n",
    "print (\"Selected response shape: \", y.shape)"
   ]
  },
  {
   "cell_type": "markdown",
   "metadata": {},
   "source": [
    "Train the model, Note that the test_size is 0.2 that gives 80% of data for \n",
    "training the model and 20% for testign the model\n",
    "TODO - Tune the test_size and random_state to check if the accuracy and \n",
    "error can be better"
   ]
  },
  {
   "cell_type": "code",
   "execution_count": 5,
   "metadata": {},
   "outputs": [
    {
     "name": "stdout",
     "output_type": "stream",
     "text": [
      "\n",
      "Selected feature shape for training the model:  (160, 3)\n",
      "Selected response shape for training the model:  (160,)\n",
      "\n",
      "Selected feature shape for testing the model:  (40, 3)\n",
      "Selected response shape for testing the model:  (40,)\n"
     ]
    }
   ],
   "source": [
    "X_train,X_test,y_train,y_test = train_test_split(X,y,test_size=0.2,random_state=1)\n",
    "\n",
    "print (\"\\nSelected feature shape for training the model: \", X_train.shape)\n",
    "print (\"Selected response shape for training the model: \", y_train.shape)\n",
    "print (\"\\nSelected feature shape for testing the model: \", X_test.shape)\n",
    "print (\"Selected response shape for testing the model: \",y_test.shape)"
   ]
  },
  {
   "cell_type": "markdown",
   "metadata": {},
   "source": [
    "Select the number of neighbor that give high accuracy and less error\n",
    "TODO- Use cross validationmodesl like K fold if possible"
   ]
  },
  {
   "cell_type": "code",
   "execution_count": 6,
   "metadata": {},
   "outputs": [
    {
     "name": "stdout",
     "output_type": "stream",
     "text": [
      "\n",
      "Accuracy for different number of neighbors\n",
      "[0.8133970148771599, 0.8974349828777898, 0.905828124213108, 0.8756221249172659, 0.8610900675029299, 0.846411383416186, 0.8445734168468144, 0.839399573534652, 0.8299067124239324, 0.8095704692431132, 0.7957511203164438, 0.765946828333621, 0.7632154106157805, 0.7480552329025131, 0.7500008730003572, 0.7374988054663207, 0.7329535692321116, 0.7338072568334357, 0.7141213159531087, 0.7156450263150723, 0.7130236204581724, 0.691477965917628, 0.6783627219839556, 0.6659293085063248, 0.6605414111177774, 0.6467154149632499, 0.6537366758473385, 0.6356564979586592, 0.6252378451070787, 0.6258536719049306]\n",
      "\n",
      "Error for different number of neighbors\n",
      "[1.8617196351760381, 1.3802400153596475, 1.3225606476327152, 1.519940377120103, 1.6062814199261601, 1.6890188637851926, 1.6990948971107398, 1.7271431433149949, 1.7774548317783903, 1.8807113016090484, 1.9477572396124756, 2.0850297260071216, 2.097160661522308, 2.163254704922041, 2.154885663375721, 2.2081096093434764, 2.227144392563877, 2.22358170221374, 2.304336361402561, 2.298187193202503, 2.308756131617942, 2.3938563108904596, 2.4442080760632114, 2.4910025592118528, 2.5110096774007062, 2.5616354797981984, 2.5360524583159925, 2.6014201503158585, 2.6383526821008276, 2.6361840582343428]\n"
     ]
    }
   ],
   "source": [
    "k_range = range(1,31)\n",
    "k_scores_accuracy = [] # higher means better\n",
    "k_scores_error = [] # lesser means better\n",
    "for k in k_range:\n",
    "    knn = KNeighborsRegressor(n_neighbors=k)\n",
    "    trained_model = knn.fit(X_train, y_train)\n",
    "    y_pred = knn.predict(X_test)\n",
    "    scores_accuracy = metrics.r2_score(y_test,y_pred)\n",
    "    scores_error = np.sqrt(metrics.mean_squared_error(y_test,y_pred))\n",
    "    k_scores_accuracy.append(scores_accuracy)\n",
    "    k_scores_error.append(scores_error)\n",
    "    \n",
    "print (\"\\nAccuracy for different number of neighbors\")\n",
    "print (k_scores_accuracy)\n",
    "print (\"\\nError for different number of neighbors\")\n",
    "print (k_scores_error)"
   ]
  },
  {
   "cell_type": "markdown",
   "metadata": {},
   "source": [
    "Plot the Accuracy for different K values, Higher the accuracy is better\n",
    "TODO - Currently r2_score from metrics is used, Check if there is anyother \n",
    "better function is available as well, currently r2_score from metrics is used"
   ]
  },
  {
   "cell_type": "code",
   "execution_count": 7,
   "metadata": {},
   "outputs": [
    {
     "data": {
      "image/png": "[encoded data removed]",
      "text/plain": [
       "<Figure size 432x288 with 1 Axes>"
      ]
     },
     "metadata": {},
     "output_type": "display_data"
    }
   ],
   "source": [
    "%matplotlib inline\n",
    "plt.plot(k_range,k_scores_accuracy)\n",
    "plt.xlabel('Value of K for KNN')\n",
    "plt.ylabel('Validated score Accuracy, higher better')\n",
    "plt.show()"
   ]
  },
  {
   "cell_type": "markdown",
   "metadata": {},
   "source": [
    "Plot the RMSE error (Root Mean Square Error) for different K values, lower \n",
    "the error is better"
   ]
  },
  {
   "cell_type": "code",
   "execution_count": 8,
   "metadata": {},
   "outputs": [
    {
     "data": {
      "image/png": "[encoded data removed]",
      "text/plain": [
       "<Figure size 432x288 with 1 Axes>"
      ]
     },
     "metadata": {},
     "output_type": "display_data"
    }
   ],
   "source": [
    "plt.plot(k_range,k_scores_error)\n",
    "plt.xlabel('Value of K for KNN')\n",
    "plt.ylabel('Validated score error, lesser better')\n",
    "plt.show()"
   ]
  },
  {
   "cell_type": "markdown",
   "metadata": {},
   "source": [
    "Find the number of neighbor that has higher accuracy and lesser error\n",
    "TODO - As of now by looking at the graphs I could see that with number\n",
    "of neighbors as 3 the accuracy is higher and the error is lesser"
   ]
  },
  {
   "cell_type": "code",
   "execution_count": 9,
   "metadata": {},
   "outputs": [
    {
     "name": "stdout",
     "output_type": "stream",
     "text": [
      "Based on higher accuracy and lesser error the number of neighbors selected is:  3\n"
     ]
    }
   ],
   "source": [
    "no_of_neighbors = 3\n",
    "print (\"Based on higher accuracy and lesser error the number of neighbors selected is: \", no_of_neighbors )"
   ]
  },
  {
   "cell_type": "markdown",
   "metadata": {},
   "source": [
    "Use the number of neighbor that has higher accuracy and lesser error"
   ]
  },
  {
   "cell_type": "code",
   "execution_count": 10,
   "metadata": {},
   "outputs": [
    {
     "name": "stdout",
     "output_type": "stream",
     "text": [
      "Trained model Score:  0.9665457919339485\n",
      "Trained model Accuracy:  0.905828124213108\n",
      "Trained model Error:  1.3225606476327152\n"
     ]
    }
   ],
   "source": [
    "knn = KNeighborsRegressor(n_neighbors=no_of_neighbors)\n",
    "trained_model = knn.fit(X_train, y_train)\n",
    "\n",
    "# Print the trained model scroe\n",
    "score = trained_model.score(X_train, y_train)\n",
    "print (\"Trained model Score: \", score)\n",
    "\n",
    "# Print the accuracy and error of the trained model\n",
    "y_pred = knn.predict(X_test)\n",
    "print (\"Trained model Accuracy: \", metrics.r2_score(y_test,y_pred))\n",
    "print (\"Trained model Error: \",  np.sqrt(metrics.mean_squared_error(y_test,y_pred)))"
   ]
  }
 ],
 "metadata": {
  "kernelspec": {
   "display_name": "Python 3",
   "language": "python",
   "name": "python3"
  },
  "language_info": {
   "codemirror_mode": {
    "name": "ipython",
    "version": 3
   },
   "file_extension": ".py",
   "mimetype": "text/x-python",
   "name": "python",
   "nbconvert_exporter": "python",
   "pygments_lexer": "ipython3",
   "version": "3.6.5"
  }
 },
 "nbformat": 4,
 "nbformat_minor": 2
}
