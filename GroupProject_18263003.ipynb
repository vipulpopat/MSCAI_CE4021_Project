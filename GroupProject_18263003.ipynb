{
 "cells": [
  {
   "cell_type": "markdown",
   "metadata": {},
   "source": [
    "Student Name: Chelliah Kanthanathan\n",
    "Student ID: 18263003"
   ]
  },
  {
   "cell_type": "markdown",
   "metadata": {},
   "source": [
    "Problem Description: Analyze Sales data. The data has columns that represent the Revenue, Quantity and Gross Margin sales. The key features / input are Revenue and Quantity. The response or continuous output is column Gross Margin\n",
    "So ideally with input Revenue and Quantity the machine learning algorithm should predict Gross margin\n",
    "\n",
    "The Data cleaned first to fill the missing values with mean, Then the Data i.e. feature columns are normalized or scaled to represent values between 0 and 1.\n",
    "\n",
    "Applied K nearest neighbor Regression where as the number of neighbors that result in higher accuracy and lesser error is selected after calculating the accuracy and erros for different number of K values between 1 and 30. Used R2 score accuracy and RMSE error manually to calculate the best K value. Then the same is cross checked with GridSerachCV to check if the Best K value matches the ouput of GridSerachCV validation"
   ]
  },
  {
   "cell_type": "code",
   "execution_count": 14,
   "metadata": {},
   "outputs": [],
   "source": [
    "import pandas as pd\n",
    "import numpy as np\n",
    "import matplotlib.pyplot as plt\n",
    "from sklearn import metrics\n",
    "from sklearn.model_selection import train_test_split\n",
    "from sklearn.model_selection import GridSearchCV\n",
    "from sklearn.neighbors import KNeighborsRegressor\n",
    "from sklearn.preprocessing import MinMaxScaler"
   ]
  },
  {
   "cell_type": "markdown",
   "metadata": {},
   "source": [
    "# LOAD DATA and DESCRIBE DATA"
   ]
  },
  {
   "cell_type": "code",
   "execution_count": 15,
   "metadata": {},
   "outputs": [
    {
     "name": "stdout",
     "output_type": "stream",
     "text": [
      "    Product type                    Product    Revenue  Quantity  Gross margin\n",
      "0   Cooking Gear  TrailChef Deluxe Cook Set   59628.66       489      0.347548\n",
      "1   Cooking Gear     TrailChef Double Flame   35950.32       252      0.474274\n",
      "2          Tents                  Star Dome   89940.48       147      0.352772\n",
      "3          Tents               Star Gazer 2  165883.41       303      0.282938\n",
      "4  Sleeping Bags            Hibernator Lite  119822.20      1415      0.291450\n",
      "\n",
      "             Revenue      Quantity  Gross margin\n",
      "count  8.847500e+04  88475.000000  87894.000000\n",
      "mean   4.263829e+04    780.586166      0.449718\n",
      "std    6.578402e+04   1541.645422      0.123642\n",
      "min    0.000000e+00      1.000000    -12.853678\n",
      "25%    8.184360e+03    131.000000      0.369880\n",
      "50%    2.102628e+04    333.000000      0.450634\n",
      "75%    5.039060e+04    816.000000      0.520130\n",
      "max    1.635688e+06  67875.000000      0.770476\n"
     ]
    }
   ],
   "source": [
    "# Load the data\n",
    "data = pd.read_csv('SuperMarket_Sales_Data.csv')\n",
    "\n",
    "# Print the first few rows to show the available columns\n",
    "print (data.head(5))\n",
    "\n",
    "# Describe the Data, print the mean, SD, Min and Max values for every numerical column\n",
    "print (\"\\n\", data.describe())"
   ]
  },
  {
   "cell_type": "markdown",
   "metadata": {},
   "source": [
    "# DATA CLEANING"
   ]
  },
  {
   "cell_type": "code",
   "execution_count": 16,
   "metadata": {},
   "outputs": [
    {
     "name": "stdout",
     "output_type": "stream",
     "text": [
      "\n",
      "\n",
      "Product type      0\n",
      "Product           0\n",
      "Revenue           0\n",
      "Quantity          0\n",
      "Gross margin    581\n",
      "dtype: int64\n",
      "Gross margin 0.44971769825048824\n"
     ]
    }
   ],
   "source": [
    "# Check if there is any missing values in the numerical column\n",
    "print (\"\\n\")\n",
    "print (data.isnull().sum())\n",
    "\n",
    "# There are 581 missing values in column Gross margin\n",
    "# Find the mean of column Gross margin and fill it for missing values\n",
    "mean = data['Gross margin'].mean()\n",
    "print (\"Gross margin\", mean)\n",
    "data['Gross margin'].fillna(mean,inplace=True)"
   ]
  },
  {
   "cell_type": "markdown",
   "metadata": {},
   "source": [
    "# DATA PREPRATION"
   ]
  },
  {
   "cell_type": "code",
   "execution_count": 17,
   "metadata": {},
   "outputs": [
    {
     "name": "stdout",
     "output_type": "stream",
     "text": [
      "\n",
      "Selected feature shape:  (88475, 2)\n",
      "Selected response shape:  (88475,)\n"
     ]
    }
   ],
   "source": [
    "# We could ignore the columns Product type and Product as this does not contain any mumeric data\n",
    "# Select only few columns that are important for analysis\n",
    "# These are the features for analysis Revenue and Quantity\n",
    "feature_cols = ['Revenue', 'Quantity']\n",
    "X = data[feature_cols]\n",
    "print (\"\\nSelected feature shape: \", X.shape)\n",
    "\n",
    "# Select the column that are response i.e. continuous value or output based \n",
    "response_col = 'Gross margin'\n",
    "y = data[response_col]\n",
    "print (\"Selected response shape: \", y.shape)"
   ]
  },
  {
   "cell_type": "markdown",
   "metadata": {},
   "source": [
    "# DATA PREPROCESSING"
   ]
  },
  {
   "cell_type": "code",
   "execution_count": 18,
   "metadata": {},
   "outputs": [],
   "source": [
    "# Apply Normalization or Scaling to feature columns Revenue and Quantity\n",
    "# Scale the values of feature columns between 0 to 1. This is important\n",
    "# for algorithms that use distance measures like K-Nearest Neighbors.\n",
    "scaler = MinMaxScaler(feature_range=(0, 1))\n",
    "X_scaled = scaler.fit_transform(X)\n",
    "X = pd.DataFrame(X_scaled)\n",
    "\n",
    "## No need to apply Principle Component Analysis as the featurs columns selected are just two"
   ]
  },
  {
   "cell_type": "markdown",
   "metadata": {},
   "source": [
    "# MODEL TRAINING"
   ]
  },
  {
   "cell_type": "code",
   "execution_count": 19,
   "metadata": {},
   "outputs": [
    {
     "name": "stdout",
     "output_type": "stream",
     "text": [
      "\n",
      "Selected feature shape for training the model:  (70780, 2)\n",
      "Selected response shape for training the model:  (70780,)\n",
      "\n",
      "Selected feature shape for testing the model:  (17695, 2)\n",
      "Selected response shape for testing the model:  (17695,)\n"
     ]
    }
   ],
   "source": [
    "# Train the model, Note that the test_size is 0.2 that gives 80% of data for \n",
    "# training the model and 20% for testign the model\n",
    "# Tuned the test_size and random_state to check if the accuracy and \n",
    "# error can be better, After checking few test_size 0.2, 0.3 and 0.4 I have found that\n",
    "# test_size 0.2 results in better accuracy and lesser error\n",
    "X_train,X_test,y_train,y_test = train_test_split(X,y,test_size=0.2,random_state=1)\n",
    "\n",
    "print (\"\\nSelected feature shape for training the model: \", X_train.shape)\n",
    "print (\"Selected response shape for training the model: \", y_train.shape)\n",
    "print (\"\\nSelected feature shape for testing the model: \", X_test.shape)\n",
    "print (\"Selected response shape for testing the model: \",y_test.shape)"
   ]
  },
  {
   "cell_type": "markdown",
   "metadata": {},
   "source": [
    "## CROSS VALIDATION or MODEL EVALUATION"
   ]
  },
  {
   "cell_type": "code",
   "execution_count": 20,
   "metadata": {},
   "outputs": [
    {
     "name": "stdout",
     "output_type": "stream",
     "text": [
      "\n",
      "Accuracy for different number of neighbors\n",
      "[0.3333478368589793, 0.4478223446820473, 0.4596925014887604, 0.4778487038426237, 0.481540951756812, 0.4808101455690057, 0.4807981864331009, 0.47931568480463316, 0.4766211682407048, 0.4749213200531638, 0.47257414771882633, 0.46923515743447075, 0.4656975314641856, 0.46281067370529183, 0.4594468736355738, 0.45631991589868814, 0.45336936384271087, 0.45040184799401906, 0.4475014458213833, 0.4442500507363112, 0.4413588458421026, 0.4394461000641794, 0.4365185129315692, 0.43389334063566665, 0.4312228743811798, 0.429221695202176, 0.42695807926826035, 0.424791415716131, 0.42327109927540074]\n",
      "\n",
      "Error for different number of neighbors\n",
      "[0.09565861959160034, 0.08705904068320378, 0.0861182033147033, 0.08465890430805831, 0.08435905231960063, 0.08441848652934683, 0.08441945878095293, 0.08453989631705551, 0.08475835901932365, 0.0848958880324933, 0.0850854244752877, 0.08535432595498887, 0.08563830314005205, 0.08586934507890334, 0.08613777608199182, 0.08638655901033407, 0.08662065178159332, 0.08685545406106115, 0.08708433425398407, 0.08734019938259482, 0.08756709174810288, 0.08771687525161634, 0.08794563503217237, 0.08815025947398304, 0.08835792823162217, 0.0885132305292196, 0.08868857155156415, 0.08885607849489374, 0.08897342741474842]\n"
     ]
    },
    {
     "data": {
      "image/png": "[encoded data removed]",
      "text/plain": [
       "<Figure size 432x288 with 1 Axes>"
      ]
     },
     "metadata": {},
     "output_type": "display_data"
    },
    {
     "data": {
      "image/png": "[encoded data removed]",
      "text/plain": [
       "<Figure size 432x288 with 1 Axes>"
      ]
     },
     "metadata": {},
     "output_type": "display_data"
    }
   ],
   "source": [
    "%matplotlib inline\n",
    "# Select the number of neighbor that give high accuracy and less error\n",
    "# Check for different K values between 1 to 30, Use RMSE error value\n",
    "# and r2 score accuracy to decide the best K values\n",
    "k_range = range(1,30)\n",
    "k_scores_accuracy = [] # higher means better\n",
    "k_scores_error = [] # lesser means better\n",
    "for k in k_range:\n",
    "    knn = KNeighborsRegressor(n_neighbors=k) # Try weights = uniform or distance\n",
    "    trained_model = knn.fit(X_train, y_train)\n",
    "    y_pred = knn.predict(X_test)\n",
    "    scores_accuracy = metrics.r2_score(y_test,y_pred)\n",
    "    scores_error = np.sqrt(metrics.mean_squared_error(y_test,y_pred))\n",
    "    k_scores_accuracy.append(scores_accuracy)\n",
    "    k_scores_error.append(scores_error)\n",
    "    \n",
    "print (\"\\nAccuracy for different number of neighbors\")\n",
    "print (k_scores_accuracy)\n",
    "print (\"\\nError for different number of neighbors\")\n",
    "print (k_scores_error)\n",
    "\n",
    "# Plot the Accuracy for different K values, Higher the accuracy is better\n",
    "plt.title(\"Cross Validation to find Best K Value\")\n",
    "plt.xlabel('Value of K for KNN')\n",
    "plt.ylabel('Accuracy, higher better')\n",
    "plt.plot(k_range,k_scores_accuracy,label=\"Accuracy\",color=\"b\")\n",
    "plt.grid(True, linestyle='--')\n",
    "plt.legend()\n",
    "plt.show()\n",
    "\n",
    "# Plot the RMSE error (Root Mean Square Error) for different K values, lower \n",
    "# the error is better\n",
    "plt.title(\"Cross Validation to find Best K Value\")\n",
    "plt.xlabel('Value of K for KNN')\n",
    "plt.ylabel('Error, lesser better')\n",
    "plt.plot(k_range,k_scores_error,label=\"Error\",color=\"r\")\n",
    "plt.grid(True, linestyle='--')\n",
    "plt.legend()\n",
    "plt.show()"
   ]
  },
  {
   "cell_type": "markdown",
   "metadata": {},
   "source": [
    "# Using GridSearchCV to find the best K value"
   ]
  },
  {
   "cell_type": "code",
   "execution_count": 21,
   "metadata": {},
   "outputs": [
    {
     "name": "stdout",
     "output_type": "stream",
     "text": [
      "{'n_neighbors': 5}\n",
      "Based on higher accuracy and lesser error the number of neighbors selected is:  5\n"
     ]
    }
   ],
   "source": [
    "params = {'n_neighbors':[1,2,3,4,5,6,7,8,9,10,11,12,13,14,15,16,17,18,19,20,21,22,23,24,25,26,27,28,29,30]}\n",
    "knngridcv = KNeighborsRegressor()\n",
    "model = GridSearchCV(knngridcv, params, cv=5)\n",
    "model.fit(X_train,y_train)\n",
    "print (model.best_params_)\n",
    "\n",
    "## BEST K VALUE\n",
    "# Compare the best K value between methods using RMSE error value and GridSearchCV\n",
    "# Find the number of neighbor that has higher accuracy and lesser error\n",
    "# By looking at the graphs and output from GridSerachCV I could see that with \n",
    "# the best K value with higher accuracy and lesser error for number of neighbors is 5\n",
    "no_of_neighbors = 5\n",
    "print (\"Based on higher accuracy and lesser error the number of neighbors selected is: \", no_of_neighbors )"
   ]
  },
  {
   "cell_type": "markdown",
   "metadata": {},
   "source": [
    "## TUNING PARAMETER"
   ]
  },
  {
   "cell_type": "code",
   "execution_count": 22,
   "metadata": {},
   "outputs": [
    {
     "name": "stdout",
     "output_type": "stream",
     "text": [
      "\n",
      "Weights Used  uniform\n",
      "Trained model Score:  0.6334256191340347\n",
      "Trained model Accuracy:  0.481540951756812\n",
      "Trained model Error:  0.08435905231960063\n",
      "\n",
      "Weights Used  distance\n",
      "Trained model Score:  0.9958987588437272\n",
      "Trained model Accuracy:  0.524118876437625\n",
      "Trained model Error:  0.0808209037160708\n",
      "\n",
      "Based on Score, accuracy and error the parameter weights selected is:  distance\n"
     ]
    }
   ],
   "source": [
    "# So far we have found the best K values for our model\n",
    "# Now tune the parameter further, Mainly check if using different weights uniform vs distance has any difference \n",
    "# in overall score, Accuracy and Error\n",
    "for i, weightss in enumerate(['uniform', 'distance']):\n",
    "    knn = KNeighborsRegressor(n_neighbors=no_of_neighbors, weights=weightss)\n",
    "    trained_model = knn.fit(X_train, y_train)\n",
    "    y_pred = knn.predict(X_test)\n",
    "    \n",
    "    # Print the trained model scroe\n",
    "    score = trained_model.score(X_train, y_train)\n",
    "    print (\"\\nWeights Used \", weightss)\n",
    "    print (\"Trained model Score: \", score)\n",
    "\n",
    "    # Print the accuracy and error of the trained model\n",
    "    y_pred = knn.predict(X_test)\n",
    "    print (\"Trained model Accuracy: \", metrics.r2_score(y_test,y_pred))\n",
    "    print (\"Trained model Error: \",  np.sqrt(metrics.mean_squared_error(y_test,y_pred)))\n",
    "\n",
    "# weights as distance has better score, accuracy and error than uniform\n",
    "weights_ = 'distance'\n",
    "print (\"\\nBased on Score, accuracy and error the parameter weights selected is: \", weights_ )"
   ]
  },
  {
   "cell_type": "markdown",
   "metadata": {},
   "source": [
    "## FINAL MODEL SCORE, ACCURACY and ERROR USING K value 5 and weights = distance"
   ]
  },
  {
   "cell_type": "code",
   "execution_count": 23,
   "metadata": {},
   "outputs": [
    {
     "name": "stdout",
     "output_type": "stream",
     "text": [
      "\n",
      "Trained model Score:  0.9958987588437272\n",
      "Trained model Accuracy:  0.524118876437625\n",
      "Trained model Error:  0.0808209037160708\n"
     ]
    }
   ],
   "source": [
    "# Use the number of neighbor that has higher accuracy and lesser error\n",
    "knn = KNeighborsRegressor(n_neighbors=no_of_neighbors,weights=weights_)\n",
    "trained_model = knn.fit(X_train, y_train)\n",
    "\n",
    "# Print the trained model scroe\n",
    "score = trained_model.score(X_train, y_train)\n",
    "print (\"\\nTrained model Score: \", score)\n",
    "\n",
    "# Print the accuracy and error of the trained model\n",
    "y_pred = knn.predict(X_test)\n",
    "print (\"Trained model Accuracy: \", metrics.r2_score(y_test,y_pred))\n",
    "print (\"Trained model Error: \",  np.sqrt(metrics.mean_squared_error(y_test,y_pred)))"
   ]
  }
 ],
 "metadata": {
  "kernelspec": {
   "display_name": "Python 3",
   "language": "python",
   "name": "python3"
  },
  "language_info": {
   "codemirror_mode": {
    "name": "ipython",
    "version": 3
   },
   "file_extension": ".py",
   "mimetype": "text/x-python",
   "name": "python",
   "nbconvert_exporter": "python",
   "pygments_lexer": "ipython3",
   "version": "3.6.5"
  }
 },
 "nbformat": 4,
 "nbformat_minor": 2
}
