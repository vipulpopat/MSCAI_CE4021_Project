{
 "cells": [
  {
   "cell_type": "markdown",
   "metadata": {},
   "source": [
    "# C4021 - Group Project 2.3\n",
    "--------------------------------------------"
   ]
  },
  {
   "cell_type": "markdown",
   "metadata": {},
   "source": [
    "## Affects of Crime on Average House Price\n",
    "------\n",
    "\n",
    "#### Description\n",
    "Linear regression will be used to identify the impact, if any, of crime on average house prices in Ireland.\n",
    "\n",
    "#### Data Sources\n",
    "A dataset was created from two sources:\n",
    "- **Residential Property Price Register:** https://www.propertypriceregister.ie/website/npsra/pprweb.nsf/PPRDownloads?OpenForm\n",
    "- **Crimes at Garda Stations Level 2010-2016:** https://data.gov.ie/dataset/crimes-at-garda-stations-level-2010-2016\n",
    "\n",
    "The **Residential Price Property Register** is compiled from data which is filed for stamp duty purposes with the Revenue Commissioners. This data was used to calculate the Average House Price for each town in Ireland (where available), based on houses sold in 2018 to date.\n",
    "\n",
    "The **Crimes at Garda Stations** database is compiled from CSO data and contains details of criminal offences recorded in the 563 Garda Stations in Ireland between 2004 and 2016 (despite its name). This data was used to calculate a Crime Rating for those towns.\n",
    "\n",
    "The resulting database for analysis contains 563 rows representing towns in Ireland, with each column containing the Average House Price and related Crime Rate."
   ]
  },
  {
   "cell_type": "markdown",
   "metadata": {},
   "source": [
    "## Sources\n",
    "------\n",
    "\n",
    "Each file should list the sources of applied techniques where you have significantly duplicated 3rd party work. Providing links under the above 4 headings is sufficient. Where you have not used 3rd partly work significantly, please state this explicitly.\n",
    "\n",
    "#### Training data\n",
    "\n",
    "#### Pre-processing\n",
    "\n",
    "#### Algorithm training and evaluation\n",
    "\n",
    "#### Visualisation of outputs\n",
    "\n",
    "\n",
    "## Contributions\n",
    "------\n",
    "\n",
    "Briefly describe the contributions of each group member to the following aspects:\n",
    "\n",
    "#### Training data\n",
    "\n",
    "#### Pre-processing\n",
    "\n",
    "#### Algorithm training and evaluation\n",
    "\n",
    "#### Visualisation of outputs\n"
   ]
  },
  {
   "cell_type": "markdown",
   "metadata": {},
   "source": [
    "## Loading/ Creating Data\n",
    "-----"
   ]
  },
  {
   "cell_type": "code",
   "execution_count": null,
   "metadata": {
    "collapsed": true
   },
   "outputs": [],
   "source": []
  },
  {
   "cell_type": "markdown",
   "metadata": {},
   "source": [
    "## Pre-processing\n",
    "-----"
   ]
  },
  {
   "cell_type": "code",
   "execution_count": null,
   "metadata": {
    "collapsed": true
   },
   "outputs": [],
   "source": []
  },
  {
   "cell_type": "markdown",
   "metadata": {},
   "source": [
    "## Training\n",
    "-----"
   ]
  },
  {
   "cell_type": "code",
   "execution_count": null,
   "metadata": {
    "collapsed": true
   },
   "outputs": [],
   "source": []
  },
  {
   "cell_type": "markdown",
   "metadata": {},
   "source": [
    "## Evaluation\n",
    "------"
   ]
  },
  {
   "cell_type": "code",
   "execution_count": null,
   "metadata": {
    "collapsed": true
   },
   "outputs": [],
   "source": []
  },
  {
   "cell_type": "markdown",
   "metadata": {},
   "source": [
    "## Visualisation & Outputs\n",
    "------"
   ]
  },
  {
   "cell_type": "code",
   "execution_count": null,
   "metadata": {
    "collapsed": true
   },
   "outputs": [],
   "source": []
  }
 ],
 "metadata": {
  "kernelspec": {
   "display_name": "Python 3",
   "language": "python",
   "name": "python3"
  },
  "language_info": {
   "codemirror_mode": {
    "name": "ipython",
    "version": 3
   },
   "file_extension": ".py",
   "mimetype": "text/x-python",
   "name": "python",
   "nbconvert_exporter": "python",
   "pygments_lexer": "ipython3",
   "version": "3.4.9"
  }
 },
 "nbformat": 4,
 "nbformat_minor": 1
}
