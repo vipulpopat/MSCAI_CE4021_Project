{
 "cells": [
  {
   "cell_type": "markdown",
   "metadata": {},
   "source": [
    "# C4021 - Group Project 2.3\n",
    "\n",
    "### NAME: Andrew Kenny\n",
    "### Student ID: 18203442"
   ]
  },
  {
   "cell_type": "markdown",
   "metadata": {},
   "source": [
    "## Effects of Crime on Average House Price\n",
    "------\n",
    "\n",
    "### Description\n",
    "Linear regression will be used to identify the impact, if any, of crime on average house prices in Ireland.\n",
    "\n",
    "To do so, a dataset will be created containing information on crimes committed and average house prices for towns in Ireland. A linear regression model will be fitted using Scikit Learn to identify whether the crime parameters are accurate predictors of average house prices.\n",
    "\n",
    "Should the predictions of the Linear Regression model accurately match those in the dataset, it can be said that crime has an impact on average house prices in Ireland. If not, then it can be said that it does not have an impact.\n",
    "\n",
    "### Databases\n",
    "A custom dataset was created from three sources to apply the analysis:\n",
    "- **Residential Property Price Register:** https://www.propertypriceregister.ie/website/npsra/pprweb.nsf/PPRDownloads?OpenForm\n",
    "- **Crimes at Garda Stations Level:** https://data.gov.ie/dataset/crimes-at-garda-stations-level-2010-2016\n",
    "- **Census 2016 Preliminary Results:** https://data.gov.ie/dataset/census-2016-preliminary-results\n",
    "\n",
    "The **Residential Price Property Register** is compiled from data which is filed for stamp duty purposes with the Revenue Commissioners. This data was used to calculate the Average House Price for each town in Ireland (where available), based on houses sold over the past 3 years.\n",
    "\n",
    "The **Crimes at Garda Stations** database is compiled from CSO data and contains details of criminal offences recorded in the 563 Garda Stations in Ireland between 2004 and 2016. This data was used to calculate the Total Crimes recorded for those towns.\n",
    "\n",
    "The **Census 2016 Preliminary Results** database is based on the results are the initial count of the 2016 census as released by the CSO. This data was used to calculate a per capita Crime Rate for each town using the total criminal offences from the previous database.\n",
    "\n",
    "The resulting dataset for analysis contains 563 rows representing towns in Ireland, with each column containing the related **House_Price**, **Total Crimes** and **Crime_Rate**."
   ]
  },
  {
   "cell_type": "markdown",
   "metadata": {},
   "source": [
    "### Sources\n",
    "------\n",
    "\n",
    "Each file should list the sources of applied techniques where you have significantly duplicated 3rd party work. Providing links under the above 4 headings is sufficient. Where you have not used 3rd partly work significantly, please state this explicitly.\n",
    "\n",
    "#### Training data\n",
    "- Deep Learning & Frameworks Lab Week 6\n",
    "\n",
    "#### Pre-processing\n",
    "\n",
    "#### Algorithm training and evaluation\n",
    "- http://scikit-learn.org/stable/auto_examples/linear_model/plot_ols.html#sphx-glr-auto-examples-linear-model-plot-ols-py\n",
    "- https://www.kaggle.com/andyxie/beginner-scikit-learn-linear-regression-tutorial\n",
    "\n",
    "#### Visualisation of outputs\n",
    "- https://bigdata-madesimple.com/how-to-run-linear-regression-in-python-scikit-learn/\n",
    "\n",
    "\n",
    "### Contributions\n",
    "------\n",
    "\n",
    "Briefly describe the contributions of each group member to the following aspects:\n",
    "\n",
    "#### Training data\n",
    "\n",
    "#### Pre-processing\n",
    "- Inspiration taken from Abhi's solution for handling the null values\n",
    "\n",
    "#### Algorithm training and evaluation\n",
    "\n",
    "#### Visualisation of outputs\n"
   ]
  },
  {
   "cell_type": "markdown",
   "metadata": {},
   "source": [
    "## Loading/ Creating Data\n",
    "-----"
   ]
  },
  {
   "cell_type": "code",
   "execution_count": 678,
   "metadata": {},
   "outputs": [],
   "source": [
    "import numpy as np\n",
    "from sklearn import linear_model\n",
    "from sklearn.metrics import mean_squared_error, r2_score\n",
    "from sklearn.model_selection import train_test_split\n",
    "import pandas as pd\n",
    "import matplotlib.pyplot as plt"
   ]
  },
  {
   "cell_type": "code",
   "execution_count": 679,
   "metadata": {},
   "outputs": [
    {
     "data": {
      "text/plain": [
       "(563, 3)"
      ]
     },
     "execution_count": 679,
     "metadata": {},
     "output_type": "execute_result"
    }
   ],
   "source": [
    "#Load the dataset and convert to pandas data frame\n",
    "dataframe = pd.read_csv(\"crime_houseprice_dataset.csv\")\n",
    "\n",
    "#Check dimensions\n",
    "dataframe.shape"
   ]
  },
  {
   "cell_type": "code",
   "execution_count": 680,
   "metadata": {},
   "outputs": [
    {
     "data": {
      "text/html": [
       "<div>\n",
       "<style>\n",
       "    .dataframe thead tr:only-child th {\n",
       "        text-align: right;\n",
       "    }\n",
       "\n",
       "    .dataframe thead th {\n",
       "        text-align: left;\n",
       "    }\n",
       "\n",
       "    .dataframe tbody tr th {\n",
       "        vertical-align: top;\n",
       "    }\n",
       "</style>\n",
       "<table border=\"1\" class=\"dataframe\">\n",
       "  <thead>\n",
       "    <tr style=\"text-align: right;\">\n",
       "      <th></th>\n",
       "      <th>Total_Crimes</th>\n",
       "      <th>Crime_Rate</th>\n",
       "      <th>House_Price</th>\n",
       "    </tr>\n",
       "  </thead>\n",
       "  <tbody>\n",
       "    <tr>\n",
       "      <th>0</th>\n",
       "      <td>523</td>\n",
       "      <td>NaN</td>\n",
       "      <td>NaN</td>\n",
       "    </tr>\n",
       "    <tr>\n",
       "      <th>1</th>\n",
       "      <td>75613</td>\n",
       "      <td>NaN</td>\n",
       "      <td>NaN</td>\n",
       "    </tr>\n",
       "    <tr>\n",
       "      <th>2</th>\n",
       "      <td>672</td>\n",
       "      <td>NaN</td>\n",
       "      <td>NaN</td>\n",
       "    </tr>\n",
       "    <tr>\n",
       "      <th>3</th>\n",
       "      <td>1968</td>\n",
       "      <td>NaN</td>\n",
       "      <td>NaN</td>\n",
       "    </tr>\n",
       "    <tr>\n",
       "      <th>4</th>\n",
       "      <td>6536</td>\n",
       "      <td>NaN</td>\n",
       "      <td>NaN</td>\n",
       "    </tr>\n",
       "  </tbody>\n",
       "</table>\n",
       "</div>"
      ],
      "text/plain": [
       "   Total_Crimes  Crime_Rate  House_Price\n",
       "0           523         NaN          NaN\n",
       "1         75613         NaN          NaN\n",
       "2           672         NaN          NaN\n",
       "3          1968         NaN          NaN\n",
       "4          6536         NaN          NaN"
      ]
     },
     "execution_count": 680,
     "metadata": {},
     "output_type": "execute_result"
    }
   ],
   "source": [
    "#View first 5 rows\n",
    "dataframe.head(5)"
   ]
  },
  {
   "cell_type": "markdown",
   "metadata": {},
   "source": [
    "## Pre-processing\n",
    "-----"
   ]
  },
  {
   "cell_type": "code",
   "execution_count": 681,
   "metadata": {},
   "outputs": [
    {
     "data": {
      "text/plain": [
       "Total_Crimes     0\n",
       "Crime_Rate      44\n",
       "House_Price     11\n",
       "dtype: int64"
      ]
     },
     "execution_count": 681,
     "metadata": {},
     "output_type": "execute_result"
    }
   ],
   "source": [
    "# Identify null values \n",
    "dataframe.isnull().sum()"
   ]
  },
  {
   "cell_type": "code",
   "execution_count": 682,
   "metadata": {},
   "outputs": [
    {
     "data": {
      "text/plain": [
       "(516, 3)"
      ]
     },
     "execution_count": 682,
     "metadata": {},
     "output_type": "execute_result"
    }
   ],
   "source": [
    "# Drop rows containing null values\n",
    "dataframe.dropna(axis=0, inplace = True)\n",
    "\n",
    "#Check new dimensions\n",
    "dataframe.shape"
   ]
  },
  {
   "cell_type": "code",
   "execution_count": 683,
   "metadata": {},
   "outputs": [
    {
     "data": {
      "text/html": [
       "<div>\n",
       "<style>\n",
       "    .dataframe thead tr:only-child th {\n",
       "        text-align: right;\n",
       "    }\n",
       "\n",
       "    .dataframe thead th {\n",
       "        text-align: left;\n",
       "    }\n",
       "\n",
       "    .dataframe tbody tr th {\n",
       "        vertical-align: top;\n",
       "    }\n",
       "</style>\n",
       "<table border=\"1\" class=\"dataframe\">\n",
       "  <thead>\n",
       "    <tr style=\"text-align: right;\">\n",
       "      <th></th>\n",
       "      <th>Total_Crimes</th>\n",
       "      <th>Crime_Rate</th>\n",
       "      <th>House_Price</th>\n",
       "    </tr>\n",
       "  </thead>\n",
       "  <tbody>\n",
       "    <tr>\n",
       "      <th>44</th>\n",
       "      <td>665</td>\n",
       "      <td>2.09</td>\n",
       "      <td>142829.0</td>\n",
       "    </tr>\n",
       "    <tr>\n",
       "      <th>45</th>\n",
       "      <td>66231</td>\n",
       "      <td>0.83</td>\n",
       "      <td>275000.0</td>\n",
       "    </tr>\n",
       "    <tr>\n",
       "      <th>46</th>\n",
       "      <td>81247</td>\n",
       "      <td>1.07</td>\n",
       "      <td>321389.0</td>\n",
       "    </tr>\n",
       "    <tr>\n",
       "      <th>47</th>\n",
       "      <td>74505</td>\n",
       "      <td>1.00</td>\n",
       "      <td>242764.0</td>\n",
       "    </tr>\n",
       "    <tr>\n",
       "      <th>48</th>\n",
       "      <td>67122</td>\n",
       "      <td>1.25</td>\n",
       "      <td>128196.0</td>\n",
       "    </tr>\n",
       "  </tbody>\n",
       "</table>\n",
       "</div>"
      ],
      "text/plain": [
       "    Total_Crimes  Crime_Rate  House_Price\n",
       "44           665        2.09     142829.0\n",
       "45         66231        0.83     275000.0\n",
       "46         81247        1.07     321389.0\n",
       "47         74505        1.00     242764.0\n",
       "48         67122        1.25     128196.0"
      ]
     },
     "execution_count": 683,
     "metadata": {},
     "output_type": "execute_result"
    }
   ],
   "source": [
    "#View first 5 rows after null values removed\n",
    "dataframe.head(5)"
   ]
  },
  {
   "cell_type": "code",
   "execution_count": 684,
   "metadata": {},
   "outputs": [],
   "source": [
    "#Assign X\n",
    "X = dataframe.drop('House_Price', axis = 1)\n",
    "\n",
    "#Assign Y\n",
    "Y = dataframe['House_Price']"
   ]
  },
  {
   "cell_type": "markdown",
   "metadata": {},
   "source": [
    "### Explore Data"
   ]
  },
  {
   "cell_type": "code",
   "execution_count": 685,
   "metadata": {},
   "outputs": [
    {
     "name": "stdout",
     "output_type": "stream",
     "text": [
      "Average House Price: 171742.46\n",
      "Average Crime Rate: 1.45\n",
      "Average Total Crimes: 4904.11\n"
     ]
    }
   ],
   "source": [
    "#Finding Average House Price in dataset\n",
    "avg = sum(dataframe.House_Price) / len(dataframe.House_Price) \n",
    "print('Average House Price: %.2f' % avg)\n",
    "\n",
    "#Finding Average Crime Rate in dataset\n",
    "cr_avg = sum(dataframe.Crime_Rate) / len(dataframe.Crime_Rate) \n",
    "print('Average Crime Rate: %.2f' %cr_avg)\n",
    "\n",
    "#Finding Average Total Crimes in dataset\n",
    "tc_avg = sum(dataframe.Total_Crimes) / len(dataframe.Total_Crimes) \n",
    "print('Average Total Crimes: %.2f' %tc_avg)"
   ]
  },
  {
   "cell_type": "code",
   "execution_count": 686,
   "metadata": {},
   "outputs": [
    {
     "data": {
      "image/png": "[encoded data removed]",
      "text/plain": [
       "<Figure size 432x288 with 1 Axes>"
      ]
     },
     "metadata": {},
     "output_type": "display_data"
    }
   ],
   "source": [
    "# Scatterplot showing relationship between per Capita Crime and House Price\n",
    "# Line indicates average per Capita Crime Rate\n",
    "plt.scatter(dataframe.House_Price, dataframe.Crime_Rate)\n",
    "plt.ylabel(\"per Capita Crime Rate\")\n",
    "plt.xlabel(\"Avg. House Price\")\n",
    "plt.title(\"Relationship between Crime Rate & House Price\")\n",
    "plt.hlines(y=1.45, xmin = 0, xmax = 750000)\n",
    "plt.show()"
   ]
  },
  {
   "cell_type": "code",
   "execution_count": 688,
   "metadata": {},
   "outputs": [
    {
     "data": {
      "image/png": "[encoded data removed]",
      "text/plain": [
       "<Figure size 432x288 with 1 Axes>"
      ]
     },
     "metadata": {},
     "output_type": "display_data"
    }
   ],
   "source": [
    "# Scatterplot showing relationship between Total Crimes and House Price\n",
    "# Line indicates average Total Crimes Reported\n",
    "plt.scatter(dataframe.House_Price, dataframe.Total_Crimes)\n",
    "plt.ylabel(\"Total Crimes\")\n",
    "plt.xlabel(\"Housing Price\")\n",
    "plt.title(\"Relationship between Crimes Reported & House Price\")\n",
    "plt.hlines(y=4904, xmin = 0, xmax = 750000)\n",
    "plt.show()"
   ]
  },
  {
   "cell_type": "markdown",
   "metadata": {},
   "source": [
    "## Training\n",
    "-----"
   ]
  },
  {
   "cell_type": "code",
   "execution_count": 689,
   "metadata": {},
   "outputs": [
    {
     "name": "stdout",
     "output_type": "stream",
     "text": [
      "(412, 2)\n",
      "(104, 2)\n",
      "(412,)\n",
      "(104,)\n"
     ]
    }
   ],
   "source": [
    "# Split dataset into training and test sets (80/20 split)\n",
    "X_train, X_test, Y_train, Y_test = train_test_split(X, Y, test_size=0.2, random_state=0)\n",
    "\n",
    "print(X_train.shape)\n",
    "print(X_test.shape)\n",
    "print(Y_train.shape)\n",
    "print(Y_test.shape)"
   ]
  },
  {
   "cell_type": "code",
   "execution_count": 690,
   "metadata": {},
   "outputs": [],
   "source": [
    "# Set up Linear Regression model\n",
    "lm = linear_model.LinearRegression()"
   ]
  },
  {
   "cell_type": "code",
   "execution_count": 691,
   "metadata": {},
   "outputs": [
    {
     "data": {
      "text/plain": [
       "LinearRegression(copy_X=True, fit_intercept=True, n_jobs=1, normalize=False)"
      ]
     },
     "execution_count": 691,
     "metadata": {},
     "output_type": "execute_result"
    }
   ],
   "source": [
    "# Train the model using the training sets\n",
    "lm.fit(X_train, Y_train)"
   ]
  },
  {
   "cell_type": "code",
   "execution_count": 692,
   "metadata": {},
   "outputs": [
    {
     "data": {
      "text/plain": [
       "0.17857099027532053"
      ]
     },
     "execution_count": 692,
     "metadata": {},
     "output_type": "execute_result"
    }
   ],
   "source": [
    "# Check Score\n",
    "lm.score(X_test, Y_test)"
   ]
  },
  {
   "cell_type": "markdown",
   "metadata": {},
   "source": [
    "## Evaluation\n",
    "------"
   ]
  },
  {
   "cell_type": "code",
   "execution_count": 693,
   "metadata": {},
   "outputs": [
    {
     "name": "stdout",
     "output_type": "stream",
     "text": [
      "Coefficients: \n",
      " [  3.09723683 577.44292538]\n"
     ]
    }
   ],
   "source": [
    "# Get Coefficients\n",
    "print('Coefficients: \\n', lm.coef_)"
   ]
  },
  {
   "cell_type": "code",
   "execution_count": 694,
   "metadata": {},
   "outputs": [
    {
     "name": "stdout",
     "output_type": "stream",
     "text": [
      "Intercept: \n",
      " 156681.8179716004\n"
     ]
    }
   ],
   "source": [
    "# Get Intercept\n",
    "print('Intercept: \\n', lm.intercept_)"
   ]
  },
  {
   "cell_type": "code",
   "execution_count": 695,
   "metadata": {},
   "outputs": [
    {
     "name": "stdout",
     "output_type": "stream",
     "text": [
      "Prediction: \n",
      " [180434.9378424  158397.83937769 165875.09060552 161708.04220518\n",
      " 159074.56025916 158354.16421014 162545.30261652 273149.93310461\n",
      " 158573.64798092 161292.70334332]\n"
     ]
    }
   ],
   "source": [
    "# Predict data based on testset\n",
    "Y_pred = lm.predict(X_test)\n",
    "\n",
    "print('Prediction: \\n', Y_pred[0:10])"
   ]
  },
  {
   "cell_type": "code",
   "execution_count": 696,
   "metadata": {},
   "outputs": [
    {
     "name": "stdout",
     "output_type": "stream",
     "text": [
      "Mean squared error: 5772473350.14\n"
     ]
    }
   ],
   "source": [
    "# Get Mean Squared Error\n",
    "print(\"Mean squared error: %.2f\" % mean_squared_error(Y_test, Y_pred))"
   ]
  },
  {
   "cell_type": "code",
   "execution_count": 697,
   "metadata": {},
   "outputs": [
    {
     "name": "stdout",
     "output_type": "stream",
     "text": [
      "Variance score: 0.18\n"
     ]
    }
   ],
   "source": [
    "# Explained variance score (1 is perfect prediction)\n",
    "print('Variance score: %.2f' % r2_score(Y_test, Y_pred))"
   ]
  },
  {
   "cell_type": "code",
   "execution_count": 698,
   "metadata": {},
   "outputs": [
    {
     "data": {
      "image/png": "[encoded data removed]",
      "text/plain": [
       "<Figure size 432x288 with 1 Axes>"
      ]
     },
     "metadata": {},
     "output_type": "display_data"
    }
   ],
   "source": [
    "# Residual plots - visualise errors in data\n",
    "# Data should be randomly scattered around line zero\n",
    "\n",
    "plt.scatter(lm.predict(X_train), lm.predict(X_train) - Y_train, c='b', s = 40, alpha = 0.05)\n",
    "plt.scatter(lm.predict(X_test), lm.predict(X_test) - Y_test, c='g', s = 40)\n",
    "plt.hlines(y = 0, xmin = 150000, xmax = 400000)\n",
    "plt.title('Residual Plot using training (blue) and test (green) data')\n",
    "plt.ylabel('Residuals')\n",
    "plt.show()"
   ]
  },
  {
   "cell_type": "markdown",
   "metadata": {},
   "source": [
    "## Outputs & Visualisations\n",
    "------"
   ]
  },
  {
   "cell_type": "code",
   "execution_count": 699,
   "metadata": {},
   "outputs": [
    {
     "data": {
      "text/plain": [
       "array([159948.33618007, 362294.18833429, 408940.88293163, 388018.89119386,\n",
       "       365296.3523818 , 225368.50061115, 269292.88095759, 265683.91688341,\n",
       "       267534.80437674, 249300.21719588])"
      ]
     },
     "execution_count": 699,
     "metadata": {},
     "output_type": "execute_result"
    }
   ],
   "source": [
    "#Use model to predict average house prices\n",
    "lm.predict(X)[0:10]"
   ]
  },
  {
   "cell_type": "code",
   "execution_count": 700,
   "metadata": {},
   "outputs": [
    {
     "data": {
      "image/png": "[encoded data removed]",
      "text/plain": [
       "<Figure size 432x288 with 1 Axes>"
      ]
     },
     "metadata": {},
     "output_type": "display_data"
    }
   ],
   "source": [
    "# Plot predicted prices and actual prices\n",
    "plt.plot(dataframe.House_Price, lm.predict(X), '.')\n",
    "\n",
    "# plots line (perfect prediction all would fall on this line)\n",
    "x = np.linspace(150000, 400000, 10)\n",
    "y = x\n",
    "plt.ylabel(\"Predicted Prices\")\n",
    "plt.xlabel(\"Actual Prices\")\n",
    "plt.title(\"Actual v Predicted House Prices\")\n",
    "plt.plot(x, y)\n",
    "\n",
    "plt.show()"
   ]
  },
  {
   "cell_type": "markdown",
   "metadata": {},
   "source": [
    "## Conclusion\n",
    "------\n",
    "Although a correlation can be observed between the number of Crimes Reported/ per Capita Crime Rate and Average House Price, the fitted Linear Regression model does not adequately predict House Prices. This indicates that Crime does not have an impact on house prices in Ireland."
   ]
  }
 ],
 "metadata": {
  "kernelspec": {
   "display_name": "Python 3",
   "language": "python",
   "name": "python3"
  },
  "language_info": {
   "codemirror_mode": {
    "name": "ipython",
    "version": 3
   },
   "file_extension": ".py",
   "mimetype": "text/x-python",
   "name": "python",
   "nbconvert_exporter": "python",
   "pygments_lexer": "ipython3",
   "version": "3.7.0"
  }
 },
 "nbformat": 4,
 "nbformat_minor": 1
}
