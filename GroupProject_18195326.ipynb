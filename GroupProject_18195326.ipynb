{
 "cells": [
  {
   "cell_type": "markdown",
   "metadata": {},
   "source": [
    "# CE4021 Group Project\n",
    "\n",
    "## Group 2.2\n",
    "\n",
    "## Student Name: Mark Murnane\n",
    "## Student ID: 18195326"
   ]
  },
  {
   "cell_type": "markdown",
   "metadata": {},
   "source": [
    "## Problem Description\n",
    "\n",
    "Given a dataset describing empirical qualities of a wine (e.g. acidity, sugar levels) analyze the data using a Multi-Layer Perceptron Neural Network to build a classifier of the wine's quality.  The quality of the wine is described in the data set as a integer value from 1-10, making it appropriate for classification.\n",
    "\n",
    "### Data Set Origin\n",
    "\n",
    "The data set has been sourced from the University of California, Irvine's (UCI) Machine Learning Repository ([link](http://archive.ics.uci.edu/ml/index.php)).  The data was made available in support of a data mining approach for wine quality described in (Cortez _et al._, 2009).  \n",
    "\n",
    "The data set for red wine was downloaded from [Kaggle](https://www.kaggle.com/uciml/red-wine-quality-cortez-et-al-2009), but can be found in the UCI archive [here](https://archive.ics.uci.edu/ml/datasets/wine+quality).  A combined data set is available from  Paulo Cortez's [website](http://www3.dsi.uminho.pt/pcortez/wine/)."
   ]
  },
  {
   "cell_type": "code",
   "execution_count": 1,
   "metadata": {},
   "outputs": [],
   "source": [
    "import pandas as pd\n",
    "import numpy as np\n",
    "import matplotlib.pyplot as plt\n",
    "\n",
    "from sklearn import preprocessing\n",
    "from sklearn import pipeline\n",
    "\n",
    "from sklearn.model_selection import train_test_split\n",
    "from sklearn.decomposition import PCA\n",
    "from sklearn.neural_network import MLPClassifier"
   ]
  },
  {
   "cell_type": "markdown",
   "metadata": {},
   "source": [
    "### Data Import\n",
    "\n",
    "The data set is read from a CSV using the Pandas framework to yield a Pandas data frame.  As the data set is complete and does not need any gaps to be inferred/replaced, then the feature and target data can be extracted to _numpy_ arrays for use by the _scikit-learn_ models."
   ]
  },
  {
   "cell_type": "code",
   "execution_count": 2,
   "metadata": {},
   "outputs": [
    {
     "data": {
      "text/html": [
       "<div>\n",
       "<style scoped>\n",
       "    .dataframe tbody tr th:only-of-type {\n",
       "        vertical-align: middle;\n",
       "    }\n",
       "\n",
       "    .dataframe tbody tr th {\n",
       "        vertical-align: top;\n",
       "    }\n",
       "\n",
       "    .dataframe thead th {\n",
       "        text-align: right;\n",
       "    }\n",
       "</style>\n",
       "<table border=\"1\" class=\"dataframe\">\n",
       "  <thead>\n",
       "    <tr style=\"text-align: right;\">\n",
       "      <th></th>\n",
       "      <th>fixed acidity</th>\n",
       "      <th>volatile acidity</th>\n",
       "      <th>citric acid</th>\n",
       "      <th>residual sugar</th>\n",
       "      <th>chlorides</th>\n",
       "      <th>free sulfur dioxide</th>\n",
       "      <th>total sulfur dioxide</th>\n",
       "      <th>density</th>\n",
       "      <th>pH</th>\n",
       "      <th>sulphates</th>\n",
       "      <th>alcohol</th>\n",
       "      <th>quality</th>\n",
       "    </tr>\n",
       "  </thead>\n",
       "  <tbody>\n",
       "    <tr>\n",
       "      <th>0</th>\n",
       "      <td>7.4</td>\n",
       "      <td>0.70</td>\n",
       "      <td>0.00</td>\n",
       "      <td>1.9</td>\n",
       "      <td>0.076</td>\n",
       "      <td>11.0</td>\n",
       "      <td>34.0</td>\n",
       "      <td>0.9978</td>\n",
       "      <td>3.51</td>\n",
       "      <td>0.56</td>\n",
       "      <td>9.4</td>\n",
       "      <td>5</td>\n",
       "    </tr>\n",
       "    <tr>\n",
       "      <th>1</th>\n",
       "      <td>7.8</td>\n",
       "      <td>0.88</td>\n",
       "      <td>0.00</td>\n",
       "      <td>2.6</td>\n",
       "      <td>0.098</td>\n",
       "      <td>25.0</td>\n",
       "      <td>67.0</td>\n",
       "      <td>0.9968</td>\n",
       "      <td>3.20</td>\n",
       "      <td>0.68</td>\n",
       "      <td>9.8</td>\n",
       "      <td>5</td>\n",
       "    </tr>\n",
       "    <tr>\n",
       "      <th>2</th>\n",
       "      <td>7.8</td>\n",
       "      <td>0.76</td>\n",
       "      <td>0.04</td>\n",
       "      <td>2.3</td>\n",
       "      <td>0.092</td>\n",
       "      <td>15.0</td>\n",
       "      <td>54.0</td>\n",
       "      <td>0.9970</td>\n",
       "      <td>3.26</td>\n",
       "      <td>0.65</td>\n",
       "      <td>9.8</td>\n",
       "      <td>5</td>\n",
       "    </tr>\n",
       "    <tr>\n",
       "      <th>3</th>\n",
       "      <td>11.2</td>\n",
       "      <td>0.28</td>\n",
       "      <td>0.56</td>\n",
       "      <td>1.9</td>\n",
       "      <td>0.075</td>\n",
       "      <td>17.0</td>\n",
       "      <td>60.0</td>\n",
       "      <td>0.9980</td>\n",
       "      <td>3.16</td>\n",
       "      <td>0.58</td>\n",
       "      <td>9.8</td>\n",
       "      <td>6</td>\n",
       "    </tr>\n",
       "    <tr>\n",
       "      <th>4</th>\n",
       "      <td>7.4</td>\n",
       "      <td>0.70</td>\n",
       "      <td>0.00</td>\n",
       "      <td>1.9</td>\n",
       "      <td>0.076</td>\n",
       "      <td>11.0</td>\n",
       "      <td>34.0</td>\n",
       "      <td>0.9978</td>\n",
       "      <td>3.51</td>\n",
       "      <td>0.56</td>\n",
       "      <td>9.4</td>\n",
       "      <td>5</td>\n",
       "    </tr>\n",
       "  </tbody>\n",
       "</table>\n",
       "</div>"
      ],
      "text/plain": [
       "   fixed acidity  volatile acidity  citric acid  residual sugar  chlorides  \\\n",
       "0            7.4              0.70         0.00             1.9      0.076   \n",
       "1            7.8              0.88         0.00             2.6      0.098   \n",
       "2            7.8              0.76         0.04             2.3      0.092   \n",
       "3           11.2              0.28         0.56             1.9      0.075   \n",
       "4            7.4              0.70         0.00             1.9      0.076   \n",
       "\n",
       "   free sulfur dioxide  total sulfur dioxide  density    pH  sulphates  \\\n",
       "0                 11.0                  34.0   0.9978  3.51       0.56   \n",
       "1                 25.0                  67.0   0.9968  3.20       0.68   \n",
       "2                 15.0                  54.0   0.9970  3.26       0.65   \n",
       "3                 17.0                  60.0   0.9980  3.16       0.58   \n",
       "4                 11.0                  34.0   0.9978  3.51       0.56   \n",
       "\n",
       "   alcohol  quality  \n",
       "0      9.4        5  \n",
       "1      9.8        5  \n",
       "2      9.8        5  \n",
       "3      9.8        6  \n",
       "4      9.4        5  "
      ]
     },
     "execution_count": 2,
     "metadata": {},
     "output_type": "execute_result"
    }
   ],
   "source": [
    "# Data Import\n",
    "wine_source = pd.read_csv('winequality-red.csv', header=0, )\n",
    "\n",
    "wine_source.head()"
   ]
  },
  {
   "cell_type": "code",
   "execution_count": 3,
   "metadata": {},
   "outputs": [],
   "source": [
    "wine_data = wine_source.values[:,:-1]\n",
    "wine_target = wine_source.values[:,-1]"
   ]
  },
  {
   "cell_type": "markdown",
   "metadata": {},
   "source": [
    "### Pre-processing\n",
    "\n",
    "The data set contains 11 features which combine to provide the output.  For many of the features in the data set, the variance is relatively low (e.g. density which approximate to 1).  As a simple way to explore how to tackle the data set it's worth establishing any dominant features.  Equally some features (such as density) will play next to no part in discriminating the results.\n",
    "\n",
    "The determine if this is the case, and if so what to include/remove, we'll use PCA to identify the most important components.\n",
    "\n",
    "The data set is complete and has no missing elements that need to be adjusted for.\n",
    "\n",
    "The features have different scales, however, often an order of magnitude apart.  To avoid larger numeric variances from dominating the PCA algorithm, the data will be normailsed before PCA or model processing.\n",
    "\n",
    "_outlier detection would have to take place before this_\n",
    "\n",
    "_Make sure to check for direction.  May need to reshape the matrix_"
   ]
  },
  {
   "cell_type": "markdown",
   "metadata": {},
   "source": [
    "#### Validate that the data set is complete"
   ]
  },
  {
   "cell_type": "code",
   "execution_count": 4,
   "metadata": {},
   "outputs": [],
   "source": [
    "## TODO: Insert some code here"
   ]
  },
  {
   "cell_type": "markdown",
   "metadata": {},
   "source": [
    "#### Handle the target\n",
    "\n",
    "While the range of the target values is 0 to 10, the data set actually as a smaller range."
   ]
  },
  {
   "cell_type": "code",
   "execution_count": 5,
   "metadata": {},
   "outputs": [
    {
     "name": "stdout",
     "output_type": "stream",
     "text": [
      "3\n",
      "8\n"
     ]
    }
   ],
   "source": [
    "print(wine_source[\"quality\"].min())\n",
    "print(wine_source[\"quality\"].max())"
   ]
  },
  {
   "cell_type": "markdown",
   "metadata": {},
   "source": [
    "As some initial testing of the training data suggested difficulty resolving the model, reclassifying the quality as either \"Poor\", \"Normal\", \"Improved\"."
   ]
  },
  {
   "cell_type": "code",
   "execution_count": 6,
   "metadata": {},
   "outputs": [],
   "source": [
    "def convert_target_quality(target):\n",
    "    new_target = 0\n",
    "    \n",
    "    if target > 6:\n",
    "        new_target =  2\n",
    "    elif target > 4:\n",
    "        new_target = 1\n",
    "    else:\n",
    "        new_target = 0\n",
    "        \n",
    "    return new_target\n",
    "\n",
    "new_wine_target = np.array([convert_target_quality(x) for x in wine_target])\n"
   ]
  },
  {
   "cell_type": "markdown",
   "metadata": {},
   "source": [
    "#### PCA on the full data set\n",
    "\n",
    "\n",
    "While in many examples the data is split into a test and training sets ahead of PCA, as the sample size is relatively small, I'll first perform a PCA analysis on the full set.  This will give a more comprehensive view of the data set"
   ]
  },
  {
   "cell_type": "code",
   "execution_count": 7,
   "metadata": {},
   "outputs": [],
   "source": [
    "np.set_printoptions(formatter={'float': '{: 0.6f}'.format})\n",
    "\n",
    "# Do some data cleansing/pre-processing\n",
    "# The data set seems pretty clean so little to do here\n",
    "\n",
    "# 1. Normalisation\n",
    "wine_data_std  = preprocessing.scale(wine_data, axis=0)\n",
    "\n",
    "# 2. Do a PCA analysis to determine which variables appear to be relatively more important than others\n",
    "pca_full = PCA()\n",
    "pca_full.fit(wine_data_std)\n",
    "\n",
    "full_variance_ratio = pca_full.explained_variance_ratio_*100\n",
    "full_cumulative_vr = np.cumsum(full_variance_ratio)"
   ]
  },
  {
   "cell_type": "markdown",
   "metadata": {},
   "source": [
    "Plotting the contribution of the principal components to the variance of the total data set might indicate how many features of this data set are significant."
   ]
  },
  {
   "cell_type": "code",
   "execution_count": 8,
   "metadata": {},
   "outputs": [
    {
     "data": {
      "image/png": "[encoded data removed]",
      "text/plain": [
       "<Figure size 432x288 with 1 Axes>"
      ]
     },
     "metadata": {},
     "output_type": "display_data"
    }
   ],
   "source": [
    "def plot_pca_variance (cumulative_variance_data, variance_data, components = 11, max_percentage = 100, percent_steps = 10):\n",
    "    # Titles\n",
    "    plt.title(\"PCA Components contribution to Data Set Variance\")\n",
    "    plt.xlabel(\"Principal Components\")\n",
    "    plt.ylabel(\"Data Set Variance (%)\")\n",
    "\n",
    "    # Set boundaries and assert ticks for each components\n",
    "    # Increase the x and y limits by a margin so that the graph doesn't abut the boundaries\n",
    "    plt.xlim(0, components + 1)\n",
    "    plt.ylim(0, max_percentage + 5)\n",
    "    plt.xticks(range(0, components + 1))\n",
    "    plt.yticks(range(0, max_percentage + 5, percent_steps))\n",
    "\n",
    "    # Grid for ease of reading\n",
    "    plt.grid(True, linestyle='--')\n",
    "    \n",
    "    plt.plot(range(1, components + 1), cumulative_variance_data, label=\"Cumulative Variance\", color=\"r\")\n",
    "    plt.plot(range(1, components + 1), variance_data, label=\"Component Variance\", color=\"b\", marker=\"o\")\n",
    "    \n",
    "    plt.legend()\n",
    "    plt.show()\n",
    "    \n",
    "plot_pca_variance(full_cumulative_vr, full_variance_ratio)"
   ]
  },
  {
   "cell_type": "markdown",
   "metadata": {},
   "source": [
    "The fact that the curve is relatively shallow - there is no real **_elbow_** - indicates that no one feature is highly dominant in the data set.  This may be because the wines (_vinho verde_) described all originate from the same region (the north of Portugal) and are generally consumed relatively soon after bottling.  As a result there may be insufficient variety in the environment and production methods to influence the wine itself.\n",
    "\n",
    "Looking at the graph above the majority of the data set, the minimum number of components to reduce to would be 5, giving approximately 80% coverage.  Selecting the first 7 components gives over 90% coverage and would be a better choice.  \n",
    "\n",
    "This might also indicate that while the remaining values don't contribute significantly, there may not be significant value in removing them from the data set.\n",
    "\n",
    "\n",
    "### Test and Training Data\n",
    "\n",
    "The Machine Learner requires both _Training_ and _Test_ data.  As with the analysis above, the split data sets need to be normalised, and specifically the _Test_ data needs to be normalised with the same values as the _Training_ set. \n",
    "\n",
    "To simplify the process, a **_Pipeline_** can be used to ensure that the values are correctly applied form one stage to the next without needing any specific coding."
   ]
  },
  {
   "cell_type": "code",
   "execution_count": 9,
   "metadata": {},
   "outputs": [
    {
     "data": {
      "image/png": "[encoded data removed]",
      "text/plain": [
       "<Figure size 432x288 with 1 Axes>"
      ]
     },
     "metadata": {},
     "output_type": "display_data"
    },
    {
     "name": "stdout",
     "output_type": "stream",
     "text": [
      "Is the variance of the training data almost the same (+/- 0.5%) as the full data? True\n"
     ]
    }
   ],
   "source": [
    "wine_data_train, wine_data_test, wine_target_train, wine_target_test = train_test_split(wine_data, new_wine_target, test_size=0.2, random_state=42)\n",
    "\n",
    "# TODO: Here's where we do cross validation\n",
    "\n",
    "# Now construct the Pipline for scaling and PCA\n",
    "pline = pipeline.make_pipeline(preprocessing.StandardScaler(), PCA())\n",
    "pline.fit(wine_data_train, wine_target_train)\n",
    "\n",
    "training_pca = pline.named_steps['pca']\n",
    "\n",
    "training_variance_ratio = training_pca.explained_variance_ratio_*100\n",
    "training_cumulative_vr = np.cumsum(training_variance_ratio)\n",
    "\n",
    "plot_pca_variance(training_cumulative_vr, training_variance_ratio)\n",
    "\n",
    "print(f\"Is the variance of the training data almost the same (+/- 0.5%) as the full data? {np.allclose(full_variance_ratio, training_variance_ratio, atol=0.5)}\")"
   ]
  },
  {
   "cell_type": "markdown",
   "metadata": {},
   "source": [
    "### MLP Classifier\n",
    "\n",
    "Now that the data has been normalised it's time to build the classificationn model.\n",
    "\n",
    "For the model, we'll use RELU as the activation function for the Neural Network.  The 3Blue1Brown series indicated strongly that ReLU is preferred over the Sigmoid Function as it tends to a result.  For a data set this size, it may not make of a difference, however.\n",
    "\n",
    "For the initial attempt we'll use _adam_ as the solver.  The scikit-learn examples include a [Comparison of Stochastic learning strategies](https://scikit-learn.org/stable/auto_examples/neural_networks/plot_mlp_training_curves.html#sphx-glr-auto-examples-neural-networks-plot-mlp-training-curves-py) that show _adam_ quickly converges towards minima across a number of different data sets.\n",
    "\n",
    "Based on the work above, for this step we'll create a new pipeline that involves that:\n",
    "\n",
    "* Normalises the data\n",
    "* Uses PCA to reduce the number of components to 7\n",
    "* Executes the MLPClassifier"
   ]
  },
  {
   "cell_type": "code",
   "execution_count": 40,
   "metadata": {},
   "outputs": [
    {
     "name": "stdout",
     "output_type": "stream",
     "text": [
      "Training set score:\t0.894\n",
      "Test set score:\t\t0.834\n"
     ]
    }
   ],
   "source": [
    "#mlp_net = MLPClassifier(hidden_layer_sizes=(10,10), activation='relu', solver='adam', batch_size=20, shuffle=True, verbose=False, random_state=42)\n",
    "mlp_net = MLPClassifier(hidden_layer_sizes=(10,10), activation='relu', solver='lbfgs', verbose=True, random_state=42)\n",
    "\n",
    "model_pipe = pipeline.make_pipeline(preprocessing.StandardScaler(), PCA(n_components=7), mlp_net)\n",
    "\n",
    "model_pipe.fit(wine_data_train, wine_target_train)\n",
    "\n",
    "train_score = model_pipe.score(wine_data_train, wine_target_train)\n",
    "test_score = model_pipe.score(wine_data_test, wine_target_test)\n",
    "\n",
    "print(f\"Training set score:\\t{train_score:.3f}\")\n",
    "print(f\"Test set score:\\t\\t{test_score:.3f}\")"
   ]
  },
  {
   "cell_type": "markdown",
   "metadata": {},
   "source": [
    "### Model Visualisation\n",
    "\n",
    "<TODO> Need to figure out what's viable here.  With the high dimensionality, plotting could be difficult."
   ]
  },
  {
   "cell_type": "code",
   "execution_count": null,
   "metadata": {},
   "outputs": [],
   "source": []
  },
  {
   "cell_type": "markdown",
   "metadata": {},
   "source": [
    "## Reference List\n",
    "\n",
    "P. Cortez, A. Cerdeira, F. Almeida, T. Matos and J. Reis. Modeling wine preferences by data mining from physicochemical properties. In Decision Support Systems, Elsevier, 47(4):547-553, 2009."
   ]
  }
 ],
 "metadata": {
  "kernelspec": {
   "display_name": "Python 3",
   "language": "python",
   "name": "python3"
  },
  "language_info": {
   "codemirror_mode": {
    "name": "ipython",
    "version": 3
   },
   "file_extension": ".py",
   "mimetype": "text/x-python",
   "name": "python",
   "nbconvert_exporter": "python",
   "pygments_lexer": "ipython3",
   "version": "3.6.5"
  }
 },
 "nbformat": 4,
 "nbformat_minor": 2
}
