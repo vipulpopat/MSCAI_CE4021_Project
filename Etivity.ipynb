{
 "cells": [
  {
   "cell_type": "markdown",
   "metadata": {},
   "source": [
    "#Student Name:\n",
    "#Student ID:\n",
    "\n",
    "#Student Name:\n",
    "#Student ID:\n",
    "\n",
    "#Student Name:\n",
    "#Student ID:\n",
    "\n",
    "#Student Name:\n",
    "#Student ID:"
   ]
  },
  {
   "cell_type": "code",
   "execution_count": 15,
   "metadata": {
    "collapsed": true
   },
   "outputs": [],
   "source": [
    "import numpy as np\n",
    "import pandas as pd\n",
    "import re"
   ]
  },
  {
   "cell_type": "code",
   "execution_count": 19,
   "metadata": {
    "collapsed": false
   },
   "outputs": [],
   "source": [
    "# Following code is from https://github.com/amclean3695/Communities-and-Crime/blob/master/Communities_and_Crime.ipynb\n",
    "# TODO : See is there any other means for pulling column names from C45 file format\n",
    "#Reads in names from textfile and performs regex to extract the attribute names \n",
    "textfile = open('communities.names','r')\n",
    "filetext = textfile.read()\n",
    "textfile.close()\n",
    "matches = re.findall(r'-{2}\\s(\\w+)\\:{1}', filetext)\n",
    "col_names = matches[2:] #corresponds to the 128 attributes"
   ]
  },
  {
   "cell_type": "code",
   "execution_count": 29,
   "metadata": {
    "collapsed": false
   },
   "outputs": [
    {
     "name": "stdout",
     "output_type": "stream",
     "text": [
      "(1994, 128)\n"
     ]
    }
   ],
   "source": [
    "df = pd.read_csv('communities.data', header=None, names=col_names)\n",
    "\n",
    "#data_url = 'http://archive.ics.uci.edu/ml/machine-learning-databases/communities/communities.data'\n",
    "#df = pd.read_csv(data_url, header=None)\n",
    "# The above code does not work as PythonAnywhere blocks outgoing connections for free accounts to non-whitelisted sites\n",
    "\n",
    "#print(df.head(5))\n",
    "#dir(df)\n",
    "print(df.shape)\n",
    "#print(df['ViolentCrimesPerPop'].value_counts())"
   ]
  },
  {
   "cell_type": "markdown",
   "metadata": {},
   "source": [
    "### Remove Non-Predictive Attributes\n",
    "\n",
    "Of the 128 attributes loaded, for this dataset it is stated that:\n",
    "\n",
    "Attribute Information: (122 predictive, 5 non-predictive, 1 goal) \n",
    "* state: US state (by number) - not counted as predictive above, but if considered, should be consided nominal (nominal) \n",
    "* county: numeric code for county - not predictive, and many missing values (numeric) \n",
    "* community: numeric code for community - not predictive and many missing values (numeric) \n",
    "* communityname: community name - not predictive - for information only (string) \n",
    "* fold: fold number for non-random 10 fold cross validation, potentially useful for debugging, paired tests - not predictive (numeric) \n",
    "\n",
    "Therefore, the first five columns shall be removed from the dataset"
   ]
  },
  {
   "cell_type": "code",
   "execution_count": 30,
   "metadata": {
    "collapsed": false
   },
   "outputs": [
    {
     "name": "stdout",
     "output_type": "stream",
     "text": [
      "(1994, 123)\n"
     ]
    }
   ],
   "source": [
    "df = df.drop(['state', 'county', 'community', 'communityname', 'fold'], axis=1)\n",
    "print(df.shape)\n"
   ]
  },
  {
   "cell_type": "code",
   "execution_count": 35,
   "metadata": {
    "collapsed": false
   },
   "outputs": [
    {
     "data": {
      "text/plain": [
       "ViolentCrimesPerPop    0\n",
       "PctNotHSGrad           0\n",
       "PctUnemployed          0\n",
       "PctEmploy              0\n",
       "PctEmplManu            0\n",
       "dtype: int64"
      ]
     },
     "execution_count": 35,
     "metadata": {},
     "output_type": "execute_result"
    }
   ],
   "source": [
    "#print(df.head(5))\n",
    "# From DePy_Talk Noteboook\n",
    "# How much of your data is missing?\n",
    "df.isnull().sum().sort_values(ascending=False).head()"
   ]
  },
  {
   "cell_type": "markdown",
   "metadata": {},
   "source": [
    "There are no cells with missing data\n",
    "However, visually inspecting the data, there are cells with \"?\" and this needs to be replaced with \"NaN\" (Not a Number)"
   ]
  },
  {
   "cell_type": "code",
   "execution_count": 38,
   "metadata": {
    "collapsed": false
   },
   "outputs": [
    {
     "name": "stdout",
     "output_type": "stream",
     "text": [
      "Index(['OtherPerCap', 'LemasSwornFT', 'LemasSwFTPerPop', 'LemasSwFTFieldOps',\n",
      "       'LemasSwFTFieldPerPop', 'LemasTotalReq', 'LemasTotReqPerPop',\n",
      "       'PolicReqPerOffic', 'PolicPerPop', 'RacialMatchCommPol',\n",
      "       'PctPolicWhite', 'PctPolicBlack', 'PctPolicHisp', 'PctPolicAsian',\n",
      "       'PctPolicMinor', 'OfficAssgnDrugUnits', 'NumKindsDrugsSeiz',\n",
      "       'PolicAveOTWorked', 'PolicCars', 'PolicOperBudg', 'LemasPctPolicOnPatr',\n",
      "       'LemasGangUnitDeploy', 'PolicBudgPerPop'],\n",
      "      dtype='object')\n"
     ]
    }
   ],
   "source": [
    "df = df.replace('?', np.nan)\n",
    "print(df.columns[df.isnull().any()])"
   ]
  },
  {
   "cell_type": "code",
   "execution_count": 60,
   "metadata": {
    "collapsed": false
   },
   "outputs": [
    {
     "data": {
      "text/plain": [
       "OtherPerCap            1\n",
       "PctOccupManu           0\n",
       "HispPerCap             0\n",
       "NumUnderPov            0\n",
       "PctPopUnderPov         0\n",
       "PctLess9thGrade        0\n",
       "PctNotHSGrad           0\n",
       "PctBSorMore            0\n",
       "PctUnemployed          0\n",
       "PctEmploy              0\n",
       "PctEmplManu            0\n",
       "PctEmplProfServ        0\n",
       "ViolentCrimesPerPop    0\n",
       "NumIlleg               0\n",
       "MalePctDivorce         0\n",
       "MalePctNevMarr         0\n",
       "FemalePctDiv           0\n",
       "TotalPctDiv            0\n",
       "PersPerFam             0\n",
       "PctFam2Par             0\n",
       "PctKids2Par            0\n",
       "PctYoungKids2Par       0\n",
       "PctTeen2Par            0\n",
       "PctWorkMomYoungKids    0\n",
       "PctOccupMgmtProf       0\n",
       "dtype: int64"
      ]
     },
     "execution_count": 60,
     "metadata": {},
     "output_type": "execute_result"
    }
   ],
   "source": [
    "df.isnull().sum().sort_values(ascending=False).head(25)"
   ]
  },
  {
   "cell_type": "code",
   "execution_count": 58,
   "metadata": {
    "collapsed": false
   },
   "outputs": [
    {
     "name": "stdout",
     "output_type": "stream",
     "text": [
      "(1994, 123)\n",
      "1994\n",
      "1675\n",
      "Column  LemasSwornFT 1675\n",
      "Column  LemasSwFTPerPop 1675\n",
      "Column  LemasSwFTFieldOps 1675\n",
      "Column  LemasSwFTFieldPerPop 1675\n",
      "Column  LemasTotalReq 1675\n",
      "Column  LemasTotReqPerPop 1675\n",
      "Column  PolicReqPerOffic 1675\n",
      "Column  PolicPerPop 1675\n",
      "Column  RacialMatchCommPol 1675\n",
      "Column  PctPolicWhite 1675\n",
      "Column  PctPolicBlack 1675\n",
      "Column  PctPolicHisp 1675\n",
      "Column  PctPolicAsian 1675\n",
      "Column  PctPolicMinor 1675\n",
      "Column  OfficAssgnDrugUnits 1675\n",
      "Column  NumKindsDrugsSeiz 1675\n",
      "Column  PolicAveOTWorked 1675\n",
      "Column  PolicCars 1675\n",
      "Column  PolicOperBudg 1675\n",
      "Column  LemasPctPolicOnPatr 1675\n",
      "Column  LemasGangUnitDeploy 1675\n",
      "Column  PolicBudgPerPop 1675\n",
      "(1994, 101)\n"
     ]
    }
   ],
   "source": [
    "#print(df.isnull().sum())\n",
    "print(df.shape)\n",
    "print(df.shape[0])\n",
    "print(df['LemasSwFTFieldPerPop'].isnull().sum())\n",
    "for column in df:\n",
    "    if(df[column].isnull().sum()>=(df.shape[0]/2)):\n",
    "        print(\"Column \", column, df[column].isnull().sum())\n",
    "        df = df.drop([column], axis=1)\n",
    "print(df.shape)"
   ]
  },
  {
   "cell_type": "code",
   "execution_count": 59,
   "metadata": {
    "collapsed": false
   },
   "outputs": [
    {
     "data": {
      "text/plain": [
       "OtherPerCap            1\n",
       "PctOccupManu           0\n",
       "HispPerCap             0\n",
       "NumUnderPov            0\n",
       "PctPopUnderPov         0\n",
       "PctLess9thGrade        0\n",
       "PctNotHSGrad           0\n",
       "PctBSorMore            0\n",
       "PctUnemployed          0\n",
       "PctEmploy              0\n",
       "PctEmplManu            0\n",
       "PctEmplProfServ        0\n",
       "ViolentCrimesPerPop    0\n",
       "NumIlleg               0\n",
       "MalePctDivorce         0\n",
       "MalePctNevMarr         0\n",
       "FemalePctDiv           0\n",
       "TotalPctDiv            0\n",
       "PersPerFam             0\n",
       "PctFam2Par             0\n",
       "PctKids2Par            0\n",
       "PctYoungKids2Par       0\n",
       "PctTeen2Par            0\n",
       "PctWorkMomYoungKids    0\n",
       "PctOccupMgmtProf       0\n",
       "dtype: int64"
      ]
     },
     "execution_count": 59,
     "metadata": {},
     "output_type": "execute_result"
    }
   ],
   "source": [
    "df.isnull().sum().sort_values(ascending=False).head(25)"
   ]
  },
  {
   "cell_type": "markdown",
   "metadata": {},
   "source": [
    "There is only one missing value remaining but lets impute it for the craic using code from the DePy_Talk notebook"
   ]
  },
  {
   "cell_type": "code",
   "execution_count": null,
   "metadata": {
    "collapsed": true
   },
   "outputs": [],
   "source": []
  }
 ],
 "metadata": {
  "kernelspec": {
   "display_name": "Python 3",
   "language": "python",
   "name": "python3"
  },
  "language_info": {
   "codemirror_mode": {
    "name": "ipython",
    "version": 3
   },
   "file_extension": ".py",
   "mimetype": "text/x-python",
   "name": "python",
   "nbconvert_exporter": "python",
   "pygments_lexer": "ipython3",
   "version": "3.4.9"
  }
 },
 "nbformat": 4,
 "nbformat_minor": 1
}
