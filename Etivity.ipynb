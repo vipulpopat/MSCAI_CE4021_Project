{
 "cells": [
  {
   "cell_type": "markdown",
   "metadata": {},
   "source": [
    "#Student Name:\n",
    "#Student ID:\n",
    "\n",
    "#Student Name:\n",
    "#Student ID:\n",
    "\n",
    "#Student Name:\n",
    "#Student ID:\n",
    "\n",
    "#Student Name:\n",
    "#Student ID:"
   ]
  },
  {
   "cell_type": "code",
   "execution_count": 29,
   "metadata": {
    "collapsed": true
   },
   "outputs": [],
   "source": [
    "import numpy as np\n",
    "import pandas as pd\n",
    "import matplotlib.pyplot as plt\n",
    "import re"
   ]
  },
  {
   "cell_type": "markdown",
   "metadata": {},
   "source": [
    "### Parameters\n",
    "* SEED : Used as value for functions that take a random seed as an argument. The function of this parameter is to ensure repeatability between runs of the notebook\n",
    "* TEST_SIZE : Used to determine the split of the dataset into a Test set and a Training Set. Needs to be specified as a float between 0.0 and 1.0\n",
    "* VERBOSE : Enables higher verbosity for debug etc\n",
    "* COMPONENT_PCT : Determines the percentage of variance that each component must contribute to be included after applying PCA"
   ]
  },
  {
   "cell_type": "code",
   "execution_count": 31,
   "metadata": {
    "collapsed": true
   },
   "outputs": [],
   "source": [
    "SEED = 1\n",
    "TEST_SIZE = 0.3\n",
    "VERBOSE = False\n",
    "COMPONENT_PCT = 0.5 # Half a percent"
   ]
  },
  {
   "cell_type": "markdown",
   "metadata": {},
   "source": [
    "### Dataset\n",
    "Import the UCI Communities and Crimes dataset using Pandas\n",
    "Details on the dataset is available at the following [link](http://archive.ics.uci.edu/ml/machine-learning-databases/communities/communities.data)"
   ]
  },
  {
   "cell_type": "code",
   "execution_count": 3,
   "metadata": {
    "collapsed": true
   },
   "outputs": [],
   "source": [
    "# Following code is from https://github.com/amclean3695/Communities-and-Crime/blob/master/Communities_and_Crime.ipynb\n",
    "# TODO : See is there any other means for pulling column names from C45 file format\n",
    "#Reads in names from textfile and performs regex to extract the attribute names \n",
    "textfile = open('communities.names','r')\n",
    "filetext = textfile.read()\n",
    "textfile.close()\n",
    "matches = re.findall(r'-{2}\\s(\\w+)\\:{1}', filetext)\n",
    "col_names = matches[2:] #corresponds to the 128 attributes"
   ]
  },
  {
   "cell_type": "code",
   "execution_count": 4,
   "metadata": {
    "collapsed": false
   },
   "outputs": [
    {
     "name": "stdout",
     "output_type": "stream",
     "text": [
      "Original Dataset Shape is  (1994, 128)\n"
     ]
    }
   ],
   "source": [
    "df = pd.read_csv('communities.data', header=None, names=col_names)\n",
    "\n",
    "#data_url = 'http://archive.ics.uci.edu/ml/machine-learning-databases/communities/communities.data'\n",
    "#df = pd.read_csv(data_url, header=None)\n",
    "# The above code does not work as PythonAnywhere blocks outgoing connections for free accounts to non-whitelisted sites\n",
    "\n",
    "print(\"Original Dataset Shape is \", df.shape)\n"
   ]
  },
  {
   "cell_type": "markdown",
   "metadata": {},
   "source": [
    "### Remove Non-Predictive Attributes\n",
    "\n",
    "Of the 128 attributes loaded, for this dataset it is stated that:\n",
    "\n",
    "Attribute Information: (122 predictive, 5 non-predictive, 1 goal) \n",
    "* state: US state (by number) - not counted as predictive above, but if considered, should be consided nominal (nominal) \n",
    "* county: numeric code for county - not predictive, and many missing values (numeric) \n",
    "* community: numeric code for community - not predictive and many missing values (numeric) \n",
    "* communityname: community name - not predictive - for information only (string) \n",
    "* fold: fold number for non-random 10 fold cross validation, potentially useful for debugging, paired tests - not predictive (numeric) \n",
    "\n",
    "Therefore, the first five columns shall be removed from the dataset. This reduces the total number of columns from 128 to 123"
   ]
  },
  {
   "cell_type": "code",
   "execution_count": 5,
   "metadata": {
    "collapsed": false
   },
   "outputs": [
    {
     "name": "stdout",
     "output_type": "stream",
     "text": [
      "Dataset Shape with non-predictive attributes removed is  (1994, 123)\n"
     ]
    }
   ],
   "source": [
    "df = df.drop(['state', 'county', 'community', 'communityname', 'fold'], axis=1)\n",
    "print(\"Dataset Shape with non-predictive attributes removed is \", df.shape)\n"
   ]
  },
  {
   "cell_type": "markdown",
   "metadata": {},
   "source": [
    "### Replace Missing Data\n",
    "The dataset contains many cells that contain '?'. Attributes with more missing data than valid data will be removed from the dataset. For the remaining attributes with missing data, the missing data will be imputed.\n",
    "\n",
    "The first step is to replace the cells containing '?' with \"NaN\" (Not a Number)"
   ]
  },
  {
   "cell_type": "code",
   "execution_count": 6,
   "metadata": {
    "collapsed": false
   },
   "outputs": [
    {
     "name": "stdout",
     "output_type": "stream",
     "text": [
      "The top 25 attributes with missing data are:\n"
     ]
    },
    {
     "data": {
      "text/plain": [
       "LemasSwFTFieldPerPop    1675\n",
       "PctPolicAsian           1675\n",
       "PolicBudgPerPop         1675\n",
       "LemasSwornFT            1675\n",
       "LemasSwFTPerPop         1675\n",
       "LemasSwFTFieldOps       1675\n",
       "LemasTotalReq           1675\n",
       "LemasTotReqPerPop       1675\n",
       "PolicReqPerOffic        1675\n",
       "PolicPerPop             1675\n",
       "RacialMatchCommPol      1675\n",
       "PctPolicBlack           1675\n",
       "PctPolicHisp            1675\n",
       "PctPolicWhite           1675\n",
       "PctPolicMinor           1675\n",
       "PolicCars               1675\n",
       "LemasGangUnitDeploy     1675\n",
       "LemasPctPolicOnPatr     1675\n",
       "OfficAssgnDrugUnits     1675\n",
       "PolicOperBudg           1675\n",
       "PolicAveOTWorked        1675\n",
       "NumKindsDrugsSeiz       1675\n",
       "OtherPerCap                1\n",
       "PctLess9thGrade            0\n",
       "PctPopUnderPov             0\n",
       "dtype: int64"
      ]
     },
     "execution_count": 6,
     "metadata": {},
     "output_type": "execute_result"
    }
   ],
   "source": [
    "# Replace '?' with 'NaN'\n",
    "df = df.replace('?', np.nan)\n",
    "\n",
    "# Print the top-25 attributes with missing values. \n",
    "# Code reused from DePy Talk Notebook in [1]\n",
    "print(\"The top 25 attributes with missing data are:\")\n",
    "df.isnull().sum().sort_values(ascending=False).head(25)"
   ]
  },
  {
   "cell_type": "markdown",
   "metadata": {},
   "source": [
    "Remove any attributes that have more missing data than valid data"
   ]
  },
  {
   "cell_type": "code",
   "execution_count": 7,
   "metadata": {
    "collapsed": false
   },
   "outputs": [
    {
     "name": "stdout",
     "output_type": "stream",
     "text": [
      "Dataset Shape with attributes with more than 50% missing data removed is  (1994, 101)\n"
     ]
    }
   ],
   "source": [
    "# If a column contains more than 50% of missing data, remove column from dataset\n",
    "for column in df:\n",
    "    if(df[column].isnull().sum()>=(df.shape[0]/2)):\n",
    "        if(VERBOSE==True):\n",
    "            print(\"Column \", column, df[column].isnull().sum())\n",
    "        df = df.drop([column], axis=1)\n",
    "\n",
    "print(\"Dataset Shape with attributes with more than 50% missing data removed is \", df.shape)"
   ]
  },
  {
   "cell_type": "code",
   "execution_count": 8,
   "metadata": {
    "collapsed": false
   },
   "outputs": [
    {
     "name": "stdout",
     "output_type": "stream",
     "text": [
      "The top 5 remaining attributes with missing data are:\n"
     ]
    },
    {
     "data": {
      "text/plain": [
       "OtherPerCap       1\n",
       "PctOccupManu      0\n",
       "HispPerCap        0\n",
       "NumUnderPov       0\n",
       "PctPopUnderPov    0\n",
       "dtype: int64"
      ]
     },
     "execution_count": 8,
     "metadata": {},
     "output_type": "execute_result"
    }
   ],
   "source": [
    "print(\"The top 5 remaining attributes with missing data are:\")\n",
    "df.isnull().sum().sort_values(ascending=False).head(5)\n"
   ]
  },
  {
   "cell_type": "markdown",
   "metadata": {},
   "source": [
    "There is only one missing value remaining but lets impute it for the craic using code from the DePy_Talk notebook"
   ]
  },
  {
   "cell_type": "code",
   "execution_count": 9,
   "metadata": {
    "collapsed": false
   },
   "outputs": [
    {
     "name": "stdout",
     "output_type": "stream",
     "text": [
      "Cell with Missing Data was df['OtherPerCap'][130]\n",
      "Prior to imputing, the value of this cell was  nan\n",
      "Prior to imputing, the median of this attribute was  0.25 This value could have been used instead of using Simple Imputer\n",
      "Post imputing, the value of this cell is  0.2847415955845459\n"
     ]
    }
   ],
   "source": [
    "# The missing cell is cell[130]\n",
    "# The value before imputing is \"NaN\"\n",
    "pre_impute = df['OtherPerCap'][130]\n",
    "\n",
    "# One option to replace the missing data would be to use the median:\n",
    "miss_median = df['OtherPerCap'].median()\n",
    "\n",
    "# Since there is only a single missing value, using an Imputer is overkill.\n",
    "# However, it is used here for the sake of experimentation\n",
    "\n",
    "from sklearn.impute import SimpleImputer\n",
    "\n",
    "imp = SimpleImputer(missing_values=np.nan, strategy='mean')\n",
    "imp.fit(df) \n",
    "df = pd.DataFrame(data=imp.transform(df) , columns=df.columns)\n",
    "\n",
    "post_impute = df['OtherPerCap'][130]\n",
    "\n",
    "print(\"Cell with Missing Data was df['OtherPerCap'][130]\")\n",
    "print(\"Prior to imputing, the value of this cell was \",pre_impute)\n",
    "print(\"Prior to imputing, the median of this attribute was \", miss_median,\"This value could have been used instead of using Simple Imputer\")\n",
    "print(\"Post imputing, the value of this cell is \", post_impute)\n"
   ]
  },
  {
   "cell_type": "markdown",
   "metadata": {},
   "source": [
    "### Outlier Detection\n",
    "\n",
    "Outlier detection uses the Tukey IQR method presented in the DePy Notebook by April Chen[1]. The find_outliers_tukey() function is reused directly from this notebook.\n",
    "\n",
    "To allow comparision, the dataset without outliers removed is stored prior to outlier detection and removal. The dataset with outliers removed is also stored. This allows the regression algorithm to be run on both datasets and for the results to be compared"
   ]
  },
  {
   "cell_type": "code",
   "execution_count": 11,
   "metadata": {
    "collapsed": false
   },
   "outputs": [
    {
     "name": "stdout",
     "output_type": "stream",
     "text": [
      "Dataset Shape Before Outlier Removal is  (1994, 101)\n",
      "Dataset Shape After Outlier Removal is  (1884, 101)\n"
     ]
    }
   ],
   "source": [
    "# Store off original dataset without outlier detection and removal\n",
    "dataset = df.values\n",
    "\n",
    "# From DePy_Talk Notebook[1]\n",
    "def find_outliers_tukey(x):\n",
    "    q1 = np.percentile(x, 25)\n",
    "    q3 = np.percentile(x, 75)\n",
    "    iqr = q3-q1\n",
    "    floor = q1 - 1.5*iqr\n",
    "    ceiling = q3 + 1.5*iqr\n",
    "    outlier_indices = list(x.index[(x < floor)|(x > ceiling)])\n",
    "    outlier_values = list(x[outlier_indices])\n",
    "    \n",
    "    return outlier_indices, outlier_values\n",
    "\n",
    "# Get the indices and values for the outliers in the Goal columns\n",
    "tukey_indices, tukey_values = find_outliers_tukey(df['ViolentCrimesPerPop'])\n",
    "\n",
    "print(\"Dataset Shape Before Outlier Removal is \", df.shape)\n",
    "\n",
    "if(VERBOSE==True):\n",
    "    print(\"Outliers = \",len(tukey_indices), \"out of \",len(df['ViolentCrimesPerPop']), \"in ViolentCrimesPerPop Column\")\n",
    "\n",
    "for i in range(len(tukey_indices)):\n",
    "    # Drop row containing the outlier\n",
    "    df = df.drop([tukey_indices[i]], axis=0)\n",
    "    if(VERBOSE==True):\n",
    "        print(\"i : \", i, \"Index\", tukey_indices[i], \"Value\", tukey_values[i])\n",
    "    \n",
    "print(\"Dataset Shape After Outlier Removal is \", df.shape)\n",
    "\n",
    "# Store dataset with outliers removed using Tukey IQR method\n",
    "tukey_dataset = df.values"
   ]
  },
  {
   "cell_type": "markdown",
   "metadata": {
    "collapsed": true
   },
   "source": [
    "### Split Up Dataset\n",
    "\n",
    "Use train_test_split() to split the dataset into a Training Set and a Test Set. The split is determined by the parameter TEST_SIZE"
   ]
  },
  {
   "cell_type": "code",
   "execution_count": 12,
   "metadata": {
    "collapsed": false
   },
   "outputs": [],
   "source": [
    "# The Dataset shape is (1994, 101). THe first 100 columns are the attributes and the final column is the goal \n",
    "X = dataset[:, 0:100]\n",
    "y = dataset[:, 100]\n",
    "\n",
    "from sklearn.model_selection import train_test_split \n",
    "\n",
    "X_train, X_test, y_train, y_test = train_test_split(X, y, test_size=TEST_SIZE, random_state=SEED) "
   ]
  },
  {
   "cell_type": "markdown",
   "metadata": {},
   "source": [
    "### Scale the Dataset\n",
    "\n",
    "Scaling was introduced in Lab 3 of CE4031 Deep Learning module. The scaling performed here follows the method outlined in that lab.\n",
    "\n",
    "StandardScaler() is used to standardize the features by removing the mean and scaling to unit variance\n",
    "\n",
    "The fit function is first used on the training data to calculate the mean and the standard deviation. The transform function is then applied independently to the training data and the test data\n"
   ]
  },
  {
   "cell_type": "code",
   "execution_count": 13,
   "metadata": {
    "collapsed": false
   },
   "outputs": [],
   "source": [
    "# Scale the dataset\n",
    "from sklearn.preprocessing import StandardScaler \n",
    "# Scale the data with respect to the training data set \n",
    "scaler = StandardScaler() \n",
    "scaler.fit(X_train) \n",
    "\n",
    "X_scaled_train = scaler.transform(X_train) \n",
    "# Scaling the test set using the transform defined by the train set. \n",
    "X_scaled_test = scaler.transform(X_test) "
   ]
  },
  {
   "cell_type": "markdown",
   "metadata": {},
   "source": [
    "### Lasso Model\n",
    "\n",
    "Lasso stands for Least Absolute Shrinkage and Selection Operator and is a regression algorithm available in within SciKit Learn. Details are available at <a href=\"https://en.wikipedia.org/wiki/Lasso_(statistics)\">[3]</a>\n",
    "\n",
    "Lasso is a linear model trained with l1 prior as a regularizer. The regularization is controlled by the constant alpha. Alpha can vary between 0 and 1. A quick survey of reference implementations of Lasso show a value of alpha=0.1 being most commonly used. This is used here initially but subsequently will be improved upon using a grid search with LassoCV\n"
   ]
  },
  {
   "cell_type": "code",
   "execution_count": 14,
   "metadata": {
    "collapsed": false
   },
   "outputs": [
    {
     "data": {
      "text/plain": [
       "Lasso(alpha=0.1, copy_X=True, fit_intercept=True, max_iter=1000,\n",
       "   normalize=False, positive=False, precompute=False, random_state=None,\n",
       "   selection='cyclic', tol=0.0001, warm_start=False)"
      ]
     },
     "execution_count": 14,
     "metadata": {},
     "output_type": "execute_result"
    }
   ],
   "source": [
    "from sklearn import linear_model\n",
    "clf = linear_model.Lasso(alpha=0.1)\n",
    "clf.fit(X_scaled_train, y_train)"
   ]
  },
  {
   "cell_type": "code",
   "execution_count": 16,
   "metadata": {
    "collapsed": false
   },
   "outputs": [],
   "source": [
    "#### Function to Print Model Scores\n",
    "\n",
    "from sklearn.metrics import mean_absolute_error\n",
    "from sklearn.metrics import mean_squared_error\n",
    "from sklearn.metrics import r2_score\n",
    "\n",
    "def print_model_scores(y_hat, y, print_scores=True):\n",
    "    mae = mean_absolute_error(y, y_hat)\n",
    "    mse = mean_squared_error(y, y_hat)\n",
    "    r2s = r2_score(y, y_hat)\n",
    "    if(print_scores==True):\n",
    "        print(\"MAE       :\", mae)\n",
    "        print(\"MSE       :\", mse)\n",
    "        print(\"R^2 Score :\",r2s)\n",
    "    \n",
    "    return mae, mse, r2s"
   ]
  },
  {
   "cell_type": "code",
   "execution_count": 17,
   "metadata": {
    "collapsed": false
   },
   "outputs": [
    {
     "name": "stdout",
     "output_type": "stream",
     "text": [
      "Lasso Model Train Accuracy\n",
      "MAE       : 0.1356003604079766\n",
      "MSE       : 0.033043271455379934\n",
      "R^2 Score : 0.40135360420320854\n"
     ]
    },
    {
     "data": {
      "text/plain": [
       "(0.1356003604079766, 0.033043271455379934, 0.40135360420320854)"
      ]
     },
     "execution_count": 17,
     "metadata": {},
     "output_type": "execute_result"
    }
   ],
   "source": [
    "# Determine accuracy using the train set\n",
    "y_hat_train = clf.predict(X_scaled_train)\n",
    "\n",
    "print(\"Lasso Model Train Accuracy\")\n",
    "print_model_scores(y_hat_train, y_train)"
   ]
  },
  {
   "cell_type": "code",
   "execution_count": 19,
   "metadata": {
    "collapsed": false
   },
   "outputs": [
    {
     "name": "stdout",
     "output_type": "stream",
     "text": [
      "Lasso Model Test Accuracy\n",
      "MAE       : 0.13419270424585658\n",
      "MSE       : 0.03175659751346362\n",
      "R^2 Score : 0.3895474282936744\n"
     ]
    },
    {
     "data": {
      "text/plain": [
       "(0.13419270424585658, 0.03175659751346362, 0.3895474282936744)"
      ]
     },
     "execution_count": 19,
     "metadata": {},
     "output_type": "execute_result"
    }
   ],
   "source": [
    "# Determine the accuracy using the test test\n",
    "y_hat = clf.predict(X_scaled_test)\n",
    "\n",
    "print(\"Lasso Model Test Accuracy\")\n",
    "print_model_scores(y_hat, y_test)"
   ]
  },
  {
   "cell_type": "markdown",
   "metadata": {},
   "source": [
    "### Gridsearch\n",
    "\n",
    "The initial Lasso model used an alpha value of 0.1. This value was not determined experimentally and instead was used as it is the most common value in reference implementations.\n",
    "\n",
    "SciKit-Learn provides a cross-validation option for using Lasso, LassoCV(), that sets the Lasso alpha value by iterating through a number of values and then selecting the value of alpha that delivers the best model"
   ]
  },
  {
   "cell_type": "code",
   "execution_count": 20,
   "metadata": {
    "collapsed": false
   },
   "outputs": [
    {
     "name": "stdout",
     "output_type": "stream",
     "text": [
      "The value of Alpha determined by cross validation is  0.000498969217524633\n",
      "Lasso CV Model Train Accuracy\n",
      "MAE       : 0.1356003604079766\n",
      "MSE       : 0.033043271455379934\n",
      "R^2 Score : 0.40135360420320854\n"
     ]
    },
    {
     "data": {
      "text/plain": [
       "(0.1356003604079766, 0.033043271455379934, 0.40135360420320854)"
      ]
     },
     "execution_count": 20,
     "metadata": {},
     "output_type": "execute_result"
    }
   ],
   "source": [
    "from sklearn.linear_model import LassoCV\n",
    "lasso_cv = LassoCV(alphas = None, cv = 10, max_iter = 100000, random_state=SEED) \n",
    "lasso_cv.fit(X_scaled_train, y_train)\n",
    "print(\"The value of Alpha determined by cross validation is \", lasso_cv.alpha_)\n",
    "\n",
    "\n",
    "# Determine accuracy using the train set\n",
    "y_hat_cv_train = clf.predict(X_scaled_train)\n",
    "\n",
    "print(\"Lasso CV Model Train Accuracy\")\n",
    "print_model_scores(y_hat_cv_train, y_train)"
   ]
  },
  {
   "cell_type": "code",
   "execution_count": 21,
   "metadata": {
    "collapsed": false
   },
   "outputs": [
    {
     "name": "stdout",
     "output_type": "stream",
     "text": [
      "Lasso Model Test Accuracy\n",
      "MAE       : 0.09352252159300008\n",
      "MSE       : 0.018937740495832415\n",
      "R^2 Score : 0.6359624993487838\n"
     ]
    },
    {
     "data": {
      "text/plain": [
       "(0.09352252159300008, 0.018937740495832415, 0.6359624993487838)"
      ]
     },
     "execution_count": 21,
     "metadata": {},
     "output_type": "execute_result"
    }
   ],
   "source": [
    "y_hat_cv = lasso_cv.predict(X_scaled_test)\n",
    "\n",
    "print(\"Lasso Model Test Accuracy\")\n",
    "print_model_scores(y_hat_cv, y_test)"
   ]
  },
  {
   "cell_type": "markdown",
   "metadata": {},
   "source": [
    "### PCA"
   ]
  },
  {
   "cell_type": "code",
   "execution_count": 33,
   "metadata": {
    "collapsed": false
   },
   "outputs": [],
   "source": [
    "from sklearn.decomposition import PCA \n",
    "pca = PCA()\n",
    "pca.fit(X_scaled_train)\n",
    "X_pca_train = pca.transform(X_scaled_train)\n",
    "X_pca_test = pca.transform(X_scaled_test)\n",
    "\n",
    "# n_components_pca = 0\n",
    "\n",
    "# percent_contrib = COMPONENT_PCT\n",
    "\n",
    "# for i in range(len(pca.explained_variance_)):\n",
    "#     if(pca.explained_variance_ratio_[i]>=(percent_contrib/100)):\n",
    "#         n_components_pca+=1\n",
    "# print(\"Number of PCA components that contribute >=\",percent_contrib,\"% of variance is \",n_components_pca)\n",
    "\n",
    "# pca_red = PCA(n_components=n_components_pca)\n",
    "# pca_red.fit(X_scaled_train)\n",
    "# X_pca_red_train = pca_red.transform(X_scaled_train)\n",
    "# X_pca_red_test = pca_red.transform(X_scaled_test)\n",
    "# print(pca_red.explained_variance_)\n",
    "# print(len(pca_red.explained_variance_))\n",
    "# print(X_pca_red_train.shape)\n",
    "# print(X_pca_red_test.shape)\n",
    "# print(type(pca_red.explained_variance_))\n",
    "# print(pca_red.explained_variance_.sum())\n",
    "# print(pca_red.explained_variance_ratio_)\n",
    "    "
   ]
  },
  {
   "cell_type": "code",
   "execution_count": 46,
   "metadata": {
    "collapsed": false
   },
   "outputs": [
    {
     "data": {
      "image/png": "[encoded data removed]",
      "text/plain": [
       "<Figure size 864x648 with 1 Axes>"
      ]
     },
     "metadata": {},
     "output_type": "display_data"
    },
    {
     "name": "stdout",
     "output_type": "stream",
     "text": [
      "The explained variance ratio shows how much each component contributes to overall variance.\n",
      "The total overall variance is 1.0\n",
      "The first component of the PCA analysis contributes over 25% of the total variance\n",
      "After about 20 components, the amount of variance contributed by each component starts getting to 1% or less\n"
     ]
    }
   ],
   "source": [
    "# Adjust Size of Figures\n",
    "plt.rcParams[\"figure.figsize\"] = (12,9)\n",
    "\n",
    "\n",
    "plt.title('pca.explained_variance_ratio_')\n",
    "plt.ylabel('pca.explained_variance_ratio_')\n",
    "plt.xlabel('Component')\n",
    "plt.plot(pca.explained_variance_ratio_, 'or')\n",
    "plt.show()\n",
    "\n",
    "print(\"The explained variance ratio shows how much each component contributes to overall variance.\")\n",
    "print(\"The total overall variance is 1.0\")\n",
    "print(\"The first component of the PCA analysis contributes over 25% of the total variance\")\n",
    "print(\"After about 20 components, the amount of variance contributed by each component starts getting to 1% or less\")\n",
    "\n"
   ]
  },
  {
   "cell_type": "code",
   "execution_count": 77,
   "metadata": {
    "collapsed": false
   },
   "outputs": [
    {
     "data": {
      "image/png": "[encoded data removed]",
      "text/plain": [
       "<Figure size 864x648 with 1 Axes>"
      ]
     },
     "metadata": {},
     "output_type": "display_data"
    },
    {
     "name": "stdout",
     "output_type": "stream",
     "text": [
      "The plot shows the total variance contributed by n components\n",
      "For example, if all 100 components are included, then 100% of the variance is contributed\n",
      "However, you can see that if just 10 components are included, 80% of the variance is contributed\n",
      "Similarly, by including the first 22 components from PCA, 90% of the variance is contributed\n",
      "To get to 95%, 33 components need to be included. \n",
      "The remaining 5% requires an additional 67 components to be included\n"
     ]
    }
   ],
   "source": [
    "explained_variance_sum = np.zeros(len(pca.explained_variance_ratio_))\n",
    "\n",
    "ratio_spread = np.zeros(8)\n",
    "ratios = ['>50% Variance', '>25% Variance', '>10% Variance', '>5% Variance', '>2% Variance', '>1% Variance', '>0.5%Variance', '<0.5% Variance']\n",
    "\n",
    "for i in range(len(pca.explained_variance_ratio_)):\n",
    "    if(i==0):\n",
    "        explained_variance_sum[0] = pca.explained_variance_ratio_[0]\n",
    "    else:\n",
    "        explained_variance_sum[i] = explained_variance_sum[i-1] + pca.explained_variance_ratio_[i]\n",
    "    if(pca.explained_variance_ratio_[i]>=0.5):\n",
    "        ratio_spread[0]+=1\n",
    "    if(pca.explained_variance_ratio_[i]>=0.25):\n",
    "        ratio_spread[1]+=1\n",
    "    if(pca.explained_variance_ratio_[i]>=0.1):\n",
    "        ratio_spread[2]+=1\n",
    "    if(pca.explained_variance_ratio_[i]>=0.05):\n",
    "        ratio_spread[3]+=1\n",
    "    if(pca.explained_variance_ratio_[i]>=0.02):\n",
    "        ratio_spread[4]+=1\n",
    "    if(pca.explained_variance_ratio_[i]>=0.01):\n",
    "        ratio_spread[5]+=1\n",
    "    if(pca.explained_variance_ratio_[i]>=0.005):\n",
    "        ratio_spread[6]+=1\n",
    "    if(pca.explained_variance_ratio_[i]<0.005):\n",
    "        ratio_spread[7]+=1\n",
    "    if(VERBOSE==True):\n",
    "        print(\"i\", i, \"value\", explained_variance_sum[i])\n",
    "    \n",
    "plt.title('Total Variance Contributed by n Components')\n",
    "plt.ylabel('Total Variance Contributed')\n",
    "plt.xlabel('Number of Component Included (n)')\n",
    "plt.plot(explained_variance_sum, 'or')\n",
    "plt.axhline(0.8, color='k', linestyle='dashed', linewidth=2, label='80% of variance')\n",
    "plt.axhline(0.9, color='g', linestyle='dashed', linewidth=2, label='90% of variance')\n",
    "plt.axhline(0.95, color='b', linestyle='dashed', linewidth=2, label='95% of variance')\n",
    "plt.axhline(1.0, color='y', linestyle='dashed', linewidth=2, label='100% of variance')\n",
    "plt.axvline(10, color='k', linestyle='solid', linewidth=2, label='n = 10')\n",
    "plt.axvline(22, color='g', linestyle='solid', linewidth=2, label='n = 22')\n",
    "plt.axvline(33, color='b', linestyle='solid', linewidth=2, label='n = 33')\n",
    "plt.axvline(100, color='y', linestyle='solid', linewidth=2, label='n = 100')\n",
    "plt.figlegend()\n",
    "plt.show()\n",
    "\n",
    "print(\"The plot shows the total variance contributed by n components\")\n",
    "print(\"For example, if all 100 components are included, then 100% of the variance is contributed\")\n",
    "print(\"However, you can see that if just 10 components are included, 80% of the variance is contributed\")\n",
    "print(\"Similarly, by including the first 22 components from PCA, 90% of the variance is contributed\")\n",
    "print(\"To get to 95%, 33 components need to be included. \\nThe remaining 5% requires an additional 67 components to be included\")\n",
    "\n"
   ]
  },
  {
   "cell_type": "code",
   "execution_count": 88,
   "metadata": {
    "collapsed": false
   },
   "outputs": [
    {
     "data": {
      "image/png": "[encoded data removed]",
      "text/plain": [
       "<Figure size 864x648 with 1 Axes>"
      ]
     },
     "metadata": {},
     "output_type": "display_data"
    }
   ],
   "source": [
    "plt.bar([1,2,3,4,5,6,7,8],ratio_spread,facecolor='green', edgecolor='black')\n",
    "plt.ylabel('Number of Components')\n",
    "plt.title('Distribution of Number of Components That Contribute More Than x% of Variance')\n",
    "# From https://stackoverflow.com/questions/12998430/remove-xticks-in-a-matplotlib-plot\n",
    "# Remove ticks and labels from X-axis\n",
    "plt.tick_params(\n",
    "    axis='x',          # changes apply to the x-axis\n",
    "    which='both',      # both major and minor ticks are affected\n",
    "    bottom=False,      # ticks along the bottom edge are off\n",
    "    top=False,         # ticks along the top edge are off\n",
    "    labelbottom=False) # labels along the bottom edge are off\n",
    "the_table = plt.table(cellText=(ratio_spread.astype(int).reshape(1,8)),colLabels=ratios,loc='bottom')\n",
    "# From https://stackoverflow.com/questions/9932072/matplotlib-table-formatting\n",
    "# Adjust cell height\n",
    "table_props = the_table.properties()\n",
    "table_cells = table_props['child_artists']\n",
    "for cell in table_cells: cell.set_height(0.1)\n",
    "plt.show()\n",
    "\n"
   ]
  },
  {
   "cell_type": "code",
   "execution_count": 80,
   "metadata": {
    "collapsed": false
   },
   "outputs": [
    {
     "name": "stdout",
     "output_type": "stream",
     "text": [
      "Number of PCA components that contribute >= 0.5 % of variance is  24\n",
      "These components contribute 91.08888345825598 % of the total variance\n"
     ]
    }
   ],
   "source": [
    "n_components_pca = 0\n",
    "\n",
    "percent_contrib = COMPONENT_PCT\n",
    "\n",
    "# Determine the number of components that contribute more than 'percent_contrib' of variance and use this for the PCA value\n",
    "for i in range(len(pca.explained_variance_)):\n",
    "    if(pca.explained_variance_ratio_[i]>=(percent_contrib/100)):\n",
    "        n_components_pca+=1\n",
    "print(\"Number of PCA components that contribute >=\",percent_contrib,\"% of variance is \",n_components_pca)\n",
    "print(\"These components contribute\", pca_red.explained_variance_.sum(), \"% of the total variance\" )\n",
    "\n",
    "pca_red = PCA(n_components=n_components_pca)\n",
    "pca_red.fit(X_scaled_train)\n",
    "X_pca_red_train = pca_red.transform(X_scaled_train)\n",
    "X_pca_red_test = pca_red.transform(X_scaled_test)\n",
    "if (VERBOSE==True):\n",
    "    print(pca_red.explained_variance_)\n",
    "    print(len(pca_red.explained_variance_))\n",
    "    print(X_pca_red_train.shape)\n",
    "    print(X_pca_red_test.shape)\n",
    "    print(type(pca_red.explained_variance_))\n",
    "    print(pca_red.explained_variance_.sum())\n"
   ]
  },
  {
   "cell_type": "code",
   "execution_count": 84,
   "metadata": {
    "collapsed": false
   },
   "outputs": [
    {
     "name": "stdout",
     "output_type": "stream",
     "text": [
      "Lasso Model Score on PCA-reduced Data Using Alpha= 0.1\n",
      "MAE       : 0.11629493276302312\n",
      "MSE       : 0.02679438384848385\n",
      "R^2 Score : 0.4849353580572111\n"
     ]
    },
    {
     "data": {
      "text/plain": [
       "(0.11629493276302312, 0.02679438384848385, 0.4849353580572111)"
      ]
     },
     "execution_count": 84,
     "metadata": {},
     "output_type": "execute_result"
    }
   ],
   "source": [
    "clf_pca = linear_model.Lasso(alpha=0.1)\n",
    "clf_pca.fit(X_pca_red_train, y_train)\n",
    "y_pca_red_hat = clf_pca.predict(X_pca_red_test)\n",
    "\n",
    "if(VERBOSE==True):\n",
    "    print(y_pca_red_hat.shape)\n",
    "    print(y_test.shape)\n",
    "    print(y_pca_red_hat[0:5])\n",
    "    print(y_test[0:5])\n",
    "    print(clf_pca.score(X_pca_red_test,y_test))\n",
    "\n",
    "print(\"Lasso Model Score on PCA-reduced Data Using Alpha=\",\"0.1\")\n",
    "print_model_scores(y_pca_red_hat, y_test)\n"
   ]
  },
  {
   "cell_type": "code",
   "execution_count": 85,
   "metadata": {
    "collapsed": false
   },
   "outputs": [
    {
     "name": "stdout",
     "output_type": "stream",
     "text": [
      "0.0018467488631618402\n",
      "Lasso CV Model Score on PCA-reduced Data Using Alpha= 0.0018467488631618402\n",
      "MAE       : 0.09510153221138339\n",
      "MSE       : 0.019470631871788296\n",
      "R^2 Score : 0.6257188039795154\n"
     ]
    },
    {
     "data": {
      "text/plain": [
       "(0.09510153221138339, 0.019470631871788296, 0.6257188039795154)"
      ]
     },
     "execution_count": 85,
     "metadata": {},
     "output_type": "execute_result"
    }
   ],
   "source": [
    "lasso_pca_cv = LassoCV(alphas = None, cv = 10, max_iter = 1000, random_state=SEED) \n",
    "lasso_pca_cv.fit(X_pca_red_train, y_train)\n",
    "\n",
    "print(lasso_pca_cv.alpha_)\n",
    "\n",
    "y_pca_red_hat_cv = lasso_pca_cv.predict(X_pca_red_test)\n",
    "if(VERBOSE==True):\n",
    "    print(y_pca_red_hat_cv[0:20])\n",
    "    print(y_test[0:20])\n",
    "\n",
    "print(\"Lasso CV Model Score on PCA-reduced Data Using Alpha=\",lasso_pca_cv.alpha_)\n",
    "print_model_scores(y_pca_red_hat_cv, y_test)"
   ]
  },
  {
   "cell_type": "markdown",
   "metadata": {
    "collapsed": true
   },
   "source": [
    "### Finally we will visualize the results by comparing predictive power of n_components classifier, original_classifier and the classifier after grid search"
   ]
  },
  {
   "cell_type": "code",
   "execution_count": 45,
   "metadata": {
    "collapsed": false
   },
   "outputs": [
    {
     "data": {
      "image/png": "[encoded data removed]",
      "text/plain": [
       "<Figure size 432x288 with 1 Axes>"
      ]
     },
     "metadata": {},
     "output_type": "display_data"
    },
    {
     "name": "stdout",
     "output_type": "stream",
     "text": [
      "original_regression: 0.13419270424585658\n",
      "regression after grid search: 0.09352252159300008\n",
      "regression after PCA: 0.11629496527175333\n",
      "regression after PCA and grid search: 0.09348122155161291\n"
     ]
    },
    {
     "data": {
      "image/png": "[encoded data removed]",
      "text/plain": [
       "<Figure size 432x288 with 1 Axes>"
      ]
     },
     "metadata": {},
     "output_type": "display_data"
    },
    {
     "name": "stdout",
     "output_type": "stream",
     "text": [
      "original_regression: 0.03175659751346362\n",
      "regression after grid search: 0.018937740495832415\n",
      "regression after PCA: 0.026794396120327812\n",
      "regression after PCA and grid search: 0.018743840953422887\n"
     ]
    },
    {
     "data": {
      "image/png": "[encoded data removed]",
      "text/plain": [
       "<Figure size 432x288 with 1 Axes>"
      ]
     },
     "metadata": {},
     "output_type": "display_data"
    },
    {
     "name": "stdout",
     "output_type": "stream",
     "text": [
      "original_regression: 0.3895474282936744\n",
      "regression after grid search: 0.6359624993487838\n",
      "regression after PCA: 0.4849351221572945\n",
      "regression after PCA and grid search: 0.639689802762394\n"
     ]
    }
   ],
   "source": [
    "pca_for_count_of_components = PCA()\n",
    "pca_for_count_of_components.fit(X_scaled_train)\n",
    "total_components = len(pca.explained_variance_)\n",
    "pca_results_n_components_lasso = []\n",
    "pca_results_n_components_lasso_cv = []\n",
    "\n",
    "for i in range(total_components):\n",
    "    pca_n = PCA(n_components=i+1)\n",
    "    pca_n.fit(X_scaled_train)\n",
    "    X_pca_n_train = pca_n.transform(X_scaled_train)\n",
    "    X_pca_n_test = pca_n.transform(X_scaled_test)\n",
    "    clf_pca = linear_model.Lasso(alpha=0.1)\n",
    "    clf_pca.fit(X_pca_n_train, y_train)\n",
    "    y_n_hat = clf_pca.predict(X_pca_n_test)\n",
    "    #mae = mean_absolute_error(y_test, y_n_hat)\n",
    "    #mse = mean_squared_error(y_test, y_n_hat)\n",
    "    #r2s = r2_score(y_test, y_n_hat)\n",
    "    mae, mse, r2s = print_model_scores(y_n_hat, y_test, print_scores=False)\n",
    "    pca_results_n_components_lasso.append((mae,mse,r2s))\n",
    "    \n",
    "    lasso_pca_cv_n = LassoCV(alphas = None, cv = 10, max_iter = 1000, random_state=SEED) \n",
    "    lasso_pca_cv_n.fit(X_pca_n_train, y_train)\n",
    "    y_n_hat_cv = lasso_pca_cv_n.predict(X_pca_n_test)\n",
    "    #mae_cv = mean_absolute_error(y_test, y_n_hat_cv)\n",
    "    #mse_cv = mean_squared_error(y_test, y_n_hat_cv)\n",
    "    #r2s_cv = r2_score(y_test, y_n_hat_cv)\n",
    "    mae_cv, mse_cv, r2s_cv = print_model_scores(y_n_hat_cv, y_test, print_scores=False)\n",
    "    pca_results_n_components_lasso_cv.append((mae_cv,mse_cv,r2s_cv))\n",
    "    \n",
    "    \n",
    "maes, mses, r2ss = zip(*pca_results_n_components_lasso)\n",
    "maes_cv, mses_cv, r2ss_cv = zip(*pca_results_n_components_lasso_cv)\n",
    "\n",
    "#from matplotlib.pylab import plt #load plot library\n",
    "# indicate the output of plotting function is printed to the notebook\n",
    "%matplotlib inline \n",
    "\n",
    "\n",
    "#mae_original =  mean_absolute_error(y_test, y_hat)\n",
    "#mse_original =  mean_squared_error(y_test, y_hat)\n",
    "#r2s_original = r2_score(y_test, y_hat)\n",
    "mae_original, mse_original, r2s_original = print_model_scores(y_hat, y_test, print_scores=False)\n",
    "\n",
    "#mae_cv =  mean_absolute_error(y_test, y_hat_cv)\n",
    "#mse_cv =  mean_squared_error(y_test, y_hat_cv)\n",
    "#r2s_cv = r2_score(y_test, y_hat_cv)\n",
    "mae_cv, mse_cv, r2s_cv = print_model_scores(y_hat_cv, y_test, print_scores=False)\n",
    "\n",
    "plt.title(\"absolute errors\")\n",
    "plt.xlabel(\"n_components\")\n",
    "plt.axhline(y=mae_original, color='r', linestyle='-', label=\"original regression\")\n",
    "plt.axhline(y=mae_cv, color='g', linestyle='-.', label=\"regression after grid search\")\n",
    "plt.plot(maes, color='b', label=\"lasso regression after PCA\")\n",
    "plt.plot(maes_cv, color='y', label=\"lasso regression after PCA and grid search\")\n",
    "plt.legend(loc='best')\n",
    "plt.show()\n",
    "print(\"original_regression: {}\".format(mae_original))\n",
    "print(\"regression after grid search: {}\".format(mae_cv))\n",
    "print(\"regression after PCA: {}\".format(maes[-1]))\n",
    "print(\"regression after PCA and grid search: {}\".format(maes_cv[-1]))\n",
    "\n",
    "plt.title(\"mean square error\")\n",
    "plt.xlabel(\"n_components\")\n",
    "plt.axhline(y=mse_original, color='r', linestyle='-', label=\"original regression\")\n",
    "plt.axhline(y=mse_cv, color='g', linestyle='-.', label=\"regression after grid search\")\n",
    "plt.plot(mses, color='b', label=\"lasso regression after PCA\")\n",
    "plt.plot(mses_cv, color='y', label=\"lasso regression after PCA and grid search\")\n",
    "plt.legend(loc='best')\n",
    "plt.show()\n",
    "print(\"original_regression: {}\".format(mse_original))\n",
    "print(\"regression after grid search: {}\".format(mse_cv))\n",
    "print(\"regression after PCA: {}\".format(mses[-1]))\n",
    "print(\"regression after PCA and grid search: {}\".format(mses_cv[-1]))\n",
    "\n",
    "plt.title(\"r2 scores\")\n",
    "plt.xlabel(\"n_components\")\n",
    "plt.axhline(y=r2s_original, color='r', linestyle='-', label=\"original regression\")\n",
    "plt.axhline(y=r2s_cv, color='g', linestyle='-.', label=\"regression after grid search\")\n",
    "plt.plot(r2ss, color='b', label=\"lasso regression after PCA\")\n",
    "plt.plot(r2ss_cv, color='y', label=\"lasso regression after PCA and grid search\")\n",
    "plt.legend(loc='best')\n",
    "plt.show()\n",
    "print(\"original_regression: {}\".format(r2s_original))\n",
    "print(\"regression after grid search: {}\".format(r2s_cv))\n",
    "print(\"regression after PCA: {}\".format(r2ss[-1]))\n",
    "print(\"regression after PCA and grid search: {}\".format(r2ss_cv[-1]))"
   ]
  },
  {
   "cell_type": "markdown",
   "metadata": {},
   "source": [
    "#### References\n",
    "* [1] [Depy 2016 Talk: Pre-Modeling: Data Preprocessing and Feature Exploration in Python Notebook](https://github.com/aprilypchen/depy2016/blob/master/DePy_Talk.ipynb)\n",
    "* [2] [amclean3695's Communities-and-Crime Notebook](https://github.com/amclean3695/Communities-and-Crime/blob/master/Communities_and_Crime.ipynb)\n",
    "* [3] <a href=\"https://en.wikipedia.org/wiki/Lasso_(statistics)\">LASSO Algorithm Wikipedia Entry</a>\n"
   ]
  },
  {
   "cell_type": "code",
   "execution_count": null,
   "metadata": {
    "collapsed": true
   },
   "outputs": [],
   "source": []
  }
 ],
 "metadata": {
  "kernelspec": {
   "display_name": "Python 3.6",
   "language": "python",
   "name": "python3.6"
  },
  "language_info": {
   "codemirror_mode": {
    "name": "ipython",
    "version": 3
   },
   "file_extension": ".py",
   "mimetype": "text/x-python",
   "name": "python",
   "nbconvert_exporter": "python",
   "pygments_lexer": "ipython3",
   "version": "3.6.6"
  }
 },
 "nbformat": 4,
 "nbformat_minor": 1
}
