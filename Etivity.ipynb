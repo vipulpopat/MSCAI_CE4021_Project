{
 "cells": [
  {
   "cell_type": "markdown",
   "metadata": {},
   "source": [
    "#Student Name:\n",
    "#Student ID:\n",
    "\n",
    "#Student Name:\n",
    "#Student ID:\n",
    "\n",
    "#Student Name:\n",
    "#Student ID:\n",
    "\n",
    "#Student Name:\n",
    "#Student ID:"
   ]
  },
  {
   "cell_type": "code",
   "execution_count": 197,
   "metadata": {
    "collapsed": true
   },
   "outputs": [],
   "source": [
    "import numpy as np\n",
    "import pandas as pd\n",
    "import matplotlib.pyplot as plt\n",
    "import re"
   ]
  },
  {
   "cell_type": "markdown",
   "metadata": {},
   "source": [
    "### Parameters\n",
    "* SEED : Used as value for functions that take a random seed as an argument. The function of this parameter is to ensure repeatability between runs of the notebook\n",
    "* TEST_SIZE : Used to determine the split of the dataset into a Test set and a Training Set. Needs to be specified as a float between 0.0 and 1.0\n",
    "* VERBOSE : Enables higher verbosity for debug etc\n",
    "* COMPONENT_PCT : Determines the percentage of variance that each component must contribute to be included after applying PCA\n",
    "* ALPHA : Parameter used by Lasso Regression Algorithm\n",
    "* NUM_RESULTS : Number of Test Results to be Stored in Result Array"
   ]
  },
  {
   "cell_type": "code",
   "execution_count": 198,
   "metadata": {
    "collapsed": true
   },
   "outputs": [],
   "source": [
    "SEED = 1\n",
    "\n",
    "TEST_SIZE = 0.3\n",
    "\n",
    "VERBOSE = False\n",
    "\n",
    "COMPONENT_PCT = 0.5 # Half a percent\n",
    "\n",
    "ALPHA = 0.05\n",
    "\n",
    "NUM_RESULTS = 8"
   ]
  },
  {
   "cell_type": "code",
   "execution_count": 199,
   "metadata": {
    "collapsed": false
   },
   "outputs": [],
   "source": [
    "# Numpy Arrays\n",
    "# Indices:\n",
    "# [0] = Lasso on Original Dataset\n",
    "# [1] = LassoCV on Original Dataset\n",
    "# [2] = Lasso on PCA Dataset\n",
    "# [3] = LassoCV on PCA Dataset\n",
    "# [4] = Lasso on Tukey IQR Dataset\n",
    "# [5] = LassoCV on Tukey IQR Dataset\n",
    "# [6] = Lasso on Tukey IQR with PCA Dataset\n",
    "# [7] = LassoCV on Tukey IQR with PCA Dataset\n",
    "\n",
    "train_mae = np.zeros(NUM_RESULTS)\n",
    "train_mse = np.zeros(NUM_RESULTS)\n",
    "train_r2s = np.zeros(NUM_RESULTS)\n",
    "\n",
    "test_mae = np.zeros(NUM_RESULTS)\n",
    "test_mse = np.zeros(NUM_RESULTS)\n",
    "test_r2s = np.zeros(NUM_RESULTS)\n",
    "\n",
    "alphas   = np.zeros(NUM_RESULTS)\n"
   ]
  },
  {
   "cell_type": "markdown",
   "metadata": {},
   "source": [
    "### Dataset\n",
    "Import the UCI Communities and Crimes dataset using Pandas\n",
    "Details on the dataset is available at the following [link](http://archive.ics.uci.edu/ml/machine-learning-databases/communities/communities.data)"
   ]
  },
  {
   "cell_type": "code",
   "execution_count": 200,
   "metadata": {
    "collapsed": true
   },
   "outputs": [],
   "source": [
    "# Following code is from https://github.com/amclean3695/Communities-and-Crime/blob/master/Communities_and_Crime.ipynb\n",
    "# TODO : See is there any other means for pulling column names from C45 file format\n",
    "#Reads in names from textfile and performs regex to extract the attribute names \n",
    "textfile = open('communities.names','r')\n",
    "filetext = textfile.read()\n",
    "textfile.close()\n",
    "matches = re.findall(r'-{2}\\s(\\w+)\\:{1}', filetext)\n",
    "col_names = matches[2:] #corresponds to the 128 attributes"
   ]
  },
  {
   "cell_type": "code",
   "execution_count": 201,
   "metadata": {
    "collapsed": false
   },
   "outputs": [
    {
     "name": "stdout",
     "output_type": "stream",
     "text": [
      "Original Dataset Shape is  (1994, 128)\n"
     ]
    }
   ],
   "source": [
    "df = pd.read_csv('communities.data', header=None, names=col_names)\n",
    "\n",
    "#data_url = 'http://archive.ics.uci.edu/ml/machine-learning-databases/communities/communities.data'\n",
    "#df = pd.read_csv(data_url, header=None)\n",
    "# The above code does not work as PythonAnywhere blocks outgoing connections for free accounts to non-whitelisted sites\n",
    "\n",
    "print(\"Original Dataset Shape is \", df.shape)\n"
   ]
  },
  {
   "cell_type": "markdown",
   "metadata": {},
   "source": [
    "### Remove Non-Predictive Attributes\n",
    "\n",
    "Of the 128 attributes loaded, for this dataset it is stated that:\n",
    "\n",
    "Attribute Information: (122 predictive, 5 non-predictive, 1 goal) \n",
    "* state: US state (by number) - not counted as predictive above, but if considered, should be consided nominal (nominal) \n",
    "* county: numeric code for county - not predictive, and many missing values (numeric) \n",
    "* community: numeric code for community - not predictive and many missing values (numeric) \n",
    "* communityname: community name - not predictive - for information only (string) \n",
    "* fold: fold number for non-random 10 fold cross validation, potentially useful for debugging, paired tests - not predictive (numeric) \n",
    "\n",
    "Therefore, the first five columns shall be removed from the dataset. This reduces the total number of columns from 128 to 123"
   ]
  },
  {
   "cell_type": "code",
   "execution_count": 202,
   "metadata": {
    "collapsed": false
   },
   "outputs": [
    {
     "name": "stdout",
     "output_type": "stream",
     "text": [
      "Dataset Shape with non-predictive attributes removed is  (1994, 123)\n"
     ]
    }
   ],
   "source": [
    "df = df.drop(['state', 'county', 'community', 'communityname', 'fold'], axis=1)\n",
    "print(\"Dataset Shape with non-predictive attributes removed is \", df.shape)\n"
   ]
  },
  {
   "cell_type": "markdown",
   "metadata": {},
   "source": [
    "### Replace Missing Data\n",
    "The dataset contains many cells that contain '?'. Attributes with more missing data than valid data will be removed from the dataset. For the remaining attributes with missing data, the missing data will be imputed.\n",
    "\n",
    "The first step is to replace the cells containing '?' with \"NaN\" (Not a Number)"
   ]
  },
  {
   "cell_type": "code",
   "execution_count": 203,
   "metadata": {
    "collapsed": false
   },
   "outputs": [
    {
     "name": "stdout",
     "output_type": "stream",
     "text": [
      "The top 25 attributes with missing data are:\n"
     ]
    },
    {
     "data": {
      "text/plain": [
       "LemasSwFTFieldPerPop    1675\n",
       "PctPolicAsian           1675\n",
       "PolicBudgPerPop         1675\n",
       "LemasSwornFT            1675\n",
       "LemasSwFTPerPop         1675\n",
       "LemasSwFTFieldOps       1675\n",
       "LemasTotalReq           1675\n",
       "LemasTotReqPerPop       1675\n",
       "PolicReqPerOffic        1675\n",
       "PolicPerPop             1675\n",
       "RacialMatchCommPol      1675\n",
       "PctPolicBlack           1675\n",
       "PctPolicHisp            1675\n",
       "PctPolicWhite           1675\n",
       "PctPolicMinor           1675\n",
       "PolicCars               1675\n",
       "LemasGangUnitDeploy     1675\n",
       "LemasPctPolicOnPatr     1675\n",
       "OfficAssgnDrugUnits     1675\n",
       "PolicOperBudg           1675\n",
       "PolicAveOTWorked        1675\n",
       "NumKindsDrugsSeiz       1675\n",
       "OtherPerCap                1\n",
       "PctLess9thGrade            0\n",
       "PctPopUnderPov             0\n",
       "dtype: int64"
      ]
     },
     "execution_count": 203,
     "metadata": {},
     "output_type": "execute_result"
    }
   ],
   "source": [
    "# Replace '?' with 'NaN'\n",
    "df = df.replace('?', np.nan)\n",
    "\n",
    "# Print the top-25 attributes with missing values. \n",
    "# Code reused from DePy Talk Notebook in [1]\n",
    "print(\"The top 25 attributes with missing data are:\")\n",
    "df.isnull().sum().sort_values(ascending=False).head(25)"
   ]
  },
  {
   "cell_type": "markdown",
   "metadata": {},
   "source": [
    "Remove any attributes that have more missing data than valid data"
   ]
  },
  {
   "cell_type": "code",
   "execution_count": 204,
   "metadata": {
    "collapsed": false
   },
   "outputs": [
    {
     "name": "stdout",
     "output_type": "stream",
     "text": [
      "Dataset Shape with attributes with more than 50% missing data removed is  (1994, 101)\n"
     ]
    }
   ],
   "source": [
    "# If a column contains more than 50% of missing data, remove column from dataset\n",
    "for column in df:\n",
    "    if(df[column].isnull().sum()>=(df.shape[0]/2)):\n",
    "        if(VERBOSE==True):\n",
    "            print(\"Column \", column, df[column].isnull().sum())\n",
    "        df = df.drop([column], axis=1)\n",
    "\n",
    "print(\"Dataset Shape with attributes with more than 50% missing data removed is \", df.shape)"
   ]
  },
  {
   "cell_type": "code",
   "execution_count": 205,
   "metadata": {
    "collapsed": false
   },
   "outputs": [
    {
     "name": "stdout",
     "output_type": "stream",
     "text": [
      "The top 5 remaining attributes with missing data are:\n"
     ]
    },
    {
     "data": {
      "text/plain": [
       "OtherPerCap       1\n",
       "PctOccupManu      0\n",
       "HispPerCap        0\n",
       "NumUnderPov       0\n",
       "PctPopUnderPov    0\n",
       "dtype: int64"
      ]
     },
     "execution_count": 205,
     "metadata": {},
     "output_type": "execute_result"
    }
   ],
   "source": [
    "print(\"The top 5 remaining attributes with missing data are:\")\n",
    "df.isnull().sum().sort_values(ascending=False).head(5)\n"
   ]
  },
  {
   "cell_type": "markdown",
   "metadata": {},
   "source": [
    "There is only one missing value remaining but lets impute it for the craic using code from the DePy_Talk notebook"
   ]
  },
  {
   "cell_type": "code",
   "execution_count": 206,
   "metadata": {
    "collapsed": false
   },
   "outputs": [
    {
     "name": "stdout",
     "output_type": "stream",
     "text": [
      "Cell with Missing Data was df['OtherPerCap'][130]\n",
      "Prior to imputing, the value of this cell was  nan\n",
      "Prior to imputing, the median of this attribute was  0.25 This value could have been used instead of using Simple Imputer\n",
      "Post imputing, the value of this cell is  0.2847415955845459\n"
     ]
    }
   ],
   "source": [
    "# The missing cell is cell[130]\n",
    "# The value before imputing is \"NaN\"\n",
    "pre_impute = df['OtherPerCap'][130]\n",
    "\n",
    "# One option to replace the missing data would be to use the median:\n",
    "miss_median = df['OtherPerCap'].median()\n",
    "\n",
    "#df['OtherPerCap'][130] = miss_median <-- Use if sklearn required version is unavailable\n",
    "\n",
    "# Since there is only a single missing value, using an Imputer is overkill.\n",
    "# However, it is used here for the sake of experimentation\n",
    "\n",
    "from sklearn.impute import SimpleImputer\n",
    "\n",
    "imp = SimpleImputer(missing_values=np.nan, strategy='mean')\n",
    "imp.fit(df) \n",
    "df = pd.DataFrame(data=imp.transform(df) , columns=df.columns)\n",
    "\n",
    "post_impute = df['OtherPerCap'][130]\n",
    "\n",
    "print(\"Cell with Missing Data was df['OtherPerCap'][130]\")\n",
    "print(\"Prior to imputing, the value of this cell was \",pre_impute)\n",
    "print(\"Prior to imputing, the median of this attribute was \", miss_median,\"This value could have been used instead of using Simple Imputer\")\n",
    "print(\"Post imputing, the value of this cell is \", post_impute)\n"
   ]
  },
  {
   "cell_type": "markdown",
   "metadata": {},
   "source": [
    "### Outlier Detection\n",
    "\n",
    "Outlier detection uses the Tukey IQR method presented in the DePy Notebook by April Chen[1]. The find_outliers_tukey() function is reused directly from this notebook.\n",
    "\n",
    "To allow comparision, the dataset without outliers removed is stored prior to outlier detection and removal. The dataset with outliers removed is also stored. This allows the regression algorithm to be run on both datasets and for the results to be compared"
   ]
  },
  {
   "cell_type": "code",
   "execution_count": 207,
   "metadata": {
    "collapsed": false
   },
   "outputs": [
    {
     "name": "stdout",
     "output_type": "stream",
     "text": [
      "Dataset Shape Before Outlier Removal is  (1994, 101)\n",
      "Dataset Shape After Outlier Removal is  (1884, 101)\n"
     ]
    }
   ],
   "source": [
    "# Store off original dataset without outlier detection and removal\n",
    "dataset = df.values\n",
    "\n",
    "# From DePy_Talk Notebook[1]\n",
    "def find_outliers_tukey(x):\n",
    "    q1 = np.percentile(x, 25)\n",
    "    q3 = np.percentile(x, 75)\n",
    "    iqr = q3-q1\n",
    "    floor = q1 - 1.5*iqr\n",
    "    ceiling = q3 + 1.5*iqr\n",
    "    outlier_indices = list(x.index[(x < floor)|(x > ceiling)])\n",
    "    outlier_values = list(x[outlier_indices])\n",
    "    \n",
    "    return outlier_indices, outlier_values\n",
    "\n",
    "# Get the indices and values for the outliers in the Goal columns\n",
    "tukey_indices, tukey_values = find_outliers_tukey(df['ViolentCrimesPerPop'])\n",
    "\n",
    "print(\"Dataset Shape Before Outlier Removal is \", df.shape)\n",
    "\n",
    "if(VERBOSE==True):\n",
    "    print(\"Outliers = \",len(tukey_indices), \"out of \",len(df['ViolentCrimesPerPop']), \"in ViolentCrimesPerPop Column\")\n",
    "\n",
    "for i in range(len(tukey_indices)):\n",
    "    # Drop row containing the outlier\n",
    "    df = df.drop([tukey_indices[i]], axis=0)\n",
    "    if(VERBOSE==True):\n",
    "        print(\"i : \", i, \"Index\", tukey_indices[i], \"Value\", tukey_values[i])\n",
    "    \n",
    "print(\"Dataset Shape After Outlier Removal is \", df.shape)\n",
    "\n",
    "# Store dataset with outliers removed using Tukey IQR method\n",
    "tukey_dataset = df.values"
   ]
  },
  {
   "cell_type": "markdown",
   "metadata": {
    "collapsed": true
   },
   "source": [
    "### Split Up Dataset\n",
    "\n",
    "Use train_test_split() to split the dataset into a Training Set and a Test Set. The split is determined by the parameter TEST_SIZE"
   ]
  },
  {
   "cell_type": "code",
   "execution_count": 208,
   "metadata": {
    "collapsed": true
   },
   "outputs": [],
   "source": [
    "# The Dataset shape is (1994, 101). THe first 100 columns are the attributes and the final column is the goal \n",
    "X = dataset[:, 0:100]\n",
    "y = dataset[:, 100]\n",
    "\n",
    "from sklearn.model_selection import train_test_split \n",
    "\n",
    "X_train, X_test, y_train, y_test = train_test_split(X, y, test_size=TEST_SIZE, random_state=SEED) "
   ]
  },
  {
   "cell_type": "markdown",
   "metadata": {},
   "source": [
    "### Scale the Dataset\n",
    "\n",
    "Scaling was introduced in Lab 3 of CE4031 Deep Learning module. The scaling performed here follows the method outlined in that lab.\n",
    "\n",
    "StandardScaler() is used to standardize the features by removing the mean and scaling to unit variance\n",
    "\n",
    "The fit function is first used on the training data to calculate the mean and the standard deviation. The transform function is then applied independently to the training data and the test data\n"
   ]
  },
  {
   "cell_type": "code",
   "execution_count": 209,
   "metadata": {
    "collapsed": false
   },
   "outputs": [],
   "source": [
    "# Scale the dataset\n",
    "from sklearn.preprocessing import StandardScaler \n",
    "# Scale the data with respect to the training data set \n",
    "scaler = StandardScaler() \n",
    "scaler.fit(X_train) \n",
    "\n",
    "X_scaled_train = scaler.transform(X_train) \n",
    "# Scaling the test set using the transform defined by the train set. \n",
    "X_scaled_test = scaler.transform(X_test) "
   ]
  },
  {
   "cell_type": "markdown",
   "metadata": {},
   "source": [
    "### Lasso Model\n",
    "\n",
    "Lasso stands for Least Absolute Shrinkage and Selection Operator and is a regression algorithm available in within SciKit Learn. Details are available at <a href=\"https://en.wikipedia.org/wiki/Lasso_(statistics)\">[3]</a>\n",
    "\n",
    "Lasso is a linear model trained with l1 prior as a regularizer. The regularization is controlled by the constant alpha. Alpha can vary between 0 and 1. A quick survey of reference implementations of Lasso show a value of alpha=0.1 being most commonly used. This is used here initially but subsequently will be improved upon using a grid search with LassoCV\n"
   ]
  },
  {
   "cell_type": "code",
   "execution_count": 210,
   "metadata": {
    "collapsed": false
   },
   "outputs": [
    {
     "data": {
      "text/plain": [
       "Lasso(alpha=0.05, copy_X=True, fit_intercept=True, max_iter=1000,\n",
       "   normalize=False, positive=False, precompute=False, random_state=None,\n",
       "   selection='cyclic', tol=0.0001, warm_start=False)"
      ]
     },
     "execution_count": 210,
     "metadata": {},
     "output_type": "execute_result"
    }
   ],
   "source": [
    "from sklearn import linear_model\n",
    "clf = linear_model.Lasso(alpha=ALPHA)\n",
    "clf.fit(X_scaled_train, y_train)"
   ]
  },
  {
   "cell_type": "code",
   "execution_count": 211,
   "metadata": {
    "collapsed": true
   },
   "outputs": [],
   "source": [
    "#### Function to Print Model Scores\n",
    "\n",
    "from sklearn.metrics import mean_absolute_error\n",
    "from sklearn.metrics import mean_squared_error\n",
    "from sklearn.metrics import r2_score\n",
    "\n",
    "def print_model_scores(y_hat, y, print_scores=True):\n",
    "    mae = mean_absolute_error(y, y_hat)\n",
    "    mse = mean_squared_error(y, y_hat)\n",
    "    r2s = r2_score(y, y_hat)\n",
    "    if(print_scores==True):\n",
    "        print(\"MAE       :\", mae)\n",
    "        print(\"MSE       :\", mse)\n",
    "        print(\"R^2 Score :\",r2s)\n",
    "    \n",
    "    return mae, mse, r2s"
   ]
  },
  {
   "cell_type": "code",
   "execution_count": 212,
   "metadata": {
    "collapsed": false
   },
   "outputs": [
    {
     "name": "stdout",
     "output_type": "stream",
     "text": [
      "Lasso Model Train Accuracy\n",
      "MAE       : 0.11163927949298785\n",
      "MSE       : 0.024135166206471208\n",
      "R^2 Score : 0.5627421370498684\n"
     ]
    }
   ],
   "source": [
    "# Determine accuracy using the train set\n",
    "y_hat_train = clf.predict(X_scaled_train)\n",
    "\n",
    "print(\"Lasso Model Train Accuracy\")\n",
    "#lasso_train_mae, lasso_train_mse, lasso_train_r2s = print_model_scores(y_hat_train, y_train)\n",
    "train_mae[0], train_mse[0], train_r2s[0] = print_model_scores(y_hat_train, y_train)\n",
    "\n",
    "alphas[0] = ALPHA"
   ]
  },
  {
   "cell_type": "code",
   "execution_count": 213,
   "metadata": {
    "collapsed": false
   },
   "outputs": [
    {
     "name": "stdout",
     "output_type": "stream",
     "text": [
      "Lasso Model Test Accuracy\n",
      "MAE       : 0.11025089967206587\n",
      "MSE       : 0.02377442721173159\n",
      "R^2 Score : 0.5429875563308268\n"
     ]
    }
   ],
   "source": [
    "# Determine the accuracy using the test set\n",
    "y_hat = clf.predict(X_scaled_test)\n",
    "\n",
    "print(\"Lasso Model Test Accuracy\")\n",
    "#lasso_mae, lasso_mse, lasso_r2s = print_model_scores(y_hat, y_test)\n",
    "test_mae[0], test_mse[0], test_r2s[0] = print_model_scores(y_hat, y_test)"
   ]
  },
  {
   "cell_type": "markdown",
   "metadata": {},
   "source": [
    "### Gridsearch\n",
    "\n",
    "The initial Lasso model used an alpha value of 0.1. This value was not determined experimentally and instead was used as it is the most common value in reference implementations.\n",
    "\n",
    "SciKit-Learn provides a cross-validation option for using Lasso, LassoCV(), that sets the Lasso alpha value by iterating through a number of values and then selecting the value of alpha that delivers the best model"
   ]
  },
  {
   "cell_type": "code",
   "execution_count": 214,
   "metadata": {
    "collapsed": false
   },
   "outputs": [
    {
     "name": "stdout",
     "output_type": "stream",
     "text": [
      "The value of Alpha determined by cross validation is  0.000498969217524633\n",
      "Lasso CV Model Train Accuracy\n",
      "MAE       : 0.09118801603926771\n",
      "MSE       : 0.016454582405940426\n",
      "R^2 Score : 0.7018916100677516\n"
     ]
    }
   ],
   "source": [
    "from sklearn.linear_model import LassoCV\n",
    "lasso_cv = LassoCV(alphas = None, cv = 10, max_iter = 100000, random_state=SEED) \n",
    "lasso_cv.fit(X_scaled_train, y_train)\n",
    "print(\"The value of Alpha determined by cross validation is \", lasso_cv.alpha_)\n",
    "\n",
    "\n",
    "# Determine accuracy using the train set\n",
    "y_hat_cv_train = lasso_cv.predict(X_scaled_train)\n",
    "\n",
    "print(\"Lasso CV Model Train Accuracy\")\n",
    "#lasso_cv_train_mae, lasso_cv_train_mse, lasso_cv_train_r2s = print_model_scores(y_hat_cv_train, y_train)\n",
    "train_mae[1], train_mse[1], train_r2s[1] = print_model_scores(y_hat_cv_train, y_train)\n",
    "alphas[1] = lasso_cv.alpha_"
   ]
  },
  {
   "cell_type": "code",
   "execution_count": 215,
   "metadata": {
    "collapsed": false
   },
   "outputs": [
    {
     "name": "stdout",
     "output_type": "stream",
     "text": [
      "Lasso Model Test Accuracy\n",
      "MAE       : 0.09352252159300008\n",
      "MSE       : 0.018937740495832415\n",
      "R^2 Score : 0.6359624993487838\n"
     ]
    }
   ],
   "source": [
    "y_hat_cv = lasso_cv.predict(X_scaled_test)\n",
    "\n",
    "print(\"Lasso Model Test Accuracy\")\n",
    "#lasso_cv_mae, lasso_cv_mse, lasso_cv_r2s = print_model_scores(y_hat_cv, y_test)\n",
    "test_mae[1], test_mse[1], test_r2s[1]  = print_model_scores(y_hat_cv, y_test)"
   ]
  },
  {
   "cell_type": "markdown",
   "metadata": {},
   "source": [
    "### PCA"
   ]
  },
  {
   "cell_type": "code",
   "execution_count": 216,
   "metadata": {
    "collapsed": true
   },
   "outputs": [],
   "source": [
    "from sklearn.decomposition import PCA \n",
    "pca = PCA()\n",
    "pca.fit(X_scaled_train)\n",
    "X_pca_train = pca.transform(X_scaled_train)\n",
    "X_pca_test = pca.transform(X_scaled_test)\n",
    "\n",
    "# n_components_pca = 0\n",
    "\n",
    "# percent_contrib = COMPONENT_PCT\n",
    "\n",
    "# for i in range(len(pca.explained_variance_)):\n",
    "#     if(pca.explained_variance_ratio_[i]>=(percent_contrib/100)):\n",
    "#         n_components_pca+=1\n",
    "# print(\"Number of PCA components that contribute >=\",percent_contrib,\"% of variance is \",n_components_pca)\n",
    "\n",
    "# pca_red = PCA(n_components=n_components_pca)\n",
    "# pca_red.fit(X_scaled_train)\n",
    "# X_pca_red_train = pca_red.transform(X_scaled_train)\n",
    "# X_pca_red_test = pca_red.transform(X_scaled_test)\n",
    "# print(pca_red.explained_variance_)\n",
    "# print(len(pca_red.explained_variance_))\n",
    "# print(X_pca_red_train.shape)\n",
    "# print(X_pca_red_test.shape)\n",
    "# print(type(pca_red.explained_variance_))\n",
    "# print(pca_red.explained_variance_.sum())\n",
    "# print(pca_red.explained_variance_ratio_)\n",
    "    "
   ]
  },
  {
   "cell_type": "code",
   "execution_count": 217,
   "metadata": {
    "collapsed": false
   },
   "outputs": [
    {
     "data": {
      "image/png": "[encoded data removed]",
      "text/plain": [
       "<Figure size 864x648 with 1 Axes>"
      ]
     },
     "metadata": {},
     "output_type": "display_data"
    },
    {
     "name": "stdout",
     "output_type": "stream",
     "text": [
      "The explained variance ratio shows how much each component contributes to overall variance.\n",
      "The total overall variance is 1.0\n",
      "The first component of the PCA analysis contributes over 25% of the total variance\n",
      "After about 20 components, the amount of variance contributed by each component starts getting to 1% or less\n"
     ]
    }
   ],
   "source": [
    "# Adjust Size of Figures\n",
    "plt.rcParams[\"figure.figsize\"] = (12,9)\n",
    "\n",
    "\n",
    "plt.title('pca.explained_variance_ratio_')\n",
    "plt.ylabel('pca.explained_variance_ratio_')\n",
    "plt.xlabel('Component')\n",
    "plt.plot(pca.explained_variance_ratio_, 'or')\n",
    "plt.show()\n",
    "\n",
    "print(\"The explained variance ratio shows how much each component contributes to overall variance.\")\n",
    "print(\"The total overall variance is 1.0\")\n",
    "print(\"The first component of the PCA analysis contributes over 25% of the total variance\")\n",
    "print(\"After about 20 components, the amount of variance contributed by each component starts getting to 1% or less\")\n",
    "\n"
   ]
  },
  {
   "cell_type": "code",
   "execution_count": 218,
   "metadata": {
    "collapsed": false
   },
   "outputs": [
    {
     "data": {
      "image/png": "[encoded data removed]",
      "text/plain": [
       "<Figure size 864x648 with 1 Axes>"
      ]
     },
     "metadata": {},
     "output_type": "display_data"
    },
    {
     "name": "stdout",
     "output_type": "stream",
     "text": [
      "The plot shows the total variance contributed by n components\n",
      "For example, if all 100 components are included, then 100% of the variance is contributed\n",
      "However, you can see that if just 10 components are included, 80% of the variance is contributed\n",
      "Similarly, by including the first 22 components from PCA, 90% of the variance is contributed\n",
      "To get to 95%, 33 components need to be included. \n",
      "The remaining 5% requires an additional 67 components to be included\n"
     ]
    }
   ],
   "source": [
    "explained_variance_sum = np.zeros(len(pca.explained_variance_ratio_))\n",
    "\n",
    "ratio_spread = np.zeros(8)\n",
    "ratios = ['>50% Variance', '>25% Variance', '>10% Variance', '>5% Variance', '>2% Variance', '>1% Variance', '>0.5%Variance', '<0.5% Variance']\n",
    "\n",
    "for i in range(len(pca.explained_variance_ratio_)):\n",
    "    if(i==0):\n",
    "        explained_variance_sum[0] = pca.explained_variance_ratio_[0]\n",
    "    else:\n",
    "        explained_variance_sum[i] = explained_variance_sum[i-1] + pca.explained_variance_ratio_[i]\n",
    "    if(pca.explained_variance_ratio_[i]>=0.5):\n",
    "        ratio_spread[0]+=1\n",
    "    if(pca.explained_variance_ratio_[i]>=0.25):\n",
    "        ratio_spread[1]+=1\n",
    "    if(pca.explained_variance_ratio_[i]>=0.1):\n",
    "        ratio_spread[2]+=1\n",
    "    if(pca.explained_variance_ratio_[i]>=0.05):\n",
    "        ratio_spread[3]+=1\n",
    "    if(pca.explained_variance_ratio_[i]>=0.02):\n",
    "        ratio_spread[4]+=1\n",
    "    if(pca.explained_variance_ratio_[i]>=0.01):\n",
    "        ratio_spread[5]+=1\n",
    "    if(pca.explained_variance_ratio_[i]>=0.005):\n",
    "        ratio_spread[6]+=1\n",
    "    if(pca.explained_variance_ratio_[i]<0.005):\n",
    "        ratio_spread[7]+=1\n",
    "    if(VERBOSE==True):\n",
    "        print(\"i\", i, \"value\", explained_variance_sum[i])\n",
    "    \n",
    "plt.title('Total Variance Contributed by n Components')\n",
    "plt.ylabel('Total Variance Contributed')\n",
    "plt.xlabel('Number of Component Included (n)')\n",
    "plt.plot(explained_variance_sum, 'or')\n",
    "plt.axhline(0.8, color='k', linestyle='dashed', linewidth=2, label='80% of variance')\n",
    "plt.axhline(0.9, color='g', linestyle='dashed', linewidth=2, label='90% of variance')\n",
    "plt.axhline(0.95, color='b', linestyle='dashed', linewidth=2, label='95% of variance')\n",
    "plt.axhline(1.0, color='y', linestyle='dashed', linewidth=2, label='100% of variance')\n",
    "plt.axvline(10, color='k', linestyle='solid', linewidth=2, label='n = 10')\n",
    "plt.axvline(22, color='g', linestyle='solid', linewidth=2, label='n = 22')\n",
    "plt.axvline(33, color='b', linestyle='solid', linewidth=2, label='n = 33')\n",
    "plt.axvline(100, color='y', linestyle='solid', linewidth=2, label='n = 100')\n",
    "plt.figlegend()\n",
    "plt.show()\n",
    "\n",
    "print(\"The plot shows the total variance contributed by n components\")\n",
    "print(\"For example, if all 100 components are included, then 100% of the variance is contributed\")\n",
    "print(\"However, you can see that if just 10 components are included, 80% of the variance is contributed\")\n",
    "print(\"Similarly, by including the first 22 components from PCA, 90% of the variance is contributed\")\n",
    "print(\"To get to 95%, 33 components need to be included. \\nThe remaining 5% requires an additional 67 components to be included\")\n",
    "\n"
   ]
  },
  {
   "cell_type": "code",
   "execution_count": 219,
   "metadata": {
    "collapsed": false
   },
   "outputs": [
    {
     "data": {
      "image/png": "[encoded data removed]",
      "text/plain": [
       "<Figure size 864x648 with 1 Axes>"
      ]
     },
     "metadata": {},
     "output_type": "display_data"
    }
   ],
   "source": [
    "plt.bar([1,2,3,4,5,6,7,8],ratio_spread,facecolor='green', edgecolor='black')\n",
    "plt.ylabel('Number of Components')\n",
    "plt.title('Distribution of Number of Components That Contribute More Than x% of Variance')\n",
    "# From https://stackoverflow.com/questions/12998430/remove-xticks-in-a-matplotlib-plot\n",
    "# Remove ticks and labels from X-axis\n",
    "plt.tick_params(\n",
    "    axis='x',          # changes apply to the x-axis\n",
    "    which='both',      # both major and minor ticks are affected\n",
    "    bottom=False,      # ticks along the bottom edge are off\n",
    "    top=False,         # ticks along the top edge are off\n",
    "    labelbottom=False) # labels along the bottom edge are off\n",
    "the_table = plt.table(cellText=(ratio_spread.astype(int).reshape(1,8)),colLabels=ratios,loc='bottom')\n",
    "# From https://stackoverflow.com/questions/9932072/matplotlib-table-formatting\n",
    "# Adjust cell height\n",
    "table_props = the_table.properties()\n",
    "table_cells = table_props['child_artists']\n",
    "for cell in table_cells: cell.set_height(0.1)\n",
    "plt.show()\n",
    "\n"
   ]
  },
  {
   "cell_type": "code",
   "execution_count": 220,
   "metadata": {
    "collapsed": false
   },
   "outputs": [
    {
     "name": "stdout",
     "output_type": "stream",
     "text": [
      "Number of PCA components that contribute >= 0.5 % of variance is  24\n",
      "These components contribute 100.07173601147791 % of the total variance\n"
     ]
    }
   ],
   "source": [
    "n_components_pca = 0\n",
    "\n",
    "percent_contrib = COMPONENT_PCT\n",
    "\n",
    "# Determine the number of components that contribute more than 'percent_contrib' of variance and use this for the PCA value\n",
    "for i in range(len(pca.explained_variance_)):\n",
    "    if(pca.explained_variance_ratio_[i]>=(percent_contrib/100)):\n",
    "        n_components_pca+=1\n",
    "print(\"Number of PCA components that contribute >=\",percent_contrib,\"% of variance is \",n_components_pca)\n",
    "print(\"These components contribute\", pca.explained_variance_.sum(), \"% of the total variance\" )\n",
    "\n",
    "pca_red = PCA(n_components=n_components_pca)\n",
    "pca_red.fit(X_scaled_train)\n",
    "X_pca_red_train = pca_red.transform(X_scaled_train)\n",
    "X_pca_red_test = pca_red.transform(X_scaled_test)\n",
    "if (VERBOSE==True):\n",
    "    print(pca_red.explained_variance_)\n",
    "    print(len(pca_red.explained_variance_))\n",
    "    print(X_pca_red_train.shape)\n",
    "    print(X_pca_red_test.shape)\n",
    "    print(type(pca_red.explained_variance_))\n",
    "    print(pca_red.explained_variance_.sum())\n"
   ]
  },
  {
   "cell_type": "code",
   "execution_count": 221,
   "metadata": {
    "collapsed": false
   },
   "outputs": [
    {
     "name": "stdout",
     "output_type": "stream",
     "text": [
      "Lasso Model Train Score on PCA-reduced Data Using Alpha= 0.05\n",
      "MAE       : 0.10559679438705391\n",
      "MSE       : 0.021825848142245766\n",
      "R^2 Score : 0.60458015353573\n",
      "Lasso Model Score on PCA-reduced Data Using Alpha= 0.05\n",
      "MAE       : 0.10365304961401912\n",
      "MSE       : 0.02205978439806691\n",
      "R^2 Score : 0.575947892044236\n"
     ]
    }
   ],
   "source": [
    "clf_pca = linear_model.Lasso(alpha=ALPHA)\n",
    "clf_pca.fit(X_pca_red_train, y_train)\n",
    "\n",
    "y_pca_red_train_hat = clf_pca.predict(X_pca_red_train)\n",
    "\n",
    "print(\"Lasso Model Train Score on PCA-reduced Data Using Alpha=\",ALPHA)\n",
    "train_mae[2], train_mse[2], train_r2s[2] = print_model_scores(y_pca_red_train_hat, y_train)\n",
    "alphas[2] = ALPHA\n",
    "\n",
    "y_pca_red_hat = clf_pca.predict(X_pca_red_test)\n",
    "\n",
    "if(VERBOSE==True):\n",
    "    print(y_pca_red_hat.shape)\n",
    "    print(y_test.shape)\n",
    "    print(y_pca_red_hat[0:5])\n",
    "    print(y_test[0:5])\n",
    "    print(clf_pca.score(X_pca_red_test,y_test))\n",
    "\n",
    "print(\"Lasso Model Score on PCA-reduced Data Using Alpha=\",ALPHA)\n",
    "#lasso_pca_mae, lasso_pca_mse, lasso_pca_r2s = print_model_scores(y_pca_red_hat, y_test)\n",
    "test_mae[2], test_mse[2], test_r2s[2]  = print_model_scores(y_pca_red_hat, y_test)"
   ]
  },
  {
   "cell_type": "code",
   "execution_count": 222,
   "metadata": {
    "collapsed": false
   },
   "outputs": [
    {
     "name": "stdout",
     "output_type": "stream",
     "text": [
      "Lasso CV Model Train Score on PCA-reduced Data Using Alpha= 0.0016062079818303166\n",
      "MAE       : 0.09695589443542615\n",
      "MSE       : 0.01861806856736751\n",
      "R^2 Score : 0.6626956365503145\n",
      "Lasso CV Model Score on PCA-reduced Data Using Alpha= 0.0016062079818303166\n",
      "MAE       : 0.09525874241846767\n",
      "MSE       : 0.019496496838631253\n",
      "R^2 Score : 0.6252216053889016\n"
     ]
    }
   ],
   "source": [
    "lasso_pca_cv = LassoCV(alphas = None, cv = 10, max_iter = 1000, random_state=SEED) \n",
    "lasso_pca_cv.fit(X_pca_red_train, y_train)\n",
    "\n",
    "y_pca_red_train_hat_cv = lasso_pca_cv.predict(X_pca_red_train)\n",
    "\n",
    "print(\"Lasso CV Model Train Score on PCA-reduced Data Using Alpha=\",lasso_pca_cv.alpha_)\n",
    "train_mae[3], train_mse[3], train_r2s[3] = print_model_scores(y_pca_red_train_hat_cv, y_train)\n",
    "alphas[3] = lasso_pca_cv.alpha_\n",
    "\n",
    "y_pca_red_hat_cv = lasso_pca_cv.predict(X_pca_red_test)\n",
    "if(VERBOSE==True):\n",
    "    print(y_pca_red_hat_cv[0:20])\n",
    "    print(y_test[0:20])\n",
    "\n",
    "print(\"Lasso CV Model Score on PCA-reduced Data Using Alpha=\",lasso_pca_cv.alpha_)\n",
    "#lasso_cv_pca_mae, lasso_cv_pca_mse, lasso_cv_pca_r2s = print_model_scores(y_pca_red_hat_cv, y_test)\n",
    "test_mae[3], test_mse[3], test_r2s[3]  = print_model_scores(y_pca_red_hat_cv, y_test)"
   ]
  },
  {
   "cell_type": "code",
   "execution_count": 223,
   "metadata": {
    "collapsed": true
   },
   "outputs": [],
   "source": [
    "# Tukey Lasso"
   ]
  },
  {
   "cell_type": "code",
   "execution_count": 224,
   "metadata": {
    "collapsed": false
   },
   "outputs": [
    {
     "name": "stdout",
     "output_type": "stream",
     "text": [
      "Lasso Model Train Accuracy with Tukey Dataset\n",
      "MAE       : 0.09860523459774227\n",
      "MSE       : 0.0167691759802962\n",
      "R^2 Score : 0.43905716251177485\n",
      "Lasso Model Test Accuracy with Tukey Dataset\n",
      "MAE       : 0.1002066530322882\n",
      "MSE       : 0.017110093210389834\n",
      "R^2 Score : 0.4238108331843736\n",
      "The value of Alpha determined by cross validation is  0.001591107758274045\n",
      "Lasso CV Model Train Accuracy with Tukey Dataset\n",
      "MAE       : 0.07521749330762588\n",
      "MSE       : 0.010907820632507309\n",
      "R^2 Score : 0.6351243577143747\n",
      "Lasso Model Test Accuracy with Tukey Dataset\n",
      "MAE       : 0.08304292206919803\n",
      "MSE       : 0.01314707847841658\n",
      "R^2 Score : 0.5572669241837573\n"
     ]
    }
   ],
   "source": [
    "tukey_X = tukey_dataset[:, 0:100]\n",
    "tukey_y = tukey_dataset[:, 100]\n",
    "\n",
    "tukey_X_train, tukey_X_test, tukey_y_train, tukey_y_test = train_test_split(tukey_X, tukey_y, test_size=TEST_SIZE, random_state=SEED) \n",
    "\n",
    "# Scale the data with respect to the training data set \n",
    "tukey_scaler = StandardScaler() \n",
    "tukey_scaler.fit(tukey_X_train) \n",
    "\n",
    "tukey_X_scaled_train = tukey_scaler.transform(tukey_X_train) \n",
    "# Scaling the test set using the transform defined by the train set. \n",
    "tukey_X_scaled_test = tukey_scaler.transform(tukey_X_test) \n",
    "\n",
    "tukey_clf = linear_model.Lasso(alpha=ALPHA)\n",
    "tukey_clf.fit(tukey_X_scaled_train, tukey_y_train)\n",
    "\n",
    "# Determine accuracy using the train set\n",
    "tukey_y_hat_train = tukey_clf.predict(tukey_X_scaled_train)\n",
    "\n",
    "\n",
    "print(\"Lasso Model Train Accuracy with Tukey Dataset\")\n",
    "#tukey_lasso_train_mae, tukey_lasso_train_mse, tukey_lasso_train_r2s = print_model_scores(tukey_y_hat_train, tukey_y_train)\n",
    "train_mae[4], train_mse[4], train_r2s[4] = print_model_scores(tukey_y_hat_train, tukey_y_train)\n",
    "alphas[4] = ALPHA\n",
    "\n",
    "# Determine the accuracy using the test test\n",
    "tukey_y_hat = tukey_clf.predict(tukey_X_scaled_test)\n",
    "\n",
    "print(\"Lasso Model Test Accuracy with Tukey Dataset\")\n",
    "#tukey_lasso_mae, tukey_lasso_mse, tukey_lasso_r2s = print_model_scores(tukey_y_hat, tukey_y_test)\n",
    "test_mae[4], test_mse[4], test_r2s[4] = print_model_scores(tukey_y_hat, tukey_y_test)\n",
    "\n",
    "tukey_lasso_cv = LassoCV(alphas = None, cv = 10, max_iter = 100000, random_state=SEED) \n",
    "tukey_lasso_cv.fit(tukey_X_scaled_train, tukey_y_train)\n",
    "print(\"The value of Alpha determined by cross validation is \", tukey_lasso_cv.alpha_)\n",
    "\n",
    "\n",
    "# Determine accuracy using the train set\n",
    "tukey_y_hat_cv_train = tukey_lasso_cv.predict(tukey_X_scaled_train)\n",
    "\n",
    "print(\"Lasso CV Model Train Accuracy with Tukey Dataset\")\n",
    "#tukey_lasso_cv_train_mae, tukey_lasso_cv_train_mse, tukey_lasso_cv_train_r2s = print_model_scores(tukey_y_hat_cv_train, tukey_y_train)\n",
    "train_mae[5], train_mse[5], train_r2s[5]  = print_model_scores(tukey_y_hat_cv_train, tukey_y_train)\n",
    "alphas[5] = tukey_lasso_cv.alpha_\n",
    "\n",
    "tukey_y_hat_cv = tukey_lasso_cv.predict(tukey_X_scaled_test)\n",
    "\n",
    "print(\"Lasso Model Test Accuracy with Tukey Dataset\")\n",
    "#tukey_lasso_cv_mae, tukey_lasso_cv_mse, tukey_lasso_cv_r2s = print_model_scores(tukey_y_hat_cv, tukey_y_test)\n",
    "test_mae[5], test_mse[5], test_r2s[5] = print_model_scores(tukey_y_hat_cv, tukey_y_test)"
   ]
  },
  {
   "cell_type": "code",
   "execution_count": 225,
   "metadata": {
    "collapsed": false
   },
   "outputs": [
    {
     "name": "stdout",
     "output_type": "stream",
     "text": [
      "Number of PCA components that contribute >= 0.5 % of variance is  24\n",
      "These components contribute 100.07173601147791 % of the total variance\n"
     ]
    }
   ],
   "source": [
    "tukey_pca = PCA()\n",
    "tukey_pca.fit(X_scaled_train)\n",
    "tukey_X_pca_train = pca.transform(tukey_X_scaled_train)\n",
    "tukey_X_pca_test = pca.transform(tukey_X_scaled_test)\n",
    "\n",
    "\n",
    "n_components_pca = 0\n",
    "\n",
    "percent_contrib = COMPONENT_PCT\n",
    "\n",
    "# Determine the number of components that contribute more than 'percent_contrib' of variance and use this for the PCA value\n",
    "for i in range(len(tukey_pca.explained_variance_)):\n",
    "    if(tukey_pca.explained_variance_ratio_[i]>=(percent_contrib/100)):\n",
    "        n_components_pca+=1\n",
    "print(\"Number of PCA components that contribute >=\",percent_contrib,\"% of variance is \",n_components_pca)\n",
    "print(\"These components contribute\", tukey_pca.explained_variance_.sum(), \"% of the total variance\" )\n",
    "\n",
    "tukey_pca_red = PCA(n_components=n_components_pca)\n",
    "tukey_pca_red.fit(tukey_X_scaled_train)\n",
    "tukey_X_pca_red_train = tukey_pca_red.transform(tukey_X_scaled_train)\n",
    "tukey_X_pca_red_test = tukey_pca_red.transform(tukey_X_scaled_test)\n",
    "if (VERBOSE==True):\n",
    "    print(tukey_pca_red.explained_variance_)\n",
    "    print(len(tukey_pca_red.explained_variance_))\n",
    "    print(tukey_X_pca_red_train.shape)\n",
    "    print(tukey_X_pca_red_test.shape)\n",
    "    print(type(tukey_pca_red.explained_variance_))\n",
    "    print(tukey_pca_red.explained_variance_.sum())"
   ]
  },
  {
   "cell_type": "code",
   "execution_count": 226,
   "metadata": {
    "collapsed": false
   },
   "outputs": [
    {
     "name": "stdout",
     "output_type": "stream",
     "text": [
      "Lasso Model Train Accuracy with Tukey Dataset\n",
      "MAE       : 0.08880443201739417\n",
      "MSE       : 0.014477360850428304\n",
      "R^2 Score : 0.5157202784249895\n",
      "Lasso Model Score on PCA-reduced Tukey Dataset Using Alpha= 0.05\n",
      "MAE       : 0.09297010361265877\n",
      "MSE       : 0.015407618115115533\n",
      "R^2 Score : 0.48114235643258063\n",
      "Lasso CV Model Train Accuracy on PCA-reduced Tukey Dataset Using Alpha= 0.0011309417156897881\n",
      "MAE       : 0.07705616270147113\n",
      "MSE       : 0.011458082931554687\n",
      "R^2 Score : 0.6167176276667496\n",
      "Lasso CV Model Score on PCA-reduced Tukey Dataset Using Alpha= 0.0011309417156897881\n",
      "MAE       : 0.08396718434365684\n",
      "MSE       : 0.01338492915472469\n",
      "R^2 Score : 0.5492572084374232\n"
     ]
    }
   ],
   "source": [
    "tukey_clf_pca = linear_model.Lasso(alpha=ALPHA)\n",
    "tukey_clf_pca.fit(tukey_X_pca_red_train, tukey_y_train)\n",
    "tukey_y_pca_red_hat_train = tukey_clf_pca.predict(tukey_X_pca_red_train)\n",
    "\n",
    "tukey_y_pca_red_hat = tukey_clf_pca.predict(tukey_X_pca_red_test)\n",
    "\n",
    "if(VERBOSE==True):\n",
    "    print(tukey_y_pca_red_hat.shape)\n",
    "    print(tukey_y_test.shape)\n",
    "    print(tukey_y_pca_red_hat[0:5])\n",
    "    print(tukey_y_test[0:5])\n",
    "    print(tukey_clf_pca.score(tukey_X_pca_red_test,tukey_y_test))\n",
    "\n",
    "print(\"Lasso Model Train Accuracy with Tukey Dataset\")\n",
    "#tukey_lasso_pca_train_mae, tukey_lasso_pca_train_mse, tukey_lasso_pca_train_r2s = print_model_scores(tukey_y_pca_red_hat_train, tukey_y_train)\n",
    "train_mae[6], train_mse[6], train_r2s[6] = print_model_scores(tukey_y_pca_red_hat_train, tukey_y_train)\n",
    "alphas[6] = ALPHA\n",
    "\n",
    "print(\"Lasso Model Score on PCA-reduced Tukey Dataset Using Alpha=\",ALPHA)\n",
    "#tukey_lasso_pca_mae, tukey_lasso_pca_mse, tukey_lasso_pca_r2s = print_model_scores(tukey_y_pca_red_hat, tukey_y_test)\n",
    "test_mae[6], test_mse[6], test_r2s[6] = print_model_scores(tukey_y_pca_red_hat, tukey_y_test)\n",
    "\n",
    "tukey_lasso_pca_cv = LassoCV(alphas = None, cv = 10, max_iter = 1000, random_state=SEED) \n",
    "tukey_lasso_pca_cv.fit(tukey_X_pca_red_train, tukey_y_train)\n",
    "\n",
    "tukey_y_pca_red_hat_cv_train = tukey_lasso_pca_cv.predict(tukey_X_pca_red_train)\n",
    "\n",
    "tukey_y_pca_red_hat_cv = tukey_lasso_pca_cv.predict(tukey_X_pca_red_test)\n",
    "if(VERBOSE==True):\n",
    "    print(tukey_y_pca_red_hat_cv[0:20])\n",
    "    print(tukey_y_test[0:20])\n",
    "\n",
    "print(\"Lasso CV Model Train Accuracy on PCA-reduced Tukey Dataset Using Alpha=\",tukey_lasso_pca_cv.alpha_)\n",
    "#tukey_lasso_cv_pca_train_mae, tukey_lasso_cv_pca_train_mse, tukey_lasso_cv_pca_train_r2s = print_model_scores(tukey_y_pca_red_hat_cv_train, tukey_y_train)\n",
    "train_mae[7], train_mse[7], train_r2s[7] = print_model_scores(tukey_y_pca_red_hat_cv_train, tukey_y_train)\n",
    "alphas[7] = tukey_lasso_pca_cv.alpha_\n",
    "\n",
    "print(\"Lasso CV Model Score on PCA-reduced Tukey Dataset Using Alpha=\",tukey_lasso_pca_cv.alpha_)\n",
    "#tukey_lasso_cv_pca_mae, tukey_lasso_cv_pca_mse, tukey_lasso_cv_pca_r2s = print_model_scores(tukey_y_pca_red_hat_cv, tukey_y_test)\n",
    "test_mae[7], test_mse[7], test_r2s[7] = print_model_scores(tukey_y_pca_red_hat_cv, tukey_y_test)"
   ]
  },
  {
   "cell_type": "markdown",
   "metadata": {
    "collapsed": true
   },
   "source": [
    "### Finally we will visualize the results by comparing predictive power of n_components classifier, original_classifier and the classifier after grid search"
   ]
  },
  {
   "cell_type": "code",
   "execution_count": 227,
   "metadata": {
    "collapsed": false
   },
   "outputs": [
    {
     "data": {
      "image/png": "[encoded data removed]",
      "text/plain": [
       "<Figure size 432x288 with 1 Axes>"
      ]
     },
     "metadata": {},
     "output_type": "display_data"
    },
    {
     "name": "stdout",
     "output_type": "stream",
     "text": [
      "original_regression: 0.11025089967206587\n",
      "regression after grid search: 0.09352252159300008\n",
      "regression after PCA: 0.10365304571504856\n",
      "regression after PCA and grid search: 0.09348122155161291\n"
     ]
    },
    {
     "data": {
      "image/png": "[encoded data removed]",
      "text/plain": [
       "<Figure size 432x288 with 1 Axes>"
      ]
     },
     "metadata": {},
     "output_type": "display_data"
    },
    {
     "name": "stdout",
     "output_type": "stream",
     "text": [
      "original_regression: 0.02377442721173159\n",
      "regression after grid search: 0.018937740495832415\n",
      "regression after PCA: 0.022059781781751497\n",
      "regression after PCA and grid search: 0.018743840953422887\n"
     ]
    },
    {
     "data": {
      "image/png": "[encoded data removed]",
      "text/plain": [
       "<Figure size 432x288 with 1 Axes>"
      ]
     },
     "metadata": {},
     "output_type": "display_data"
    },
    {
     "name": "stdout",
     "output_type": "stream",
     "text": [
      "original_regression: 0.5429875563308268\n",
      "regression after grid search: 0.6359624993487838\n",
      "regression after PCA: 0.5759479423372962\n",
      "regression after PCA and grid search: 0.639689802762394\n"
     ]
    }
   ],
   "source": [
    "pca_for_count_of_components = PCA()\n",
    "pca_for_count_of_components.fit(X_scaled_train)\n",
    "total_components = len(pca.explained_variance_)\n",
    "pca_results_n_components_lasso = []\n",
    "pca_results_n_components_lasso_cv = []\n",
    "\n",
    "for i in range(total_components):\n",
    "    pca_n = PCA(n_components=i+1)\n",
    "    pca_n.fit(X_scaled_train)\n",
    "    X_pca_n_train = pca_n.transform(X_scaled_train)\n",
    "    X_pca_n_test = pca_n.transform(X_scaled_test)\n",
    "    clf_pca = linear_model.Lasso(alpha=ALPHA)\n",
    "    clf_pca.fit(X_pca_n_train, y_train)\n",
    "    y_n_hat = clf_pca.predict(X_pca_n_test)\n",
    "    #mae = mean_absolute_error(y_test, y_n_hat)\n",
    "    #mse = mean_squared_error(y_test, y_n_hat)\n",
    "    #r2s = r2_score(y_test, y_n_hat)\n",
    "    mae, mse, r2s = print_model_scores(y_n_hat, y_test, print_scores=False)\n",
    "    pca_results_n_components_lasso.append((mae,mse,r2s))\n",
    "    \n",
    "    lasso_pca_cv_n = LassoCV(alphas = None, cv = 10, max_iter = 1000, random_state=SEED) \n",
    "    lasso_pca_cv_n.fit(X_pca_n_train, y_train)\n",
    "    y_n_hat_cv = lasso_pca_cv_n.predict(X_pca_n_test)\n",
    "    #mae_cv = mean_absolute_error(y_test, y_n_hat_cv)\n",
    "    #mse_cv = mean_squared_error(y_test, y_n_hat_cv)\n",
    "    #r2s_cv = r2_score(y_test, y_n_hat_cv)\n",
    "    mae_cv, mse_cv, r2s_cv = print_model_scores(y_n_hat_cv, y_test, print_scores=False)\n",
    "    pca_results_n_components_lasso_cv.append((mae_cv,mse_cv,r2s_cv))\n",
    "    \n",
    "    \n",
    "maes, mses, r2ss = zip(*pca_results_n_components_lasso)\n",
    "maes_cv, mses_cv, r2ss_cv = zip(*pca_results_n_components_lasso_cv)\n",
    "\n",
    "#from matplotlib.pylab import plt #load plot library\n",
    "# indicate the output of plotting function is printed to the notebook\n",
    "%matplotlib inline \n",
    "\n",
    "\n",
    "#mae_original =  mean_absolute_error(y_test, y_hat)\n",
    "#mse_original =  mean_squared_error(y_test, y_hat)\n",
    "#r2s_original = r2_score(y_test, y_hat)\n",
    "mae_original, mse_original, r2s_original = print_model_scores(y_hat, y_test, print_scores=False)\n",
    "\n",
    "#mae_cv =  mean_absolute_error(y_test, y_hat_cv)\n",
    "#mse_cv =  mean_squared_error(y_test, y_hat_cv)\n",
    "#r2s_cv = r2_score(y_test, y_hat_cv)\n",
    "mae_cv, mse_cv, r2s_cv = print_model_scores(y_hat_cv, y_test, print_scores=False)\n",
    "\n",
    "plt.title(\"absolute errors\")\n",
    "plt.xlabel(\"n_components\")\n",
    "plt.axhline(y=mae_original, color='r', linestyle='-', label=\"original regression\")\n",
    "plt.axhline(y=mae_cv, color='g', linestyle='-.', label=\"regression after grid search\")\n",
    "plt.plot(maes, color='b', label=\"lasso regression after PCA\")\n",
    "plt.plot(maes_cv, color='y', label=\"lasso regression after PCA and grid search\")\n",
    "plt.legend(loc='best')\n",
    "plt.show()\n",
    "print(\"original_regression: {}\".format(mae_original))\n",
    "print(\"regression after grid search: {}\".format(mae_cv))\n",
    "print(\"regression after PCA: {}\".format(maes[-1]))\n",
    "print(\"regression after PCA and grid search: {}\".format(maes_cv[-1]))\n",
    "\n",
    "plt.title(\"mean square error\")\n",
    "plt.xlabel(\"n_components\")\n",
    "plt.axhline(y=mse_original, color='r', linestyle='-', label=\"original regression\")\n",
    "plt.axhline(y=mse_cv, color='g', linestyle='-.', label=\"regression after grid search\")\n",
    "plt.plot(mses, color='b', label=\"lasso regression after PCA\")\n",
    "plt.plot(mses_cv, color='y', label=\"lasso regression after PCA and grid search\")\n",
    "plt.legend(loc='best')\n",
    "plt.show()\n",
    "print(\"original_regression: {}\".format(mse_original))\n",
    "print(\"regression after grid search: {}\".format(mse_cv))\n",
    "print(\"regression after PCA: {}\".format(mses[-1]))\n",
    "print(\"regression after PCA and grid search: {}\".format(mses_cv[-1]))\n",
    "\n",
    "plt.title(\"r2 scores\")\n",
    "plt.xlabel(\"n_components\")\n",
    "plt.axhline(y=r2s_original, color='r', linestyle='-', label=\"original regression\")\n",
    "plt.axhline(y=r2s_cv, color='g', linestyle='-.', label=\"regression after grid search\")\n",
    "plt.plot(r2ss, color='b', label=\"lasso regression after PCA\")\n",
    "plt.plot(r2ss_cv, color='y', label=\"lasso regression after PCA and grid search\")\n",
    "plt.legend(loc='best')\n",
    "plt.show()\n",
    "print(\"original_regression: {}\".format(r2s_original))\n",
    "print(\"regression after grid search: {}\".format(r2s_cv))\n",
    "print(\"regression after PCA: {}\".format(r2ss[-1]))\n",
    "print(\"regression after PCA and grid search: {}\".format(r2ss_cv[-1]))"
   ]
  },
  {
   "cell_type": "markdown",
   "metadata": {},
   "source": [
    "#### References\n",
    "* [1] [Depy 2016 Talk: Pre-Modeling: Data Preprocessing and Feature Exploration in Python Notebook](https://github.com/aprilypchen/depy2016/blob/master/DePy_Talk.ipynb)\n",
    "* [2] [amclean3695's Communities-and-Crime Notebook](https://github.com/amclean3695/Communities-and-Crime/blob/master/Communities_and_Crime.ipynb)\n",
    "* [3] <a href=\"https://en.wikipedia.org/wiki/Lasso_(statistics)\">LASSO Algorithm Wikipedia Entry</a>\n"
   ]
  },
  {
   "cell_type": "code",
   "execution_count": 229,
   "metadata": {
    "collapsed": false
   },
   "outputs": [
    {
     "data": {
      "image/png": "[encoded data removed]",
      "text/plain": [
       "<Figure size 864x648 with 1 Axes>"
      ]
     },
     "metadata": {},
     "output_type": "display_data"
    },
    {
     "name": "stdout",
     "output_type": "stream",
     "text": [
      "R2S Scores\n",
      "Lasso    on Orig Data      :\tTrain = 0.563\tTest = 0.543\tAlpha = 0.0500\n",
      "Lasso CV on Orig Data      :\tTrain = 0.702\tTest = 0.636\tAlpha = 0.0005\n",
      "\n",
      "Lasso    on PCA Data       :\tTrain = 0.605\tTest = 0.576\tAlpha = 0.0500\n",
      "Lasso CV on PCA Data       :\tTrain = 0.663\tTest = 0.625\tAlpha = 0.0016\n",
      "\n",
      "Lasso    on Tukey Data     :\tTrain = 0.563\tTest = 0.543\tAlpha = 0.0500\n",
      "Lasso CV on Tukey Data     :\tTrain = 0.702\tTest = 0.636\tAlpha = 0.0016\n",
      "\n",
      "Lasso    on Tukey PCA Data :\tTrain = 0.605\tTest = 0.576\tAlpha = 0.0500\n",
      "Lasso CV on Tukey PCA Data :\tTrain = 0.663\tTest = 0.625\tAlpha = 0.0011\n",
      "\n"
     ]
    },
    {
     "data": {
      "image/png": "[encoded data removed]",
      "text/plain": [
       "<Figure size 864x648 with 1 Axes>"
      ]
     },
     "metadata": {},
     "output_type": "display_data"
    },
    {
     "name": "stdout",
     "output_type": "stream",
     "text": [
      "MAE Scores\n",
      "Lasso    on Orig Data      :\tTrain = 0.112\tTest = 0.110\tAlpha = 0.0500\n",
      "Lasso CV on Orig Data      :\tTrain = 0.091\tTest = 0.094\tAlpha = 0.0005\n",
      "\n",
      "Lasso    on PCA Data       :\tTrain = 0.106\tTest = 0.104\tAlpha = 0.0500\n",
      "Lasso CV on PCA Data       :\tTrain = 0.097\tTest = 0.095\tAlpha = 0.0016\n",
      "\n",
      "Lasso    on Tukey Data     :\tTrain = 0.112\tTest = 0.110\tAlpha = 0.0500\n",
      "Lasso CV on Tukey Data     :\tTrain = 0.091\tTest = 0.094\tAlpha = 0.0016\n",
      "\n",
      "Lasso    on Tukey PCA Data :\tTrain = 0.106\tTest = 0.104\tAlpha = 0.0500\n",
      "Lasso CV on Tukey PCA Data :\tTrain = 0.097\tTest = 0.095\tAlpha = 0.0011\n",
      "\n"
     ]
    },
    {
     "data": {
      "image/png": "[encoded data removed]",
      "text/plain": [
       "<Figure size 864x648 with 1 Axes>"
      ]
     },
     "metadata": {},
     "output_type": "display_data"
    },
    {
     "name": "stdout",
     "output_type": "stream",
     "text": [
      "MSE Scores\n",
      "Lasso    on Orig Data      :\tTrain = 0.024\tTest = 0.024\tAlpha = 0.0500\n",
      "Lasso CV on Orig Data      :\tTrain = 0.016\tTest = 0.019\tAlpha = 0.0005\n",
      "\n",
      "Lasso    on PCA Data       :\tTrain = 0.022\tTest = 0.022\tAlpha = 0.0500\n",
      "Lasso CV on PCA Data       :\tTrain = 0.019\tTest = 0.019\tAlpha = 0.0016\n",
      "\n",
      "Lasso    on Tukey Data     :\tTrain = 0.024\tTest = 0.024\tAlpha = 0.0500\n",
      "Lasso CV on Tukey Data     :\tTrain = 0.016\tTest = 0.019\tAlpha = 0.0016\n",
      "\n",
      "Lasso    on Tukey PCA Data :\tTrain = 0.022\tTest = 0.022\tAlpha = 0.0500\n",
      "Lasso CV on Tukey PCA Data :\tTrain = 0.019\tTest = 0.019\tAlpha = 0.0011\n",
      "\n"
     ]
    }
   ],
   "source": [
    "# https://stackoverflow.com/questions/14270391/python-matplotlib-multiple-bars\n",
    "# def autolabel(rects):\n",
    "#     for rect in rects:\n",
    "#         h = rect.get_height()\n",
    "#         ax.text(rect.get_x()+rect.get_width()/2., 1.05*h, '%d'%int(h),\n",
    "#                 ha='center', va='bottom')\n",
    "\n",
    "# def print_lasso_val():\n",
    "#     N = 4\n",
    "#     ind = np.arange(N)  # the x locations for the groups\n",
    "#     width = 0.27       # the width of the bars\n",
    "\n",
    "#     fig = plt.figure()\n",
    "#     ax = fig.add_subplot(111)\n",
    "\n",
    "#     yvals = [4, 9, 2, 5]\n",
    "#     rects1 = ax.bar(ind, yvals, width, color='r')\n",
    "#     zvals = [1,2,3,5]\n",
    "#     rects2 = ax.bar(ind+width, zvals, width, color='g')\n",
    "#     kvals = [11,12,13, 5]\n",
    "#     rects3 = ax.bar(ind+width*2, kvals, width, color='b')\n",
    "\n",
    "#     ax.set_ylabel('Scores')\n",
    "#     ax.set_xticks(ind+width)\n",
    "#     ax.set_xticklabels( ('Original', 'PCA', 'Tukey', 'TukeyPCA') )\n",
    "#     ax.legend( (rects1[0], rects2[0], rects3[0]), ('y', 'z', 'k') )\n",
    "\n",
    "#     autolabel(rects1)\n",
    "#     autolabel(rects2)\n",
    "#     autolabel(rects3)\n",
    "#     plt.show()\n",
    "    \n",
    "def print_lasso_val(test_result, train_result, ylabel=\"\"):\n",
    "    N = 4\n",
    "    ind = np.arange(N)  # the x locations for the groups\n",
    "    width = 0.22       # the width of the bars\n",
    "\n",
    "    # Adjust Size of Figures\n",
    "    plt.rcParams[\"figure.figsize\"] = (12,9)\n",
    "    fig = plt.figure()\n",
    "    ax = fig.add_subplot(111)\n",
    "\n",
    "    #yvals = [4, 9, 2, 5]\n",
    "    yvals = [train_result[0], train_result[2], train_result[4], train_result[6]]\n",
    "    rects1 = ax.bar(ind, yvals, width, color='r')\n",
    "    #zvals = [1,2,3,5]\n",
    "    zvals = [test_result[0], test_result[2], test_result[4], test_result[6]]\n",
    "    rects2 = ax.bar(ind+width, zvals, width, color='g')\n",
    "    #kvals = [11,12,13, 5]\n",
    "    kvals = [train_result[1], train_result[3], train_result[5], train_result[7]]\n",
    "    rects3 = ax.bar(ind+width*2, kvals, width, color='b')\n",
    "    #jvals = [9,13,11, 4]\n",
    "    jvals = [test_result[1], test_result[3], test_result[5], test_result[7]]\n",
    "    rects4 = ax.bar(ind+width*3, jvals, width, color='y')\n",
    "\n",
    "    ax.set_title(ylabel)\n",
    "    ax.set_ylabel(ylabel)\n",
    "    ax.set_xticks(ind+width)\n",
    "    ax.set_xticklabels( ('Original', 'PCA', 'Tukey', 'TukeyPCA') )\n",
    "    ax.legend( (rects1[0], rects2[0], rects3[0], rects4[0]), ('Train', 'Test', 'CV Train', 'CV Test') )\n",
    "\n",
    "#     autolabel(rects1)\n",
    "#     autolabel(rects2)\n",
    "#     autolabel(rects3)\n",
    "#     autolabel(rects4)\n",
    "    plt.show()\n",
    "    \n",
    "#print_lasso_val()\n",
    "#print(test_mae)\n",
    "#print(test_mse)\n",
    "#print(test_r2s)\n",
    "\n",
    "\n",
    "def print_lasso_scores(test_result, train_result, alphas):\n",
    "    print(f\"Lasso    on Orig Data      :\\tTrain = {train_result[0]:.3f}\\tTest = {test_result[0]:.3f}\\tAlpha = {alphas[0]:.4f}\")\n",
    "    print(f\"Lasso CV on Orig Data      :\\tTrain = {train_result[1]:.3f}\\tTest = {test_result[1]:.3f}\\tAlpha = {alphas[1]:.4f}\\n\")\n",
    "    print(f\"Lasso    on PCA Data       :\\tTrain = {train_result[2]:.3f}\\tTest = {test_result[2]:.3f}\\tAlpha = {alphas[2]:.4f}\")\n",
    "    print(f\"Lasso CV on PCA Data       :\\tTrain = {train_result[3]:.3f}\\tTest = {test_result[3]:.3f}\\tAlpha = {alphas[3]:.4f}\\n\")\n",
    "    print(f\"Lasso    on Tukey Data     :\\tTrain = {train_result[0]:.3f}\\tTest = {test_result[0]:.3f}\\tAlpha = {alphas[4]:.4f}\")\n",
    "    print(f\"Lasso CV on Tukey Data     :\\tTrain = {train_result[1]:.3f}\\tTest = {test_result[1]:.3f}\\tAlpha = {alphas[5]:.4f}\\n\")\n",
    "    print(f\"Lasso    on Tukey PCA Data :\\tTrain = {train_result[2]:.3f}\\tTest = {test_result[2]:.3f}\\tAlpha = {alphas[6]:.4f}\")\n",
    "    print(f\"Lasso CV on Tukey PCA Data :\\tTrain = {train_result[3]:.3f}\\tTest = {test_result[3]:.3f}\\tAlpha = {alphas[7]:.4f}\\n\")\n",
    "\n",
    "print_lasso_val(test_r2s, train_r2s, \"R2S Score\")\n",
    "print(\"R2S Scores\")\n",
    "print_lasso_scores(test_r2s, train_r2s, alphas)\n",
    "\n",
    "print_lasso_val(test_mae, train_mae, \"MAE Score\")\n",
    "print(\"MAE Scores\")\n",
    "print_lasso_scores(test_mae, train_mae, alphas)\n",
    "\n",
    "print_lasso_val(test_mse, train_mse, \"MSE Score\")\n",
    "print(\"MSE Scores\")\n",
    "print_lasso_scores(test_mse, train_mse, alphas)"
   ]
  },
  {
   "cell_type": "code",
   "execution_count": null,
   "metadata": {
    "collapsed": true
   },
   "outputs": [],
   "source": []
  },
  {
   "cell_type": "code",
   "execution_count": null,
   "metadata": {
    "collapsed": true
   },
   "outputs": [],
   "source": []
  },
  {
   "cell_type": "code",
   "execution_count": null,
   "metadata": {
    "collapsed": true
   },
   "outputs": [],
   "source": []
  }
 ],
 "metadata": {
  "kernelspec": {
   "display_name": "Python 3.6",
   "language": "python",
   "name": "python3.6"
  },
  "language_info": {
   "codemirror_mode": {
    "name": "ipython",
    "version": 3
   },
   "file_extension": ".py",
   "mimetype": "text/x-python",
   "name": "python",
   "nbconvert_exporter": "python",
   "pygments_lexer": "ipython3",
   "version": "3.6.6"
  }
 },
 "nbformat": 4,
 "nbformat_minor": 1
}
