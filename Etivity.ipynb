{
 "cells": [
  {
   "cell_type": "markdown",
   "metadata": {},
   "source": [
    "### Student Name: Martin Power\n",
    "### Student ID:   9929345\n",
    "### Model Type:   Regression\n",
    "### Algorithm: Lasso Regression\n"
   ]
  },
  {
   "cell_type": "markdown",
   "metadata": {},
   "source": [
    "# Introduction\n",
    "\n",
    "This notebook is applying the Lasso Regression algorithm from SciKit-Learn to the UCI Crimes and Communities dataset. The goal is to deliver a model that can take the input attributes from the dataset and use this to predict the percentage of violent crime in the community. The dataset is available at [[7]](http://archive.ics.uci.edu/ml/datasets/communities+and+crime)\n",
    "\n",
    "During the project, I wanted to apply some of the techniques that were learned during CE4021 and to gain some insight into the real world application of these techniques. Specifically I focused on applying PCA and determining a sensible number of components to retain. I also investigated the impact of using the Tukey Interquartile Range method for outlier removal on the dataset. This was inspired by the talk that April Chen gave in the video section of CE4021 materials and the associated notebook she provied on Github [[1]](https://github.com/aprilypchen/depy2016/blob/master/DePy_Talk.ipynb)\n",
    "\n",
    "\n",
    "Why did I choose the Lasso model? Well when researching the algorithms I discovered that lasso delivers \"sparse\" models where most of the coefficients are zero. This is of interest to me as I am interested in how sparsity can be exploited in hardware implementations to deliver more efficient and low power solutions. I was interested to see if using the Lasso model would provide some insight on training a model to be sparse.\n",
    "\n",
    "Why the UCI Crimes and Community dataset? This dataset was suggested by Cormac in a group meeting and we agreed to pursue 3 dataset initially in order to meet the requirements of this project. Therefore, I used this dataset for my work.\n",
    "\n",
    "Based on the goals of the project and the specified requirements, the notebook is broken up into the following sections:\n",
    "\n",
    "* 1 Preparing the Dataset\n",
    "* 2 Running The Regression\n",
    "* 3 Applying PCA to the Dataset¶\n",
    "* 4 Experimenting with Using Lasso on Dataset with Outliers Removed using Tukey IQR Method\n",
    "* 5 Results\n",
    "* 6 References\n",
    "* Appendix 1 : Investigating Impact of n_components on achieved R2S Score\n",
    "* Appendix 2 : MAE and MSE Scores Obtained During Lasso Regression\n",
    "\n",
    "Martin Power"
   ]
  },
  {
   "cell_type": "code",
   "execution_count": 1,
   "metadata": {
    "collapsed": true
   },
   "outputs": [],
   "source": [
    "# Immport Required Packages and Modules\n",
    "\n",
    "import numpy as np\n",
    "import pandas as pd\n",
    "import matplotlib.pyplot as plt\n",
    "import re\n",
    "\n",
    "from sklearn import linear_model\n",
    "from sklearn.impute import SimpleImputer\n",
    "from sklearn.model_selection import train_test_split \n",
    "from sklearn.preprocessing import StandardScaler \n",
    "from sklearn.linear_model import LassoCV\n",
    "from sklearn.decomposition import PCA \n",
    "from sklearn.metrics import mean_absolute_error\n",
    "from sklearn.metrics import mean_squared_error\n",
    "from sklearn.metrics import r2_score\n",
    "\n",
    "%matplotlib inline"
   ]
  },
  {
   "cell_type": "markdown",
   "metadata": {},
   "source": [
    "### Parameters\n",
    "* SEED : Used as value for functions that take a random seed as an argument. The function of this parameter is to ensure repeatability between runs of the notebook\n",
    "* TEST_SIZE : Used to determine the split of the dataset into a Test set and a Training Set. Needs to be specified as a float between 0.0 and 1.0\n",
    "* VERBOSE : Enables higher verbosity for debug etc\n",
    "* COMPONENT_PCT : Determines the percentage of variance that each component must contribute to be included after applying PCA\n",
    "* ALPHA : Parameter used by Lasso Regression Algorithm\n",
    "* NUM_RESULTS : Number of Test Results to be Stored in Result Array\n",
    "* OUTLIER_LIMIT : If a row contains OUTLIER_LIMIT or more outliers, it is removed from dataset"
   ]
  },
  {
   "cell_type": "code",
   "execution_count": 2,
   "metadata": {
    "collapsed": true
   },
   "outputs": [],
   "source": [
    "SEED = 1            # Seed used for randomization and reproducability. Set to None for fully random\n",
    "\n",
    "TEST_SIZE = 0.3     # Train/Test Set Split\n",
    "\n",
    "VERBOSE = False     # Notebook Verbosity\n",
    "\n",
    "COMPONENT_PCT = 0.5 # Half a percent\n",
    "\n",
    "ALPHA = 0.05        # Alpha used as Lasso parameter\n",
    "\n",
    "NUM_RESULTS = 8     # Number of Regressions that will be run and need results storage\n",
    "\n",
    "OUTLIER_LIMIT = 25  # Limit to number of outliers allowed in a row of the dataset"
   ]
  },
  {
   "cell_type": "code",
   "execution_count": 3,
   "metadata": {
    "collapsed": false
   },
   "outputs": [],
   "source": [
    "# Numpy Arrays\n",
    "# Indices:\n",
    "# [0] = Lasso on Original Dataset\n",
    "# [1] = LassoCV on Original Dataset\n",
    "# [2] = Lasso on PCA Dataset\n",
    "# [3] = LassoCV on PCA Dataset\n",
    "# [4] = Lasso on Tukey IQR Dataset\n",
    "# [5] = LassoCV on Tukey IQR Dataset\n",
    "# [6] = Lasso on Tukey IQR with PCA Dataset\n",
    "# [7] = LassoCV on Tukey IQR with PCA Dataset\n",
    "\n",
    "# Use the following arrays to store the results of the regressions:\n",
    "train_mae = np.zeros(NUM_RESULTS)\n",
    "train_mse = np.zeros(NUM_RESULTS)\n",
    "train_r2s = np.zeros(NUM_RESULTS)\n",
    "\n",
    "test_mae = np.zeros(NUM_RESULTS)\n",
    "test_mse = np.zeros(NUM_RESULTS)\n",
    "test_r2s = np.zeros(NUM_RESULTS)\n",
    "\n",
    "alphas   = np.zeros(NUM_RESULTS)\n"
   ]
  },
  {
   "cell_type": "markdown",
   "metadata": {},
   "source": [
    "# 1 Preparing the Dataset\n",
    "\n",
    "## Loading the dataset\n",
    "\n",
    "Import the UCI Communities and Crimes dataset using Pandas\n",
    "Details on the dataset is available at the following [link](http://archive.ics.uci.edu/ml/machine-learning-databases/communities/communities.data)"
   ]
  },
  {
   "cell_type": "code",
   "execution_count": 4,
   "metadata": {
    "collapsed": true
   },
   "outputs": [],
   "source": [
    "# Following code is from [2] https://github.com/amclean3695/Communities-and-Crime/blob/master/Communities_and_Crime.ipynb\n",
    "\n",
    "#Reads in names from textfile and performs regex to extract the attribute names \n",
    "textfile = open('communities.names','r')\n",
    "filetext = textfile.read()\n",
    "textfile.close()\n",
    "matches = re.findall(r'-{2}\\s(\\w+)\\:{1}', filetext)\n",
    "col_names = matches[2:] #corresponds to the 128 attributes"
   ]
  },
  {
   "cell_type": "code",
   "execution_count": 5,
   "metadata": {
    "collapsed": false
   },
   "outputs": [
    {
     "name": "stdout",
     "output_type": "stream",
     "text": [
      "Original Dataset Shape is  (1994, 128)\n"
     ]
    }
   ],
   "source": [
    "df = pd.read_csv('communities.data', header=None, names=col_names)\n",
    "\n",
    "#data_url = 'http://archive.ics.uci.edu/ml/machine-learning-databases/communities/communities.data'\n",
    "#df = pd.read_csv(data_url, header=None)\n",
    "# The above code does not work as PythonAnywhere blocks outgoing connections for free accounts to non-whitelisted sites\n",
    "\n",
    "print(\"Original Dataset Shape is \", df.shape)\n"
   ]
  },
  {
   "cell_type": "markdown",
   "metadata": {},
   "source": [
    "## Remove Non-Predictive Attributes\n",
    "\n",
    "Of the 128 attributes loaded, for this dataset it is stated that:\n",
    "\n",
    "Attribute Information: (122 predictive, 5 non-predictive, 1 goal) \n",
    "* state: US state (by number) - not counted as predictive above, but if considered, should be consided nominal (nominal) \n",
    "* county: numeric code for county - not predictive, and many missing values (numeric) \n",
    "* community: numeric code for community - not predictive and many missing values (numeric) \n",
    "* communityname: community name - not predictive - for information only (string) \n",
    "* fold: fold number for non-random 10 fold cross validation, potentially useful for debugging, paired tests - not predictive (numeric) \n",
    "\n",
    "Therefore, the first five columns shall be removed from the dataset. This reduces the total number of columns from 128 to 123"
   ]
  },
  {
   "cell_type": "code",
   "execution_count": 6,
   "metadata": {
    "collapsed": false
   },
   "outputs": [
    {
     "name": "stdout",
     "output_type": "stream",
     "text": [
      "Dataset Shape with non-predictive attributes removed is  (1994, 123)\n"
     ]
    }
   ],
   "source": [
    "df = df.drop(['state', 'county', 'community', 'communityname', 'fold'], axis=1)\n",
    "print(\"Dataset Shape with non-predictive attributes removed is \", df.shape)\n"
   ]
  },
  {
   "cell_type": "markdown",
   "metadata": {},
   "source": [
    "## Replace Missing Data\n",
    "The dataset contains many cells that contain '?'. Attributes with more missing data than valid data will be removed from the dataset. For the remaining attributes with missing data, the missing data will be imputed.\n",
    "\n",
    "The first step is to replace the cells containing '?' with \"NaN\" (Not a Number)"
   ]
  },
  {
   "cell_type": "code",
   "execution_count": 7,
   "metadata": {
    "collapsed": false
   },
   "outputs": [
    {
     "name": "stdout",
     "output_type": "stream",
     "text": [
      "The top 25 attributes with missing data are:\n"
     ]
    },
    {
     "data": {
      "text/plain": [
       "LemasSwFTFieldPerPop    1675\n",
       "PctPolicAsian           1675\n",
       "PolicBudgPerPop         1675\n",
       "LemasSwornFT            1675\n",
       "LemasSwFTPerPop         1675\n",
       "LemasSwFTFieldOps       1675\n",
       "LemasTotalReq           1675\n",
       "LemasTotReqPerPop       1675\n",
       "PolicReqPerOffic        1675\n",
       "PolicPerPop             1675\n",
       "RacialMatchCommPol      1675\n",
       "PctPolicBlack           1675\n",
       "PctPolicHisp            1675\n",
       "PctPolicWhite           1675\n",
       "PctPolicMinor           1675\n",
       "PolicCars               1675\n",
       "LemasGangUnitDeploy     1675\n",
       "LemasPctPolicOnPatr     1675\n",
       "OfficAssgnDrugUnits     1675\n",
       "PolicOperBudg           1675\n",
       "PolicAveOTWorked        1675\n",
       "NumKindsDrugsSeiz       1675\n",
       "OtherPerCap                1\n",
       "PctLess9thGrade            0\n",
       "PctPopUnderPov             0\n",
       "dtype: int64"
      ]
     },
     "execution_count": 7,
     "metadata": {},
     "output_type": "execute_result"
    }
   ],
   "source": [
    "# Replace '?' with 'NaN'\n",
    "df = df.replace('?', np.nan)\n",
    "\n",
    "# Print the top-25 attributes with missing values. \n",
    "# Code reused from April Chen's DePy Talk Notebook in [1]\n",
    "print(\"The top 25 attributes with missing data are:\")\n",
    "df.isnull().sum().sort_values(ascending=False).head(25)"
   ]
  },
  {
   "cell_type": "markdown",
   "metadata": {},
   "source": [
    "Remove any attributes that have more missing data than valid data"
   ]
  },
  {
   "cell_type": "code",
   "execution_count": 8,
   "metadata": {
    "collapsed": false
   },
   "outputs": [
    {
     "name": "stdout",
     "output_type": "stream",
     "text": [
      "Dataset Shape with attributes with more than 50% missing data removed is  (1994, 101)\n"
     ]
    }
   ],
   "source": [
    "# If a column contains more than 50% of missing data, remove column from dataset\n",
    "for column in df:\n",
    "    if(df[column].isnull().sum()>=(df.shape[0]/2)):\n",
    "        if(VERBOSE==True):\n",
    "            print(\"Column \", column, df[column].isnull().sum())\n",
    "        df = df.drop([column], axis=1)\n",
    "\n",
    "print(\"Dataset Shape with attributes with more than 50% missing data removed is \", df.shape)"
   ]
  },
  {
   "cell_type": "code",
   "execution_count": 9,
   "metadata": {
    "collapsed": false
   },
   "outputs": [
    {
     "name": "stdout",
     "output_type": "stream",
     "text": [
      "The top 5 remaining attributes with missing data are:\n"
     ]
    },
    {
     "data": {
      "text/plain": [
       "OtherPerCap       1\n",
       "PctOccupManu      0\n",
       "HispPerCap        0\n",
       "NumUnderPov       0\n",
       "PctPopUnderPov    0\n",
       "dtype: int64"
      ]
     },
     "execution_count": 9,
     "metadata": {},
     "output_type": "execute_result"
    }
   ],
   "source": [
    "print(\"The top 5 remaining attributes with missing data are:\")\n",
    "df.isnull().sum().sort_values(ascending=False).head(5)\n"
   ]
  },
  {
   "cell_type": "markdown",
   "metadata": {},
   "source": [
    "There is only one missing value remaining. This single value could be replaced with the median of the column quite simply.\n",
    "\n",
    "However, for the sake of learning, I want to use the data imputing method outlined in April Chen's DePy_Talk notebook [[1]](https://github.com/aprilypchen/depy2016/blob/master/DePy_Talk.ipynb)"
   ]
  },
  {
   "cell_type": "code",
   "execution_count": 10,
   "metadata": {
    "collapsed": false
   },
   "outputs": [
    {
     "name": "stdout",
     "output_type": "stream",
     "text": [
      "Cell with Missing Data was df['OtherPerCap'][130]\n",
      "Prior to imputing, the value of this cell was  nan\n",
      "Prior to imputing, the median of this attribute was  0.25 This value could have been used instead of using Simple Imputer\n",
      "Post imputing, the value of this cell is  0.2847415955845459\n"
     ]
    }
   ],
   "source": [
    "# The missing cell is cell[130]\n",
    "# The value before imputing is \"NaN\"\n",
    "pre_impute = df['OtherPerCap'][130]\n",
    "\n",
    "# One option to replace the missing data would be to use the median:\n",
    "miss_median = df['OtherPerCap'].median()\n",
    "\n",
    "#df['OtherPerCap'][130] = miss_median <-- Use if sklearn required version is unavailable\n",
    "\n",
    "# Since there is only a single missing value, using an Imputer is overkill.\n",
    "# However, it is used here for the sake of experimentation\n",
    "\n",
    "imp = SimpleImputer(missing_values=np.nan, strategy='mean')\n",
    "imp.fit(df) \n",
    "df = pd.DataFrame(data=imp.transform(df) , columns=df.columns)\n",
    "\n",
    "post_impute = df['OtherPerCap'][130]\n",
    "\n",
    "print(\"Cell with Missing Data was df['OtherPerCap'][130]\")\n",
    "print(\"Prior to imputing, the value of this cell was \",pre_impute)\n",
    "print(\"Prior to imputing, the median of this attribute was \", miss_median,\"This value could have been used instead of using Simple Imputer\")\n",
    "print(\"Post imputing, the value of this cell is \", post_impute)\n"
   ]
  },
  {
   "cell_type": "markdown",
   "metadata": {},
   "source": [
    "## Outlier Detection\n",
    "\n",
    "Outlier detection uses the Tukey IQR method presented in the DePy Notebook by April Chen[[1]](https://github.com/aprilypchen/depy2016/blob/master/DePy_Talk.ipynb). The find_outliers_tukey() function is reused directly from this notebook.\n",
    "\n",
    "To allow comparision, the dataset without outliers removed is stored prior to outlier detection and removal. The dataset with outliers removed is also stored. This allows the regression algorithm to be run on both datasets and for the results to be compared\n",
    "\n",
    "The approach used here is to iterate through all columns and find any values that are considered as outliers using the Tukey IQR method. The indices of the rows in a given column considered as outliers are stored and used to increment a per row outlier count.\n",
    "\n",
    "At the end of the iteration, any given row that contains >=OUTLIER_LIMIT will be removed from the dataset as it is considered to have a high amount of outlying data"
   ]
  },
  {
   "cell_type": "code",
   "execution_count": 11,
   "metadata": {
    "collapsed": false
   },
   "outputs": [],
   "source": [
    "# From DePy_Talk Notebook[1]\n",
    "# Uses Tukey Inter Quartile Range (IQR) method for Outlier Detection\n",
    "def find_outliers_tukey(x):\n",
    "    q1 = np.percentile(x, 25)\n",
    "    q3 = np.percentile(x, 75)\n",
    "    iqr = q3-q1\n",
    "    floor = q1 - 1.5*iqr\n",
    "    ceiling = q3 + 1.5*iqr\n",
    "    outlier_indices = list(x.index[(x < floor)|(x > ceiling)])\n",
    "    outlier_values = list(x[outlier_indices])\n",
    "    \n",
    "    return outlier_indices, outlier_values\n",
    "\n",
    "# Initialize empty array to store the number of outliers detected in each row\n",
    "num_outliers_per_row = np.zeros(df.shape[0])\n",
    "\n",
    "\n",
    "# Parse each column and find the indices of the rows with an outlier for that column\n",
    "for column in df.columns:\n",
    "    tukey_indices, tukey_values = find_outliers_tukey(df[column])\n",
    "    #print(\"Outliers = \",len(tukey_indices), \"out of \",len(df[column]), \"in\",column,\"Column\")\n",
    "    # For all the outliers found, using the indices, increase the outlier count for rows wit outliers\n",
    "    for i in range(len(tukey_indices)):\n",
    "        num_outliers_per_row[tukey_indices[i]]+=1\n"
   ]
  },
  {
   "cell_type": "code",
   "execution_count": 12,
   "metadata": {
    "collapsed": false
   },
   "outputs": [
    {
     "name": "stdout",
     "output_type": "stream",
     "text": [
      "The max number of outliers detected in a row is :  34.0\n",
      "The min number of outliers detected in a row is :  0.0\n",
      "On average, each row contains  4.799398194583751 columns with data considered as an outlier\n"
     ]
    },
    {
     "data": {
      "image/png": "[encoded data removed]",
      "text/plain": [
       "<Figure size 864x648 with 1 Axes>"
      ]
     },
     "metadata": {},
     "output_type": "display_data"
    }
   ],
   "source": [
    "# Parse Array Detailing Number of Outliers per Row\n",
    "    \n",
    "print(\"The max number of outliers detected in a row is : \",num_outliers_per_row.max())\n",
    "print(\"The min number of outliers detected in a row is : \",num_outliers_per_row.min())\n",
    "print(\"On average, each row contains \",num_outliers_per_row.mean(), \"columns with data considered as an outlier\")\n",
    "\n",
    "# Adjust Size of Figures\n",
    "plt.rcParams[\"figure.figsize\"] = (12,9)\n",
    "\n",
    "# Display spread of outliers as a histogram\n",
    "plt.hist(num_outliers_per_row, bins=40, density=False, facecolor='cyan', edgecolor='black', align='left')\n",
    "plt.xlabel('Number of Outliers in Row')\n",
    "plt.ylabel('Number of Rows')\n",
    "plt.title('Histogram of Number of Outliers Per Row')\n",
    "plt.axvline(OUTLIER_LIMIT, color='k', linestyle='dashed', linewidth=2, label='Proposed Outlier Limit')\n",
    "plt.axvline(num_outliers_per_row.mean(), color='r', linestyle='dashed', linewidth=2, label='Avg Num Outliers Per Row')\n",
    "plt.grid(True)\n",
    "plt.figlegend(loc='right')\n",
    "plt.show()"
   ]
  },
  {
   "cell_type": "code",
   "execution_count": 13,
   "metadata": {
    "collapsed": false
   },
   "outputs": [
    {
     "name": "stdout",
     "output_type": "stream",
     "text": [
      "The limit for retaining a row is 25 outliers. Any rows exceeding this are removed\n",
      "Dataset Shape After Outlier Removal is  (1965, 101)\n"
     ]
    }
   ],
   "source": [
    "# Store off original dataset without outlier detection and removal\n",
    "dataset = df.values\n",
    "\n",
    "# Iterate through the per row outlier count and drop any rows that hit the OUTLIER_LIMIT\n",
    "for i in range(len(num_outliers_per_row)):\n",
    "    if(num_outliers_per_row[i]>=OUTLIER_LIMIT):\n",
    "        # Drop row containing the outlier\n",
    "        df = df.drop([i], axis=0)\n",
    "        if(VERBOSE==True):\n",
    "            print(\"Dropping Row[\",i,\"]\")\n",
    "\n",
    "print(\"The limit for retaining a row is\",OUTLIER_LIMIT, \"outliers. Any rows exceeding this are removed\")\n",
    "print(\"Dataset Shape After Outlier Removal is \", df.shape)\n",
    "\n",
    "# Store dataset with outliers removed using Tukey IQR method\n",
    "tukey_dataset = df.values"
   ]
  },
  {
   "cell_type": "markdown",
   "metadata": {
    "collapsed": true
   },
   "source": [
    "## Split Up Dataset\n",
    "\n",
    "Use train_test_split() to split the dataset into a Training Set and a Test Set. The split is determined by the parameter TEST_SIZE"
   ]
  },
  {
   "cell_type": "code",
   "execution_count": 14,
   "metadata": {
    "collapsed": true
   },
   "outputs": [],
   "source": [
    "# The Dataset shape is (1994, 101). THe first 100 columns are the attributes and the final column is the goal 'ViolentCrimesPerPop'\n",
    "X = dataset[:, 0:100]\n",
    "y = dataset[:, 100]\n",
    "\n",
    "X_train, X_test, y_train, y_test = train_test_split(X, y, test_size=TEST_SIZE, random_state=SEED) "
   ]
  },
  {
   "cell_type": "markdown",
   "metadata": {},
   "source": [
    "## Scale the Dataset\n",
    "\n",
    "Scaling was introduced in Lab 3 of CE4031 Deep Learning module. The scaling performed here follows the method outlined in that lab.\n",
    "\n",
    "StandardScaler() is used to standardize the features by removing the mean and scaling to unit variance\n",
    "\n",
    "The fit function is first used on the training data to calculate the mean and the standard deviation. The transform function is then applied independently to the training data and the test data\n"
   ]
  },
  {
   "cell_type": "code",
   "execution_count": 15,
   "metadata": {
    "collapsed": false
   },
   "outputs": [],
   "source": [
    "# Scale the dataset\n",
    "\n",
    "# Scale the data with respect to the training data set \n",
    "scaler = StandardScaler() \n",
    "scaler.fit(X_train) \n",
    "\n",
    "X_scaled_train = scaler.transform(X_train) \n",
    "# Scaling the test set using the transform defined by the train set. \n",
    "X_scaled_test = scaler.transform(X_test) "
   ]
  },
  {
   "cell_type": "markdown",
   "metadata": {},
   "source": [
    "# 2 Running The Regression\n",
    "\n",
    "## Lasso Model\n",
    "\n",
    "Lasso stands for Least Absolute Shrinkage and Selection Operator and is a regression algorithm available in within SciKit Learn. Details are available at <a href=\"https://en.wikipedia.org/wiki/Lasso_(statistics)\">[3]</a>\n",
    "\n",
    "Lasso is a linear model trained with l1 prior as a regularizer. The regularization is controlled by the constant alpha. Alpha can vary between 0 and 1. A quick survey of reference implementations of Lasso show a value of alpha=0.1 being most commonly used. This is used here initially but subsequently will be improved upon using a grid search with LassoCV\n"
   ]
  },
  {
   "cell_type": "code",
   "execution_count": 16,
   "metadata": {
    "collapsed": false
   },
   "outputs": [
    {
     "data": {
      "text/plain": [
       "Lasso(alpha=0.05, copy_X=True, fit_intercept=True, max_iter=1000,\n",
       "   normalize=False, positive=False, precompute=False, random_state=None,\n",
       "   selection='cyclic', tol=0.0001, warm_start=False)"
      ]
     },
     "execution_count": 16,
     "metadata": {},
     "output_type": "execute_result"
    }
   ],
   "source": [
    "lasso = linear_model.Lasso(alpha=ALPHA)\n",
    "lasso.fit(X_scaled_train, y_train)"
   ]
  },
  {
   "cell_type": "code",
   "execution_count": 17,
   "metadata": {
    "collapsed": true
   },
   "outputs": [],
   "source": [
    "#### Function to Print Model Scores\n",
    "def print_model_scores(y_hat, y, print_scores=True):\n",
    "    mae = mean_absolute_error(y, y_hat)\n",
    "    mse = mean_squared_error(y, y_hat)\n",
    "    r2s = r2_score(y, y_hat)\n",
    "    if(print_scores==True):\n",
    "        print(\"MAE       :\", mae)\n",
    "        print(\"MSE       :\", mse)\n",
    "        print(\"R^2 Score :\",r2s)\n",
    "    \n",
    "    return mae, mse, r2s"
   ]
  },
  {
   "cell_type": "code",
   "execution_count": 18,
   "metadata": {
    "collapsed": false
   },
   "outputs": [
    {
     "name": "stdout",
     "output_type": "stream",
     "text": [
      "Lasso Model Train Accuracy\n",
      "MAE       : 0.11163927949298785\n",
      "MSE       : 0.024135166206471208\n",
      "R^2 Score : 0.5627421370498684\n"
     ]
    }
   ],
   "source": [
    "# Determine accuracy using the train set\n",
    "y_hat_train = lasso.predict(X_scaled_train)\n",
    "\n",
    "print(\"Lasso Model Train Accuracy\")\n",
    "train_mae[0], train_mse[0], train_r2s[0] = print_model_scores(y_hat_train, y_train)\n",
    "\n",
    "alphas[0] = ALPHA"
   ]
  },
  {
   "cell_type": "code",
   "execution_count": 19,
   "metadata": {
    "collapsed": false
   },
   "outputs": [
    {
     "name": "stdout",
     "output_type": "stream",
     "text": [
      "Lasso Model Test Accuracy\n",
      "MAE       : 0.11025089967206587\n",
      "MSE       : 0.02377442721173159\n",
      "R^2 Score : 0.5429875563308268\n"
     ]
    }
   ],
   "source": [
    "# Determine the accuracy using the test set\n",
    "y_hat = lasso.predict(X_scaled_test)\n",
    "\n",
    "print(\"Lasso Model Test Accuracy\")\n",
    "test_mae[0], test_mse[0], test_r2s[0] = print_model_scores(y_hat, y_test)"
   ]
  },
  {
   "cell_type": "markdown",
   "metadata": {},
   "source": [
    "## Gridsearch / Cross Validation with Lasso Model\n",
    "\n",
    "The initial Lasso model used an alpha value of 0.1. This value was not determined experimentally and instead was used as it is the most common value in reference implementations. This was subsequently changed to 0.05.\n",
    "\n",
    "SciKit-Learn provides a cross-validation option for using Lasso, LassoCV(), that sets the Lasso alpha value by iterating through a number of values and then selecting the value of alpha that delivers the best model"
   ]
  },
  {
   "cell_type": "code",
   "execution_count": 20,
   "metadata": {
    "collapsed": false
   },
   "outputs": [
    {
     "name": "stdout",
     "output_type": "stream",
     "text": [
      "The value of Alpha determined by cross validation is  0.000498969217524633\n",
      "Lasso CV Model Train Accuracy\n",
      "MAE       : 0.09118801603926771\n",
      "MSE       : 0.016454582405940426\n",
      "R^2 Score : 0.7018916100677516\n"
     ]
    }
   ],
   "source": [
    "lasso_cv = LassoCV(alphas = None, cv = 10, max_iter = 100000, random_state=SEED) \n",
    "lasso_cv.fit(X_scaled_train, y_train)\n",
    "print(\"The value of Alpha determined by cross validation is \", lasso_cv.alpha_)\n",
    "\n",
    "# Determine accuracy using the train set\n",
    "y_hat_cv_train = lasso_cv.predict(X_scaled_train)\n",
    "\n",
    "print(\"Lasso CV Model Train Accuracy\")\n",
    "train_mae[1], train_mse[1], train_r2s[1] = print_model_scores(y_hat_cv_train, y_train)\n",
    "alphas[1] = lasso_cv.alpha_"
   ]
  },
  {
   "cell_type": "code",
   "execution_count": 21,
   "metadata": {
    "collapsed": false
   },
   "outputs": [
    {
     "name": "stdout",
     "output_type": "stream",
     "text": [
      "Lasso CV Model Test Accuracy\n",
      "MAE       : 0.09352252159300008\n",
      "MSE       : 0.018937740495832415\n",
      "R^2 Score : 0.6359624993487838\n"
     ]
    }
   ],
   "source": [
    "y_hat_cv = lasso_cv.predict(X_scaled_test)\n",
    "\n",
    "print(\"Lasso CV Model Test Accuracy\")\n",
    "test_mae[1], test_mse[1], test_r2s[1]  = print_model_scores(y_hat_cv, y_test)"
   ]
  },
  {
   "cell_type": "markdown",
   "metadata": {},
   "source": [
    "# 3 Applying PCA to the Dataset\n",
    "\n",
    "I wanted to use this project as an oppurtunity to apply some of the PCA knowledge acquired during the CE4021 module and to also see some of the real world issues faced when applying PCA.\n",
    "\n",
    "Specifically, I wanted to find out if there was a deterministic method or some guideline available to help choosing the number of components to retain.\n",
    "\n",
    "I found a very useful book chapter at [[4]](https://www.researchgate.net/profile/Ehsan_Khedive/post/How_many_components_can_I_retrieve_in_principal_component_analysis/attachment/59d626f2c49f478072e9b1be/AS%3A272185124425729%401441905398541/download/Principal+Component+Analysis+SAS.pdf) . Pages 22-27 give a number of options. A quick summary of these options:\n",
    "* Eigenvalue-One Criterion - Retain and interpret any component with an eigenvalue greater than 1\n",
    "* Scree Test - Plot the Eigenvalues associated with each component and look for a \"break\" between the components with large eigenvalues and small eigenvalues\n",
    "* Proportion of Variance Accounted For - Retain a component if it accounts for a specified proportion of variance in the data set. For example, you could retain any component that accounts for more than 5% of the total variance. An alternative version of this criterion is to retain enough components to that the cumulative percentage of the variance accounted for is equal to some value. For example, retain enough components to account for 90% of the variance.\n",
    "\n",
    "The following sections apply PCA to the original Communities and Crime dataset and investigatge the results according to the criterion listed above\n",
    "\n",
    "## Determining the Appropriate Value for n_components"
   ]
  },
  {
   "cell_type": "code",
   "execution_count": 22,
   "metadata": {
    "collapsed": true
   },
   "outputs": [],
   "source": [
    "# Apply an initial run of PCA and use to interrogate the number of components, spread of variance etc\n",
    "\n",
    "pca = PCA()\n",
    "pca.fit(X_scaled_train)\n",
    "X_pca_train = pca.transform(X_scaled_train)\n",
    "X_pca_test = pca.transform(X_scaled_test)\n",
    "    "
   ]
  },
  {
   "cell_type": "markdown",
   "metadata": {},
   "source": [
    "### Eigenvalue-One Criteria Check"
   ]
  },
  {
   "cell_type": "code",
   "execution_count": 23,
   "metadata": {
    "collapsed": false
   },
   "outputs": [
    {
     "name": "stdout",
     "output_type": "stream",
     "text": [
      "Number of PCA components with an Eigenvalue greater than 1.0 is 54\n"
     ]
    }
   ],
   "source": [
    "# Eigenvalue-One Criteria Check\n",
    "n_components_gt1 = 0\n",
    "\n",
    "# Determine the number of components with an Eigenvalue greater than 1.0\n",
    "for i in range(len(pca.explained_variance_)):\n",
    "    if(pca.explained_variance_[i]>0.1):\n",
    "        n_components_gt1+=1\n",
    "print(\"Number of PCA components with an Eigenvalue greater than 1.0 is\",n_components_gt1)\n"
   ]
  },
  {
   "cell_type": "markdown",
   "metadata": {},
   "source": [
    "### Scree Plot Check"
   ]
  },
  {
   "cell_type": "code",
   "execution_count": 24,
   "metadata": {
    "collapsed": false
   },
   "outputs": [
    {
     "data": {
      "image/png": "[encoded data removed]",
      "text/plain": [
       "<Figure size 864x648 with 1 Axes>"
      ]
     },
     "metadata": {},
     "output_type": "display_data"
    },
    {
     "name": "stdout",
     "output_type": "stream",
     "text": [
      "The explained variance ratio shows how much each component contributes to overall variance.\n",
      "The total overall variance is 1.0\n",
      "The first component of the PCA analysis contributes over 25% of the total variance\n",
      "After about 20 components, the amount of variance contributed by each component starts getting to 1% or less\n"
     ]
    }
   ],
   "source": [
    "# Plot the Variance Ratio of the Components Determined using PCA. Also known as a scree plot\n",
    "\n",
    "# Adjust Size of Figures\n",
    "plt.rcParams[\"figure.figsize\"] = (12,9)\n",
    "\n",
    "plt.title('Scree Plot')\n",
    "plt.ylabel('pca.explained_variance_ratio_')\n",
    "plt.xlabel('Component')\n",
    "plt.plot(pca.explained_variance_ratio_, 'or')\n",
    "plt.show()\n",
    "\n",
    "print(\"The explained variance ratio shows how much each component contributes to overall variance.\")\n",
    "print(\"The total overall variance is 1.0\")\n",
    "print(\"The first component of the PCA analysis contributes over 25% of the total variance\")\n",
    "print(\"After about 20 components, the amount of variance contributed by each component starts getting to 1% or less\")\n",
    "\n"
   ]
  },
  {
   "cell_type": "markdown",
   "metadata": {},
   "source": [
    "### Proportion of Variance Accounted For (Cumulative Variance) Check"
   ]
  },
  {
   "cell_type": "code",
   "execution_count": 25,
   "metadata": {
    "collapsed": false
   },
   "outputs": [
    {
     "data": {
      "image/png": "[encoded data removed]",
      "text/plain": [
       "<Figure size 864x648 with 1 Axes>"
      ]
     },
     "metadata": {},
     "output_type": "display_data"
    },
    {
     "name": "stdout",
     "output_type": "stream",
     "text": [
      "The plot shows the total variance contributed by n components\n",
      "For example, if all 100 components are included, then 100% of the variance is contributed\n",
      "However, you can see that if just 10 components are included, 80% of the variance is contributed\n",
      "Similarly, by including the first 22 components from PCA, 90% of the variance is contributed\n",
      "To get to 95%, 33 components need to be included. \n",
      "The remaining 5% requires an additional 67 components to be included\n"
     ]
    }
   ],
   "source": [
    "# Graph detailing how as the number of components that is retained increases, the overall variance approaches 1\n",
    "# From this graph you can determine how many components are needed to retain 80%, 90%, 95%, etc of the variance\n",
    "\n",
    "explained_variance_sum = np.zeros(len(pca.explained_variance_ratio_))\n",
    "\n",
    "ratio_spread = np.zeros(8)\n",
    "ratios = ['>50% Variance', '>25% Variance', '>10% Variance', '>5% Variance', '>2% Variance', '>1% Variance', '>0.5%Variance', '<0.5% Variance']\n",
    "\n",
    "for i in range(len(pca.explained_variance_ratio_)):\n",
    "    if(i==0):\n",
    "        explained_variance_sum[0] = pca.explained_variance_ratio_[0]\n",
    "    else:\n",
    "        explained_variance_sum[i] = explained_variance_sum[i-1] + pca.explained_variance_ratio_[i]\n",
    "    if(pca.explained_variance_ratio_[i]>=0.5):\n",
    "        ratio_spread[0]+=1\n",
    "    if(pca.explained_variance_ratio_[i]>=0.25):\n",
    "        ratio_spread[1]+=1\n",
    "    if(pca.explained_variance_ratio_[i]>=0.1):\n",
    "        ratio_spread[2]+=1\n",
    "    if(pca.explained_variance_ratio_[i]>=0.05):\n",
    "        ratio_spread[3]+=1\n",
    "    if(pca.explained_variance_ratio_[i]>=0.02):\n",
    "        ratio_spread[4]+=1\n",
    "    if(pca.explained_variance_ratio_[i]>=0.01):\n",
    "        ratio_spread[5]+=1\n",
    "    if(pca.explained_variance_ratio_[i]>=0.005):\n",
    "        ratio_spread[6]+=1\n",
    "    if(pca.explained_variance_ratio_[i]<0.005):\n",
    "        ratio_spread[7]+=1\n",
    "    if(VERBOSE==True):\n",
    "        print(\"i\", i, \"value\", explained_variance_sum[i])\n",
    "    \n",
    "plt.title('Total Variance Contributed by n Components')\n",
    "plt.ylabel('Total Variance Contributed')\n",
    "plt.xlabel('Number of Component Included (n)')\n",
    "plt.plot(explained_variance_sum, 'or')\n",
    "plt.axhline(0.8, color='k', linestyle='dashed', linewidth=2, label='80% of variance')\n",
    "plt.axhline(0.9, color='g', linestyle='dashed', linewidth=2, label='90% of variance')\n",
    "plt.axhline(0.95, color='b', linestyle='dashed', linewidth=2, label='95% of variance')\n",
    "plt.axhline(1.0, color='y', linestyle='dashed', linewidth=2, label='100% of variance')\n",
    "plt.axvline(10, color='k', linestyle='solid', linewidth=2, label='n = 10')\n",
    "plt.axvline(22, color='g', linestyle='solid', linewidth=2, label='n = 22')\n",
    "plt.axvline(33, color='b', linestyle='solid', linewidth=2, label='n = 33')\n",
    "plt.axvline(100, color='y', linestyle='solid', linewidth=2, label='n = 100')\n",
    "plt.figlegend(loc='center')\n",
    "plt.show()\n",
    "\n",
    "print(\"The plot shows the total variance contributed by n components\")\n",
    "print(\"For example, if all 100 components are included, then 100% of the variance is contributed\")\n",
    "print(\"However, you can see that if just 10 components are included, 80% of the variance is contributed\")\n",
    "print(\"Similarly, by including the first 22 components from PCA, 90% of the variance is contributed\")\n",
    "print(\"To get to 95%, 33 components need to be included. \\nThe remaining 5% requires an additional 67 components to be included\")\n",
    "\n"
   ]
  },
  {
   "cell_type": "markdown",
   "metadata": {},
   "source": [
    "### Proportion of Variance Accounted For (% of Total Variance Accounted For) Check"
   ]
  },
  {
   "cell_type": "code",
   "execution_count": 26,
   "metadata": {
    "collapsed": false
   },
   "outputs": [
    {
     "data": {
      "image/png": "[encoded data removed]",
      "text/plain": [
       "<Figure size 864x648 with 1 Axes>"
      ]
     },
     "metadata": {},
     "output_type": "display_data"
    },
    {
     "name": "stdout",
     "output_type": "stream",
     "text": [
      "From the chart, it can be seen that one component contributes over 25% of the overall variance\n",
      "Overall, 24 out of the 110 components each contribute more than 0.5% of the variance.\n",
      "The remaining 76 each contribute less than half a percent of the variance\n",
      "Therefore, I am choosing n=24 for applying PCA to the dataset\n"
     ]
    }
   ],
   "source": [
    "# The following bar chart shows how many components contribute X% or more of the variance\n",
    "# e.g. How many components contribute more than 10% of the variance\n",
    "plt.bar([1,2,3,4,5,6,7,8],ratio_spread,facecolor='green', edgecolor='black')\n",
    "plt.ylabel('Number of Components')\n",
    "plt.title('Distribution of Number of Components That Contribute More Than x% of Variance')\n",
    "# From https://stackoverflow.com/questions/12998430/remove-xticks-in-a-matplotlib-plot\n",
    "# Remove ticks and labels from X-axis\n",
    "plt.tick_params(\n",
    "    axis='x',          # changes apply to the x-axis\n",
    "    which='both',      # both major and minor ticks are affected\n",
    "    bottom=False,      # ticks along the bottom edge are off\n",
    "    top=False,         # ticks along the top edge are off\n",
    "    labelbottom=False) # labels along the bottom edge are off\n",
    "the_table = plt.table(cellText=(ratio_spread.astype(int).reshape(1,8)),colLabels=ratios,loc='bottom')\n",
    "# From https://stackoverflow.com/questions/9932072/matplotlib-table-formatting\n",
    "# Adjust cell height\n",
    "table_props = the_table.properties()\n",
    "table_cells = table_props['child_artists']\n",
    "for cell in table_cells: cell.set_height(0.1)\n",
    "plt.show()\n",
    "\n",
    "print(\"From the chart, it can be seen that one component contributes over 25% of the overall variance\")\n",
    "print(\"Overall, 24 out of the 110 components each contribute more than 0.5% of the variance.\")\n",
    "print(\"The remaining 76 each contribute less than half a percent of the variance\")\n",
    "print(\"Therefore, I am choosing n=24 for applying PCA to the dataset\")\n"
   ]
  },
  {
   "cell_type": "markdown",
   "metadata": {},
   "source": [
    "## PCA Criteria Check Results and Analysis\n",
    "\n",
    "* The Eigenvalue One check suggest using n_components=54\n",
    "* The Scree Plot does not have an obvious break to indicate the split\n",
    "* The Proportion of Variance Accounted 10 components to get to 80%, 22 components to get to 90% and 33 components to get to 95% of total variance account for. \n",
    "* Breaking down the Proportion of Variance by the amount of variance contributed by each vector, it shows that 24 of the vectors contribute more than 0.5% each while the remaining 76% contribute less than half each\n",
    "\n",
    "Although the Eigenvalue One check suggested using n_components=54, this retained over half of the components and I want to experiment to see what results can be obtained with shrinking the dataset by more than half. Therefore, I am going to retain all components that contribute more than 0.5% of the total variance each. This works out at 24 components which from previous plot indicates that it should account for between 90-95% of the total variance in the dataset"
   ]
  },
  {
   "cell_type": "code",
   "execution_count": 27,
   "metadata": {
    "collapsed": false
   },
   "outputs": [
    {
     "name": "stdout",
     "output_type": "stream",
     "text": [
      "Number of PCA components that contribute >= 0.5 % of variance is  24\n"
     ]
    }
   ],
   "source": [
    "# Determine the number of components that contribute more than COMPONENT_PCT of variance and use this\n",
    "# value as n_components when applying PCA\n",
    "\n",
    "n_components_pca = 0\n",
    "\n",
    "percent_contrib = COMPONENT_PCT\n",
    "\n",
    "# Determine the number of components that contribute more than 'percent_contrib' of variance and use this for the PCA value\n",
    "for i in range(len(pca.explained_variance_)):\n",
    "    if(pca.explained_variance_ratio_[i]>=(percent_contrib/100)):\n",
    "        n_components_pca+=1\n",
    "print(\"Number of PCA components that contribute >=\",percent_contrib,\"% of variance is \",n_components_pca)\n",
    "\n",
    "pca_red = PCA(n_components=n_components_pca)\n",
    "pca_red.fit(X_scaled_train)\n",
    "X_pca_red_train = pca_red.transform(X_scaled_train)\n",
    "X_pca_red_test = pca_red.transform(X_scaled_test)\n",
    "if (VERBOSE==True):\n",
    "    print(pca_red.explained_variance_)\n",
    "    print(len(pca_red.explained_variance_))\n",
    "    print(X_pca_red_train.shape)\n",
    "    print(X_pca_red_test.shape)\n",
    "    print(type(pca_red.explained_variance_))\n",
    "    print(pca_red.explained_variance_.sum())\n"
   ]
  },
  {
   "cell_type": "markdown",
   "metadata": {},
   "source": [
    "## Running Lasso and LassoCv On PCA-Reduced Dataset"
   ]
  },
  {
   "cell_type": "code",
   "execution_count": 28,
   "metadata": {
    "collapsed": false
   },
   "outputs": [
    {
     "name": "stdout",
     "output_type": "stream",
     "text": [
      "\n",
      "Lasso Model Train Accuracy on PCA-reduced Data Using Alpha= 0.05\n",
      "MAE       : 0.10559678743397882\n",
      "MSE       : 0.021825842262882433\n",
      "R^2 Score : 0.604580260052413\n",
      "\n",
      "Lasso Model Test Accuracy on PCA-reduced Data Using Alpha= 0.05\n",
      "MAE       : 0.10365304604755765\n",
      "MSE       : 0.022059782880632754\n",
      "R^2 Score : 0.5759479212136577\n"
     ]
    }
   ],
   "source": [
    "# Lasso with alpha=ALPHA on PCA-reduced Dataset\n",
    "lasso_pca = linear_model.Lasso(alpha=ALPHA)\n",
    "lasso_pca.fit(X_pca_red_train, y_train)\n",
    "\n",
    "y_pca_red_train_hat = lasso_pca.predict(X_pca_red_train)\n",
    "\n",
    "print(\"\\nLasso Model Train Accuracy on PCA-reduced Data Using Alpha=\",ALPHA)\n",
    "train_mae[2], train_mse[2], train_r2s[2] = print_model_scores(y_pca_red_train_hat, y_train)\n",
    "alphas[2] = ALPHA\n",
    "\n",
    "y_pca_red_hat = lasso_pca.predict(X_pca_red_test)\n",
    "\n",
    "if(VERBOSE==True):\n",
    "    print(y_pca_red_hat.shape)\n",
    "    print(y_test.shape)\n",
    "    print(y_pca_red_hat[0:5])\n",
    "    print(y_test[0:5])\n",
    "    print(lasso_pca.score(X_pca_red_test,y_test))\n",
    "\n",
    "print(\"\\nLasso Model Test Accuracy on PCA-reduced Data Using Alpha=\",ALPHA)\n",
    "test_mae[2], test_mse[2], test_r2s[2]  = print_model_scores(y_pca_red_hat, y_test)"
   ]
  },
  {
   "cell_type": "code",
   "execution_count": 29,
   "metadata": {
    "collapsed": false
   },
   "outputs": [
    {
     "name": "stdout",
     "output_type": "stream",
     "text": [
      "\n",
      "Lasso CV Model Train Accuracy on PCA-reduced Data Using Alpha= 0.001497954939643979\n",
      "MAE       : 0.09692164248161278\n",
      "MSE       : 0.018612345693213347\n",
      "R^2 Score : 0.6627993181119484\n",
      "\n",
      "Lasso CV Model Test Accuracy on PCA-reduced Data Using Alpha= 0.001497954939643979\n",
      "MAE       : 0.09525294858602334\n",
      "MSE       : 0.019513249958301667\n",
      "R^2 Score : 0.6248995625446525\n"
     ]
    }
   ],
   "source": [
    "# LassoCV on PCA-reduced Dataset\n",
    "lasso_pca_cv = LassoCV(alphas = None, cv = 10, max_iter = 1000, random_state=SEED) \n",
    "lasso_pca_cv.fit(X_pca_red_train, y_train)\n",
    "\n",
    "y_pca_red_train_hat_cv = lasso_pca_cv.predict(X_pca_red_train)\n",
    "\n",
    "print(\"\\nLasso CV Model Train Accuracy on PCA-reduced Data Using Alpha=\",lasso_pca_cv.alpha_)\n",
    "train_mae[3], train_mse[3], train_r2s[3] = print_model_scores(y_pca_red_train_hat_cv, y_train)\n",
    "alphas[3] = lasso_pca_cv.alpha_\n",
    "\n",
    "y_pca_red_hat_cv = lasso_pca_cv.predict(X_pca_red_test)\n",
    "if(VERBOSE==True):\n",
    "    print(y_pca_red_hat_cv[0:20])\n",
    "    print(y_test[0:20])\n",
    "\n",
    "print(\"\\nLasso CV Model Test Accuracy on PCA-reduced Data Using Alpha=\",lasso_pca_cv.alpha_)\n",
    "test_mae[3], test_mse[3], test_r2s[3]  = print_model_scores(y_pca_red_hat_cv, y_test)"
   ]
  },
  {
   "cell_type": "markdown",
   "metadata": {
    "collapsed": true
   },
   "source": [
    "# 4 Experimenting with  Using Lasso on Dataset with Outliers Removed using Tukey IQR Method\n",
    "\n",
    "The following section follows the same approach as the previous Lasso runs except this time the source dataset is the dataset with outliers removed using the Tukey IQR method.\n",
    "\n",
    "I run Lasso and Lasso CV on the Tukey dataset and then I apply PCA to the Tukey dataset and re-run Lasso and Lasso CV.\n",
    "\n",
    "The goal here is to see the impact of removing the outliers and to see the impact of applying PCA"
   ]
  },
  {
   "cell_type": "code",
   "execution_count": 30,
   "metadata": {
    "collapsed": false
   },
   "outputs": [
    {
     "name": "stdout",
     "output_type": "stream",
     "text": [
      "\n",
      "Lasso Model Train Accuracy on Tukey Dataset Using Alpha= 0.05\n",
      "MAE       : 0.11230521366338495\n",
      "MSE       : 0.02486105854901935\n",
      "R^2 Score : 0.5237754543152446\n",
      "\n",
      "Lasso Model Test Accuracy on Tukey Dataset Using Alpha= 0.05\n",
      "MAE       : 0.11080702912180322\n",
      "MSE       : 0.022872309915470204\n",
      "R^2 Score : 0.5389739322882035\n",
      "\n",
      "Lasso CV Model Train Accuracy with Tukey Dataset Using Alpha= 0.00038168568346000944\n",
      "MAE       : 0.09098461623043984\n",
      "MSE       : 0.016969650882379526\n",
      "R^2 Score : 0.6749388500109191\n",
      "\n",
      "Lasso CV Model Test Accuracy with Tukey Dataset Using Alpha= 0.00038168568346000944\n",
      "MAE       : 0.09412338824307705\n",
      "MSE       : 0.01736387504427122\n",
      "R^2 Score : 0.650004784760071\n"
     ]
    }
   ],
   "source": [
    "tukey_X = tukey_dataset[:, 0:100]\n",
    "tukey_y = tukey_dataset[:, 100]\n",
    "\n",
    "tukey_X_train, tukey_X_test, tukey_y_train, tukey_y_test = train_test_split(tukey_X, tukey_y, test_size=TEST_SIZE, random_state=SEED) \n",
    "\n",
    "# Scale the data with respect to the training data set \n",
    "tukey_scaler = StandardScaler() \n",
    "tukey_scaler.fit(tukey_X_train) \n",
    "\n",
    "tukey_X_scaled_train = tukey_scaler.transform(tukey_X_train) \n",
    "# Scaling the test set using the transform defined by the train set. \n",
    "tukey_X_scaled_test = tukey_scaler.transform(tukey_X_test) \n",
    "\n",
    "tukey_lasso = linear_model.Lasso(alpha=ALPHA)\n",
    "tukey_lasso.fit(tukey_X_scaled_train, tukey_y_train)\n",
    "\n",
    "# Determine accuracy using the train set\n",
    "tukey_y_hat_train = tukey_lasso.predict(tukey_X_scaled_train)\n",
    "\n",
    "print(\"\\nLasso Model Train Accuracy on Tukey Dataset Using Alpha=\",ALPHA)\n",
    "train_mae[4], train_mse[4], train_r2s[4] = print_model_scores(tukey_y_hat_train, tukey_y_train)\n",
    "alphas[4] = ALPHA\n",
    "\n",
    "# Determine the accuracy using the test test\n",
    "tukey_y_hat = tukey_lasso.predict(tukey_X_scaled_test)\n",
    "\n",
    "print(\"\\nLasso Model Test Accuracy on Tukey Dataset Using Alpha=\",ALPHA)\n",
    "test_mae[4], test_mse[4], test_r2s[4] = print_model_scores(tukey_y_hat, tukey_y_test)\n",
    "\n",
    "tukey_lasso_cv = LassoCV(alphas = None, cv = 10, max_iter = 100000, random_state=SEED) \n",
    "tukey_lasso_cv.fit(tukey_X_scaled_train, tukey_y_train)\n",
    "\n",
    "\n",
    "# Determine accuracy using the train set\n",
    "tukey_y_hat_cv_train = tukey_lasso_cv.predict(tukey_X_scaled_train)\n",
    "\n",
    "print(\"\\nLasso CV Model Train Accuracy with Tukey Dataset Using Alpha=\",tukey_lasso_cv.alpha_)\n",
    "train_mae[5], train_mse[5], train_r2s[5]  = print_model_scores(tukey_y_hat_cv_train, tukey_y_train)\n",
    "alphas[5] = tukey_lasso_cv.alpha_\n",
    "\n",
    "tukey_y_hat_cv = tukey_lasso_cv.predict(tukey_X_scaled_test)\n",
    "\n",
    "print(\"\\nLasso CV Model Test Accuracy with Tukey Dataset Using Alpha=\",tukey_lasso_cv.alpha_)\n",
    "test_mae[5], test_mse[5], test_r2s[5] = print_model_scores(tukey_y_hat_cv, tukey_y_test)"
   ]
  },
  {
   "cell_type": "markdown",
   "metadata": {},
   "source": [
    "## Apply PCA Reduction to the Tukey Dataset using same criteria as retaining all components that contribute greater than 0.5% of the total variance"
   ]
  },
  {
   "cell_type": "code",
   "execution_count": 31,
   "metadata": {
    "collapsed": false
   },
   "outputs": [
    {
     "name": "stdout",
     "output_type": "stream",
     "text": [
      "Number of PCA components that contribute >= 0.5 % of variance is  24\n"
     ]
    }
   ],
   "source": [
    "# Apply PCA reduction to the Tukey Dataset\n",
    "tukey_pca = PCA()\n",
    "tukey_pca.fit(X_scaled_train)\n",
    "tukey_X_pca_train = pca.transform(tukey_X_scaled_train)\n",
    "tukey_X_pca_test = pca.transform(tukey_X_scaled_test)\n",
    "\n",
    "n_components_pca = 0\n",
    "\n",
    "percent_contrib = COMPONENT_PCT\n",
    "\n",
    "# Determine the number of components that contribute more than 'percent_contrib' of variance and use this for the PCA value\n",
    "for i in range(len(tukey_pca.explained_variance_)):\n",
    "    if(tukey_pca.explained_variance_ratio_[i]>=(percent_contrib/100)):\n",
    "        n_components_pca+=1\n",
    "print(\"Number of PCA components that contribute >=\",percent_contrib,\"% of variance is \",n_components_pca)\n",
    "\n",
    "tukey_pca_red = PCA(n_components=n_components_pca)\n",
    "tukey_pca_red.fit(tukey_X_scaled_train)\n",
    "tukey_X_pca_red_train = tukey_pca_red.transform(tukey_X_scaled_train)\n",
    "tukey_X_pca_red_test = tukey_pca_red.transform(tukey_X_scaled_test)\n",
    "if (VERBOSE==True):\n",
    "    print(tukey_pca_red.explained_variance_)\n",
    "    print(len(tukey_pca_red.explained_variance_))\n",
    "    print(tukey_X_pca_red_train.shape)\n",
    "    print(tukey_X_pca_red_test.shape)\n",
    "    print(type(tukey_pca_red.explained_variance_))\n",
    "    print(tukey_pca_red.explained_variance_.sum())"
   ]
  },
  {
   "cell_type": "markdown",
   "metadata": {},
   "source": [
    "## Apply Lasso and LassoCV to the Tukey Datset that has been subject to PCA"
   ]
  },
  {
   "cell_type": "code",
   "execution_count": 32,
   "metadata": {
    "collapsed": false
   },
   "outputs": [
    {
     "name": "stdout",
     "output_type": "stream",
     "text": [
      "\n",
      "Lasso Model Train Accuracy on PCA-reduced Tukey Dataset Using Alpha= 0.05\n",
      "MAE       : 0.10751218145162995\n",
      "MSE       : 0.023440111930664646\n",
      "R^2 Score : 0.5509943137388692\n",
      "\n",
      "Lasso Model Test Accuracy on PCA-reduced Tukey Dataset Using Alpha= 0.05\n",
      "MAE       : 0.10370032531841641\n",
      "MSE       : 0.021320514267507976\n",
      "R^2 Score : 0.5702527252092636\n",
      "\n",
      "Lasso CV Model Train Accuracy on PCA-reduced Tukey Dataset Using Alpha= 0.0016586970929052377\n",
      "MAE       : 0.09708818591856107\n",
      "MSE       : 0.019325659861650454\n",
      "R^2 Score : 0.629808458496405\n",
      "\n",
      "Lasso CV Model Score on PCA-reduced Tukey Dataset Using Alpha= 0.0016586970929052377\n",
      "MAE       : 0.09488664312692038\n",
      "MSE       : 0.018015906283423522\n",
      "R^2 Score : 0.6368621070278006\n"
     ]
    }
   ],
   "source": [
    "# Apply Lasso and LassoCV to the PCA-reduced Tukey dataset\n",
    "tukey_lasso_pca = linear_model.Lasso(alpha=ALPHA)\n",
    "tukey_lasso_pca.fit(tukey_X_pca_red_train, tukey_y_train)\n",
    "tukey_y_pca_red_hat_train = tukey_lasso_pca.predict(tukey_X_pca_red_train)\n",
    "\n",
    "tukey_y_pca_red_hat = tukey_lasso_pca.predict(tukey_X_pca_red_test)\n",
    "\n",
    "if(VERBOSE==True):\n",
    "    print(tukey_y_pca_red_hat.shape)\n",
    "    print(tukey_y_test.shape)\n",
    "    print(tukey_y_pca_red_hat[0:5])\n",
    "    print(tukey_y_test[0:5])\n",
    "    print(tukey_lasso_pca.score(tukey_X_pca_red_test,tukey_y_test))\n",
    "\n",
    "print(\"\\nLasso Model Train Accuracy on PCA-reduced Tukey Dataset Using Alpha=\",ALPHA)\n",
    "train_mae[6], train_mse[6], train_r2s[6] = print_model_scores(tukey_y_pca_red_hat_train, tukey_y_train)\n",
    "alphas[6] = ALPHA\n",
    "\n",
    "print(\"\\nLasso Model Test Accuracy on PCA-reduced Tukey Dataset Using Alpha=\",ALPHA)\n",
    "test_mae[6], test_mse[6], test_r2s[6] = print_model_scores(tukey_y_pca_red_hat, tukey_y_test)\n",
    "\n",
    "# LassoCV on PCA-reduced Tukey Dataset\n",
    "tukey_lasso_pca_cv = LassoCV(alphas = None, cv = 10, max_iter = 1000, random_state=SEED) \n",
    "tukey_lasso_pca_cv.fit(tukey_X_pca_red_train, tukey_y_train)\n",
    "\n",
    "tukey_y_pca_red_hat_cv_train = tukey_lasso_pca_cv.predict(tukey_X_pca_red_train)\n",
    "\n",
    "tukey_y_pca_red_hat_cv = tukey_lasso_pca_cv.predict(tukey_X_pca_red_test)\n",
    "if(VERBOSE==True):\n",
    "    print(tukey_y_pca_red_hat_cv[0:20])\n",
    "    print(tukey_y_test[0:20])\n",
    "\n",
    "print(\"\\nLasso CV Model Train Accuracy on PCA-reduced Tukey Dataset Using Alpha=\",tukey_lasso_pca_cv.alpha_)\n",
    "train_mae[7], train_mse[7], train_r2s[7] = print_model_scores(tukey_y_pca_red_hat_cv_train, tukey_y_train)\n",
    "alphas[7] = tukey_lasso_pca_cv.alpha_\n",
    "\n",
    "print(\"\\nLasso CV Model Score on PCA-reduced Tukey Dataset Using Alpha=\",tukey_lasso_pca_cv.alpha_)\n",
    "test_mae[7], test_mse[7], test_r2s[7] = print_model_scores(tukey_y_pca_red_hat_cv, tukey_y_test)"
   ]
  },
  {
   "cell_type": "markdown",
   "metadata": {},
   "source": [
    "# 5 Results\n",
    "\n",
    "## Evaluation and Examination of Results\n",
    "\n",
    "The metrics calculated for the train and test sets for each iteration of the Lasso regression are the Mean Absolute Error (MAE), the Mean Squared Error (MSE) and the R^2 score (R2S).\n",
    "\n",
    "Details on the MSE and MAE results have been included in an Appendix at the end of this notebook. This section will focus on comparing and contrasting the R2S results obtained for the different iterations of the dataset using both the plain Lasso algorithm and the cross-validation version of the Lasso Algorithm.\n",
    "\n",
    "The R2S score, also known as the Coefficient of Determination, can take a value between 0 and 1. R2S asseses the goodness of fit in a regression model and the closer the R2S values gets to 1.0, the better the fit.\n",
    "\n",
    "There are limiations with R2S and this is well documented in [[5]](http://statisticsbyjim.com/regression/interpret-r-squared-regression). However, for the purpose of this project and comparing the results, R2S is going to be used as the main indicator\n",
    "\n",
    "\n",
    "First of all, add some functions to display and visualise the results from the various configurations of the Lasso Model applied to the Communities and Crimes dataset"
   ]
  },
  {
   "cell_type": "code",
   "execution_count": 33,
   "metadata": {
    "collapsed": true
   },
   "outputs": [],
   "source": [
    "# Functions for displaying and visualing Lasso results data\n",
    "\n",
    "# The code for printing a histogram with multiple data sources in different bars was taken from the following link:\n",
    "# https://stackoverflow.com/questions/14270391/python-matplotlib-multiple-bars\n",
    "# The original code only had 3 sources, it has been updated to handle 4 sources and made more specific to this task\n",
    "    \n",
    "def print_lasso_hist(test_result, train_result, ylabel=\"\"):\n",
    "    N = 4\n",
    "    ind = np.arange(N)  # the x locations for the groups\n",
    "    width = 0.22       # the width of the bars\n",
    "\n",
    "    # Adjust Size of Figures\n",
    "    plt.rcParams[\"figure.figsize\"] = (12,9)\n",
    "    fig = plt.figure()\n",
    "    ax = fig.add_subplot(111)\n",
    "\n",
    "    yvals = [train_result[0], train_result[2], train_result[4], train_result[6]]\n",
    "    rects1 = ax.bar(ind, yvals, width, color='r')\n",
    "\n",
    "    zvals = [test_result[0], test_result[2], test_result[4], test_result[6]]\n",
    "    rects2 = ax.bar(ind+width, zvals, width, color='g')\n",
    "\n",
    "    kvals = [train_result[1], train_result[3], train_result[5], train_result[7]]\n",
    "    rects3 = ax.bar(ind+width*2, kvals, width, color='b')\n",
    "\n",
    "    jvals = [test_result[1], test_result[3], test_result[5], test_result[7]]\n",
    "    rects4 = ax.bar(ind+width*3, jvals, width, color='y')\n",
    "\n",
    "    ax.set_title(ylabel)\n",
    "    ax.set_ylabel(ylabel)\n",
    "    ax.set_xticks(ind+width)\n",
    "    ax.set_xticklabels( ('Original', 'PCA', 'Tukey', 'TukeyPCA') )\n",
    "    ax.legend( (rects1[0], rects2[0], rects3[0], rects4[0]), ('Train', 'Test', 'CV Train', 'CV Test') )\n",
    "\n",
    "    plt.show()\n",
    "    \n",
    "\n",
    "def print_lasso_scores(test_result, train_result, alphas):\n",
    "    print(f\"Lasso    on Orig Data      :\\tTrain = {train_result[0]:.3f}\\tTest = {test_result[0]:.3f}\\tAlpha = {alphas[0]:.4f}\")\n",
    "    print(f\"Lasso CV on Orig Data      :\\tTrain = {train_result[1]:.3f}\\tTest = {test_result[1]:.3f}\\tAlpha = {alphas[1]:.4f}\\n\")\n",
    "    print(f\"Lasso    on PCA Data       :\\tTrain = {train_result[2]:.3f}\\tTest = {test_result[2]:.3f}\\tAlpha = {alphas[2]:.4f}\")\n",
    "    print(f\"Lasso CV on PCA Data       :\\tTrain = {train_result[3]:.3f}\\tTest = {test_result[3]:.3f}\\tAlpha = {alphas[3]:.4f}\\n\")\n",
    "    print(f\"Lasso    on Tukey Data     :\\tTrain = {train_result[4]:.3f}\\tTest = {test_result[4]:.3f}\\tAlpha = {alphas[4]:.4f}\")\n",
    "    print(f\"Lasso CV on Tukey Data     :\\tTrain = {train_result[5]:.3f}\\tTest = {test_result[5]:.3f}\\tAlpha = {alphas[5]:.4f}\\n\")\n",
    "    print(f\"Lasso    on Tukey PCA Data :\\tTrain = {train_result[6]:.3f}\\tTest = {test_result[6]:.3f}\\tAlpha = {alphas[6]:.4f}\")\n",
    "    print(f\"Lasso CV on Tukey PCA Data :\\tTrain = {train_result[7]:.3f}\\tTest = {test_result[7]:.3f}\\tAlpha = {alphas[7]:.4f}\\n\")\n"
   ]
  },
  {
   "cell_type": "markdown",
   "metadata": {},
   "source": [
    "## R2S Scores for Lasso Model on \"Communities and Crime Dataset\""
   ]
  },
  {
   "cell_type": "code",
   "execution_count": 34,
   "metadata": {
    "collapsed": false
   },
   "outputs": [
    {
     "data": {
      "image/png": "[encoded data removed]",
      "text/plain": [
       "<Figure size 864x648 with 1 Axes>"
      ]
     },
     "metadata": {},
     "output_type": "display_data"
    },
    {
     "name": "stdout",
     "output_type": "stream",
     "text": [
      "\n",
      "\t\t -- R2S Scores --\n",
      "\n",
      "Lasso    on Orig Data      :\tTrain = 0.563\tTest = 0.543\tAlpha = 0.0500\n",
      "Lasso CV on Orig Data      :\tTrain = 0.702\tTest = 0.636\tAlpha = 0.0005\n",
      "\n",
      "Lasso    on PCA Data       :\tTrain = 0.605\tTest = 0.576\tAlpha = 0.0500\n",
      "Lasso CV on PCA Data       :\tTrain = 0.663\tTest = 0.625\tAlpha = 0.0015\n",
      "\n",
      "Lasso    on Tukey Data     :\tTrain = 0.524\tTest = 0.539\tAlpha = 0.0500\n",
      "Lasso CV on Tukey Data     :\tTrain = 0.675\tTest = 0.650\tAlpha = 0.0004\n",
      "\n",
      "Lasso    on Tukey PCA Data :\tTrain = 0.551\tTest = 0.570\tAlpha = 0.0500\n",
      "Lasso CV on Tukey PCA Data :\tTrain = 0.630\tTest = 0.637\tAlpha = 0.0017\n",
      "\n"
     ]
    }
   ],
   "source": [
    "### R2S Scores for Lasso Model\n",
    "\n",
    "print_lasso_hist(test_r2s, train_r2s, \"R2S Score\")\n",
    "print(\"\\n\\t\\t -- R2S Scores --\\n\")\n",
    "print_lasso_scores(test_r2s, train_r2s, alphas)"
   ]
  },
  {
   "cell_type": "markdown",
   "metadata": {},
   "source": [
    "## R2S Results Analysis\n",
    "\n",
    "\n",
    "\n",
    "The above bar chart plots the train and test R2S scores for the four variants of the dataset (Original, Original with PCA reduction, Tukey Dataset with Outliers Removed and Tukey Dataset with PCA reduction) for both the plain Lasso algorithm and the LassoCV alrogithm that uses cross validation to find the optimal value of alpha.\n",
    "\n",
    "For the original dataset, Lasso gives a test accuracy of 0.543 with a hard coded value of alpha=0.5. Running the same dataset through the cross validation version of Lasso returns a test accuracy of 0.636. The cross validation adjusted the value of alpha from 0.5 to 0.005 (several orders of magnitude!) and this accounted for the improvment in the value.\n",
    "\n",
    "Applying PCA to this dataset with n_components=24 manages to improve the test accuracy for alpha=0.5 from 0.543 to 0.576. However, for the LassoCV algorithm, the test accuracy drops slightly from 0.636 to 0.631. This time the CV model converged on a value of alpha=0.0013. This suggests that tuning alpha provides more return than reducing the dataset.\n",
    "\n",
    "In all cases using the originial dataset, the training accuracy was slightly higher than test accuracy. There were no big gaps in training versus test performance. This suggests that the model is generalizing reasonably well from the train set to the test set.\n",
    "\n",
    "When moving on to the dataset that was reduced using Tukey analysis, the results obtained differ from those obtained with the original dataset. The Tukey dataset removed any rows that contained 25 or more attributes that were considered as an outlier using the Tukey IQR method. This reduced the number of rows in the dataset from 1994 to 1965.\n",
    "\n",
    "Running Lasso with alpha=0.5 on this dataset performed slightly worse than running on the original dataset. The test accuracy was also slightly higher than the training accuracy in this case. Similarly for the PCA-reduced version of the Tukey dataset, running with alpha=0.5 performed slightly worse than the original dataset.\n",
    "\n",
    "However, when running LassoCV, better or equivalent results were obtained using the Tukey dataset. When running Lasso with alpha=0.5 on the Tukey, the test accuracy obtained was similar to running on the original dataset and was not great - this suggests that the selection of alpha=0.5 is more significant than cleaning up the dataset in this instance.\n",
    "\n",
    "Running LassoCV on the Tukey dataset converged on an alpha=0.0004 and delivered a R2S value of 0.65. This was the highest test accuracy obtained and slightly bettered the 0.636 obtained when running LassoCV on the original dataset. The LassoCV run on the Tukey dataset with PCA reduction applied performed a littler worse than LassoCV on the non-PCA reduced version of the Tukey dataset and close to the value obtained when LassoCV was run on the PCA-reduced version of the original datset.\n",
    "\n",
    "The first conclusion is that when using the Lasso algorithm tuning alpha using Cross Validation is much more important than reducing the dimensionality using PCA.\n",
    "\n",
    "The second conclusion is that once alpha was tuned using CV, the PCA reduced datasets performed slightly worse than the non-PCA reduced datasets. This suggests that the number of components may need to be increased from 24. This is further expanded upon in Appendix 1.\n",
    "\n",
    "The final conclusion is that applying outlier detection can improve performance. However, for this project the value of the outlier limit was experimented with a 25 was found to be the sweet spot. Other values performed worse than this value. The outlier removal in this project was performed in an almost blind fashion as the Tukey IQR criteria were applied without rigourously plotting or interogating the data. For a real world application, this sort of analysis would have to be performed to quantify if the outlier removal is really removing valid outliers or not.\n",
    "\n",
    "Finally, is the value of R2S=0.65 obtained using LassoCV with alpha=0.0004 on the Tukey dataset a reasonable value that could be obtained using the Lasso algorithm? Surveying on GitHub, the best reference I could find was  [[6]](https://github.com/vbordalo/Communities-Crime/blob/master/Crime_v1.ipynb) . In this notebook, a RANSAC regressor with outlier removal was used and with a similar train/test split as in this notebook, an R2S value of 0.6544. While obviously not an exhaustive trawl, this suggests the results obtained are similar.\n"
   ]
  },
  {
   "cell_type": "markdown",
   "metadata": {},
   "source": [
    "#  6 References\n",
    "\n",
    "* [1] [Depy 2016 Talk: Pre-Modeling: Data Preprocessing and Feature Exploration in Python Notebook](https://github.com/aprilypchen/depy2016/blob/master/DePy_Talk.ipynb)\n",
    "* [2] [amclean3695's Communities-and-Crime Notebook](https://github.com/amclean3695/Communities-and-Crime/blob/master/Communities_and_Crime.ipynb)\n",
    "* [3] <a href=\"https://en.wikipedia.org/wiki/Lasso_(statistics)\">LASSO Algorithm Wikipedia Entry</a>\n",
    "* [4] [Principle Component Analysis SAS Book Chapter](https://www.researchgate.net/profile/Ehsan_Khedive/post/How_many_components_can_I_retrieve_in_principal_component_analysis/attachment/59d626f2c49f478072e9b1be/AS%3A272185124425729%401441905398541/download/Principal+Component+Analysis+SAS.pdf)\n",
    "* [5] [How To Interpret R-squared in Regression Analysis](http://statisticsbyjim.com/regression/interpret-r-squared-regression)\n",
    "* [6] [vbordalo's Crime_v1 Notebook](https://github.com/vbordalo/Communities-Crime/blob/master/Crime_v1.ipynb)\n",
    "* [7] [Crimes and Communities Dataset](http://archive.ics.uci.edu/ml/datasets/communities+and+crime)"
   ]
  },
  {
   "cell_type": "markdown",
   "metadata": {},
   "source": [
    "# Appendix 1 : Investigating Impact of n_components on achieved R2S Score\n",
    "\n",
    "The previous results used n_components=24 for the PCA-reduced datasets. This number was determined by including any component that contributed more than 0.5% of the total variance. If the Eigenvalue-One criterion was used and every Eigenvalue with a value greater than 1.0  was retained then a value of n_components=54 would have been used.\n",
    "\n",
    "In this section, all possible value of n_components is looped through and the R2S scores are plotted. This will show the delta between the selected value of n_components and the available value of n_components.\n",
    "\n",
    "Credit to Cormac Lavery for this idea and pushing the initial code for this section to this notebook."
   ]
  },
  {
   "cell_type": "code",
   "execution_count": 35,
   "metadata": {
    "collapsed": false
   },
   "outputs": [],
   "source": [
    "# Run PCA with maximum number of components. This will \n",
    "# be used as the basis for sweeping through all values of n_components\n",
    "pca_for_count_of_components = PCA()\n",
    "pca_for_count_of_components.fit(X_scaled_train)\n",
    "X_PCA_train = pca_for_count_of_components.transform(X_scaled_train)\n",
    "X_PCA_test  = pca_for_count_of_components.transform(X_scaled_test)\n",
    "total_components = len(pca.explained_variance_)\n",
    "\n",
    "# Array to store Results of Sweeping Number of Components\n",
    "pca_results_n_components_lasso = []\n",
    "pca_results_n_components_lasso_cv = []\n",
    "\n",
    "# Use function to run Lasso and Lasso CV.\n",
    "# Ensures no issues with retraining the same model between iterations\n",
    "def run_lasso_and_lasso_cv(X_train, X_test, y_train):\n",
    "    lasso_x = linear_model.Lasso(alpha=ALPHA)\n",
    "    lasso_x.fit(X_train, y_train)\n",
    "    y_hat = lasso_x.predict(X_test)\n",
    "    \n",
    "    lasso_x_cv = LassoCV(alphas = None, cv = 10, max_iter = 1000, random_state=SEED) \n",
    "    lasso_x_cv.fit(X_train, y_train)\n",
    "    y_hat_cv = lasso_x_cv.predict(X_test)\n",
    "    \n",
    "    return y_hat, y_hat_cv\n",
    "\n",
    "# Run Lasso and LassoCV for all allowed number of PCA components\n",
    "for i in range(1,total_components):\n",
    "    # Use i number of components\n",
    "    X_pca_n_train = X_PCA_train[:,:i]\n",
    "    X_pca_n_test  = X_PCA_test[:,:i]\n",
    "\n",
    "    y_n_hat, y_n_hat_cv = run_lasso_and_lasso_cv(X_pca_n_train, X_pca_n_test, y_train)\n",
    "\n",
    "    mae, mse, r2s = print_model_scores(y_n_hat, y_test, print_scores=False)\n",
    "    pca_results_n_components_lasso.append((mae,mse,r2s))\n",
    "    \n",
    "    mae_cv, mse_cv, r2s_cv = print_model_scores(y_n_hat_cv, y_test, print_scores=False)\n",
    "    pca_results_n_components_lasso_cv.append((mae_cv,mse_cv,r2s_cv))\n",
    "    \n",
    "    \n",
    "maes, mses, r2ss = zip(*pca_results_n_components_lasso)\n",
    "maes_cv, mses_cv, r2ss_cv = zip(*pca_results_n_components_lasso_cv)"
   ]
  },
  {
   "cell_type": "code",
   "execution_count": 36,
   "metadata": {
    "collapsed": false
   },
   "outputs": [
    {
     "data": {
      "image/png": "[encoded data removed]",
      "text/plain": [
       "<Figure size 864x648 with 1 Axes>"
      ]
     },
     "metadata": {},
     "output_type": "display_data"
    },
    {
     "name": "stdout",
     "output_type": "stream",
     "text": [
      "Lasso Regression on Original Data              :\tTest = 0.5430\n",
      "Lasso Regression on PCA Data (n_components=24) :\tTest = 0.5759\n",
      "Lasso Regression on PCA Sweep                  :\tTest = 0.5759\n"
     ]
    }
   ],
   "source": [
    "# Extract Results from Original Runs for Purpose of Plotting\n",
    "r2s_original = test_r2s[0]\n",
    "r2s_cv       = test_r2s[1]\n",
    "r2s_pca      = test_r2s[2]\n",
    "r2s_pca_cv   = test_r2s[3]\n",
    "\n",
    "mae_original = test_mae[0]\n",
    "mae_cv       = test_mae[1]\n",
    "mae_pca      = test_mae[2]\n",
    "mae_pca_cv   = test_mae[3]\n",
    "\n",
    "mse_original = test_mse[0]\n",
    "mse_cv       = test_mse[1]\n",
    "mse_pca      = test_mse[2]\n",
    "mse_pca_cv   = test_mse[3]\n",
    "\n",
    "\n",
    "plt.title(\"R2 Scores Lasso\")\n",
    "plt.xlabel(\"n_components\")\n",
    "plt.ylabel(\"R2S Score\")\n",
    "plt.axvline(x=24, color='k', linestyle='dashed', label=\"n_components=24\")\n",
    "plt.axhline(y=r2s_original, color='r', linestyle='dashed', label=\"Lasso Orig Data\")\n",
    "plt.axhline(y=r2s_pca, color='g', linestyle='-.', label=\"Lasso PCA Data (n=24)\")\n",
    "plt.plot(r2ss, color='b', label=\"Lasso PCA Sweep\")\n",
    "plt.legend(loc='best')\n",
    "plt.show()\n",
    "\n",
    "print(f\"Lasso Regression on Original Data              :\\tTest = {r2s_original:.4f}\")\n",
    "print(f\"Lasso Regression on PCA Data (n_components=24) :\\tTest = {r2s_pca:.4f}\")\n",
    "print(f\"Lasso Regression on PCA Sweep                  :\\tTest = {r2ss[-1]:.4f}\")\n"
   ]
  },
  {
   "cell_type": "markdown",
   "metadata": {},
   "source": [
    "### Impact of n_components on Lasso Regression (Non-CV Version)\n",
    "\n",
    "After between 5 and 10 components, the achieved R2S score saturates at 0.5759. This is because the hard coded value of alpha is preventing the algorithm for better fitting the data.\n",
    "\n",
    "In this instance, using a value of n_components greater than 24 would not have improved the results. \n",
    "\n",
    "Next, we look at the same plot but for the cross validation version of the algorithm"
   ]
  },
  {
   "cell_type": "code",
   "execution_count": 37,
   "metadata": {
    "collapsed": false
   },
   "outputs": [
    {
     "data": {
      "image/png": "[encoded data removed]",
      "text/plain": [
       "<Figure size 864x648 with 1 Axes>"
      ]
     },
     "metadata": {},
     "output_type": "display_data"
    },
    {
     "name": "stdout",
     "output_type": "stream",
     "text": [
      "Lasso CV Regression on Original Data              :\tTest = 0.6360\n",
      "Lasso CV Regression on PCA Data (n_components=24) :\tTest = 0.6249\n",
      "Lasso CV Regression on PCA Sweep                  :\tTest = 0.6397\n"
     ]
    }
   ],
   "source": [
    "plt.title(\"R2 Scores LassoCV \")\n",
    "plt.xlabel(\"n_components\")\n",
    "plt.ylabel(\"R2S Score\")\n",
    "plt.axvline(x=24, color='k', linestyle='dashed', label=\"n_components=24\")\n",
    "plt.axhline(y=r2s_cv, color='r', linestyle='dashed', label=\"Lasso CV Orig Data\")\n",
    "plt.axhline(y=r2s_pca_cv, color='g', linestyle='-.', label=\"Lasso CV PCA Data (n=24)\")\n",
    "plt.plot(r2ss_cv, color='b', label=\"Lasso CV PCA Sweep\")\n",
    "plt.legend(loc='best')\n",
    "plt.show()\n",
    "\n",
    "print(f\"Lasso CV Regression on Original Data              :\\tTest = {r2s_cv:.4f}\")\n",
    "print(f\"Lasso CV Regression on PCA Data (n_components=24) :\\tTest = {r2s_pca_cv:.4f}\")\n",
    "print(f\"Lasso CV Regression on PCA Sweep                  :\\tTest = {r2ss_cv[-1]:.4f}\")"
   ]
  },
  {
   "cell_type": "markdown",
   "metadata": {},
   "source": [
    "### Impact of n_components on Lasso CV Regression \n",
    "\n",
    "Using n_components = 24, achieved an R2S score of 0.6314 on the PCA data. This was slightly less than the score (0.6360) achieved using the non-PCA reduced data with all attributes included.\n",
    "\n",
    "By increasing n, we can see from the graph the performance of the PCA iteration version exceeds the version with n_components=24 when the number of components retained approaches 60. This suggests that the Eigenvalue-One criterion which would have kept 54 components would have delivered close to or slightly better performance than using n_components = 24\n",
    "\n",
    "Finally, when approximately 70 components are retained, the PCA regression performance exceeds the R2S score achieved on the original data set. This suggests that using PCA on this dataset can indeed deliver better, or at least similar, performance to using a dataset that retains all the oringal attributes"
   ]
  },
  {
   "cell_type": "markdown",
   "metadata": {},
   "source": [
    "# Appendix 2 : MAE and MSE Scores Obtained During Lasso Regression\n",
    "\n",
    "The results section focused on the R2S score achieved for the various datasets and values of alpha. The MSE and MAE values were not discussed. For the sake of completeness, similar bar charts to the R2S bar charts are included for MSE and MAE. They are provided for reference only."
   ]
  },
  {
   "cell_type": "code",
   "execution_count": 38,
   "metadata": {
    "collapsed": false
   },
   "outputs": [
    {
     "data": {
      "image/png": "[encoded data removed]",
      "text/plain": [
       "<Figure size 864x648 with 1 Axes>"
      ]
     },
     "metadata": {},
     "output_type": "display_data"
    },
    {
     "name": "stdout",
     "output_type": "stream",
     "text": [
      "MAE Scores\n",
      "Lasso    on Orig Data      :\tTrain = 0.112\tTest = 0.110\tAlpha = 0.0500\n",
      "Lasso CV on Orig Data      :\tTrain = 0.091\tTest = 0.094\tAlpha = 0.0005\n",
      "\n",
      "Lasso    on PCA Data       :\tTrain = 0.106\tTest = 0.104\tAlpha = 0.0500\n",
      "Lasso CV on PCA Data       :\tTrain = 0.097\tTest = 0.095\tAlpha = 0.0015\n",
      "\n",
      "Lasso    on Tukey Data     :\tTrain = 0.112\tTest = 0.111\tAlpha = 0.0500\n",
      "Lasso CV on Tukey Data     :\tTrain = 0.091\tTest = 0.094\tAlpha = 0.0004\n",
      "\n",
      "Lasso    on Tukey PCA Data :\tTrain = 0.108\tTest = 0.104\tAlpha = 0.0500\n",
      "Lasso CV on Tukey PCA Data :\tTrain = 0.097\tTest = 0.095\tAlpha = 0.0017\n",
      "\n"
     ]
    }
   ],
   "source": [
    "print_lasso_hist(test_mae, train_mae, \"MAE Score\")\n",
    "print(\"MAE Scores\")\n",
    "print_lasso_scores(test_mae, train_mae, alphas)"
   ]
  },
  {
   "cell_type": "code",
   "execution_count": 39,
   "metadata": {
    "collapsed": false
   },
   "outputs": [
    {
     "data": {
      "image/png": "[encoded data removed]",
      "text/plain": [
       "<Figure size 864x648 with 1 Axes>"
      ]
     },
     "metadata": {},
     "output_type": "display_data"
    },
    {
     "name": "stdout",
     "output_type": "stream",
     "text": [
      "MSE Scores\n",
      "Lasso    on Orig Data      :\tTrain = 0.024\tTest = 0.024\tAlpha = 0.0500\n",
      "Lasso CV on Orig Data      :\tTrain = 0.016\tTest = 0.019\tAlpha = 0.0005\n",
      "\n",
      "Lasso    on PCA Data       :\tTrain = 0.022\tTest = 0.022\tAlpha = 0.0500\n",
      "Lasso CV on PCA Data       :\tTrain = 0.019\tTest = 0.020\tAlpha = 0.0015\n",
      "\n",
      "Lasso    on Tukey Data     :\tTrain = 0.025\tTest = 0.023\tAlpha = 0.0500\n",
      "Lasso CV on Tukey Data     :\tTrain = 0.017\tTest = 0.017\tAlpha = 0.0004\n",
      "\n",
      "Lasso    on Tukey PCA Data :\tTrain = 0.023\tTest = 0.021\tAlpha = 0.0500\n",
      "Lasso CV on Tukey PCA Data :\tTrain = 0.019\tTest = 0.018\tAlpha = 0.0017\n",
      "\n"
     ]
    }
   ],
   "source": [
    "print_lasso_hist(test_mse, train_mse, \"MSE Score\")\n",
    "print(\"MSE Scores\")\n",
    "print_lasso_scores(test_mse, train_mse, alphas)"
   ]
  }
 ],
 "metadata": {
  "kernelspec": {
   "display_name": "Python 3.6",
   "language": "python",
   "name": "python3.6"
  },
  "language_info": {
   "codemirror_mode": {
    "name": "ipython",
    "version": 3
   },
   "file_extension": ".py",
   "mimetype": "text/x-python",
   "name": "python",
   "nbconvert_exporter": "python",
   "pygments_lexer": "ipython3",
   "version": "3.6.6"
  }
 },
 "nbformat": 4,
 "nbformat_minor": 1
}
