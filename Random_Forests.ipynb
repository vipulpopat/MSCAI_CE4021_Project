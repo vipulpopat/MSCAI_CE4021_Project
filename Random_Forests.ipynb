{
 "cells": [
  {
   "cell_type": "markdown",
   "metadata": {},
   "source": [
    "### C4021 - Group 4.2 \n",
    "### Project work Weeks 7-9\n",
    "\n",
    "#### Machine Learning Algorithm: Random Forests\n",
    "\n",
    "#### Dataset Information\n",
    "_Source:_ https://www.kaggle.com/shrutimehta/nasa-asteroids-classification (source: Shruti Mehta)\n",
    "\n",
    "**Content**\n",
    "The data is about Asteroids - NeoWs. NeoWs (Near Earth Object Web Service) is a RESTful web service for near earth Asteroid information. With NeoWs a user can: search for Asteroids based on their closest approach date to Earth, lookup a specific Asteroid with its NASA JPL small body id, as well as browse the overall data-set.\n",
    "\n",
    "**Acknowledgements**\n",
    "Data-set: All the data is from the (http://neo.jpl.nasa.gov/). This API is maintained by SpaceRocks Team: David Greenfield, Arezu Sarvestani, Jason English and Peter Baunach.\n",
    "\n",
    "**Inspiration**\n",
    "Finding potential hazardous and non-hazardous asteroids\n",
    "Features responsible for claiming an asteroid to be hazardous\n",
    "\n",
    "#### Notebook Structure\n",
    "1. Data Loading and Pre-processing\n",
    "2. Model training and testing\n",
    "3. Model graphing\n",
    "4. Model analysis: further eaxamination of significant features etc.\n",
    "\n",
    "#### Team Contributions:\n",
    "**Training data**\n",
    "29-OCT-2018 B.Parle Source data identified, loaded and initial analysis. The data field 'Hazardous' is the Classification output: i.e. Hazardous Y or N\n",
    "\n",
    "**Pre-processing**\n",
    "\n",
    "**Algorithm training and evaluation**\n",
    "\n",
    "**Visualisation of outputs**\n",
    "\n"
   ]
  },
  {
   "cell_type": "code",
   "execution_count": 1,
   "metadata": {},
   "outputs": [],
   "source": [
    "import numpy as np\n",
    "import pandas as pd\n",
    "import matplotlib.pyplot as plt\n"
   ]
  },
  {
   "cell_type": "code",
   "execution_count": 8,
   "metadata": {},
   "outputs": [
    {
     "data": {
      "text/plain": [
       "Neo Reference ID                  int64\n",
       "Name                              int64\n",
       "Absolute Magnitude              float64\n",
       "Est Dia in KM(min)              float64\n",
       "Est Dia in KM(max)              float64\n",
       "Est Dia in M(min)               float64\n",
       "Est Dia in M(max)               float64\n",
       "Est Dia in Miles(min)           float64\n",
       "Est Dia in Miles(max)           float64\n",
       "Est Dia in Feet(min)            float64\n",
       "Est Dia in Feet(max)            float64\n",
       "Close Approach Date              object\n",
       "Epoch Date Close Approach         int64\n",
       "Relative Velocity km per sec    float64\n",
       "Relative Velocity km per hr     float64\n",
       "Miles per hour                  float64\n",
       "Miss Dist.(Astronomical)        float64\n",
       "Miss Dist.(lunar)               float64\n",
       "Miss Dist.(kilometers)          float64\n",
       "Miss Dist.(miles)               float64\n",
       "Orbiting Body                    object\n",
       "Orbit ID                          int64\n",
       "Orbit Determination Date         object\n",
       "Orbit Uncertainity                int64\n",
       "Minimum Orbit Intersection      float64\n",
       "Jupiter Tisserand Invariant     float64\n",
       "Epoch Osculation                float64\n",
       "Eccentricity                    float64\n",
       "Semi Major Axis                 float64\n",
       "Inclination                     float64\n",
       "Asc Node Longitude              float64\n",
       "Orbital Period                  float64\n",
       "Perihelion Distance             float64\n",
       "Perihelion Arg                  float64\n",
       "Aphelion Dist                   float64\n",
       "Perihelion Time                 float64\n",
       "Mean Anomaly                    float64\n",
       "Mean Motion                     float64\n",
       "Equinox                          object\n",
       "Hazardous                          bool\n",
       "dtype: object"
      ]
     },
     "execution_count": 8,
     "metadata": {},
     "output_type": "execute_result"
    }
   ],
   "source": [
    "####################\n",
    "#\n",
    "# 1. Dataset Loading and Pre-processing\n",
    "#\n",
    "####################\n",
    "nasa_data = pd.read_csv('nasa.csv')\n",
    "nasa_data.head().dtypes"
   ]
  },
  {
   "cell_type": "markdown",
   "metadata": {},
   "source": [
    "An initial analysis of the sourvce data shows some 'object' data types that will need processing before they can be used in the learning model\n",
    "Object: Close Approach Date, Orbiting Body, Orbit Determination Date, Equinox\n"
   ]
  },
  {
   "cell_type": "code",
   "execution_count": null,
   "metadata": {},
   "outputs": [],
   "source": []
  }
 ],
 "metadata": {
  "kernelspec": {
   "display_name": "Python 3",
   "language": "python",
   "name": "python3"
  },
  "language_info": {
   "codemirror_mode": {
    "name": "ipython",
    "version": 3
   },
   "file_extension": ".py",
   "mimetype": "text/x-python",
   "name": "python",
   "nbconvert_exporter": "python",
   "pygments_lexer": "ipython3",
   "version": "3.6.5"
  }
 },
 "nbformat": 4,
 "nbformat_minor": 2
}
